{
 "cells": [
  {
   "cell_type": "code",
   "execution_count": 43,
   "id": "697e9999-03f2-4478-88e5-0feea78f32ed",
   "metadata": {},
   "outputs": [
    {
     "data": {
      "text/html": [
       "<div>\n",
       "<style scoped>\n",
       "    .dataframe tbody tr th:only-of-type {\n",
       "        vertical-align: middle;\n",
       "    }\n",
       "\n",
       "    .dataframe tbody tr th {\n",
       "        vertical-align: top;\n",
       "    }\n",
       "\n",
       "    .dataframe thead th {\n",
       "        text-align: right;\n",
       "    }\n",
       "</style>\n",
       "<table border=\"1\" class=\"dataframe\">\n",
       "  <thead>\n",
       "    <tr style=\"text-align: right;\">\n",
       "      <th></th>\n",
       "      <th>ident</th>\n",
       "      <th>type</th>\n",
       "      <th>name</th>\n",
       "      <th>elevation_ft</th>\n",
       "      <th>continent</th>\n",
       "      <th>iso_country</th>\n",
       "      <th>iso_region</th>\n",
       "      <th>municipality</th>\n",
       "      <th>gps_code</th>\n",
       "      <th>iata_code</th>\n",
       "      <th>local_code</th>\n",
       "      <th>coordinates</th>\n",
       "    </tr>\n",
       "  </thead>\n",
       "  <tbody>\n",
       "    <tr>\n",
       "      <th>0</th>\n",
       "      <td>00A</td>\n",
       "      <td>heliport</td>\n",
       "      <td>Total Rf Heliport</td>\n",
       "      <td>11.0</td>\n",
       "      <td>NaN</td>\n",
       "      <td>US</td>\n",
       "      <td>US-PA</td>\n",
       "      <td>Bensalem</td>\n",
       "      <td>00A</td>\n",
       "      <td>NaN</td>\n",
       "      <td>00A</td>\n",
       "      <td>-74.93360137939453, 40.07080078125</td>\n",
       "    </tr>\n",
       "    <tr>\n",
       "      <th>1</th>\n",
       "      <td>00AA</td>\n",
       "      <td>small_airport</td>\n",
       "      <td>Aero B Ranch Airport</td>\n",
       "      <td>3435.0</td>\n",
       "      <td>NaN</td>\n",
       "      <td>US</td>\n",
       "      <td>US-KS</td>\n",
       "      <td>Leoti</td>\n",
       "      <td>00AA</td>\n",
       "      <td>NaN</td>\n",
       "      <td>00AA</td>\n",
       "      <td>-101.473911, 38.704022</td>\n",
       "    </tr>\n",
       "    <tr>\n",
       "      <th>2</th>\n",
       "      <td>00AK</td>\n",
       "      <td>small_airport</td>\n",
       "      <td>Lowell Field</td>\n",
       "      <td>450.0</td>\n",
       "      <td>NaN</td>\n",
       "      <td>US</td>\n",
       "      <td>US-AK</td>\n",
       "      <td>Anchor Point</td>\n",
       "      <td>00AK</td>\n",
       "      <td>NaN</td>\n",
       "      <td>00AK</td>\n",
       "      <td>-151.695999146, 59.94919968</td>\n",
       "    </tr>\n",
       "    <tr>\n",
       "      <th>3</th>\n",
       "      <td>00AL</td>\n",
       "      <td>small_airport</td>\n",
       "      <td>Epps Airpark</td>\n",
       "      <td>820.0</td>\n",
       "      <td>NaN</td>\n",
       "      <td>US</td>\n",
       "      <td>US-AL</td>\n",
       "      <td>Harvest</td>\n",
       "      <td>00AL</td>\n",
       "      <td>NaN</td>\n",
       "      <td>00AL</td>\n",
       "      <td>-86.77030181884766, 34.86479949951172</td>\n",
       "    </tr>\n",
       "    <tr>\n",
       "      <th>4</th>\n",
       "      <td>00AR</td>\n",
       "      <td>closed</td>\n",
       "      <td>Newport Hospital &amp; Clinic Heliport</td>\n",
       "      <td>237.0</td>\n",
       "      <td>NaN</td>\n",
       "      <td>US</td>\n",
       "      <td>US-AR</td>\n",
       "      <td>Newport</td>\n",
       "      <td>NaN</td>\n",
       "      <td>NaN</td>\n",
       "      <td>NaN</td>\n",
       "      <td>-91.254898, 35.6087</td>\n",
       "    </tr>\n",
       "  </tbody>\n",
       "</table>\n",
       "</div>"
      ],
      "text/plain": [
       "  ident           type                                name  elevation_ft  \\\n",
       "0   00A       heliport                   Total Rf Heliport          11.0   \n",
       "1  00AA  small_airport                Aero B Ranch Airport        3435.0   \n",
       "2  00AK  small_airport                        Lowell Field         450.0   \n",
       "3  00AL  small_airport                        Epps Airpark         820.0   \n",
       "4  00AR         closed  Newport Hospital & Clinic Heliport         237.0   \n",
       "\n",
       "  continent iso_country iso_region  municipality gps_code iata_code  \\\n",
       "0       NaN          US      US-PA      Bensalem      00A       NaN   \n",
       "1       NaN          US      US-KS         Leoti     00AA       NaN   \n",
       "2       NaN          US      US-AK  Anchor Point     00AK       NaN   \n",
       "3       NaN          US      US-AL       Harvest     00AL       NaN   \n",
       "4       NaN          US      US-AR       Newport      NaN       NaN   \n",
       "\n",
       "  local_code                            coordinates  \n",
       "0        00A     -74.93360137939453, 40.07080078125  \n",
       "1       00AA                 -101.473911, 38.704022  \n",
       "2       00AK            -151.695999146, 59.94919968  \n",
       "3       00AL  -86.77030181884766, 34.86479949951172  \n",
       "4        NaN                    -91.254898, 35.6087  "
      ]
     },
     "execution_count": 43,
     "metadata": {},
     "output_type": "execute_result"
    }
   ],
   "source": [
    "import pandas as pd\n",
    "import numpy as np\n",
    "import matplotlib.pyplot as plt\n",
    "import seaborn as sns\n",
    "\n",
    "df = pd.read_csv('/users/taehyun/Dropbox/Springboard/Projects/airport-codes/datas/airport-codes.csv')\n",
    "df.head()"
   ]
  },
  {
   "cell_type": "code",
   "execution_count": 44,
   "id": "ee3df905-0228-415c-9ffe-496c4b53e71f",
   "metadata": {},
   "outputs": [
    {
     "data": {
      "text/plain": [
       "57421"
      ]
     },
     "execution_count": 44,
     "metadata": {},
     "output_type": "execute_result"
    }
   ],
   "source": [
    "len(df)"
   ]
  },
  {
   "cell_type": "code",
   "execution_count": 45,
   "id": "db756e3f-8a71-4a77-8b7b-a5dad2d690e7",
   "metadata": {},
   "outputs": [
    {
     "name": "stdout",
     "output_type": "stream",
     "text": [
      "<class 'pandas.core.frame.DataFrame'>\n",
      "RangeIndex: 57421 entries, 0 to 57420\n",
      "Data columns (total 12 columns):\n",
      " #   Column        Non-Null Count  Dtype  \n",
      "---  ------        --------------  -----  \n",
      " 0   ident         57421 non-null  object \n",
      " 1   type          57421 non-null  object \n",
      " 2   name          57421 non-null  object \n",
      " 3   elevation_ft  49608 non-null  float64\n",
      " 4   continent     28978 non-null  object \n",
      " 5   iso_country   57175 non-null  object \n",
      " 6   iso_region    57421 non-null  object \n",
      " 7   municipality  51527 non-null  object \n",
      " 8   gps_code      41561 non-null  object \n",
      " 9   iata_code     9225 non-null   object \n",
      " 10  local_code    30030 non-null  object \n",
      " 11  coordinates   57421 non-null  object \n",
      "dtypes: float64(1), object(11)\n",
      "memory usage: 5.3+ MB\n"
     ]
    }
   ],
   "source": [
    "df.info()"
   ]
  },
  {
   "cell_type": "code",
   "execution_count": 46,
   "id": "07fd0083-5ff1-480c-9535-1d67dacd2f3e",
   "metadata": {},
   "outputs": [
    {
     "data": {
      "text/plain": [
       "small_airport     34808\n",
       "heliport          12028\n",
       "medium_airport     4537\n",
       "closed             4378\n",
       "seaplane_base      1030\n",
       "large_airport       616\n",
       "balloonport          24\n",
       "Name: type, dtype: int64"
      ]
     },
     "execution_count": 46,
     "metadata": {},
     "output_type": "execute_result"
    }
   ],
   "source": [
    "df['type'].value_counts()"
   ]
  },
  {
   "cell_type": "markdown",
   "id": "ef6712a9-ee6d-4b37-985a-a397f998d7df",
   "metadata": {},
   "source": [
    "Since there's not much data it would be better to over sample it later in the preprocess stage"
   ]
  },
  {
   "cell_type": "code",
   "execution_count": 47,
   "id": "5942afd4-be11-4555-b88c-eda0dbf38ab9",
   "metadata": {},
   "outputs": [
    {
     "data": {
      "text/plain": [
       "ident               0\n",
       "type                0\n",
       "name                0\n",
       "elevation_ft     7813\n",
       "continent       28443\n",
       "iso_country       246\n",
       "iso_region          0\n",
       "municipality     5894\n",
       "gps_code        15860\n",
       "iata_code       48196\n",
       "local_code      27391\n",
       "coordinates         0\n",
       "dtype: int64"
      ]
     },
     "execution_count": 47,
     "metadata": {},
     "output_type": "execute_result"
    }
   ],
   "source": [
    "df.isnull().sum()"
   ]
  },
  {
   "cell_type": "code",
   "execution_count": 48,
   "id": "3186ba8f-2f48-48ff-a632-ecc32e9fd899",
   "metadata": {},
   "outputs": [],
   "source": [
    "df[['ISO_Country','ISO_state']] = df['iso_region'].str.split('-',n=1, expand=True)"
   ]
  },
  {
   "cell_type": "markdown",
   "id": "e0e39b53-674a-44cc-98b8-bf7651901264",
   "metadata": {},
   "source": [
    "Since we made a new column for iso_region, we can dop these columns"
   ]
  },
  {
   "cell_type": "code",
   "execution_count": 49,
   "id": "d9d4c16c-30eb-4ec3-815a-1d1943a5bf9c",
   "metadata": {},
   "outputs": [],
   "source": [
    "df.drop(['iso_country','iso_region'], axis= 1, inplace=True)"
   ]
  },
  {
   "cell_type": "code",
   "execution_count": 50,
   "id": "692acabd-dd6d-491d-bee7-5f5a3ea4440a",
   "metadata": {},
   "outputs": [
    {
     "data": {
      "text/html": [
       "<div>\n",
       "<style scoped>\n",
       "    .dataframe tbody tr th:only-of-type {\n",
       "        vertical-align: middle;\n",
       "    }\n",
       "\n",
       "    .dataframe tbody tr th {\n",
       "        vertical-align: top;\n",
       "    }\n",
       "\n",
       "    .dataframe thead th {\n",
       "        text-align: right;\n",
       "    }\n",
       "</style>\n",
       "<table border=\"1\" class=\"dataframe\">\n",
       "  <thead>\n",
       "    <tr style=\"text-align: right;\">\n",
       "      <th></th>\n",
       "      <th>ident</th>\n",
       "      <th>type</th>\n",
       "      <th>name</th>\n",
       "      <th>elevation_ft</th>\n",
       "      <th>continent</th>\n",
       "      <th>municipality</th>\n",
       "      <th>gps_code</th>\n",
       "      <th>iata_code</th>\n",
       "      <th>local_code</th>\n",
       "      <th>coordinates</th>\n",
       "      <th>ISO_Country</th>\n",
       "      <th>ISO_state</th>\n",
       "    </tr>\n",
       "  </thead>\n",
       "  <tbody>\n",
       "    <tr>\n",
       "      <th>0</th>\n",
       "      <td>00A</td>\n",
       "      <td>heliport</td>\n",
       "      <td>Total Rf Heliport</td>\n",
       "      <td>11.0</td>\n",
       "      <td>NaN</td>\n",
       "      <td>Bensalem</td>\n",
       "      <td>00A</td>\n",
       "      <td>NaN</td>\n",
       "      <td>00A</td>\n",
       "      <td>-74.93360137939453, 40.07080078125</td>\n",
       "      <td>US</td>\n",
       "      <td>PA</td>\n",
       "    </tr>\n",
       "    <tr>\n",
       "      <th>1</th>\n",
       "      <td>00AA</td>\n",
       "      <td>small_airport</td>\n",
       "      <td>Aero B Ranch Airport</td>\n",
       "      <td>3435.0</td>\n",
       "      <td>NaN</td>\n",
       "      <td>Leoti</td>\n",
       "      <td>00AA</td>\n",
       "      <td>NaN</td>\n",
       "      <td>00AA</td>\n",
       "      <td>-101.473911, 38.704022</td>\n",
       "      <td>US</td>\n",
       "      <td>KS</td>\n",
       "    </tr>\n",
       "    <tr>\n",
       "      <th>2</th>\n",
       "      <td>00AK</td>\n",
       "      <td>small_airport</td>\n",
       "      <td>Lowell Field</td>\n",
       "      <td>450.0</td>\n",
       "      <td>NaN</td>\n",
       "      <td>Anchor Point</td>\n",
       "      <td>00AK</td>\n",
       "      <td>NaN</td>\n",
       "      <td>00AK</td>\n",
       "      <td>-151.695999146, 59.94919968</td>\n",
       "      <td>US</td>\n",
       "      <td>AK</td>\n",
       "    </tr>\n",
       "    <tr>\n",
       "      <th>3</th>\n",
       "      <td>00AL</td>\n",
       "      <td>small_airport</td>\n",
       "      <td>Epps Airpark</td>\n",
       "      <td>820.0</td>\n",
       "      <td>NaN</td>\n",
       "      <td>Harvest</td>\n",
       "      <td>00AL</td>\n",
       "      <td>NaN</td>\n",
       "      <td>00AL</td>\n",
       "      <td>-86.77030181884766, 34.86479949951172</td>\n",
       "      <td>US</td>\n",
       "      <td>AL</td>\n",
       "    </tr>\n",
       "    <tr>\n",
       "      <th>4</th>\n",
       "      <td>00AR</td>\n",
       "      <td>closed</td>\n",
       "      <td>Newport Hospital &amp; Clinic Heliport</td>\n",
       "      <td>237.0</td>\n",
       "      <td>NaN</td>\n",
       "      <td>Newport</td>\n",
       "      <td>NaN</td>\n",
       "      <td>NaN</td>\n",
       "      <td>NaN</td>\n",
       "      <td>-91.254898, 35.6087</td>\n",
       "      <td>US</td>\n",
       "      <td>AR</td>\n",
       "    </tr>\n",
       "  </tbody>\n",
       "</table>\n",
       "</div>"
      ],
      "text/plain": [
       "  ident           type                                name  elevation_ft  \\\n",
       "0   00A       heliport                   Total Rf Heliport          11.0   \n",
       "1  00AA  small_airport                Aero B Ranch Airport        3435.0   \n",
       "2  00AK  small_airport                        Lowell Field         450.0   \n",
       "3  00AL  small_airport                        Epps Airpark         820.0   \n",
       "4  00AR         closed  Newport Hospital & Clinic Heliport         237.0   \n",
       "\n",
       "  continent  municipality gps_code iata_code local_code  \\\n",
       "0       NaN      Bensalem      00A       NaN        00A   \n",
       "1       NaN         Leoti     00AA       NaN       00AA   \n",
       "2       NaN  Anchor Point     00AK       NaN       00AK   \n",
       "3       NaN       Harvest     00AL       NaN       00AL   \n",
       "4       NaN       Newport      NaN       NaN        NaN   \n",
       "\n",
       "                             coordinates ISO_Country ISO_state  \n",
       "0     -74.93360137939453, 40.07080078125          US        PA  \n",
       "1                 -101.473911, 38.704022          US        KS  \n",
       "2            -151.695999146, 59.94919968          US        AK  \n",
       "3  -86.77030181884766, 34.86479949951172          US        AL  \n",
       "4                    -91.254898, 35.6087          US        AR  "
      ]
     },
     "execution_count": 50,
     "metadata": {},
     "output_type": "execute_result"
    }
   ],
   "source": [
    "df.head()"
   ]
  },
  {
   "cell_type": "markdown",
   "id": "65399e66-0444-49e4-8442-af6361f03b36",
   "metadata": {},
   "source": [
    "we would have to do the same for coordination"
   ]
  },
  {
   "cell_type": "code",
   "execution_count": 51,
   "id": "7035fdd1-5c08-4381-b843-fb65daca91b8",
   "metadata": {},
   "outputs": [],
   "source": [
    "df[['Longitude','Latitude']] = df['coordinates'].str.split(',',n=1,expand=True)"
   ]
  },
  {
   "cell_type": "code",
   "execution_count": 52,
   "id": "484c0319-88da-43bd-ba54-7bdc48283fe8",
   "metadata": {},
   "outputs": [],
   "source": [
    "df.drop(['coordinates'],axis=1,inplace=True)"
   ]
  },
  {
   "cell_type": "code",
   "execution_count": 53,
   "id": "24658990-6cba-4bec-a544-302ebac94eb6",
   "metadata": {},
   "outputs": [
    {
     "data": {
      "text/html": [
       "<div>\n",
       "<style scoped>\n",
       "    .dataframe tbody tr th:only-of-type {\n",
       "        vertical-align: middle;\n",
       "    }\n",
       "\n",
       "    .dataframe tbody tr th {\n",
       "        vertical-align: top;\n",
       "    }\n",
       "\n",
       "    .dataframe thead th {\n",
       "        text-align: right;\n",
       "    }\n",
       "</style>\n",
       "<table border=\"1\" class=\"dataframe\">\n",
       "  <thead>\n",
       "    <tr style=\"text-align: right;\">\n",
       "      <th></th>\n",
       "      <th>ident</th>\n",
       "      <th>type</th>\n",
       "      <th>name</th>\n",
       "      <th>elevation_ft</th>\n",
       "      <th>continent</th>\n",
       "      <th>municipality</th>\n",
       "      <th>gps_code</th>\n",
       "      <th>iata_code</th>\n",
       "      <th>local_code</th>\n",
       "      <th>ISO_Country</th>\n",
       "      <th>ISO_state</th>\n",
       "      <th>Longitude</th>\n",
       "      <th>Latitude</th>\n",
       "    </tr>\n",
       "  </thead>\n",
       "  <tbody>\n",
       "    <tr>\n",
       "      <th>0</th>\n",
       "      <td>00A</td>\n",
       "      <td>heliport</td>\n",
       "      <td>Total Rf Heliport</td>\n",
       "      <td>11.0</td>\n",
       "      <td>NaN</td>\n",
       "      <td>Bensalem</td>\n",
       "      <td>00A</td>\n",
       "      <td>NaN</td>\n",
       "      <td>00A</td>\n",
       "      <td>US</td>\n",
       "      <td>PA</td>\n",
       "      <td>-74.93360137939453</td>\n",
       "      <td>40.07080078125</td>\n",
       "    </tr>\n",
       "    <tr>\n",
       "      <th>1</th>\n",
       "      <td>00AA</td>\n",
       "      <td>small_airport</td>\n",
       "      <td>Aero B Ranch Airport</td>\n",
       "      <td>3435.0</td>\n",
       "      <td>NaN</td>\n",
       "      <td>Leoti</td>\n",
       "      <td>00AA</td>\n",
       "      <td>NaN</td>\n",
       "      <td>00AA</td>\n",
       "      <td>US</td>\n",
       "      <td>KS</td>\n",
       "      <td>-101.473911</td>\n",
       "      <td>38.704022</td>\n",
       "    </tr>\n",
       "    <tr>\n",
       "      <th>2</th>\n",
       "      <td>00AK</td>\n",
       "      <td>small_airport</td>\n",
       "      <td>Lowell Field</td>\n",
       "      <td>450.0</td>\n",
       "      <td>NaN</td>\n",
       "      <td>Anchor Point</td>\n",
       "      <td>00AK</td>\n",
       "      <td>NaN</td>\n",
       "      <td>00AK</td>\n",
       "      <td>US</td>\n",
       "      <td>AK</td>\n",
       "      <td>-151.695999146</td>\n",
       "      <td>59.94919968</td>\n",
       "    </tr>\n",
       "    <tr>\n",
       "      <th>3</th>\n",
       "      <td>00AL</td>\n",
       "      <td>small_airport</td>\n",
       "      <td>Epps Airpark</td>\n",
       "      <td>820.0</td>\n",
       "      <td>NaN</td>\n",
       "      <td>Harvest</td>\n",
       "      <td>00AL</td>\n",
       "      <td>NaN</td>\n",
       "      <td>00AL</td>\n",
       "      <td>US</td>\n",
       "      <td>AL</td>\n",
       "      <td>-86.77030181884766</td>\n",
       "      <td>34.86479949951172</td>\n",
       "    </tr>\n",
       "    <tr>\n",
       "      <th>4</th>\n",
       "      <td>00AR</td>\n",
       "      <td>closed</td>\n",
       "      <td>Newport Hospital &amp; Clinic Heliport</td>\n",
       "      <td>237.0</td>\n",
       "      <td>NaN</td>\n",
       "      <td>Newport</td>\n",
       "      <td>NaN</td>\n",
       "      <td>NaN</td>\n",
       "      <td>NaN</td>\n",
       "      <td>US</td>\n",
       "      <td>AR</td>\n",
       "      <td>-91.254898</td>\n",
       "      <td>35.6087</td>\n",
       "    </tr>\n",
       "  </tbody>\n",
       "</table>\n",
       "</div>"
      ],
      "text/plain": [
       "  ident           type                                name  elevation_ft  \\\n",
       "0   00A       heliport                   Total Rf Heliport          11.0   \n",
       "1  00AA  small_airport                Aero B Ranch Airport        3435.0   \n",
       "2  00AK  small_airport                        Lowell Field         450.0   \n",
       "3  00AL  small_airport                        Epps Airpark         820.0   \n",
       "4  00AR         closed  Newport Hospital & Clinic Heliport         237.0   \n",
       "\n",
       "  continent  municipality gps_code iata_code local_code ISO_Country ISO_state  \\\n",
       "0       NaN      Bensalem      00A       NaN        00A          US        PA   \n",
       "1       NaN         Leoti     00AA       NaN       00AA          US        KS   \n",
       "2       NaN  Anchor Point     00AK       NaN       00AK          US        AK   \n",
       "3       NaN       Harvest     00AL       NaN       00AL          US        AL   \n",
       "4       NaN       Newport      NaN       NaN        NaN          US        AR   \n",
       "\n",
       "            Longitude            Latitude  \n",
       "0  -74.93360137939453      40.07080078125  \n",
       "1         -101.473911           38.704022  \n",
       "2      -151.695999146         59.94919968  \n",
       "3  -86.77030181884766   34.86479949951172  \n",
       "4          -91.254898             35.6087  "
      ]
     },
     "execution_count": 53,
     "metadata": {},
     "output_type": "execute_result"
    }
   ],
   "source": [
    "df.head()"
   ]
  },
  {
   "cell_type": "code",
   "execution_count": 54,
   "id": "dc1f1dfb-2dea-4d58-941b-0768b20904ea",
   "metadata": {},
   "outputs": [
    {
     "data": {
      "text/plain": [
       "ident               0\n",
       "type                0\n",
       "name                0\n",
       "elevation_ft     7813\n",
       "continent       28443\n",
       "municipality     5894\n",
       "gps_code        15860\n",
       "iata_code       48196\n",
       "local_code      27391\n",
       "ISO_Country         0\n",
       "ISO_state           0\n",
       "Longitude           0\n",
       "Latitude            0\n",
       "dtype: int64"
      ]
     },
     "execution_count": 54,
     "metadata": {},
     "output_type": "execute_result"
    }
   ],
   "source": [
    "df.isnull().sum()"
   ]
  },
  {
   "cell_type": "code",
   "execution_count": 55,
   "id": "aeb3abf6-ba1a-4ab4-a4b9-a7363c8c5092",
   "metadata": {},
   "outputs": [
    {
     "data": {
      "text/plain": [
       "57421"
      ]
     },
     "execution_count": 55,
     "metadata": {},
     "output_type": "execute_result"
    }
   ],
   "source": [
    "len(df)"
   ]
  },
  {
   "cell_type": "markdown",
   "id": "a4886133-ca56-4957-86f4-492e7f88f539",
   "metadata": {},
   "source": [
    "Since we already have coordinates and the state names, we dont need iata code which is the location identification code."
   ]
  },
  {
   "cell_type": "code",
   "execution_count": 56,
   "id": "974d3772-a80b-41ba-a92b-acef0b1f761b",
   "metadata": {},
   "outputs": [],
   "source": [
    "df.drop(['iata_code'], axis = 1, inplace=True)"
   ]
  },
  {
   "cell_type": "code",
   "execution_count": 57,
   "id": "14a6374f-60bd-4126-bff8-45c93a02a737",
   "metadata": {},
   "outputs": [
    {
     "data": {
      "text/html": [
       "<div>\n",
       "<style scoped>\n",
       "    .dataframe tbody tr th:only-of-type {\n",
       "        vertical-align: middle;\n",
       "    }\n",
       "\n",
       "    .dataframe tbody tr th {\n",
       "        vertical-align: top;\n",
       "    }\n",
       "\n",
       "    .dataframe thead th {\n",
       "        text-align: right;\n",
       "    }\n",
       "</style>\n",
       "<table border=\"1\" class=\"dataframe\">\n",
       "  <thead>\n",
       "    <tr style=\"text-align: right;\">\n",
       "      <th></th>\n",
       "      <th>ident</th>\n",
       "      <th>type</th>\n",
       "      <th>name</th>\n",
       "      <th>elevation_ft</th>\n",
       "      <th>continent</th>\n",
       "      <th>municipality</th>\n",
       "      <th>gps_code</th>\n",
       "      <th>local_code</th>\n",
       "      <th>ISO_Country</th>\n",
       "      <th>ISO_state</th>\n",
       "      <th>Longitude</th>\n",
       "      <th>Latitude</th>\n",
       "    </tr>\n",
       "  </thead>\n",
       "  <tbody>\n",
       "    <tr>\n",
       "      <th>0</th>\n",
       "      <td>00A</td>\n",
       "      <td>heliport</td>\n",
       "      <td>Total Rf Heliport</td>\n",
       "      <td>11.0</td>\n",
       "      <td>NaN</td>\n",
       "      <td>Bensalem</td>\n",
       "      <td>00A</td>\n",
       "      <td>00A</td>\n",
       "      <td>US</td>\n",
       "      <td>PA</td>\n",
       "      <td>-74.93360137939453</td>\n",
       "      <td>40.07080078125</td>\n",
       "    </tr>\n",
       "    <tr>\n",
       "      <th>1</th>\n",
       "      <td>00AA</td>\n",
       "      <td>small_airport</td>\n",
       "      <td>Aero B Ranch Airport</td>\n",
       "      <td>3435.0</td>\n",
       "      <td>NaN</td>\n",
       "      <td>Leoti</td>\n",
       "      <td>00AA</td>\n",
       "      <td>00AA</td>\n",
       "      <td>US</td>\n",
       "      <td>KS</td>\n",
       "      <td>-101.473911</td>\n",
       "      <td>38.704022</td>\n",
       "    </tr>\n",
       "    <tr>\n",
       "      <th>2</th>\n",
       "      <td>00AK</td>\n",
       "      <td>small_airport</td>\n",
       "      <td>Lowell Field</td>\n",
       "      <td>450.0</td>\n",
       "      <td>NaN</td>\n",
       "      <td>Anchor Point</td>\n",
       "      <td>00AK</td>\n",
       "      <td>00AK</td>\n",
       "      <td>US</td>\n",
       "      <td>AK</td>\n",
       "      <td>-151.695999146</td>\n",
       "      <td>59.94919968</td>\n",
       "    </tr>\n",
       "    <tr>\n",
       "      <th>3</th>\n",
       "      <td>00AL</td>\n",
       "      <td>small_airport</td>\n",
       "      <td>Epps Airpark</td>\n",
       "      <td>820.0</td>\n",
       "      <td>NaN</td>\n",
       "      <td>Harvest</td>\n",
       "      <td>00AL</td>\n",
       "      <td>00AL</td>\n",
       "      <td>US</td>\n",
       "      <td>AL</td>\n",
       "      <td>-86.77030181884766</td>\n",
       "      <td>34.86479949951172</td>\n",
       "    </tr>\n",
       "    <tr>\n",
       "      <th>4</th>\n",
       "      <td>00AR</td>\n",
       "      <td>closed</td>\n",
       "      <td>Newport Hospital &amp; Clinic Heliport</td>\n",
       "      <td>237.0</td>\n",
       "      <td>NaN</td>\n",
       "      <td>Newport</td>\n",
       "      <td>NaN</td>\n",
       "      <td>NaN</td>\n",
       "      <td>US</td>\n",
       "      <td>AR</td>\n",
       "      <td>-91.254898</td>\n",
       "      <td>35.6087</td>\n",
       "    </tr>\n",
       "  </tbody>\n",
       "</table>\n",
       "</div>"
      ],
      "text/plain": [
       "  ident           type                                name  elevation_ft  \\\n",
       "0   00A       heliport                   Total Rf Heliport          11.0   \n",
       "1  00AA  small_airport                Aero B Ranch Airport        3435.0   \n",
       "2  00AK  small_airport                        Lowell Field         450.0   \n",
       "3  00AL  small_airport                        Epps Airpark         820.0   \n",
       "4  00AR         closed  Newport Hospital & Clinic Heliport         237.0   \n",
       "\n",
       "  continent  municipality gps_code local_code ISO_Country ISO_state  \\\n",
       "0       NaN      Bensalem      00A        00A          US        PA   \n",
       "1       NaN         Leoti     00AA       00AA          US        KS   \n",
       "2       NaN  Anchor Point     00AK       00AK          US        AK   \n",
       "3       NaN       Harvest     00AL       00AL          US        AL   \n",
       "4       NaN       Newport      NaN        NaN          US        AR   \n",
       "\n",
       "            Longitude            Latitude  \n",
       "0  -74.93360137939453      40.07080078125  \n",
       "1         -101.473911           38.704022  \n",
       "2      -151.695999146         59.94919968  \n",
       "3  -86.77030181884766   34.86479949951172  \n",
       "4          -91.254898             35.6087  "
      ]
     },
     "execution_count": 57,
     "metadata": {},
     "output_type": "execute_result"
    }
   ],
   "source": [
    "df.head()"
   ]
  },
  {
   "cell_type": "code",
   "execution_count": 58,
   "id": "aae4ea41-8c47-4189-8154-596de9f5b8f0",
   "metadata": {},
   "outputs": [
    {
     "data": {
      "text/plain": [
       "KKI        1\n",
       "XA22       1\n",
       "UA-0056    1\n",
       "MX-0381    1\n",
       "MNP        1\n",
       "          ..\n",
       "LFJL       1\n",
       "5Z4        1\n",
       "TWH        1\n",
       "CA-0206    1\n",
       "MGRB       1\n",
       "Name: ident, Length: 57421, dtype: int64"
      ]
     },
     "execution_count": 58,
     "metadata": {},
     "output_type": "execute_result"
    }
   ],
   "source": [
    "df['ident'].value_counts()"
   ]
  },
  {
   "cell_type": "markdown",
   "id": "63cff30b-0ffe-4b3a-be2b-0702d8872b39",
   "metadata": {},
   "source": [
    "we can see that ident is a primary key column so we can drop that as well. "
   ]
  },
  {
   "cell_type": "code",
   "execution_count": 59,
   "id": "19bdd0d8-2f41-4d09-98d3-40e14dc9761f",
   "metadata": {},
   "outputs": [],
   "source": [
    "df.drop(['ident'], axis = 1, inplace=True)"
   ]
  },
  {
   "cell_type": "code",
   "execution_count": 60,
   "id": "b57602d1-d1b7-440b-9c87-04b9b1b189ff",
   "metadata": {},
   "outputs": [
    {
     "data": {
      "text/html": [
       "<div>\n",
       "<style scoped>\n",
       "    .dataframe tbody tr th:only-of-type {\n",
       "        vertical-align: middle;\n",
       "    }\n",
       "\n",
       "    .dataframe tbody tr th {\n",
       "        vertical-align: top;\n",
       "    }\n",
       "\n",
       "    .dataframe thead th {\n",
       "        text-align: right;\n",
       "    }\n",
       "</style>\n",
       "<table border=\"1\" class=\"dataframe\">\n",
       "  <thead>\n",
       "    <tr style=\"text-align: right;\">\n",
       "      <th></th>\n",
       "      <th>type</th>\n",
       "      <th>name</th>\n",
       "      <th>elevation_ft</th>\n",
       "      <th>continent</th>\n",
       "      <th>municipality</th>\n",
       "      <th>gps_code</th>\n",
       "      <th>local_code</th>\n",
       "      <th>ISO_Country</th>\n",
       "      <th>ISO_state</th>\n",
       "      <th>Longitude</th>\n",
       "      <th>Latitude</th>\n",
       "    </tr>\n",
       "  </thead>\n",
       "  <tbody>\n",
       "    <tr>\n",
       "      <th>0</th>\n",
       "      <td>heliport</td>\n",
       "      <td>Total Rf Heliport</td>\n",
       "      <td>11.0</td>\n",
       "      <td>NaN</td>\n",
       "      <td>Bensalem</td>\n",
       "      <td>00A</td>\n",
       "      <td>00A</td>\n",
       "      <td>US</td>\n",
       "      <td>PA</td>\n",
       "      <td>-74.93360137939453</td>\n",
       "      <td>40.07080078125</td>\n",
       "    </tr>\n",
       "    <tr>\n",
       "      <th>1</th>\n",
       "      <td>small_airport</td>\n",
       "      <td>Aero B Ranch Airport</td>\n",
       "      <td>3435.0</td>\n",
       "      <td>NaN</td>\n",
       "      <td>Leoti</td>\n",
       "      <td>00AA</td>\n",
       "      <td>00AA</td>\n",
       "      <td>US</td>\n",
       "      <td>KS</td>\n",
       "      <td>-101.473911</td>\n",
       "      <td>38.704022</td>\n",
       "    </tr>\n",
       "    <tr>\n",
       "      <th>2</th>\n",
       "      <td>small_airport</td>\n",
       "      <td>Lowell Field</td>\n",
       "      <td>450.0</td>\n",
       "      <td>NaN</td>\n",
       "      <td>Anchor Point</td>\n",
       "      <td>00AK</td>\n",
       "      <td>00AK</td>\n",
       "      <td>US</td>\n",
       "      <td>AK</td>\n",
       "      <td>-151.695999146</td>\n",
       "      <td>59.94919968</td>\n",
       "    </tr>\n",
       "    <tr>\n",
       "      <th>3</th>\n",
       "      <td>small_airport</td>\n",
       "      <td>Epps Airpark</td>\n",
       "      <td>820.0</td>\n",
       "      <td>NaN</td>\n",
       "      <td>Harvest</td>\n",
       "      <td>00AL</td>\n",
       "      <td>00AL</td>\n",
       "      <td>US</td>\n",
       "      <td>AL</td>\n",
       "      <td>-86.77030181884766</td>\n",
       "      <td>34.86479949951172</td>\n",
       "    </tr>\n",
       "    <tr>\n",
       "      <th>4</th>\n",
       "      <td>closed</td>\n",
       "      <td>Newport Hospital &amp; Clinic Heliport</td>\n",
       "      <td>237.0</td>\n",
       "      <td>NaN</td>\n",
       "      <td>Newport</td>\n",
       "      <td>NaN</td>\n",
       "      <td>NaN</td>\n",
       "      <td>US</td>\n",
       "      <td>AR</td>\n",
       "      <td>-91.254898</td>\n",
       "      <td>35.6087</td>\n",
       "    </tr>\n",
       "  </tbody>\n",
       "</table>\n",
       "</div>"
      ],
      "text/plain": [
       "            type                                name  elevation_ft continent  \\\n",
       "0       heliport                   Total Rf Heliport          11.0       NaN   \n",
       "1  small_airport                Aero B Ranch Airport        3435.0       NaN   \n",
       "2  small_airport                        Lowell Field         450.0       NaN   \n",
       "3  small_airport                        Epps Airpark         820.0       NaN   \n",
       "4         closed  Newport Hospital & Clinic Heliport         237.0       NaN   \n",
       "\n",
       "   municipality gps_code local_code ISO_Country ISO_state           Longitude  \\\n",
       "0      Bensalem      00A        00A          US        PA  -74.93360137939453   \n",
       "1         Leoti     00AA       00AA          US        KS         -101.473911   \n",
       "2  Anchor Point     00AK       00AK          US        AK      -151.695999146   \n",
       "3       Harvest     00AL       00AL          US        AL  -86.77030181884766   \n",
       "4       Newport      NaN        NaN          US        AR          -91.254898   \n",
       "\n",
       "             Latitude  \n",
       "0      40.07080078125  \n",
       "1           38.704022  \n",
       "2         59.94919968  \n",
       "3   34.86479949951172  \n",
       "4             35.6087  "
      ]
     },
     "execution_count": 60,
     "metadata": {},
     "output_type": "execute_result"
    }
   ],
   "source": [
    "df.head()"
   ]
  },
  {
   "cell_type": "markdown",
   "id": "1b08c021-e9d7-48e9-b836-48dd8e5aeb8c",
   "metadata": {},
   "source": [
    "lets try to fill up NA values"
   ]
  },
  {
   "cell_type": "code",
   "execution_count": 61,
   "id": "a7b674d9-bd36-4c42-b963-aa4d869873dd",
   "metadata": {},
   "outputs": [],
   "source": [
    "m = df['elevation_ft'].isna()"
   ]
  },
  {
   "cell_type": "code",
   "execution_count": 62,
   "id": "05d436fd-c0df-472f-9afc-1e34b8b5f01e",
   "metadata": {},
   "outputs": [],
   "source": [
    "h_elevation_ft = df[df['type'] == 'heliport']['elevation_ft'].mean()\n",
    "sa_elevation_ft = df[df['type'] == 'small_airport']['elevation_ft'].mean()\n",
    "ma_elevation_ft = df[df['type'] == 'medium_airport']['elevation_ft'].mean()\n",
    "c_elevation_ft = df[df['type'] == 'closed']['elevation_ft'].mean()\n",
    "sb_elevation_ft = df[df['type'] == 'seaplane_base']['elevation_ft'].mean()\n",
    "la_elevation_ft = df[df['type'] == 'large_airport']['elevation_ft'].mean()\n",
    "b_elevation_ft = df[df['type'] == 'balloonport']['elevation_ft'].mean()"
   ]
  },
  {
   "cell_type": "code",
   "execution_count": 63,
   "id": "0312b283-6fee-4483-8f41-fa526a2807dd",
   "metadata": {},
   "outputs": [],
   "source": [
    "df.loc[m,'elevation_ft'] = np.where(df.loc[m, 'type'].eq('heliport'), h_elevation_ft,h_elevation_ft)\n",
    "df.loc[m,'elevation_ft'] = np.where(df.loc[m, 'type'].eq('small_airport'), sa_elevation_ft,sa_elevation_ft)\n",
    "df.loc[m,'elevation_ft'] = np.where(df.loc[m, 'type'].eq('medium_airport'), ma_elevation_ft,ma_elevation_ft)\n",
    "df.loc[m,'elevation_ft'] = np.where(df.loc[m, 'type'].eq('closed'), c_elevation_ft,c_elevation_ft)\n",
    "df.loc[m,'elevation_ft'] = np.where(df.loc[m, 'type'].eq('seaplane_base'), sb_elevation_ft,sb_elevation_ft)\n",
    "df.loc[m,'elevation_ft'] = np.where(df.loc[m, 'type'].eq('large_airport'), la_elevation_ft,la_elevation_ft)\n",
    "df.loc[m,'elevation_ft'] = np.where(df.loc[m, 'type'].eq('balloonport'), b_elevation_ft,b_elevation_ft)"
   ]
  },
  {
   "cell_type": "code",
   "execution_count": 64,
   "id": "ad877c59-07d3-4133-8267-7f407798f7d6",
   "metadata": {},
   "outputs": [
    {
     "data": {
      "text/plain": [
       "<AxesSubplot:xlabel='type', ylabel='elevation_ft'>"
      ]
     },
     "execution_count": 64,
     "metadata": {},
     "output_type": "execute_result"
    },
    {
     "data": {
      "image/png": "[encoded data removed]",
      "text/plain": [
       "<Figure size 720x360 with 1 Axes>"
      ]
     },
     "metadata": {
      "needs_background": "light"
     },
     "output_type": "display_data"
    }
   ],
   "source": [
    "plt.figure(figsize=(10,5))\n",
    "sns.barplot(x = 'type', y = 'elevation_ft', data = df)"
   ]
  },
  {
   "cell_type": "code",
   "execution_count": 65,
   "id": "4f98439c-5fe9-4fa4-8feb-a86cf2f1c2ce",
   "metadata": {},
   "outputs": [
    {
     "data": {
      "text/plain": [
       "type                0\n",
       "name                0\n",
       "elevation_ft        0\n",
       "continent       28443\n",
       "municipality     5894\n",
       "gps_code        15860\n",
       "local_code      27391\n",
       "ISO_Country         0\n",
       "ISO_state           0\n",
       "Longitude           0\n",
       "Latitude            0\n",
       "dtype: int64"
      ]
     },
     "execution_count": 65,
     "metadata": {},
     "output_type": "execute_result"
    }
   ],
   "source": [
    "df.isnull().sum()"
   ]
  },
  {
   "cell_type": "code",
   "execution_count": 66,
   "id": "a47db5b9-495c-4ee4-9a02-aae614153581",
   "metadata": {},
   "outputs": [
    {
     "data": {
      "text/plain": [
       "Seoul                403\n",
       "SÃ£o Paulo           243\n",
       "Busan                135\n",
       "Houston              120\n",
       "Los Angeles          100\n",
       "                    ... \n",
       "Reims/Champagne        1\n",
       "Goianira               1\n",
       "Tuscumbia              1\n",
       "East Windsor Hill      1\n",
       "Zdanovo                1\n",
       "Name: municipality, Length: 27893, dtype: int64"
      ]
     },
     "execution_count": 66,
     "metadata": {},
     "output_type": "execute_result"
    }
   ],
   "source": [
    "df['municipality'].value_counts()"
   ]
  },
  {
   "cell_type": "code",
   "execution_count": 67,
   "id": "14f92b6c-096a-4564-9b60-09a69d90414a",
   "metadata": {},
   "outputs": [
    {
     "data": {
      "text/plain": [
       "SA    8443\n",
       "EU    8404\n",
       "AS    5619\n",
       "AF    3361\n",
       "OC    3123\n",
       "AN      28\n",
       "Name: continent, dtype: int64"
      ]
     },
     "execution_count": 67,
     "metadata": {},
     "output_type": "execute_result"
    }
   ],
   "source": [
    "df['continent'].value_counts()"
   ]
  },
  {
   "cell_type": "code",
   "execution_count": 68,
   "id": "9ee5f4da-382a-419f-aba2-692ea4c9f737",
   "metadata": {},
   "outputs": [
    {
     "name": "stdout",
     "output_type": "stream",
     "text": [
      "40843\n",
      "28653\n"
     ]
    }
   ],
   "source": [
    "print(len(df['gps_code'].unique()))\n",
    "print(len(df['local_code'].unique()))"
   ]
  },
  {
   "cell_type": "markdown",
   "id": "7ea48f50-daf2-4d7d-b0a8-7d75f3e8701a",
   "metadata": {},
   "source": [
    "gps_cood and loca_code aren't really useful. We can drop these columns."
   ]
  },
  {
   "cell_type": "markdown",
   "id": "d04dcb83-1085-49a8-a2ee-239466cadd8e",
   "metadata": {},
   "source": [
    "If I label encode thse in the future, there owuld be too many columns"
   ]
  },
  {
   "cell_type": "code",
   "execution_count": 69,
   "id": "93a1eaa6-7aef-4ec3-9f02-e88d77216711",
   "metadata": {},
   "outputs": [],
   "source": [
    "df.drop(['gps_code','local_code'], axis= 1, inplace =True)"
   ]
  },
  {
   "cell_type": "code",
   "execution_count": 70,
   "id": "05ae1754-f0a1-4e7d-8bb4-ca412c243898",
   "metadata": {},
   "outputs": [
    {
     "data": {
      "text/html": [
       "<div>\n",
       "<style scoped>\n",
       "    .dataframe tbody tr th:only-of-type {\n",
       "        vertical-align: middle;\n",
       "    }\n",
       "\n",
       "    .dataframe tbody tr th {\n",
       "        vertical-align: top;\n",
       "    }\n",
       "\n",
       "    .dataframe thead th {\n",
       "        text-align: right;\n",
       "    }\n",
       "</style>\n",
       "<table border=\"1\" class=\"dataframe\">\n",
       "  <thead>\n",
       "    <tr style=\"text-align: right;\">\n",
       "      <th></th>\n",
       "      <th>type</th>\n",
       "      <th>name</th>\n",
       "      <th>elevation_ft</th>\n",
       "      <th>continent</th>\n",
       "      <th>municipality</th>\n",
       "      <th>ISO_Country</th>\n",
       "      <th>ISO_state</th>\n",
       "      <th>Longitude</th>\n",
       "      <th>Latitude</th>\n",
       "    </tr>\n",
       "  </thead>\n",
       "  <tbody>\n",
       "    <tr>\n",
       "      <th>0</th>\n",
       "      <td>heliport</td>\n",
       "      <td>Total Rf Heliport</td>\n",
       "      <td>11.0</td>\n",
       "      <td>NaN</td>\n",
       "      <td>Bensalem</td>\n",
       "      <td>US</td>\n",
       "      <td>PA</td>\n",
       "      <td>-74.93360137939453</td>\n",
       "      <td>40.07080078125</td>\n",
       "    </tr>\n",
       "    <tr>\n",
       "      <th>1</th>\n",
       "      <td>small_airport</td>\n",
       "      <td>Aero B Ranch Airport</td>\n",
       "      <td>3435.0</td>\n",
       "      <td>NaN</td>\n",
       "      <td>Leoti</td>\n",
       "      <td>US</td>\n",
       "      <td>KS</td>\n",
       "      <td>-101.473911</td>\n",
       "      <td>38.704022</td>\n",
       "    </tr>\n",
       "    <tr>\n",
       "      <th>2</th>\n",
       "      <td>small_airport</td>\n",
       "      <td>Lowell Field</td>\n",
       "      <td>450.0</td>\n",
       "      <td>NaN</td>\n",
       "      <td>Anchor Point</td>\n",
       "      <td>US</td>\n",
       "      <td>AK</td>\n",
       "      <td>-151.695999146</td>\n",
       "      <td>59.94919968</td>\n",
       "    </tr>\n",
       "    <tr>\n",
       "      <th>3</th>\n",
       "      <td>small_airport</td>\n",
       "      <td>Epps Airpark</td>\n",
       "      <td>820.0</td>\n",
       "      <td>NaN</td>\n",
       "      <td>Harvest</td>\n",
       "      <td>US</td>\n",
       "      <td>AL</td>\n",
       "      <td>-86.77030181884766</td>\n",
       "      <td>34.86479949951172</td>\n",
       "    </tr>\n",
       "    <tr>\n",
       "      <th>4</th>\n",
       "      <td>closed</td>\n",
       "      <td>Newport Hospital &amp; Clinic Heliport</td>\n",
       "      <td>237.0</td>\n",
       "      <td>NaN</td>\n",
       "      <td>Newport</td>\n",
       "      <td>US</td>\n",
       "      <td>AR</td>\n",
       "      <td>-91.254898</td>\n",
       "      <td>35.6087</td>\n",
       "    </tr>\n",
       "  </tbody>\n",
       "</table>\n",
       "</div>"
      ],
      "text/plain": [
       "            type                                name  elevation_ft continent  \\\n",
       "0       heliport                   Total Rf Heliport          11.0       NaN   \n",
       "1  small_airport                Aero B Ranch Airport        3435.0       NaN   \n",
       "2  small_airport                        Lowell Field         450.0       NaN   \n",
       "3  small_airport                        Epps Airpark         820.0       NaN   \n",
       "4         closed  Newport Hospital & Clinic Heliport         237.0       NaN   \n",
       "\n",
       "   municipality ISO_Country ISO_state           Longitude            Latitude  \n",
       "0      Bensalem          US        PA  -74.93360137939453      40.07080078125  \n",
       "1         Leoti          US        KS         -101.473911           38.704022  \n",
       "2  Anchor Point          US        AK      -151.695999146         59.94919968  \n",
       "3       Harvest          US        AL  -86.77030181884766   34.86479949951172  \n",
       "4       Newport          US        AR          -91.254898             35.6087  "
      ]
     },
     "execution_count": 70,
     "metadata": {},
     "output_type": "execute_result"
    }
   ],
   "source": [
    "df.head()"
   ]
  },
  {
   "cell_type": "code",
   "execution_count": 71,
   "id": "e27f05ec-7c8d-4863-9ade-986cd0d65b61",
   "metadata": {},
   "outputs": [
    {
     "data": {
      "text/plain": [
       "type                0\n",
       "name                0\n",
       "elevation_ft        0\n",
       "continent       28443\n",
       "municipality     5894\n",
       "ISO_Country         0\n",
       "ISO_state           0\n",
       "Longitude           0\n",
       "Latitude            0\n",
       "dtype: int64"
      ]
     },
     "execution_count": 71,
     "metadata": {},
     "output_type": "execute_result"
    }
   ],
   "source": [
    "df.isnull().sum()"
   ]
  },
  {
   "cell_type": "markdown",
   "id": "b5449005-b036-4820-a05d-6db21bf52e2b",
   "metadata": {},
   "source": [
    "So all the US has missing values with NaN."
   ]
  },
  {
   "cell_type": "code",
   "execution_count": 72,
   "id": "6cd41759-8e1c-46f9-82ac-d595d2e9b979",
   "metadata": {},
   "outputs": [],
   "source": [
    "df['continent'].fillna('A',inplace=True)"
   ]
  },
  {
   "cell_type": "markdown",
   "id": "a4807de0-0a9f-45a9-a6e5-e110ef7d5e61",
   "metadata": {},
   "source": [
    "I filled up NAs with A (temporarily)"
   ]
  },
  {
   "cell_type": "code",
   "execution_count": 73,
   "id": "37bf30da-dc6a-48eb-b0e6-fdc75287706e",
   "metadata": {},
   "outputs": [],
   "source": [
    "m = df['ISO_Country'] == 'US'"
   ]
  },
  {
   "cell_type": "code",
   "execution_count": 74,
   "id": "18377200-a1dd-4131-9275-e19d4626c47d",
   "metadata": {},
   "outputs": [],
   "source": [
    "c = df['ISO_Country'] == 'CA'"
   ]
  },
  {
   "cell_type": "code",
   "execution_count": 75,
   "id": "f01d22a9-9b71-4559-ab00-33525a97c510",
   "metadata": {},
   "outputs": [],
   "source": [
    "mx = df['ISO_Country'] == 'MX'"
   ]
  },
  {
   "cell_type": "code",
   "execution_count": 76,
   "id": "0780f035-d1d2-45a2-895b-861e637677ff",
   "metadata": {},
   "outputs": [],
   "source": [
    "hn = df['ISO_Country'] == 'HN'"
   ]
  },
  {
   "cell_type": "code",
   "execution_count": 77,
   "id": "2ca77e6f-e72a-44f5-970b-83ca7e70f579",
   "metadata": {},
   "outputs": [],
   "source": [
    "cu = df['ISO_Country'] == 'CU'"
   ]
  },
  {
   "cell_type": "code",
   "execution_count": 78,
   "id": "331d6b9f-48e7-411f-9b18-f1cb02b04393",
   "metadata": {},
   "outputs": [],
   "source": [
    "cr = df['ISO_Country'] == 'CR'"
   ]
  },
  {
   "cell_type": "code",
   "execution_count": 79,
   "id": "7f0ce6b1-420f-42f8-a00f-5b781deaf5e0",
   "metadata": {},
   "outputs": [],
   "source": [
    "gl = df['ISO_Country'] == 'GL'"
   ]
  },
  {
   "cell_type": "code",
   "execution_count": 80,
   "id": "ca1513d3-3522-4a99-a392-8102f5a374dd",
   "metadata": {},
   "outputs": [],
   "source": [
    "df.loc[m,'continent'] = df.loc[m,'continent'].replace('A','NA')"
   ]
  },
  {
   "cell_type": "code",
   "execution_count": 81,
   "id": "7a8548db-ded3-4631-9264-4e40ffea79b3",
   "metadata": {},
   "outputs": [],
   "source": [
    "df.loc[c,'continent'] = df.loc[c,'continent'].replace('A','NA')"
   ]
  },
  {
   "cell_type": "code",
   "execution_count": 82,
   "id": "fa07fa73-16d0-425c-a2fd-90736c9cc9c8",
   "metadata": {},
   "outputs": [],
   "source": [
    "df.loc[mx,'continent'] = df.loc[mx,'continent'].replace('A','NA')"
   ]
  },
  {
   "cell_type": "code",
   "execution_count": 83,
   "id": "7736d55c-67b3-4698-a2f2-30435d8cef7a",
   "metadata": {},
   "outputs": [],
   "source": [
    "df.loc[hn,'continent'] = df.loc[hn,'continent'].replace('A','CA')"
   ]
  },
  {
   "cell_type": "code",
   "execution_count": 84,
   "id": "de0b9f42-478d-49ad-9b7b-461294f402e9",
   "metadata": {},
   "outputs": [],
   "source": [
    "df.loc[cu,'continent'] = df.loc[cu,'continent'].replace('A','NA')"
   ]
  },
  {
   "cell_type": "code",
   "execution_count": 85,
   "id": "997d6acb-dcf8-4fbf-871b-dd1eb5c7cb0d",
   "metadata": {},
   "outputs": [],
   "source": [
    "df.loc[cr,'continent'] = df.loc[cr,'continent'].replace('A','NA')"
   ]
  },
  {
   "cell_type": "code",
   "execution_count": 86,
   "id": "3766dad2-5a5a-4e18-85c7-839b359073be",
   "metadata": {},
   "outputs": [],
   "source": [
    "df.loc[gl,'continent'] = df.loc[gl,'continent'].replace('A','NA')"
   ]
  },
  {
   "cell_type": "code",
   "execution_count": 87,
   "id": "e1822f9d-af49-4060-8c5c-f90dc5e741f2",
   "metadata": {},
   "outputs": [
    {
     "data": {
      "text/plain": [
       "NA    27804\n",
       "SA     8443\n",
       "EU     8404\n",
       "AS     5619\n",
       "AF     3361\n",
       "OC     3123\n",
       "A       481\n",
       "CA      158\n",
       "AN       28\n",
       "Name: continent, dtype: int64"
      ]
     },
     "execution_count": 87,
     "metadata": {},
     "output_type": "execute_result"
    }
   ],
   "source": [
    "df['continent'].value_counts()"
   ]
  },
  {
   "cell_type": "markdown",
   "id": "cf643580-64ab-4507-94db-9a94dd66270e",
   "metadata": {},
   "source": [
    "We changed all the A to NA - North America."
   ]
  },
  {
   "cell_type": "markdown",
   "id": "2f8db324-6ea7-4113-8049-fbd965cd4839",
   "metadata": {},
   "source": [
    "And other countries and continents as well"
   ]
  },
  {
   "cell_type": "markdown",
   "id": "7584fc8f-6c39-4e53-9ff2-5889ec236db3",
   "metadata": {},
   "source": [
    "While I'm filling up the data I found that there's a country labeled as PA which I would have to drop this since it is a data error."
   ]
  },
  {
   "cell_type": "markdown",
   "id": "1dc91f5a-6d66-4d2e-b9c3-36577bad1f6e",
   "metadata": {},
   "source": [
    "There are other countries that can be labeled into certain continents but since there's not even 100 data for each of the countries, I will drop all of them."
   ]
  },
  {
   "cell_type": "code",
   "execution_count": 88,
   "id": "54f3c0f5-0c09-4f74-bb1b-cff69b5d43a4",
   "metadata": {},
   "outputs": [
    {
     "data": {
      "text/plain": [
       "PA    71\n",
       "BS    65\n",
       "PR    62\n",
       "GT    54\n",
       "DO    39\n",
       "NI    32\n",
       "SV    27\n",
       "BZ    27\n",
       "JM    24\n",
       "VI     9\n",
       "TC     8\n",
       "HT     8\n",
       "VC     6\n",
       "GP     6\n",
       "VG     4\n",
       "BQ     3\n",
       "GD     3\n",
       "AG     3\n",
       "TT     3\n",
       "KY     3\n",
       "BM     3\n",
       "KN     2\n",
       "PM     2\n",
       "BB     2\n",
       "MS     2\n",
       "DM     2\n",
       "LC     2\n",
       "MF     2\n",
       "SX     1\n",
       "AI     1\n",
       "BL     1\n",
       "AW     1\n",
       "GB     1\n",
       "CW     1\n",
       "MQ     1\n",
       "Name: ISO_Country, dtype: int64"
      ]
     },
     "execution_count": 88,
     "metadata": {},
     "output_type": "execute_result"
    }
   ],
   "source": [
    "df[df['continent'] == 'A']['ISO_Country'].value_counts()"
   ]
  },
  {
   "cell_type": "code",
   "execution_count": 89,
   "id": "caa00835-b6c3-4c78-babf-e5b3f9a06117",
   "metadata": {},
   "outputs": [
    {
     "data": {
      "text/html": [
       "<div>\n",
       "<style scoped>\n",
       "    .dataframe tbody tr th:only-of-type {\n",
       "        vertical-align: middle;\n",
       "    }\n",
       "\n",
       "    .dataframe tbody tr th {\n",
       "        vertical-align: top;\n",
       "    }\n",
       "\n",
       "    .dataframe thead th {\n",
       "        text-align: right;\n",
       "    }\n",
       "</style>\n",
       "<table border=\"1\" class=\"dataframe\">\n",
       "  <thead>\n",
       "    <tr style=\"text-align: right;\">\n",
       "      <th></th>\n",
       "      <th>type</th>\n",
       "      <th>name</th>\n",
       "      <th>elevation_ft</th>\n",
       "      <th>continent</th>\n",
       "      <th>municipality</th>\n",
       "      <th>ISO_Country</th>\n",
       "      <th>ISO_state</th>\n",
       "      <th>Longitude</th>\n",
       "      <th>Latitude</th>\n",
       "    </tr>\n",
       "  </thead>\n",
       "  <tbody>\n",
       "    <tr>\n",
       "      <th>0</th>\n",
       "      <td>heliport</td>\n",
       "      <td>Total Rf Heliport</td>\n",
       "      <td>11.0</td>\n",
       "      <td>NA</td>\n",
       "      <td>Bensalem</td>\n",
       "      <td>US</td>\n",
       "      <td>PA</td>\n",
       "      <td>-74.93360137939453</td>\n",
       "      <td>40.07080078125</td>\n",
       "    </tr>\n",
       "    <tr>\n",
       "      <th>1</th>\n",
       "      <td>small_airport</td>\n",
       "      <td>Aero B Ranch Airport</td>\n",
       "      <td>3435.0</td>\n",
       "      <td>NA</td>\n",
       "      <td>Leoti</td>\n",
       "      <td>US</td>\n",
       "      <td>KS</td>\n",
       "      <td>-101.473911</td>\n",
       "      <td>38.704022</td>\n",
       "    </tr>\n",
       "    <tr>\n",
       "      <th>2</th>\n",
       "      <td>small_airport</td>\n",
       "      <td>Lowell Field</td>\n",
       "      <td>450.0</td>\n",
       "      <td>NA</td>\n",
       "      <td>Anchor Point</td>\n",
       "      <td>US</td>\n",
       "      <td>AK</td>\n",
       "      <td>-151.695999146</td>\n",
       "      <td>59.94919968</td>\n",
       "    </tr>\n",
       "    <tr>\n",
       "      <th>3</th>\n",
       "      <td>small_airport</td>\n",
       "      <td>Epps Airpark</td>\n",
       "      <td>820.0</td>\n",
       "      <td>NA</td>\n",
       "      <td>Harvest</td>\n",
       "      <td>US</td>\n",
       "      <td>AL</td>\n",
       "      <td>-86.77030181884766</td>\n",
       "      <td>34.86479949951172</td>\n",
       "    </tr>\n",
       "    <tr>\n",
       "      <th>4</th>\n",
       "      <td>closed</td>\n",
       "      <td>Newport Hospital &amp; Clinic Heliport</td>\n",
       "      <td>237.0</td>\n",
       "      <td>NA</td>\n",
       "      <td>Newport</td>\n",
       "      <td>US</td>\n",
       "      <td>AR</td>\n",
       "      <td>-91.254898</td>\n",
       "      <td>35.6087</td>\n",
       "    </tr>\n",
       "  </tbody>\n",
       "</table>\n",
       "</div>"
      ],
      "text/plain": [
       "            type                                name  elevation_ft continent  \\\n",
       "0       heliport                   Total Rf Heliport          11.0        NA   \n",
       "1  small_airport                Aero B Ranch Airport        3435.0        NA   \n",
       "2  small_airport                        Lowell Field         450.0        NA   \n",
       "3  small_airport                        Epps Airpark         820.0        NA   \n",
       "4         closed  Newport Hospital & Clinic Heliport         237.0        NA   \n",
       "\n",
       "   municipality ISO_Country ISO_state           Longitude            Latitude  \n",
       "0      Bensalem          US        PA  -74.93360137939453      40.07080078125  \n",
       "1         Leoti          US        KS         -101.473911           38.704022  \n",
       "2  Anchor Point          US        AK      -151.695999146         59.94919968  \n",
       "3       Harvest          US        AL  -86.77030181884766   34.86479949951172  \n",
       "4       Newport          US        AR          -91.254898             35.6087  "
      ]
     },
     "execution_count": 89,
     "metadata": {},
     "output_type": "execute_result"
    }
   ],
   "source": [
    "df_2 = df[df.continent != 'A']\n",
    "df_2.head()"
   ]
  },
  {
   "cell_type": "code",
   "execution_count": 90,
   "id": "116fdfd5-8273-4422-bf51-cd6396e40d1e",
   "metadata": {},
   "outputs": [
    {
     "data": {
      "text/plain": [
       "<AxesSubplot:>"
      ]
     },
     "execution_count": 90,
     "metadata": {},
     "output_type": "execute_result"
    },
    {
     "data": {
      "image/png": "[encoded data removed]",
      "text/plain": [
       "<Figure size 432x288 with 1 Axes>"
      ]
     },
     "metadata": {
      "needs_background": "light"
     },
     "output_type": "display_data"
    }
   ],
   "source": [
    "sns.barplot(x = df.continent.value_counts().index, y = df.continent.value_counts().values, data=df)"
   ]
  },
  {
   "cell_type": "code",
   "execution_count": 91,
   "id": "d3bc6f23-6c55-40e5-8c55-df046e247033",
   "metadata": {},
   "outputs": [
    {
     "data": {
      "text/html": [
       "<div>\n",
       "<style scoped>\n",
       "    .dataframe tbody tr th:only-of-type {\n",
       "        vertical-align: middle;\n",
       "    }\n",
       "\n",
       "    .dataframe tbody tr th {\n",
       "        vertical-align: top;\n",
       "    }\n",
       "\n",
       "    .dataframe thead th {\n",
       "        text-align: right;\n",
       "    }\n",
       "</style>\n",
       "<table border=\"1\" class=\"dataframe\">\n",
       "  <thead>\n",
       "    <tr style=\"text-align: right;\">\n",
       "      <th></th>\n",
       "      <th>type</th>\n",
       "      <th>name</th>\n",
       "      <th>elevation_ft</th>\n",
       "      <th>continent</th>\n",
       "      <th>municipality</th>\n",
       "      <th>ISO_Country</th>\n",
       "      <th>ISO_state</th>\n",
       "      <th>Longitude</th>\n",
       "      <th>Latitude</th>\n",
       "    </tr>\n",
       "  </thead>\n",
       "  <tbody>\n",
       "    <tr>\n",
       "      <th>0</th>\n",
       "      <td>heliport</td>\n",
       "      <td>Total Rf Heliport</td>\n",
       "      <td>11.0</td>\n",
       "      <td>NA</td>\n",
       "      <td>Bensalem</td>\n",
       "      <td>US</td>\n",
       "      <td>PA</td>\n",
       "      <td>-74.93360137939453</td>\n",
       "      <td>40.07080078125</td>\n",
       "    </tr>\n",
       "    <tr>\n",
       "      <th>1</th>\n",
       "      <td>small_airport</td>\n",
       "      <td>Aero B Ranch Airport</td>\n",
       "      <td>3435.0</td>\n",
       "      <td>NA</td>\n",
       "      <td>Leoti</td>\n",
       "      <td>US</td>\n",
       "      <td>KS</td>\n",
       "      <td>-101.473911</td>\n",
       "      <td>38.704022</td>\n",
       "    </tr>\n",
       "    <tr>\n",
       "      <th>2</th>\n",
       "      <td>small_airport</td>\n",
       "      <td>Lowell Field</td>\n",
       "      <td>450.0</td>\n",
       "      <td>NA</td>\n",
       "      <td>Anchor Point</td>\n",
       "      <td>US</td>\n",
       "      <td>AK</td>\n",
       "      <td>-151.695999146</td>\n",
       "      <td>59.94919968</td>\n",
       "    </tr>\n",
       "    <tr>\n",
       "      <th>3</th>\n",
       "      <td>small_airport</td>\n",
       "      <td>Epps Airpark</td>\n",
       "      <td>820.0</td>\n",
       "      <td>NA</td>\n",
       "      <td>Harvest</td>\n",
       "      <td>US</td>\n",
       "      <td>AL</td>\n",
       "      <td>-86.77030181884766</td>\n",
       "      <td>34.86479949951172</td>\n",
       "    </tr>\n",
       "    <tr>\n",
       "      <th>4</th>\n",
       "      <td>closed</td>\n",
       "      <td>Newport Hospital &amp; Clinic Heliport</td>\n",
       "      <td>237.0</td>\n",
       "      <td>NA</td>\n",
       "      <td>Newport</td>\n",
       "      <td>US</td>\n",
       "      <td>AR</td>\n",
       "      <td>-91.254898</td>\n",
       "      <td>35.6087</td>\n",
       "    </tr>\n",
       "  </tbody>\n",
       "</table>\n",
       "</div>"
      ],
      "text/plain": [
       "            type                                name  elevation_ft continent  \\\n",
       "0       heliport                   Total Rf Heliport          11.0        NA   \n",
       "1  small_airport                Aero B Ranch Airport        3435.0        NA   \n",
       "2  small_airport                        Lowell Field         450.0        NA   \n",
       "3  small_airport                        Epps Airpark         820.0        NA   \n",
       "4         closed  Newport Hospital & Clinic Heliport         237.0        NA   \n",
       "\n",
       "   municipality ISO_Country ISO_state           Longitude            Latitude  \n",
       "0      Bensalem          US        PA  -74.93360137939453      40.07080078125  \n",
       "1         Leoti          US        KS         -101.473911           38.704022  \n",
       "2  Anchor Point          US        AK      -151.695999146         59.94919968  \n",
       "3       Harvest          US        AL  -86.77030181884766   34.86479949951172  \n",
       "4       Newport          US        AR          -91.254898             35.6087  "
      ]
     },
     "execution_count": 91,
     "metadata": {},
     "output_type": "execute_result"
    }
   ],
   "source": [
    "df.head()"
   ]
  },
  {
   "cell_type": "code",
   "execution_count": 92,
   "id": "49eb6e64-2f87-447f-92e3-2f57ee532623",
   "metadata": {},
   "outputs": [
    {
     "data": {
      "text/plain": [
       "<AxesSubplot:xlabel='type', ylabel='elevation_ft'>"
      ]
     },
     "execution_count": 92,
     "metadata": {},
     "output_type": "execute_result"
    },
    {
     "data": {
      "image/png": "[encoded data removed]",
      "text/plain": [
       "<Figure size 720x360 with 1 Axes>"
      ]
     },
     "metadata": {
      "needs_background": "light"
     },
     "output_type": "display_data"
    }
   ],
   "source": [
    "plt.figure(figsize=(10,5))\n",
    "sns.lineplot(x= 'type' , y = 'elevation_ft', data= df)"
   ]
  },
  {
   "cell_type": "code",
   "execution_count": 93,
   "id": "a53b89c3-ba4d-4e26-b7d9-775a2bd054cb",
   "metadata": {},
   "outputs": [
    {
     "name": "stderr",
     "output_type": "stream",
     "text": [
      "/opt/anaconda3/lib/python3.8/site-packages/seaborn/_decorators.py:36: FutureWarning: Pass the following variable as a keyword arg: x. From version 0.12, the only valid positional argument will be `data`, and passing other arguments without an explicit keyword will result in an error or misinterpretation.\n",
      "  warnings.warn(\n"
     ]
    },
    {
     "data": {
      "text/plain": [
       "Text(0.5, 1.0, 'Distribution of elevation')"
      ]
     },
     "execution_count": 93,
     "metadata": {},
     "output_type": "execute_result"
    },
    {
     "data": {
      "image/png": "[encoded data removed]",
      "text/plain": [
       "<Figure size 720x360 with 1 Axes>"
      ]
     },
     "metadata": {
      "needs_background": "light"
     },
     "output_type": "display_data"
    }
   ],
   "source": [
    "plt.figure(figsize=(10,5))\n",
    "ax = sns.boxplot(df.elevation_ft)\n",
    "\n",
    "# notation indicating an outlier\n",
    "# xtick, label, and title\n",
    "plt.xticks(fontsize=14)\n",
    "plt.xlabel('elevation in feet', fontsize=14)\n",
    "plt.title('Distribution of elevation', fontsize=20)"
   ]
  },
  {
   "cell_type": "code",
   "execution_count": 94,
   "id": "f89d7ae3-8683-4552-90cc-b6029905002a",
   "metadata": {},
   "outputs": [
    {
     "data": {
      "text/html": [
       "<div>\n",
       "<style scoped>\n",
       "    .dataframe tbody tr th:only-of-type {\n",
       "        vertical-align: middle;\n",
       "    }\n",
       "\n",
       "    .dataframe tbody tr th {\n",
       "        vertical-align: top;\n",
       "    }\n",
       "\n",
       "    .dataframe thead th {\n",
       "        text-align: right;\n",
       "    }\n",
       "</style>\n",
       "<table border=\"1\" class=\"dataframe\">\n",
       "  <thead>\n",
       "    <tr style=\"text-align: right;\">\n",
       "      <th></th>\n",
       "      <th>type</th>\n",
       "      <th>name</th>\n",
       "      <th>elevation_ft</th>\n",
       "      <th>continent</th>\n",
       "      <th>municipality</th>\n",
       "      <th>ISO_Country</th>\n",
       "      <th>ISO_state</th>\n",
       "      <th>Longitude</th>\n",
       "      <th>Latitude</th>\n",
       "    </tr>\n",
       "  </thead>\n",
       "  <tbody>\n",
       "    <tr>\n",
       "      <th>55049</th>\n",
       "      <td>medium_airport</td>\n",
       "      <td>Modi</td>\n",
       "      <td>29977.0</td>\n",
       "      <td>NA</td>\n",
       "      <td>California</td>\n",
       "      <td>US</td>\n",
       "      <td>CA</td>\n",
       "      <td>179.999894</td>\n",
       "      <td>89.999845</td>\n",
       "    </tr>\n",
       "  </tbody>\n",
       "</table>\n",
       "</div>"
      ],
      "text/plain": [
       "                 type  name  elevation_ft continent municipality ISO_Country  \\\n",
       "55049  medium_airport  Modi       29977.0        NA   California          US   \n",
       "\n",
       "      ISO_state   Longitude    Latitude  \n",
       "55049        CA  179.999894   89.999845  "
      ]
     },
     "execution_count": 94,
     "metadata": {},
     "output_type": "execute_result"
    }
   ],
   "source": [
    "df[df['elevation_ft'] > 25000]"
   ]
  },
  {
   "cell_type": "markdown",
   "id": "b9754da7-bf4f-4a14-a1fd-7837bd176abe",
   "metadata": {},
   "source": [
    "The elevation_ft 29977.0 is an outlier because according to google, \n",
    "The Leadville Airport is North America's highest public use airport at an altitude of 9,934 feet."
   ]
  },
  {
   "cell_type": "markdown",
   "id": "bfb158e8-83ed-45c5-aa30-7b358983561e",
   "metadata": {},
   "source": [
    "I can not find anything about the elevation feet for modi airport. So I will drop this."
   ]
  },
  {
   "cell_type": "code",
   "execution_count": 95,
   "id": "72fcc2e7-f80b-4803-a84c-c56d3a808c58",
   "metadata": {},
   "outputs": [],
   "source": [
    "df.drop([55049], axis=0, inplace=True)"
   ]
  },
  {
   "cell_type": "code",
   "execution_count": 96,
   "id": "ea36cc6f-91fb-4519-94eb-39f175bde8fc",
   "metadata": {},
   "outputs": [
    {
     "data": {
      "text/html": [
       "<div>\n",
       "<style scoped>\n",
       "    .dataframe tbody tr th:only-of-type {\n",
       "        vertical-align: middle;\n",
       "    }\n",
       "\n",
       "    .dataframe tbody tr th {\n",
       "        vertical-align: top;\n",
       "    }\n",
       "\n",
       "    .dataframe thead th {\n",
       "        text-align: right;\n",
       "    }\n",
       "</style>\n",
       "<table border=\"1\" class=\"dataframe\">\n",
       "  <thead>\n",
       "    <tr style=\"text-align: right;\">\n",
       "      <th></th>\n",
       "      <th>type</th>\n",
       "      <th>name</th>\n",
       "      <th>elevation_ft</th>\n",
       "      <th>continent</th>\n",
       "      <th>municipality</th>\n",
       "      <th>ISO_Country</th>\n",
       "      <th>ISO_state</th>\n",
       "      <th>Longitude</th>\n",
       "      <th>Latitude</th>\n",
       "    </tr>\n",
       "  </thead>\n",
       "  <tbody>\n",
       "    <tr>\n",
       "      <th>25164</th>\n",
       "      <td>heliport</td>\n",
       "      <td>Siachen Glacier AFS Airport</td>\n",
       "      <td>22000.0</td>\n",
       "      <td>AS</td>\n",
       "      <td>NaN</td>\n",
       "      <td>IN</td>\n",
       "      <td>JK</td>\n",
       "      <td>77</td>\n",
       "      <td>35.5</td>\n",
       "    </tr>\n",
       "  </tbody>\n",
       "</table>\n",
       "</div>"
      ],
      "text/plain": [
       "           type                         name  elevation_ft continent  \\\n",
       "25164  heliport  Siachen Glacier AFS Airport       22000.0        AS   \n",
       "\n",
       "      municipality ISO_Country ISO_state Longitude Latitude  \n",
       "25164          NaN          IN        JK        77     35.5  "
      ]
     },
     "execution_count": 96,
     "metadata": {},
     "output_type": "execute_result"
    }
   ],
   "source": [
    "df[df['elevation_ft'] > 20000]"
   ]
  },
  {
   "cell_type": "code",
   "execution_count": 97,
   "id": "886320b0-2f4c-4d9f-a4f7-6037dff5db49",
   "metadata": {},
   "outputs": [
    {
     "data": {
      "text/html": [
       "<div>\n",
       "<style scoped>\n",
       "    .dataframe tbody tr th:only-of-type {\n",
       "        vertical-align: middle;\n",
       "    }\n",
       "\n",
       "    .dataframe tbody tr th {\n",
       "        vertical-align: top;\n",
       "    }\n",
       "\n",
       "    .dataframe thead th {\n",
       "        text-align: right;\n",
       "    }\n",
       "</style>\n",
       "<table border=\"1\" class=\"dataframe\">\n",
       "  <thead>\n",
       "    <tr style=\"text-align: right;\">\n",
       "      <th></th>\n",
       "      <th>type</th>\n",
       "      <th>name</th>\n",
       "      <th>elevation_ft</th>\n",
       "      <th>continent</th>\n",
       "      <th>municipality</th>\n",
       "      <th>ISO_Country</th>\n",
       "      <th>ISO_state</th>\n",
       "      <th>Longitude</th>\n",
       "      <th>Latitude</th>\n",
       "    </tr>\n",
       "  </thead>\n",
       "  <tbody>\n",
       "    <tr>\n",
       "      <th>0</th>\n",
       "      <td>heliport</td>\n",
       "      <td>Total Rf Heliport</td>\n",
       "      <td>11.0</td>\n",
       "      <td>NA</td>\n",
       "      <td>Bensalem</td>\n",
       "      <td>US</td>\n",
       "      <td>PA</td>\n",
       "      <td>-74.93360137939453</td>\n",
       "      <td>40.07080078125</td>\n",
       "    </tr>\n",
       "    <tr>\n",
       "      <th>1</th>\n",
       "      <td>small_airport</td>\n",
       "      <td>Aero B Ranch Airport</td>\n",
       "      <td>3435.0</td>\n",
       "      <td>NA</td>\n",
       "      <td>Leoti</td>\n",
       "      <td>US</td>\n",
       "      <td>KS</td>\n",
       "      <td>-101.473911</td>\n",
       "      <td>38.704022</td>\n",
       "    </tr>\n",
       "    <tr>\n",
       "      <th>2</th>\n",
       "      <td>small_airport</td>\n",
       "      <td>Lowell Field</td>\n",
       "      <td>450.0</td>\n",
       "      <td>NA</td>\n",
       "      <td>Anchor Point</td>\n",
       "      <td>US</td>\n",
       "      <td>AK</td>\n",
       "      <td>-151.695999146</td>\n",
       "      <td>59.94919968</td>\n",
       "    </tr>\n",
       "    <tr>\n",
       "      <th>3</th>\n",
       "      <td>small_airport</td>\n",
       "      <td>Epps Airpark</td>\n",
       "      <td>820.0</td>\n",
       "      <td>NA</td>\n",
       "      <td>Harvest</td>\n",
       "      <td>US</td>\n",
       "      <td>AL</td>\n",
       "      <td>-86.77030181884766</td>\n",
       "      <td>34.86479949951172</td>\n",
       "    </tr>\n",
       "    <tr>\n",
       "      <th>4</th>\n",
       "      <td>closed</td>\n",
       "      <td>Newport Hospital &amp; Clinic Heliport</td>\n",
       "      <td>237.0</td>\n",
       "      <td>NA</td>\n",
       "      <td>Newport</td>\n",
       "      <td>US</td>\n",
       "      <td>AR</td>\n",
       "      <td>-91.254898</td>\n",
       "      <td>35.6087</td>\n",
       "    </tr>\n",
       "  </tbody>\n",
       "</table>\n",
       "</div>"
      ],
      "text/plain": [
       "            type                                name  elevation_ft continent  \\\n",
       "0       heliport                   Total Rf Heliport          11.0        NA   \n",
       "1  small_airport                Aero B Ranch Airport        3435.0        NA   \n",
       "2  small_airport                        Lowell Field         450.0        NA   \n",
       "3  small_airport                        Epps Airpark         820.0        NA   \n",
       "4         closed  Newport Hospital & Clinic Heliport         237.0        NA   \n",
       "\n",
       "   municipality ISO_Country ISO_state           Longitude            Latitude  \n",
       "0      Bensalem          US        PA  -74.93360137939453      40.07080078125  \n",
       "1         Leoti          US        KS         -101.473911           38.704022  \n",
       "2  Anchor Point          US        AK      -151.695999146         59.94919968  \n",
       "3       Harvest          US        AL  -86.77030181884766   34.86479949951172  \n",
       "4       Newport          US        AR          -91.254898             35.6087  "
      ]
     },
     "execution_count": 97,
     "metadata": {},
     "output_type": "execute_result"
    }
   ],
   "source": [
    "df.head()"
   ]
  },
  {
   "cell_type": "code",
   "execution_count": 98,
   "id": "70f4749f-5eb4-4886-9d58-4e9d05af9231",
   "metadata": {},
   "outputs": [],
   "source": [
    "def describe(data, col):\n",
    "    max_v = data[col].max()\n",
    "    min_v = data[col].min()\n",
    "    median_v = data[col].median()\n",
    "    mean_v = data[col].mean()\n",
    "    return \"Max: {}\".format(max_v), \"Min: {}\".format(min_v), \"Median: {}\".format(median_v), \"Mean: {}\".format(mean_v)\n",
    "    "
   ]
  },
  {
   "cell_type": "code",
   "execution_count": 99,
   "id": "4021e349-98be-4867-8073-554571efa4a9",
   "metadata": {},
   "outputs": [
    {
     "data": {
      "text/plain": [
       "('Max: 22000.0', 'Min: -1266.0', 'Median: 892.0', 'Mean: 1230.5058690351793')"
      ]
     },
     "execution_count": 99,
     "metadata": {},
     "output_type": "execute_result"
    }
   ],
   "source": [
    "describe(df,'elevation_ft')"
   ]
  },
  {
   "cell_type": "code",
   "execution_count": 100,
   "id": "a16e88e8-f3d4-4a40-88c4-9dc98043cd21",
   "metadata": {},
   "outputs": [],
   "source": [
    "below_avg = []\n",
    "above_avg = []\n",
    "for val in df['elevation_ft']:\n",
    "    if val > 1231:\n",
    "        above_avg.append(val)\n",
    "    else:\n",
    "        below_avg.append(val)"
   ]
  },
  {
   "cell_type": "code",
   "execution_count": 101,
   "id": "60d0cb9f-334d-41d1-bf21-47c9449d371a",
   "metadata": {},
   "outputs": [
    {
     "name": "stdout",
     "output_type": "stream",
     "text": [
      "42202\n"
     ]
    },
    {
     "data": {
      "text/plain": [
       "15218"
      ]
     },
     "execution_count": 101,
     "metadata": {},
     "output_type": "execute_result"
    }
   ],
   "source": [
    "print(len(below_avg))\n",
    "len(above_avg)"
   ]
  },
  {
   "cell_type": "markdown",
   "id": "2e6edb34-454a-4430-92f7-5d17a49846e9",
   "metadata": {},
   "source": [
    "Seems like people build airports in lower elevated place than higher. Why is this?"
   ]
  },
  {
   "cell_type": "code",
   "execution_count": 102,
   "id": "c4471c59-755a-4b04-8d94-bb05e41fb85b",
   "metadata": {},
   "outputs": [
    {
     "data": {
      "text/plain": [
       "Text(0.5, 1.0, 'elevation_feet per type')"
      ]
     },
     "execution_count": 102,
     "metadata": {},
     "output_type": "execute_result"
    },
    {
     "data": {
      "image/png": "[encoded data removed]",
      "text/plain": [
       "<Figure size 720x360 with 1 Axes>"
      ]
     },
     "metadata": {
      "needs_background": "light"
     },
     "output_type": "display_data"
    }
   ],
   "source": [
    "plt.figure(figsize=(10,5))\n",
    "sns.barplot(x = 'type', y = 'elevation_ft', data=df)\n",
    "plt.title('elevation_feet per type')"
   ]
  },
  {
   "cell_type": "code",
   "execution_count": 103,
   "id": "d8af142b-51cb-413c-9140-faea01313a30",
   "metadata": {},
   "outputs": [
    {
     "data": {
      "text/plain": [
       "0        40.070801\n",
       "1        38.704022\n",
       "2        59.949200\n",
       "3        34.864799\n",
       "4        35.608700\n",
       "           ...    \n",
       "57416    40.542524\n",
       "57417    41.784401\n",
       "57418    51.894444\n",
       "57419   -11.584278\n",
       "57420    30.784722\n",
       "Name: Latitude, Length: 57420, dtype: float64"
      ]
     },
     "execution_count": 103,
     "metadata": {},
     "output_type": "execute_result"
    }
   ],
   "source": [
    "df['Longitude'].astype(str).astype(float)\n",
    "df['Latitude'].astype(str).astype(float)"
   ]
  },
  {
   "cell_type": "code",
   "execution_count": 104,
   "id": "f933c21b-7bc9-4cd1-a120-aedb0af197c0",
   "metadata": {},
   "outputs": [
    {
     "ename": "TypeError",
     "evalue": "The x variable is categorical, but one of ['numeric', 'datetime'] is required",
     "output_type": "error",
     "traceback": [
      "\u001b[0;31m---------------------------------------------------------------------------\u001b[0m",
      "\u001b[0;31mTypeError\u001b[0m                                 Traceback (most recent call last)",
      "\u001b[0;32m<ipython-input-104-f62c2cdaa4c5>\u001b[0m in \u001b[0;36m<module>\u001b[0;34m\u001b[0m\n\u001b[0;32m----> 1\u001b[0;31m \u001b[0msns\u001b[0m\u001b[0;34m.\u001b[0m\u001b[0mjointplot\u001b[0m\u001b[0;34m(\u001b[0m\u001b[0mx\u001b[0m\u001b[0;34m=\u001b[0m\u001b[0;34m\"Longitude\"\u001b[0m\u001b[0;34m,\u001b[0m \u001b[0my\u001b[0m\u001b[0;34m=\u001b[0m\u001b[0;34m\"Latitude\"\u001b[0m\u001b[0;34m,\u001b[0m \u001b[0mhue\u001b[0m\u001b[0;34m=\u001b[0m\u001b[0;34m\"ISO_Country\"\u001b[0m\u001b[0;34m,\u001b[0m \u001b[0mdata\u001b[0m\u001b[0;34m=\u001b[0m \u001b[0mdf\u001b[0m\u001b[0;34m)\u001b[0m\u001b[0;34m\u001b[0m\u001b[0;34m\u001b[0m\u001b[0m\n\u001b[0m",
      "\u001b[0;32m/opt/anaconda3/lib/python3.8/site-packages/seaborn/_decorators.py\u001b[0m in \u001b[0;36minner_f\u001b[0;34m(*args, **kwargs)\u001b[0m\n\u001b[1;32m     44\u001b[0m             )\n\u001b[1;32m     45\u001b[0m         \u001b[0mkwargs\u001b[0m\u001b[0;34m.\u001b[0m\u001b[0mupdate\u001b[0m\u001b[0;34m(\u001b[0m\u001b[0;34m{\u001b[0m\u001b[0mk\u001b[0m\u001b[0;34m:\u001b[0m \u001b[0marg\u001b[0m \u001b[0;32mfor\u001b[0m \u001b[0mk\u001b[0m\u001b[0;34m,\u001b[0m \u001b[0marg\u001b[0m \u001b[0;32min\u001b[0m \u001b[0mzip\u001b[0m\u001b[0;34m(\u001b[0m\u001b[0msig\u001b[0m\u001b[0;34m.\u001b[0m\u001b[0mparameters\u001b[0m\u001b[0;34m,\u001b[0m \u001b[0margs\u001b[0m\u001b[0;34m)\u001b[0m\u001b[0;34m}\u001b[0m\u001b[0;34m)\u001b[0m\u001b[0;34m\u001b[0m\u001b[0;34m\u001b[0m\u001b[0m\n\u001b[0;32m---> 46\u001b[0;31m         \u001b[0;32mreturn\u001b[0m \u001b[0mf\u001b[0m\u001b[0;34m(\u001b[0m\u001b[0;34m**\u001b[0m\u001b[0mkwargs\u001b[0m\u001b[0;34m)\u001b[0m\u001b[0;34m\u001b[0m\u001b[0;34m\u001b[0m\u001b[0m\n\u001b[0m\u001b[1;32m     47\u001b[0m     \u001b[0;32mreturn\u001b[0m \u001b[0minner_f\u001b[0m\u001b[0;34m\u001b[0m\u001b[0;34m\u001b[0m\u001b[0m\n\u001b[1;32m     48\u001b[0m \u001b[0;34m\u001b[0m\u001b[0m\n",
      "\u001b[0;32m/opt/anaconda3/lib/python3.8/site-packages/seaborn/axisgrid.py\u001b[0m in \u001b[0;36mjointplot\u001b[0;34m(x, y, data, kind, color, height, ratio, space, dropna, xlim, ylim, marginal_ticks, joint_kws, marginal_kws, hue, palette, hue_order, hue_norm, **kwargs)\u001b[0m\n\u001b[1;32m   2142\u001b[0m \u001b[0;34m\u001b[0m\u001b[0m\n\u001b[1;32m   2143\u001b[0m         \u001b[0mmarginal_kws\u001b[0m\u001b[0;34m.\u001b[0m\u001b[0msetdefault\u001b[0m\u001b[0;34m(\u001b[0m\u001b[0;34m\"color\"\u001b[0m\u001b[0;34m,\u001b[0m \u001b[0mcolor\u001b[0m\u001b[0;34m)\u001b[0m\u001b[0;34m\u001b[0m\u001b[0;34m\u001b[0m\u001b[0m\n\u001b[0;32m-> 2144\u001b[0;31m         \u001b[0mgrid\u001b[0m\u001b[0;34m.\u001b[0m\u001b[0mplot_marginals\u001b[0m\u001b[0;34m(\u001b[0m\u001b[0mmarg_func\u001b[0m\u001b[0;34m,\u001b[0m \u001b[0;34m**\u001b[0m\u001b[0mmarginal_kws\u001b[0m\u001b[0;34m)\u001b[0m\u001b[0;34m\u001b[0m\u001b[0;34m\u001b[0m\u001b[0m\n\u001b[0m\u001b[1;32m   2145\u001b[0m \u001b[0;34m\u001b[0m\u001b[0m\n\u001b[1;32m   2146\u001b[0m     \u001b[0;32melif\u001b[0m \u001b[0mkind\u001b[0m\u001b[0;34m.\u001b[0m\u001b[0mstartswith\u001b[0m\u001b[0;34m(\u001b[0m\u001b[0;34m\"hist\"\u001b[0m\u001b[0;34m)\u001b[0m\u001b[0;34m:\u001b[0m\u001b[0;34m\u001b[0m\u001b[0;34m\u001b[0m\u001b[0m\n",
      "\u001b[0;32m/opt/anaconda3/lib/python3.8/site-packages/seaborn/axisgrid.py\u001b[0m in \u001b[0;36mplot_marginals\u001b[0;34m(self, func, **kwargs)\u001b[0m\n\u001b[1;32m   1783\u001b[0m \u001b[0;34m\u001b[0m\u001b[0m\n\u001b[1;32m   1784\u001b[0m         \u001b[0;32mif\u001b[0m \u001b[0mseaborn_func\u001b[0m\u001b[0;34m:\u001b[0m\u001b[0;34m\u001b[0m\u001b[0;34m\u001b[0m\u001b[0m\n\u001b[0;32m-> 1785\u001b[0;31m             \u001b[0mfunc\u001b[0m\u001b[0;34m(\u001b[0m\u001b[0mx\u001b[0m\u001b[0;34m=\u001b[0m\u001b[0mself\u001b[0m\u001b[0;34m.\u001b[0m\u001b[0mx\u001b[0m\u001b[0;34m,\u001b[0m \u001b[0max\u001b[0m\u001b[0;34m=\u001b[0m\u001b[0mself\u001b[0m\u001b[0;34m.\u001b[0m\u001b[0max_marg_x\u001b[0m\u001b[0;34m,\u001b[0m \u001b[0;34m**\u001b[0m\u001b[0mkwargs\u001b[0m\u001b[0;34m)\u001b[0m\u001b[0;34m\u001b[0m\u001b[0;34m\u001b[0m\u001b[0m\n\u001b[0m\u001b[1;32m   1786\u001b[0m         \u001b[0;32melse\u001b[0m\u001b[0;34m:\u001b[0m\u001b[0;34m\u001b[0m\u001b[0;34m\u001b[0m\u001b[0m\n\u001b[1;32m   1787\u001b[0m             \u001b[0mplt\u001b[0m\u001b[0;34m.\u001b[0m\u001b[0msca\u001b[0m\u001b[0;34m(\u001b[0m\u001b[0mself\u001b[0m\u001b[0;34m.\u001b[0m\u001b[0max_marg_x\u001b[0m\u001b[0;34m)\u001b[0m\u001b[0;34m\u001b[0m\u001b[0;34m\u001b[0m\u001b[0m\n",
      "\u001b[0;32m/opt/anaconda3/lib/python3.8/site-packages/seaborn/_decorators.py\u001b[0m in \u001b[0;36minner_f\u001b[0;34m(*args, **kwargs)\u001b[0m\n\u001b[1;32m     44\u001b[0m             )\n\u001b[1;32m     45\u001b[0m         \u001b[0mkwargs\u001b[0m\u001b[0;34m.\u001b[0m\u001b[0mupdate\u001b[0m\u001b[0;34m(\u001b[0m\u001b[0;34m{\u001b[0m\u001b[0mk\u001b[0m\u001b[0;34m:\u001b[0m \u001b[0marg\u001b[0m \u001b[0;32mfor\u001b[0m \u001b[0mk\u001b[0m\u001b[0;34m,\u001b[0m \u001b[0marg\u001b[0m \u001b[0;32min\u001b[0m \u001b[0mzip\u001b[0m\u001b[0;34m(\u001b[0m\u001b[0msig\u001b[0m\u001b[0;34m.\u001b[0m\u001b[0mparameters\u001b[0m\u001b[0;34m,\u001b[0m \u001b[0margs\u001b[0m\u001b[0;34m)\u001b[0m\u001b[0;34m}\u001b[0m\u001b[0;34m)\u001b[0m\u001b[0;34m\u001b[0m\u001b[0;34m\u001b[0m\u001b[0m\n\u001b[0;32m---> 46\u001b[0;31m         \u001b[0;32mreturn\u001b[0m \u001b[0mf\u001b[0m\u001b[0;34m(\u001b[0m\u001b[0;34m**\u001b[0m\u001b[0mkwargs\u001b[0m\u001b[0;34m)\u001b[0m\u001b[0;34m\u001b[0m\u001b[0;34m\u001b[0m\u001b[0m\n\u001b[0m\u001b[1;32m     47\u001b[0m     \u001b[0;32mreturn\u001b[0m \u001b[0minner_f\u001b[0m\u001b[0;34m\u001b[0m\u001b[0;34m\u001b[0m\u001b[0m\n\u001b[1;32m     48\u001b[0m \u001b[0;34m\u001b[0m\u001b[0m\n",
      "\u001b[0;32m/opt/anaconda3/lib/python3.8/site-packages/seaborn/distributions.py\u001b[0m in \u001b[0;36mkdeplot\u001b[0;34m(x, y, shade, vertical, kernel, bw, gridsize, cut, clip, legend, cumulative, shade_lowest, cbar, cbar_ax, cbar_kws, ax, weights, hue, palette, hue_order, hue_norm, multiple, common_norm, common_grid, levels, thresh, bw_method, bw_adjust, log_scale, color, fill, data, data2, **kwargs)\u001b[0m\n\u001b[1;32m   1718\u001b[0m     )\n\u001b[1;32m   1719\u001b[0m \u001b[0;34m\u001b[0m\u001b[0m\n\u001b[0;32m-> 1720\u001b[0;31m     \u001b[0mp\u001b[0m\u001b[0;34m.\u001b[0m\u001b[0m_attach\u001b[0m\u001b[0;34m(\u001b[0m\u001b[0max\u001b[0m\u001b[0;34m,\u001b[0m \u001b[0mallowed_types\u001b[0m\u001b[0;34m=\u001b[0m\u001b[0;34m[\u001b[0m\u001b[0;34m\"numeric\"\u001b[0m\u001b[0;34m,\u001b[0m \u001b[0;34m\"datetime\"\u001b[0m\u001b[0;34m]\u001b[0m\u001b[0;34m,\u001b[0m \u001b[0mlog_scale\u001b[0m\u001b[0;34m=\u001b[0m\u001b[0mlog_scale\u001b[0m\u001b[0;34m)\u001b[0m\u001b[0;34m\u001b[0m\u001b[0;34m\u001b[0m\u001b[0m\n\u001b[0m\u001b[1;32m   1721\u001b[0m \u001b[0;34m\u001b[0m\u001b[0m\n\u001b[1;32m   1722\u001b[0m     \u001b[0;32mif\u001b[0m \u001b[0mp\u001b[0m\u001b[0;34m.\u001b[0m\u001b[0munivariate\u001b[0m\u001b[0;34m:\u001b[0m\u001b[0;34m\u001b[0m\u001b[0;34m\u001b[0m\u001b[0m\n",
      "\u001b[0;32m/opt/anaconda3/lib/python3.8/site-packages/seaborn/_core.py\u001b[0m in \u001b[0;36m_attach\u001b[0;34m(self, obj, allowed_types, log_scale)\u001b[0m\n\u001b[1;32m   1116\u001b[0m                     \u001b[0;34mf\"{allowed_types} is required\"\u001b[0m\u001b[0;34m\u001b[0m\u001b[0;34m\u001b[0m\u001b[0m\n\u001b[1;32m   1117\u001b[0m                 )\n\u001b[0;32m-> 1118\u001b[0;31m                 \u001b[0;32mraise\u001b[0m \u001b[0mTypeError\u001b[0m\u001b[0;34m(\u001b[0m\u001b[0merr\u001b[0m\u001b[0;34m)\u001b[0m\u001b[0;34m\u001b[0m\u001b[0;34m\u001b[0m\u001b[0m\n\u001b[0m\u001b[1;32m   1119\u001b[0m \u001b[0;34m\u001b[0m\u001b[0m\n\u001b[1;32m   1120\u001b[0m             \u001b[0;31m# Register with the matplotlib unit conversion machinery\u001b[0m\u001b[0;34m\u001b[0m\u001b[0;34m\u001b[0m\u001b[0;34m\u001b[0m\u001b[0m\n",
      "\u001b[0;31mTypeError\u001b[0m: The x variable is categorical, but one of ['numeric', 'datetime'] is required"
     ]
    },
    {
     "name": "stdout",
     "output_type": "stream",
     "text": [
      "Error in callback <function flush_figures at 0x7fb4674cb0d0> (for post_execute):\n"
     ]
    },
    {
     "ename": "KeyboardInterrupt",
     "evalue": "",
     "output_type": "error",
     "traceback": [
      "\u001b[0;31m---------------------------------------------------------------------------\u001b[0m",
      "\u001b[0;31mKeyboardInterrupt\u001b[0m                         Traceback (most recent call last)",
      "\u001b[0;32m/opt/anaconda3/lib/python3.8/site-packages/ipykernel/pylab/backend_inline.py\u001b[0m in \u001b[0;36mflush_figures\u001b[0;34m()\u001b[0m\n\u001b[1;32m    119\u001b[0m         \u001b[0;31m# ignore the tracking, just draw and close all figures\u001b[0m\u001b[0;34m\u001b[0m\u001b[0;34m\u001b[0m\u001b[0;34m\u001b[0m\u001b[0m\n\u001b[1;32m    120\u001b[0m         \u001b[0;32mtry\u001b[0m\u001b[0;34m:\u001b[0m\u001b[0;34m\u001b[0m\u001b[0;34m\u001b[0m\u001b[0m\n\u001b[0;32m--> 121\u001b[0;31m             \u001b[0;32mreturn\u001b[0m \u001b[0mshow\u001b[0m\u001b[0;34m(\u001b[0m\u001b[0;32mTrue\u001b[0m\u001b[0;34m)\u001b[0m\u001b[0;34m\u001b[0m\u001b[0;34m\u001b[0m\u001b[0m\n\u001b[0m\u001b[1;32m    122\u001b[0m         \u001b[0;32mexcept\u001b[0m \u001b[0mException\u001b[0m \u001b[0;32mas\u001b[0m \u001b[0me\u001b[0m\u001b[0;34m:\u001b[0m\u001b[0;34m\u001b[0m\u001b[0;34m\u001b[0m\u001b[0m\n\u001b[1;32m    123\u001b[0m             \u001b[0;31m# safely show traceback if in IPython, else raise\u001b[0m\u001b[0;34m\u001b[0m\u001b[0;34m\u001b[0m\u001b[0;34m\u001b[0m\u001b[0m\n",
      "\u001b[0;32m/opt/anaconda3/lib/python3.8/site-packages/ipykernel/pylab/backend_inline.py\u001b[0m in \u001b[0;36mshow\u001b[0;34m(close, block)\u001b[0m\n\u001b[1;32m     41\u001b[0m             display(\n\u001b[1;32m     42\u001b[0m                 \u001b[0mfigure_manager\u001b[0m\u001b[0;34m.\u001b[0m\u001b[0mcanvas\u001b[0m\u001b[0;34m.\u001b[0m\u001b[0mfigure\u001b[0m\u001b[0;34m,\u001b[0m\u001b[0;34m\u001b[0m\u001b[0;34m\u001b[0m\u001b[0m\n\u001b[0;32m---> 43\u001b[0;31m                 \u001b[0mmetadata\u001b[0m\u001b[0;34m=\u001b[0m\u001b[0m_fetch_figure_metadata\u001b[0m\u001b[0;34m(\u001b[0m\u001b[0mfigure_manager\u001b[0m\u001b[0;34m.\u001b[0m\u001b[0mcanvas\u001b[0m\u001b[0;34m.\u001b[0m\u001b[0mfigure\u001b[0m\u001b[0;34m)\u001b[0m\u001b[0;34m\u001b[0m\u001b[0;34m\u001b[0m\u001b[0m\n\u001b[0m\u001b[1;32m     44\u001b[0m             )\n\u001b[1;32m     45\u001b[0m     \u001b[0;32mfinally\u001b[0m\u001b[0;34m:\u001b[0m\u001b[0;34m\u001b[0m\u001b[0;34m\u001b[0m\u001b[0m\n",
      "\u001b[0;32m/opt/anaconda3/lib/python3.8/site-packages/ipykernel/pylab/backend_inline.py\u001b[0m in \u001b[0;36m_fetch_figure_metadata\u001b[0;34m(fig)\u001b[0m\n\u001b[1;32m    178\u001b[0m     \u001b[0;32mif\u001b[0m \u001b[0m_is_transparent\u001b[0m\u001b[0;34m(\u001b[0m\u001b[0mfig\u001b[0m\u001b[0;34m.\u001b[0m\u001b[0mget_facecolor\u001b[0m\u001b[0;34m(\u001b[0m\u001b[0;34m)\u001b[0m\u001b[0;34m)\u001b[0m\u001b[0;34m:\u001b[0m\u001b[0;34m\u001b[0m\u001b[0;34m\u001b[0m\u001b[0m\n\u001b[1;32m    179\u001b[0m         \u001b[0;31m# the background is transparent\u001b[0m\u001b[0;34m\u001b[0m\u001b[0;34m\u001b[0m\u001b[0;34m\u001b[0m\u001b[0m\n\u001b[0;32m--> 180\u001b[0;31m         ticksLight = _is_light([label.get_color()\n\u001b[0m\u001b[1;32m    181\u001b[0m                                 \u001b[0;32mfor\u001b[0m \u001b[0maxes\u001b[0m \u001b[0;32min\u001b[0m \u001b[0mfig\u001b[0m\u001b[0;34m.\u001b[0m\u001b[0maxes\u001b[0m\u001b[0;34m\u001b[0m\u001b[0;34m\u001b[0m\u001b[0m\n\u001b[1;32m    182\u001b[0m                                 \u001b[0;32mfor\u001b[0m \u001b[0maxis\u001b[0m \u001b[0;32min\u001b[0m \u001b[0;34m(\u001b[0m\u001b[0maxes\u001b[0m\u001b[0;34m.\u001b[0m\u001b[0mxaxis\u001b[0m\u001b[0;34m,\u001b[0m \u001b[0maxes\u001b[0m\u001b[0;34m.\u001b[0m\u001b[0myaxis\u001b[0m\u001b[0;34m)\u001b[0m\u001b[0;34m\u001b[0m\u001b[0;34m\u001b[0m\u001b[0m\n",
      "\u001b[0;32m/opt/anaconda3/lib/python3.8/site-packages/ipykernel/pylab/backend_inline.py\u001b[0m in \u001b[0;36m<listcomp>\u001b[0;34m(.0)\u001b[0m\n\u001b[1;32m    181\u001b[0m                                 \u001b[0;32mfor\u001b[0m \u001b[0maxes\u001b[0m \u001b[0;32min\u001b[0m \u001b[0mfig\u001b[0m\u001b[0;34m.\u001b[0m\u001b[0maxes\u001b[0m\u001b[0;34m\u001b[0m\u001b[0;34m\u001b[0m\u001b[0m\n\u001b[1;32m    182\u001b[0m                                 \u001b[0;32mfor\u001b[0m \u001b[0maxis\u001b[0m \u001b[0;32min\u001b[0m \u001b[0;34m(\u001b[0m\u001b[0maxes\u001b[0m\u001b[0;34m.\u001b[0m\u001b[0mxaxis\u001b[0m\u001b[0;34m,\u001b[0m \u001b[0maxes\u001b[0m\u001b[0;34m.\u001b[0m\u001b[0myaxis\u001b[0m\u001b[0;34m)\u001b[0m\u001b[0;34m\u001b[0m\u001b[0;34m\u001b[0m\u001b[0m\n\u001b[0;32m--> 183\u001b[0;31m                                 for label in axis.get_ticklabels()])\n\u001b[0m\u001b[1;32m    184\u001b[0m         \u001b[0;32mif\u001b[0m \u001b[0mticksLight\u001b[0m\u001b[0;34m.\u001b[0m\u001b[0msize\u001b[0m \u001b[0;32mand\u001b[0m \u001b[0;34m(\u001b[0m\u001b[0mticksLight\u001b[0m \u001b[0;34m==\u001b[0m \u001b[0mticksLight\u001b[0m\u001b[0;34m[\u001b[0m\u001b[0;36m0\u001b[0m\u001b[0;34m]\u001b[0m\u001b[0;34m)\u001b[0m\u001b[0;34m.\u001b[0m\u001b[0mall\u001b[0m\u001b[0;34m(\u001b[0m\u001b[0;34m)\u001b[0m\u001b[0;34m:\u001b[0m\u001b[0;34m\u001b[0m\u001b[0;34m\u001b[0m\u001b[0m\n\u001b[1;32m    185\u001b[0m             \u001b[0;31m# there are one or more tick labels, all with the same lightness\u001b[0m\u001b[0;34m\u001b[0m\u001b[0;34m\u001b[0m\u001b[0;34m\u001b[0m\u001b[0m\n",
      "\u001b[0;32m/opt/anaconda3/lib/python3.8/site-packages/matplotlib/axis.py\u001b[0m in \u001b[0;36mget_ticklabels\u001b[0;34m(self, minor, which)\u001b[0m\n\u001b[1;32m   1253\u001b[0m         \u001b[0;32mif\u001b[0m \u001b[0mminor\u001b[0m\u001b[0;34m:\u001b[0m\u001b[0;34m\u001b[0m\u001b[0;34m\u001b[0m\u001b[0m\n\u001b[1;32m   1254\u001b[0m             \u001b[0;32mreturn\u001b[0m \u001b[0mself\u001b[0m\u001b[0;34m.\u001b[0m\u001b[0mget_minorticklabels\u001b[0m\u001b[0;34m(\u001b[0m\u001b[0;34m)\u001b[0m\u001b[0;34m\u001b[0m\u001b[0;34m\u001b[0m\u001b[0m\n\u001b[0;32m-> 1255\u001b[0;31m         \u001b[0;32mreturn\u001b[0m \u001b[0mself\u001b[0m\u001b[0;34m.\u001b[0m\u001b[0mget_majorticklabels\u001b[0m\u001b[0;34m(\u001b[0m\u001b[0;34m)\u001b[0m\u001b[0;34m\u001b[0m\u001b[0;34m\u001b[0m\u001b[0m\n\u001b[0m\u001b[1;32m   1256\u001b[0m \u001b[0;34m\u001b[0m\u001b[0m\n\u001b[1;32m   1257\u001b[0m     \u001b[0;32mdef\u001b[0m \u001b[0mget_majorticklines\u001b[0m\u001b[0;34m(\u001b[0m\u001b[0mself\u001b[0m\u001b[0;34m)\u001b[0m\u001b[0;34m:\u001b[0m\u001b[0;34m\u001b[0m\u001b[0;34m\u001b[0m\u001b[0m\n",
      "\u001b[0;32m/opt/anaconda3/lib/python3.8/site-packages/matplotlib/axis.py\u001b[0m in \u001b[0;36mget_majorticklabels\u001b[0;34m(self)\u001b[0m\n\u001b[1;32m   1205\u001b[0m     \u001b[0;32mdef\u001b[0m \u001b[0mget_majorticklabels\u001b[0m\u001b[0;34m(\u001b[0m\u001b[0mself\u001b[0m\u001b[0;34m)\u001b[0m\u001b[0;34m:\u001b[0m\u001b[0;34m\u001b[0m\u001b[0;34m\u001b[0m\u001b[0m\n\u001b[1;32m   1206\u001b[0m         \u001b[0;34m\"\"\"Return this Axis' major tick labels, as a list of `~.text.Text`.\"\"\"\u001b[0m\u001b[0;34m\u001b[0m\u001b[0;34m\u001b[0m\u001b[0m\n\u001b[0;32m-> 1207\u001b[0;31m         \u001b[0mticks\u001b[0m \u001b[0;34m=\u001b[0m \u001b[0mself\u001b[0m\u001b[0;34m.\u001b[0m\u001b[0mget_major_ticks\u001b[0m\u001b[0;34m(\u001b[0m\u001b[0;34m)\u001b[0m\u001b[0;34m\u001b[0m\u001b[0;34m\u001b[0m\u001b[0m\n\u001b[0m\u001b[1;32m   1208\u001b[0m         \u001b[0mlabels1\u001b[0m \u001b[0;34m=\u001b[0m \u001b[0;34m[\u001b[0m\u001b[0mtick\u001b[0m\u001b[0;34m.\u001b[0m\u001b[0mlabel1\u001b[0m \u001b[0;32mfor\u001b[0m \u001b[0mtick\u001b[0m \u001b[0;32min\u001b[0m \u001b[0mticks\u001b[0m \u001b[0;32mif\u001b[0m \u001b[0mtick\u001b[0m\u001b[0;34m.\u001b[0m\u001b[0mlabel1\u001b[0m\u001b[0;34m.\u001b[0m\u001b[0mget_visible\u001b[0m\u001b[0;34m(\u001b[0m\u001b[0;34m)\u001b[0m\u001b[0;34m]\u001b[0m\u001b[0;34m\u001b[0m\u001b[0;34m\u001b[0m\u001b[0m\n\u001b[1;32m   1209\u001b[0m         \u001b[0mlabels2\u001b[0m \u001b[0;34m=\u001b[0m \u001b[0;34m[\u001b[0m\u001b[0mtick\u001b[0m\u001b[0;34m.\u001b[0m\u001b[0mlabel2\u001b[0m \u001b[0;32mfor\u001b[0m \u001b[0mtick\u001b[0m \u001b[0;32min\u001b[0m \u001b[0mticks\u001b[0m \u001b[0;32mif\u001b[0m \u001b[0mtick\u001b[0m\u001b[0;34m.\u001b[0m\u001b[0mlabel2\u001b[0m\u001b[0;34m.\u001b[0m\u001b[0mget_visible\u001b[0m\u001b[0;34m(\u001b[0m\u001b[0;34m)\u001b[0m\u001b[0;34m]\u001b[0m\u001b[0;34m\u001b[0m\u001b[0;34m\u001b[0m\u001b[0m\n",
      "\u001b[0;32m/opt/anaconda3/lib/python3.8/site-packages/matplotlib/axis.py\u001b[0m in \u001b[0;36mget_major_ticks\u001b[0;34m(self, numticks)\u001b[0m\n\u001b[1;32m   1380\u001b[0m         \u001b[0;32mwhile\u001b[0m \u001b[0mlen\u001b[0m\u001b[0;34m(\u001b[0m\u001b[0mself\u001b[0m\u001b[0;34m.\u001b[0m\u001b[0mmajorTicks\u001b[0m\u001b[0;34m)\u001b[0m \u001b[0;34m<\u001b[0m \u001b[0mnumticks\u001b[0m\u001b[0;34m:\u001b[0m\u001b[0;34m\u001b[0m\u001b[0;34m\u001b[0m\u001b[0m\n\u001b[1;32m   1381\u001b[0m             \u001b[0;31m# Update the new tick label properties from the old.\u001b[0m\u001b[0;34m\u001b[0m\u001b[0;34m\u001b[0m\u001b[0;34m\u001b[0m\u001b[0m\n\u001b[0;32m-> 1382\u001b[0;31m             \u001b[0mtick\u001b[0m \u001b[0;34m=\u001b[0m \u001b[0mself\u001b[0m\u001b[0;34m.\u001b[0m\u001b[0m_get_tick\u001b[0m\u001b[0;34m(\u001b[0m\u001b[0mmajor\u001b[0m\u001b[0;34m=\u001b[0m\u001b[0;32mTrue\u001b[0m\u001b[0;34m)\u001b[0m\u001b[0;34m\u001b[0m\u001b[0;34m\u001b[0m\u001b[0m\n\u001b[0m\u001b[1;32m   1383\u001b[0m             \u001b[0mself\u001b[0m\u001b[0;34m.\u001b[0m\u001b[0mmajorTicks\u001b[0m\u001b[0;34m.\u001b[0m\u001b[0mappend\u001b[0m\u001b[0;34m(\u001b[0m\u001b[0mtick\u001b[0m\u001b[0;34m)\u001b[0m\u001b[0;34m\u001b[0m\u001b[0;34m\u001b[0m\u001b[0m\n\u001b[1;32m   1384\u001b[0m             \u001b[0mself\u001b[0m\u001b[0;34m.\u001b[0m\u001b[0m_copy_tick_props\u001b[0m\u001b[0;34m(\u001b[0m\u001b[0mself\u001b[0m\u001b[0;34m.\u001b[0m\u001b[0mmajorTicks\u001b[0m\u001b[0;34m[\u001b[0m\u001b[0;36m0\u001b[0m\u001b[0;34m]\u001b[0m\u001b[0;34m,\u001b[0m \u001b[0mtick\u001b[0m\u001b[0;34m)\u001b[0m\u001b[0;34m\u001b[0m\u001b[0;34m\u001b[0m\u001b[0m\n",
      "\u001b[0;32m/opt/anaconda3/lib/python3.8/site-packages/matplotlib/axis.py\u001b[0m in \u001b[0;36m_get_tick\u001b[0;34m(self, major)\u001b[0m\n\u001b[1;32m   2014\u001b[0m         \u001b[0;32melse\u001b[0m\u001b[0;34m:\u001b[0m\u001b[0;34m\u001b[0m\u001b[0;34m\u001b[0m\u001b[0m\n\u001b[1;32m   2015\u001b[0m             \u001b[0mtick_kw\u001b[0m \u001b[0;34m=\u001b[0m \u001b[0mself\u001b[0m\u001b[0;34m.\u001b[0m\u001b[0m_minor_tick_kw\u001b[0m\u001b[0;34m\u001b[0m\u001b[0;34m\u001b[0m\u001b[0m\n\u001b[0;32m-> 2016\u001b[0;31m         \u001b[0;32mreturn\u001b[0m \u001b[0mXTick\u001b[0m\u001b[0;34m(\u001b[0m\u001b[0mself\u001b[0m\u001b[0;34m.\u001b[0m\u001b[0maxes\u001b[0m\u001b[0;34m,\u001b[0m \u001b[0;36m0\u001b[0m\u001b[0;34m,\u001b[0m \u001b[0mmajor\u001b[0m\u001b[0;34m=\u001b[0m\u001b[0mmajor\u001b[0m\u001b[0;34m,\u001b[0m \u001b[0;34m**\u001b[0m\u001b[0mtick_kw\u001b[0m\u001b[0;34m)\u001b[0m\u001b[0;34m\u001b[0m\u001b[0;34m\u001b[0m\u001b[0m\n\u001b[0m\u001b[1;32m   2017\u001b[0m \u001b[0;34m\u001b[0m\u001b[0m\n\u001b[1;32m   2018\u001b[0m     \u001b[0;32mdef\u001b[0m \u001b[0mset_label_position\u001b[0m\u001b[0;34m(\u001b[0m\u001b[0mself\u001b[0m\u001b[0;34m,\u001b[0m \u001b[0mposition\u001b[0m\u001b[0;34m)\u001b[0m\u001b[0;34m:\u001b[0m\u001b[0;34m\u001b[0m\u001b[0;34m\u001b[0m\u001b[0m\n",
      "\u001b[0;32m/opt/anaconda3/lib/python3.8/site-packages/matplotlib/axis.py\u001b[0m in \u001b[0;36m__init__\u001b[0;34m(self, *args, **kwargs)\u001b[0m\n\u001b[1;32m    415\u001b[0m \u001b[0;34m\u001b[0m\u001b[0m\n\u001b[1;32m    416\u001b[0m     \u001b[0;32mdef\u001b[0m \u001b[0m__init__\u001b[0m\u001b[0;34m(\u001b[0m\u001b[0mself\u001b[0m\u001b[0;34m,\u001b[0m \u001b[0;34m*\u001b[0m\u001b[0margs\u001b[0m\u001b[0;34m,\u001b[0m \u001b[0;34m**\u001b[0m\u001b[0mkwargs\u001b[0m\u001b[0;34m)\u001b[0m\u001b[0;34m:\u001b[0m\u001b[0;34m\u001b[0m\u001b[0;34m\u001b[0m\u001b[0m\n\u001b[0;32m--> 417\u001b[0;31m         \u001b[0msuper\u001b[0m\u001b[0;34m(\u001b[0m\u001b[0;34m)\u001b[0m\u001b[0;34m.\u001b[0m\u001b[0m__init__\u001b[0m\u001b[0;34m(\u001b[0m\u001b[0;34m*\u001b[0m\u001b[0margs\u001b[0m\u001b[0;34m,\u001b[0m \u001b[0;34m**\u001b[0m\u001b[0mkwargs\u001b[0m\u001b[0;34m)\u001b[0m\u001b[0;34m\u001b[0m\u001b[0;34m\u001b[0m\u001b[0m\n\u001b[0m\u001b[1;32m    418\u001b[0m         \u001b[0;31m# x in data coords, y in axes coords\u001b[0m\u001b[0;34m\u001b[0m\u001b[0;34m\u001b[0m\u001b[0;34m\u001b[0m\u001b[0m\n\u001b[1;32m    419\u001b[0m         self.tick1line.set(\n",
      "\u001b[0;32m/opt/anaconda3/lib/python3.8/site-packages/matplotlib/cbook/deprecation.py\u001b[0m in \u001b[0;36mwrapper\u001b[0;34m(*inner_args, **inner_kwargs)\u001b[0m\n\u001b[1;32m    409\u001b[0m                          \u001b[0;32melse\u001b[0m \u001b[0mdeprecation_addendum\u001b[0m\u001b[0;34m,\u001b[0m\u001b[0;34m\u001b[0m\u001b[0;34m\u001b[0m\u001b[0m\n\u001b[1;32m    410\u001b[0m                 **kwargs)\n\u001b[0;32m--> 411\u001b[0;31m         \u001b[0;32mreturn\u001b[0m \u001b[0mfunc\u001b[0m\u001b[0;34m(\u001b[0m\u001b[0;34m*\u001b[0m\u001b[0minner_args\u001b[0m\u001b[0;34m,\u001b[0m \u001b[0;34m**\u001b[0m\u001b[0minner_kwargs\u001b[0m\u001b[0;34m)\u001b[0m\u001b[0;34m\u001b[0m\u001b[0;34m\u001b[0m\u001b[0m\n\u001b[0m\u001b[1;32m    412\u001b[0m \u001b[0;34m\u001b[0m\u001b[0m\n\u001b[1;32m    413\u001b[0m     \u001b[0;32mreturn\u001b[0m \u001b[0mwrapper\u001b[0m\u001b[0;34m\u001b[0m\u001b[0;34m\u001b[0m\u001b[0m\n",
      "\u001b[0;32m/opt/anaconda3/lib/python3.8/site-packages/matplotlib/axis.py\u001b[0m in \u001b[0;36m__init__\u001b[0;34m(self, axes, loc, label, size, width, color, tickdir, pad, labelsize, labelcolor, zorder, gridOn, tick1On, tick2On, label1On, label2On, major, labelrotation, grid_color, grid_linestyle, grid_linewidth, grid_alpha, **kw)\u001b[0m\n\u001b[1;32m    147\u001b[0m         \u001b[0mself\u001b[0m\u001b[0;34m.\u001b[0m\u001b[0mapply_tickdir\u001b[0m\u001b[0;34m(\u001b[0m\u001b[0mtickdir\u001b[0m\u001b[0;34m)\u001b[0m\u001b[0;34m\u001b[0m\u001b[0;34m\u001b[0m\u001b[0m\n\u001b[1;32m    148\u001b[0m \u001b[0;34m\u001b[0m\u001b[0m\n\u001b[0;32m--> 149\u001b[0;31m         self.tick1line = mlines.Line2D(\n\u001b[0m\u001b[1;32m    150\u001b[0m             \u001b[0;34m[\u001b[0m\u001b[0;34m]\u001b[0m\u001b[0;34m,\u001b[0m \u001b[0;34m[\u001b[0m\u001b[0;34m]\u001b[0m\u001b[0;34m,\u001b[0m\u001b[0;34m\u001b[0m\u001b[0;34m\u001b[0m\u001b[0m\n\u001b[1;32m    151\u001b[0m             \u001b[0mcolor\u001b[0m\u001b[0;34m=\u001b[0m\u001b[0mcolor\u001b[0m\u001b[0;34m,\u001b[0m \u001b[0mlinestyle\u001b[0m\u001b[0;34m=\u001b[0m\u001b[0;34m\"none\"\u001b[0m\u001b[0;34m,\u001b[0m \u001b[0mzorder\u001b[0m\u001b[0;34m=\u001b[0m\u001b[0mzorder\u001b[0m\u001b[0;34m,\u001b[0m \u001b[0mvisible\u001b[0m\u001b[0;34m=\u001b[0m\u001b[0mtick1On\u001b[0m\u001b[0;34m,\u001b[0m\u001b[0;34m\u001b[0m\u001b[0;34m\u001b[0m\u001b[0m\n",
      "\u001b[0;32m/opt/anaconda3/lib/python3.8/site-packages/matplotlib/lines.py\u001b[0m in \u001b[0;36m__init__\u001b[0;34m(self, xdata, ydata, linewidth, linestyle, color, marker, markersize, markeredgewidth, markeredgecolor, markerfacecolor, markerfacecoloralt, fillstyle, antialiased, dash_capstyle, solid_capstyle, dash_joinstyle, solid_joinstyle, pickradius, drawstyle, markevery, **kwargs)\u001b[0m\n\u001b[1;32m    306\u001b[0m         \u001b[0;32mif\u001b[0m \u001b[0;32mnot\u001b[0m \u001b[0mnp\u001b[0m\u001b[0;34m.\u001b[0m\u001b[0miterable\u001b[0m\u001b[0;34m(\u001b[0m\u001b[0mxdata\u001b[0m\u001b[0;34m)\u001b[0m\u001b[0;34m:\u001b[0m\u001b[0;34m\u001b[0m\u001b[0;34m\u001b[0m\u001b[0m\n\u001b[1;32m    307\u001b[0m             \u001b[0;32mraise\u001b[0m \u001b[0mRuntimeError\u001b[0m\u001b[0;34m(\u001b[0m\u001b[0;34m'xdata must be a sequence'\u001b[0m\u001b[0;34m)\u001b[0m\u001b[0;34m\u001b[0m\u001b[0;34m\u001b[0m\u001b[0m\n\u001b[0;32m--> 308\u001b[0;31m         \u001b[0;32mif\u001b[0m \u001b[0;32mnot\u001b[0m \u001b[0mnp\u001b[0m\u001b[0;34m.\u001b[0m\u001b[0miterable\u001b[0m\u001b[0;34m(\u001b[0m\u001b[0mydata\u001b[0m\u001b[0;34m)\u001b[0m\u001b[0;34m:\u001b[0m\u001b[0;34m\u001b[0m\u001b[0;34m\u001b[0m\u001b[0m\n\u001b[0m\u001b[1;32m    309\u001b[0m             \u001b[0;32mraise\u001b[0m \u001b[0mRuntimeError\u001b[0m\u001b[0;34m(\u001b[0m\u001b[0;34m'ydata must be a sequence'\u001b[0m\u001b[0;34m)\u001b[0m\u001b[0;34m\u001b[0m\u001b[0;34m\u001b[0m\u001b[0m\n\u001b[1;32m    310\u001b[0m \u001b[0;34m\u001b[0m\u001b[0m\n",
      "\u001b[0;31mKeyboardInterrupt\u001b[0m: "
     ]
    }
   ],
   "source": [
    "sns.jointplot(x=\"Longitude\", y=\"Latitude\", hue=\"ISO_Country\", data= df)"
   ]
  },
  {
   "cell_type": "code",
   "execution_count": 105,
   "id": "f4e7cb3f-4219-4af2-b72b-4de48ce3f9f9",
   "metadata": {},
   "outputs": [
    {
     "data": {
      "text/plain": [
       "type               0\n",
       "name               0\n",
       "elevation_ft       0\n",
       "continent          0\n",
       "municipality    5894\n",
       "ISO_Country        0\n",
       "ISO_state          0\n",
       "Longitude          0\n",
       "Latitude           0\n",
       "dtype: int64"
      ]
     },
     "execution_count": 105,
     "metadata": {},
     "output_type": "execute_result"
    }
   ],
   "source": [
    "df.isnull().sum()"
   ]
  },
  {
   "cell_type": "markdown",
   "id": "41aa57a6-2ec8-43f9-9467-6c7e5b701372",
   "metadata": {},
   "source": [
    "Not an outlier"
   ]
  },
  {
   "cell_type": "code",
   "execution_count": 106,
   "id": "c3eaae0f-c5b7-4ccd-bb0c-4e15ee810267",
   "metadata": {},
   "outputs": [
    {
     "data": {
      "text/html": [
       "<div>\n",
       "<style scoped>\n",
       "    .dataframe tbody tr th:only-of-type {\n",
       "        vertical-align: middle;\n",
       "    }\n",
       "\n",
       "    .dataframe tbody tr th {\n",
       "        vertical-align: top;\n",
       "    }\n",
       "\n",
       "    .dataframe thead th {\n",
       "        text-align: right;\n",
       "    }\n",
       "</style>\n",
       "<table border=\"1\" class=\"dataframe\">\n",
       "  <thead>\n",
       "    <tr style=\"text-align: right;\">\n",
       "      <th></th>\n",
       "      <th>type</th>\n",
       "      <th>name</th>\n",
       "      <th>elevation_ft</th>\n",
       "      <th>continent</th>\n",
       "      <th>municipality</th>\n",
       "      <th>ISO_Country</th>\n",
       "      <th>ISO_state</th>\n",
       "      <th>Longitude</th>\n",
       "      <th>Latitude</th>\n",
       "    </tr>\n",
       "  </thead>\n",
       "  <tbody>\n",
       "    <tr>\n",
       "      <th>1550</th>\n",
       "      <td>heliport</td>\n",
       "      <td>Watertown / Brownlee Heliport</td>\n",
       "      <td>1720.0</td>\n",
       "      <td>NA</td>\n",
       "      <td>NaN</td>\n",
       "      <td>US</td>\n",
       "      <td>SD</td>\n",
       "      <td>-97.1080899239</td>\n",
       "      <td>44.883264878199995</td>\n",
       "    </tr>\n",
       "    <tr>\n",
       "      <th>2459</th>\n",
       "      <td>heliport</td>\n",
       "      <td>Nordman / Phillabaum Heliport</td>\n",
       "      <td>2440.0</td>\n",
       "      <td>NA</td>\n",
       "      <td>NaN</td>\n",
       "      <td>US</td>\n",
       "      <td>ID</td>\n",
       "      <td>-116.871174574</td>\n",
       "      <td>48.631483378700004</td>\n",
       "    </tr>\n",
       "    <tr>\n",
       "      <th>4417</th>\n",
       "      <td>seaplane_base</td>\n",
       "      <td>Peru / Destiny Cove SPB</td>\n",
       "      <td>580.0</td>\n",
       "      <td>NA</td>\n",
       "      <td>NaN</td>\n",
       "      <td>US</td>\n",
       "      <td>ME</td>\n",
       "      <td>-70.396957</td>\n",
       "      <td>44.460597</td>\n",
       "    </tr>\n",
       "    <tr>\n",
       "      <th>7690</th>\n",
       "      <td>small_airport</td>\n",
       "      <td>Zadow Airstrip</td>\n",
       "      <td>1089.0</td>\n",
       "      <td>NA</td>\n",
       "      <td>NaN</td>\n",
       "      <td>US</td>\n",
       "      <td>TX</td>\n",
       "      <td>-95.954353809</td>\n",
       "      <td>29.991738550900003</td>\n",
       "    </tr>\n",
       "    <tr>\n",
       "      <th>7926</th>\n",
       "      <td>small_airport</td>\n",
       "      <td>Gun Barrel City Airpark</td>\n",
       "      <td>385.0</td>\n",
       "      <td>NA</td>\n",
       "      <td>NaN</td>\n",
       "      <td>US</td>\n",
       "      <td>TX</td>\n",
       "      <td>-96.1456650496</td>\n",
       "      <td>32.3551499558</td>\n",
       "    </tr>\n",
       "    <tr>\n",
       "      <th>...</th>\n",
       "      <td>...</td>\n",
       "      <td>...</td>\n",
       "      <td>...</td>\n",
       "      <td>...</td>\n",
       "      <td>...</td>\n",
       "      <td>...</td>\n",
       "      <td>...</td>\n",
       "      <td>...</td>\n",
       "      <td>...</td>\n",
       "    </tr>\n",
       "    <tr>\n",
       "      <th>57358</th>\n",
       "      <td>small_airport</td>\n",
       "      <td>Sengwa Research Area Airstrip</td>\n",
       "      <td>1089.0</td>\n",
       "      <td>AF</td>\n",
       "      <td>NaN</td>\n",
       "      <td>ZW</td>\n",
       "      <td>MN</td>\n",
       "      <td>28.215618</td>\n",
       "      <td>-18.165196</td>\n",
       "    </tr>\n",
       "    <tr>\n",
       "      <th>57359</th>\n",
       "      <td>small_airport</td>\n",
       "      <td>Gokwe North Airport</td>\n",
       "      <td>1089.0</td>\n",
       "      <td>AF</td>\n",
       "      <td>NaN</td>\n",
       "      <td>ZW</td>\n",
       "      <td>MI</td>\n",
       "      <td>28.330871</td>\n",
       "      <td>-17.537114</td>\n",
       "    </tr>\n",
       "    <tr>\n",
       "      <th>57362</th>\n",
       "      <td>small_airport</td>\n",
       "      <td>Chipinge Farm Airstrip</td>\n",
       "      <td>1089.0</td>\n",
       "      <td>AF</td>\n",
       "      <td>NaN</td>\n",
       "      <td>ZW</td>\n",
       "      <td>MV</td>\n",
       "      <td>32.203607</td>\n",
       "      <td>-20.460575</td>\n",
       "    </tr>\n",
       "    <tr>\n",
       "      <th>57363</th>\n",
       "      <td>small_airport</td>\n",
       "      <td>Turwi River Airstrip</td>\n",
       "      <td>1089.0</td>\n",
       "      <td>AF</td>\n",
       "      <td>NaN</td>\n",
       "      <td>ZW</td>\n",
       "      <td>MV</td>\n",
       "      <td>32.10904</td>\n",
       "      <td>-20.395009</td>\n",
       "    </tr>\n",
       "    <tr>\n",
       "      <th>57366</th>\n",
       "      <td>small_airport</td>\n",
       "      <td>Sipepa Airstrip</td>\n",
       "      <td>3270.0</td>\n",
       "      <td>AF</td>\n",
       "      <td>NaN</td>\n",
       "      <td>ZW</td>\n",
       "      <td>U-A</td>\n",
       "      <td>27.648321</td>\n",
       "      <td>-19.280942</td>\n",
       "    </tr>\n",
       "  </tbody>\n",
       "</table>\n",
       "<p>5894 rows × 9 columns</p>\n",
       "</div>"
      ],
      "text/plain": [
       "                type                           name  elevation_ft continent  \\\n",
       "1550        heliport  Watertown / Brownlee Heliport        1720.0        NA   \n",
       "2459        heliport  Nordman / Phillabaum Heliport        2440.0        NA   \n",
       "4417   seaplane_base        Peru / Destiny Cove SPB         580.0        NA   \n",
       "7690   small_airport                 Zadow Airstrip        1089.0        NA   \n",
       "7926   small_airport        Gun Barrel City Airpark         385.0        NA   \n",
       "...              ...                            ...           ...       ...   \n",
       "57358  small_airport  Sengwa Research Area Airstrip        1089.0        AF   \n",
       "57359  small_airport            Gokwe North Airport        1089.0        AF   \n",
       "57362  small_airport         Chipinge Farm Airstrip        1089.0        AF   \n",
       "57363  small_airport           Turwi River Airstrip        1089.0        AF   \n",
       "57366  small_airport                Sipepa Airstrip        3270.0        AF   \n",
       "\n",
       "      municipality ISO_Country ISO_state       Longitude             Latitude  \n",
       "1550           NaN          US        SD  -97.1080899239   44.883264878199995  \n",
       "2459           NaN          US        ID  -116.871174574   48.631483378700004  \n",
       "4417           NaN          US        ME      -70.396957            44.460597  \n",
       "7690           NaN          US        TX   -95.954353809   29.991738550900003  \n",
       "7926           NaN          US        TX  -96.1456650496        32.3551499558  \n",
       "...            ...         ...       ...             ...                  ...  \n",
       "57358          NaN          ZW        MN       28.215618           -18.165196  \n",
       "57359          NaN          ZW        MI       28.330871           -17.537114  \n",
       "57362          NaN          ZW        MV       32.203607           -20.460575  \n",
       "57363          NaN          ZW        MV        32.10904           -20.395009  \n",
       "57366          NaN          ZW       U-A       27.648321           -19.280942  \n",
       "\n",
       "[5894 rows x 9 columns]"
      ]
     },
     "execution_count": 106,
     "metadata": {},
     "output_type": "execute_result"
    }
   ],
   "source": [
    "df[df['municipality'].isnull()]"
   ]
  },
  {
   "cell_type": "code",
   "execution_count": 107,
   "id": "907712fb-41c9-4b4e-9194-337856210d9c",
   "metadata": {},
   "outputs": [],
   "source": [
    "ar_1 = df['municipality'].value_counts().values"
   ]
  },
  {
   "cell_type": "code",
   "execution_count": 108,
   "id": "ff73cb29-41d3-443a-b536-e828356a7dac",
   "metadata": {},
   "outputs": [
    {
     "data": {
      "text/plain": [
       "20672"
      ]
     },
     "execution_count": 108,
     "metadata": {},
     "output_type": "execute_result"
    }
   ],
   "source": [
    "z=0\n",
    "for i in ar_1:\n",
    "    if i == 1:\n",
    "        z+= 1\n",
    "z       "
   ]
  },
  {
   "cell_type": "code",
   "execution_count": 109,
   "id": "159b96cf-5e9d-4f48-b496-a974b5ea8e66",
   "metadata": {},
   "outputs": [
    {
     "data": {
      "text/html": [
       "<div>\n",
       "<style scoped>\n",
       "    .dataframe tbody tr th:only-of-type {\n",
       "        vertical-align: middle;\n",
       "    }\n",
       "\n",
       "    .dataframe tbody tr th {\n",
       "        vertical-align: top;\n",
       "    }\n",
       "\n",
       "    .dataframe thead th {\n",
       "        text-align: right;\n",
       "    }\n",
       "</style>\n",
       "<table border=\"1\" class=\"dataframe\">\n",
       "  <thead>\n",
       "    <tr style=\"text-align: right;\">\n",
       "      <th></th>\n",
       "      <th>type</th>\n",
       "      <th>elevation_ft</th>\n",
       "      <th>continent</th>\n",
       "      <th>ISO_Country</th>\n",
       "      <th>ISO_state</th>\n",
       "      <th>Longitude</th>\n",
       "      <th>Latitude</th>\n",
       "    </tr>\n",
       "  </thead>\n",
       "  <tbody>\n",
       "    <tr>\n",
       "      <th>0</th>\n",
       "      <td>heliport</td>\n",
       "      <td>11.0</td>\n",
       "      <td>NA</td>\n",
       "      <td>US</td>\n",
       "      <td>PA</td>\n",
       "      <td>-74.93360137939453</td>\n",
       "      <td>40.07080078125</td>\n",
       "    </tr>\n",
       "    <tr>\n",
       "      <th>1</th>\n",
       "      <td>small_airport</td>\n",
       "      <td>3435.0</td>\n",
       "      <td>NA</td>\n",
       "      <td>US</td>\n",
       "      <td>KS</td>\n",
       "      <td>-101.473911</td>\n",
       "      <td>38.704022</td>\n",
       "    </tr>\n",
       "    <tr>\n",
       "      <th>2</th>\n",
       "      <td>small_airport</td>\n",
       "      <td>450.0</td>\n",
       "      <td>NA</td>\n",
       "      <td>US</td>\n",
       "      <td>AK</td>\n",
       "      <td>-151.695999146</td>\n",
       "      <td>59.94919968</td>\n",
       "    </tr>\n",
       "    <tr>\n",
       "      <th>3</th>\n",
       "      <td>small_airport</td>\n",
       "      <td>820.0</td>\n",
       "      <td>NA</td>\n",
       "      <td>US</td>\n",
       "      <td>AL</td>\n",
       "      <td>-86.77030181884766</td>\n",
       "      <td>34.86479949951172</td>\n",
       "    </tr>\n",
       "    <tr>\n",
       "      <th>4</th>\n",
       "      <td>closed</td>\n",
       "      <td>237.0</td>\n",
       "      <td>NA</td>\n",
       "      <td>US</td>\n",
       "      <td>AR</td>\n",
       "      <td>-91.254898</td>\n",
       "      <td>35.6087</td>\n",
       "    </tr>\n",
       "    <tr>\n",
       "      <th>...</th>\n",
       "      <td>...</td>\n",
       "      <td>...</td>\n",
       "      <td>...</td>\n",
       "      <td>...</td>\n",
       "      <td>...</td>\n",
       "      <td>...</td>\n",
       "      <td>...</td>\n",
       "    </tr>\n",
       "    <tr>\n",
       "      <th>57416</th>\n",
       "      <td>medium_airport</td>\n",
       "      <td>0.0</td>\n",
       "      <td>AS</td>\n",
       "      <td>CN</td>\n",
       "      <td>21</td>\n",
       "      <td>122.3586</td>\n",
       "      <td>40.542524</td>\n",
       "    </tr>\n",
       "    <tr>\n",
       "      <th>57417</th>\n",
       "      <td>medium_airport</td>\n",
       "      <td>1089.0</td>\n",
       "      <td>AS</td>\n",
       "      <td>CN</td>\n",
       "      <td>21</td>\n",
       "      <td>123.49600219726562</td>\n",
       "      <td>41.784400939941406</td>\n",
       "    </tr>\n",
       "    <tr>\n",
       "      <th>57418</th>\n",
       "      <td>heliport</td>\n",
       "      <td>40.0</td>\n",
       "      <td>EU</td>\n",
       "      <td>GB</td>\n",
       "      <td>ENG</td>\n",
       "      <td>1.4825</td>\n",
       "      <td>51.894444</td>\n",
       "    </tr>\n",
       "    <tr>\n",
       "      <th>57419</th>\n",
       "      <td>small_airport</td>\n",
       "      <td>11.0</td>\n",
       "      <td>AF</td>\n",
       "      <td>TF</td>\n",
       "      <td>U-A</td>\n",
       "      <td>47.296388888900005</td>\n",
       "      <td>-11.584277777799999</td>\n",
       "    </tr>\n",
       "    <tr>\n",
       "      <th>57420</th>\n",
       "      <td>small_airport</td>\n",
       "      <td>338.0</td>\n",
       "      <td>AS</td>\n",
       "      <td>JP</td>\n",
       "      <td>46</td>\n",
       "      <td>130.270556</td>\n",
       "      <td>30.784722</td>\n",
       "    </tr>\n",
       "  </tbody>\n",
       "</table>\n",
       "<p>57420 rows × 7 columns</p>\n",
       "</div>"
      ],
      "text/plain": [
       "                 type  elevation_ft continent ISO_Country ISO_state  \\\n",
       "0            heliport          11.0        NA          US        PA   \n",
       "1       small_airport        3435.0        NA          US        KS   \n",
       "2       small_airport         450.0        NA          US        AK   \n",
       "3       small_airport         820.0        NA          US        AL   \n",
       "4              closed         237.0        NA          US        AR   \n",
       "...               ...           ...       ...         ...       ...   \n",
       "57416  medium_airport           0.0        AS          CN        21   \n",
       "57417  medium_airport        1089.0        AS          CN        21   \n",
       "57418        heliport          40.0        EU          GB       ENG   \n",
       "57419   small_airport          11.0        AF          TF       U-A   \n",
       "57420   small_airport         338.0        AS          JP        46   \n",
       "\n",
       "                Longitude              Latitude  \n",
       "0      -74.93360137939453        40.07080078125  \n",
       "1             -101.473911             38.704022  \n",
       "2          -151.695999146           59.94919968  \n",
       "3      -86.77030181884766     34.86479949951172  \n",
       "4              -91.254898               35.6087  \n",
       "...                   ...                   ...  \n",
       "57416            122.3586             40.542524  \n",
       "57417  123.49600219726562    41.784400939941406  \n",
       "57418              1.4825             51.894444  \n",
       "57419  47.296388888900005   -11.584277777799999  \n",
       "57420          130.270556             30.784722  \n",
       "\n",
       "[57420 rows x 7 columns]"
      ]
     },
     "execution_count": 109,
     "metadata": {},
     "output_type": "execute_result"
    }
   ],
   "source": [
    "df.drop(['name','municipality'], axis=1)"
   ]
  },
  {
   "cell_type": "markdown",
   "id": "2b260449-9200-4d8a-a6c0-e4a461955803",
   "metadata": {},
   "source": [
    "There are too many unqiue values for municipality column."
   ]
  },
  {
   "cell_type": "code",
   "execution_count": 110,
   "id": "8b3219cf-21f1-4d3f-a391-89070b48ca58",
   "metadata": {},
   "outputs": [
    {
     "data": {
      "text/html": [
       "<div>\n",
       "<style scoped>\n",
       "    .dataframe tbody tr th:only-of-type {\n",
       "        vertical-align: middle;\n",
       "    }\n",
       "\n",
       "    .dataframe tbody tr th {\n",
       "        vertical-align: top;\n",
       "    }\n",
       "\n",
       "    .dataframe thead th {\n",
       "        text-align: right;\n",
       "    }\n",
       "</style>\n",
       "<table border=\"1\" class=\"dataframe\">\n",
       "  <thead>\n",
       "    <tr style=\"text-align: right;\">\n",
       "      <th></th>\n",
       "      <th>type</th>\n",
       "      <th>name</th>\n",
       "      <th>elevation_ft</th>\n",
       "      <th>continent</th>\n",
       "      <th>municipality</th>\n",
       "      <th>ISO_Country</th>\n",
       "      <th>ISO_state</th>\n",
       "      <th>Longitude</th>\n",
       "      <th>Latitude</th>\n",
       "    </tr>\n",
       "  </thead>\n",
       "  <tbody>\n",
       "    <tr>\n",
       "      <th>0</th>\n",
       "      <td>heliport</td>\n",
       "      <td>Total Rf Heliport</td>\n",
       "      <td>11.0</td>\n",
       "      <td>NA</td>\n",
       "      <td>Bensalem</td>\n",
       "      <td>US</td>\n",
       "      <td>PA</td>\n",
       "      <td>-74.93360137939453</td>\n",
       "      <td>40.07080078125</td>\n",
       "    </tr>\n",
       "    <tr>\n",
       "      <th>1</th>\n",
       "      <td>small_airport</td>\n",
       "      <td>Aero B Ranch Airport</td>\n",
       "      <td>3435.0</td>\n",
       "      <td>NA</td>\n",
       "      <td>Leoti</td>\n",
       "      <td>US</td>\n",
       "      <td>KS</td>\n",
       "      <td>-101.473911</td>\n",
       "      <td>38.704022</td>\n",
       "    </tr>\n",
       "    <tr>\n",
       "      <th>2</th>\n",
       "      <td>small_airport</td>\n",
       "      <td>Lowell Field</td>\n",
       "      <td>450.0</td>\n",
       "      <td>NA</td>\n",
       "      <td>Anchor Point</td>\n",
       "      <td>US</td>\n",
       "      <td>AK</td>\n",
       "      <td>-151.695999146</td>\n",
       "      <td>59.94919968</td>\n",
       "    </tr>\n",
       "    <tr>\n",
       "      <th>3</th>\n",
       "      <td>small_airport</td>\n",
       "      <td>Epps Airpark</td>\n",
       "      <td>820.0</td>\n",
       "      <td>NA</td>\n",
       "      <td>Harvest</td>\n",
       "      <td>US</td>\n",
       "      <td>AL</td>\n",
       "      <td>-86.77030181884766</td>\n",
       "      <td>34.86479949951172</td>\n",
       "    </tr>\n",
       "    <tr>\n",
       "      <th>4</th>\n",
       "      <td>closed</td>\n",
       "      <td>Newport Hospital &amp; Clinic Heliport</td>\n",
       "      <td>237.0</td>\n",
       "      <td>NA</td>\n",
       "      <td>Newport</td>\n",
       "      <td>US</td>\n",
       "      <td>AR</td>\n",
       "      <td>-91.254898</td>\n",
       "      <td>35.6087</td>\n",
       "    </tr>\n",
       "  </tbody>\n",
       "</table>\n",
       "</div>"
      ],
      "text/plain": [
       "            type                                name  elevation_ft continent  \\\n",
       "0       heliport                   Total Rf Heliport          11.0        NA   \n",
       "1  small_airport                Aero B Ranch Airport        3435.0        NA   \n",
       "2  small_airport                        Lowell Field         450.0        NA   \n",
       "3  small_airport                        Epps Airpark         820.0        NA   \n",
       "4         closed  Newport Hospital & Clinic Heliport         237.0        NA   \n",
       "\n",
       "   municipality ISO_Country ISO_state           Longitude            Latitude  \n",
       "0      Bensalem          US        PA  -74.93360137939453      40.07080078125  \n",
       "1         Leoti          US        KS         -101.473911           38.704022  \n",
       "2  Anchor Point          US        AK      -151.695999146         59.94919968  \n",
       "3       Harvest          US        AL  -86.77030181884766   34.86479949951172  \n",
       "4       Newport          US        AR          -91.254898             35.6087  "
      ]
     },
     "execution_count": 110,
     "metadata": {},
     "output_type": "execute_result"
    }
   ],
   "source": [
    "df.head()"
   ]
  },
  {
   "cell_type": "code",
   "execution_count": 111,
   "id": "b63b3a77-3fd2-4877-a82f-d29a8049a8d5",
   "metadata": {},
   "outputs": [
    {
     "data": {
      "text/html": [
       "<div>\n",
       "<style scoped>\n",
       "    .dataframe tbody tr th:only-of-type {\n",
       "        vertical-align: middle;\n",
       "    }\n",
       "\n",
       "    .dataframe tbody tr th {\n",
       "        vertical-align: top;\n",
       "    }\n",
       "\n",
       "    .dataframe thead th {\n",
       "        text-align: right;\n",
       "    }\n",
       "</style>\n",
       "<table border=\"1\" class=\"dataframe\">\n",
       "  <thead>\n",
       "    <tr style=\"text-align: right;\">\n",
       "      <th></th>\n",
       "      <th>count</th>\n",
       "      <th>mean</th>\n",
       "      <th>std</th>\n",
       "      <th>min</th>\n",
       "      <th>25%</th>\n",
       "      <th>50%</th>\n",
       "      <th>75%</th>\n",
       "      <th>max</th>\n",
       "    </tr>\n",
       "    <tr>\n",
       "      <th>type</th>\n",
       "      <th></th>\n",
       "      <th></th>\n",
       "      <th></th>\n",
       "      <th></th>\n",
       "      <th></th>\n",
       "      <th></th>\n",
       "      <th></th>\n",
       "      <th></th>\n",
       "    </tr>\n",
       "  </thead>\n",
       "  <tbody>\n",
       "    <tr>\n",
       "      <th>balloonport</th>\n",
       "      <td>24.0</td>\n",
       "      <td>1089.000000</td>\n",
       "      <td>1377.878205</td>\n",
       "      <td>37.0</td>\n",
       "      <td>322.50</td>\n",
       "      <td>940.0</td>\n",
       "      <td>1089.00</td>\n",
       "      <td>5624.0</td>\n",
       "    </tr>\n",
       "    <tr>\n",
       "      <th>closed</th>\n",
       "      <td>4378.0</td>\n",
       "      <td>1032.042257</td>\n",
       "      <td>1122.660771</td>\n",
       "      <td>-20.0</td>\n",
       "      <td>302.00</td>\n",
       "      <td>969.5</td>\n",
       "      <td>1089.00</td>\n",
       "      <td>9869.0</td>\n",
       "    </tr>\n",
       "    <tr>\n",
       "      <th>heliport</th>\n",
       "      <td>12028.0</td>\n",
       "      <td>1180.207017</td>\n",
       "      <td>1575.031127</td>\n",
       "      <td>-117.0</td>\n",
       "      <td>200.00</td>\n",
       "      <td>807.0</td>\n",
       "      <td>1089.00</td>\n",
       "      <td>22000.0</td>\n",
       "    </tr>\n",
       "    <tr>\n",
       "      <th>large_airport</th>\n",
       "      <td>616.0</td>\n",
       "      <td>800.896104</td>\n",
       "      <td>1370.086508</td>\n",
       "      <td>-11.0</td>\n",
       "      <td>59.00</td>\n",
       "      <td>276.0</td>\n",
       "      <td>869.25</td>\n",
       "      <td>10860.0</td>\n",
       "    </tr>\n",
       "    <tr>\n",
       "      <th>medium_airport</th>\n",
       "      <td>4536.0</td>\n",
       "      <td>1054.112213</td>\n",
       "      <td>1639.807787</td>\n",
       "      <td>-1266.0</td>\n",
       "      <td>85.00</td>\n",
       "      <td>426.0</td>\n",
       "      <td>1175.00</td>\n",
       "      <td>14472.0</td>\n",
       "    </tr>\n",
       "    <tr>\n",
       "      <th>seaplane_base</th>\n",
       "      <td>1030.0</td>\n",
       "      <td>731.175728</td>\n",
       "      <td>626.309253</td>\n",
       "      <td>-1.0</td>\n",
       "      <td>134.75</td>\n",
       "      <td>746.5</td>\n",
       "      <td>1089.00</td>\n",
       "      <td>6534.0</td>\n",
       "    </tr>\n",
       "    <tr>\n",
       "      <th>small_airport</th>\n",
       "      <td>34808.0</td>\n",
       "      <td>1318.311423</td>\n",
       "      <td>1503.557999</td>\n",
       "      <td>-210.0</td>\n",
       "      <td>367.00</td>\n",
       "      <td>976.5</td>\n",
       "      <td>1478.00</td>\n",
       "      <td>16200.0</td>\n",
       "    </tr>\n",
       "  </tbody>\n",
       "</table>\n",
       "</div>"
      ],
      "text/plain": [
       "                  count         mean          std     min     25%    50%  \\\n",
       "type                                                                       \n",
       "balloonport        24.0  1089.000000  1377.878205    37.0  322.50  940.0   \n",
       "closed           4378.0  1032.042257  1122.660771   -20.0  302.00  969.5   \n",
       "heliport        12028.0  1180.207017  1575.031127  -117.0  200.00  807.0   \n",
       "large_airport     616.0   800.896104  1370.086508   -11.0   59.00  276.0   \n",
       "medium_airport   4536.0  1054.112213  1639.807787 -1266.0   85.00  426.0   \n",
       "seaplane_base    1030.0   731.175728   626.309253    -1.0  134.75  746.5   \n",
       "small_airport   34808.0  1318.311423  1503.557999  -210.0  367.00  976.5   \n",
       "\n",
       "                    75%      max  \n",
       "type                              \n",
       "balloonport     1089.00   5624.0  \n",
       "closed          1089.00   9869.0  \n",
       "heliport        1089.00  22000.0  \n",
       "large_airport    869.25  10860.0  \n",
       "medium_airport  1175.00  14472.0  \n",
       "seaplane_base   1089.00   6534.0  \n",
       "small_airport   1478.00  16200.0  "
      ]
     },
     "execution_count": 111,
     "metadata": {},
     "output_type": "execute_result"
    }
   ],
   "source": [
    "df.groupby('type')['elevation_ft'].describe()"
   ]
  },
  {
   "cell_type": "code",
   "execution_count": 112,
   "id": "6e4829be-1f4e-4a23-ada2-2431272af21b",
   "metadata": {},
   "outputs": [
    {
     "data": {
      "text/html": [
       "<div>\n",
       "<style scoped>\n",
       "    .dataframe tbody tr th:only-of-type {\n",
       "        vertical-align: middle;\n",
       "    }\n",
       "\n",
       "    .dataframe tbody tr th {\n",
       "        vertical-align: top;\n",
       "    }\n",
       "\n",
       "    .dataframe thead th {\n",
       "        text-align: right;\n",
       "    }\n",
       "</style>\n",
       "<table border=\"1\" class=\"dataframe\">\n",
       "  <thead>\n",
       "    <tr style=\"text-align: right;\">\n",
       "      <th></th>\n",
       "      <th>type</th>\n",
       "      <th>name</th>\n",
       "      <th>elevation_ft</th>\n",
       "      <th>continent</th>\n",
       "      <th>municipality</th>\n",
       "      <th>ISO_Country</th>\n",
       "      <th>ISO_state</th>\n",
       "      <th>Longitude</th>\n",
       "      <th>Latitude</th>\n",
       "    </tr>\n",
       "  </thead>\n",
       "  <tbody>\n",
       "    <tr>\n",
       "      <th>0</th>\n",
       "      <td>heliport</td>\n",
       "      <td>Total Rf Heliport</td>\n",
       "      <td>11.0</td>\n",
       "      <td>NA</td>\n",
       "      <td>Bensalem</td>\n",
       "      <td>US</td>\n",
       "      <td>PA</td>\n",
       "      <td>-74.93360137939453</td>\n",
       "      <td>40.07080078125</td>\n",
       "    </tr>\n",
       "    <tr>\n",
       "      <th>1</th>\n",
       "      <td>small_airport</td>\n",
       "      <td>Aero B Ranch Airport</td>\n",
       "      <td>3435.0</td>\n",
       "      <td>NA</td>\n",
       "      <td>Leoti</td>\n",
       "      <td>US</td>\n",
       "      <td>KS</td>\n",
       "      <td>-101.473911</td>\n",
       "      <td>38.704022</td>\n",
       "    </tr>\n",
       "    <tr>\n",
       "      <th>2</th>\n",
       "      <td>small_airport</td>\n",
       "      <td>Lowell Field</td>\n",
       "      <td>450.0</td>\n",
       "      <td>NA</td>\n",
       "      <td>Anchor Point</td>\n",
       "      <td>US</td>\n",
       "      <td>AK</td>\n",
       "      <td>-151.695999146</td>\n",
       "      <td>59.94919968</td>\n",
       "    </tr>\n",
       "    <tr>\n",
       "      <th>3</th>\n",
       "      <td>small_airport</td>\n",
       "      <td>Epps Airpark</td>\n",
       "      <td>820.0</td>\n",
       "      <td>NA</td>\n",
       "      <td>Harvest</td>\n",
       "      <td>US</td>\n",
       "      <td>AL</td>\n",
       "      <td>-86.77030181884766</td>\n",
       "      <td>34.86479949951172</td>\n",
       "    </tr>\n",
       "    <tr>\n",
       "      <th>4</th>\n",
       "      <td>closed</td>\n",
       "      <td>Newport Hospital &amp; Clinic Heliport</td>\n",
       "      <td>237.0</td>\n",
       "      <td>NA</td>\n",
       "      <td>Newport</td>\n",
       "      <td>US</td>\n",
       "      <td>AR</td>\n",
       "      <td>-91.254898</td>\n",
       "      <td>35.6087</td>\n",
       "    </tr>\n",
       "  </tbody>\n",
       "</table>\n",
       "</div>"
      ],
      "text/plain": [
       "            type                                name  elevation_ft continent  \\\n",
       "0       heliport                   Total Rf Heliport          11.0        NA   \n",
       "1  small_airport                Aero B Ranch Airport        3435.0        NA   \n",
       "2  small_airport                        Lowell Field         450.0        NA   \n",
       "3  small_airport                        Epps Airpark         820.0        NA   \n",
       "4         closed  Newport Hospital & Clinic Heliport         237.0        NA   \n",
       "\n",
       "   municipality ISO_Country ISO_state           Longitude            Latitude  \n",
       "0      Bensalem          US        PA  -74.93360137939453      40.07080078125  \n",
       "1         Leoti          US        KS         -101.473911           38.704022  \n",
       "2  Anchor Point          US        AK      -151.695999146         59.94919968  \n",
       "3       Harvest          US        AL  -86.77030181884766   34.86479949951172  \n",
       "4       Newport          US        AR          -91.254898             35.6087  "
      ]
     },
     "execution_count": 112,
     "metadata": {},
     "output_type": "execute_result"
    }
   ],
   "source": [
    "df.head()"
   ]
  },
  {
   "cell_type": "markdown",
   "id": "c9790ea9-113f-4a18-b5b9-99a282f6b98e",
   "metadata": {},
   "source": [
    "seaplane_base and large_airport has lower elevation level"
   ]
  },
  {
   "cell_type": "code",
   "execution_count": 113,
   "id": "b35d6b89-373d-4c84-8d4a-9d32d87c3c39",
   "metadata": {},
   "outputs": [],
   "source": [
    "df.drop(df[df['type']=='closed'].index,inplace=True)"
   ]
  },
  {
   "cell_type": "code",
   "execution_count": 114,
   "id": "c6663ca5-df9d-40c0-b88f-2f1e2245c534",
   "metadata": {},
   "outputs": [
    {
     "data": {
      "text/html": [
       "<div>\n",
       "<style scoped>\n",
       "    .dataframe tbody tr th:only-of-type {\n",
       "        vertical-align: middle;\n",
       "    }\n",
       "\n",
       "    .dataframe tbody tr th {\n",
       "        vertical-align: top;\n",
       "    }\n",
       "\n",
       "    .dataframe thead th {\n",
       "        text-align: right;\n",
       "    }\n",
       "</style>\n",
       "<table border=\"1\" class=\"dataframe\">\n",
       "  <thead>\n",
       "    <tr style=\"text-align: right;\">\n",
       "      <th></th>\n",
       "      <th>type</th>\n",
       "      <th>name</th>\n",
       "      <th>elevation_ft</th>\n",
       "      <th>continent</th>\n",
       "      <th>municipality</th>\n",
       "      <th>ISO_Country</th>\n",
       "      <th>ISO_state</th>\n",
       "      <th>Longitude</th>\n",
       "      <th>Latitude</th>\n",
       "    </tr>\n",
       "  </thead>\n",
       "  <tbody>\n",
       "    <tr>\n",
       "      <th>0</th>\n",
       "      <td>heliport</td>\n",
       "      <td>Total Rf Heliport</td>\n",
       "      <td>11.0</td>\n",
       "      <td>NA</td>\n",
       "      <td>Bensalem</td>\n",
       "      <td>US</td>\n",
       "      <td>PA</td>\n",
       "      <td>-74.93360137939453</td>\n",
       "      <td>40.07080078125</td>\n",
       "    </tr>\n",
       "    <tr>\n",
       "      <th>1</th>\n",
       "      <td>small_airport</td>\n",
       "      <td>Aero B Ranch Airport</td>\n",
       "      <td>3435.0</td>\n",
       "      <td>NA</td>\n",
       "      <td>Leoti</td>\n",
       "      <td>US</td>\n",
       "      <td>KS</td>\n",
       "      <td>-101.473911</td>\n",
       "      <td>38.704022</td>\n",
       "    </tr>\n",
       "    <tr>\n",
       "      <th>2</th>\n",
       "      <td>small_airport</td>\n",
       "      <td>Lowell Field</td>\n",
       "      <td>450.0</td>\n",
       "      <td>NA</td>\n",
       "      <td>Anchor Point</td>\n",
       "      <td>US</td>\n",
       "      <td>AK</td>\n",
       "      <td>-151.695999146</td>\n",
       "      <td>59.94919968</td>\n",
       "    </tr>\n",
       "    <tr>\n",
       "      <th>3</th>\n",
       "      <td>small_airport</td>\n",
       "      <td>Epps Airpark</td>\n",
       "      <td>820.0</td>\n",
       "      <td>NA</td>\n",
       "      <td>Harvest</td>\n",
       "      <td>US</td>\n",
       "      <td>AL</td>\n",
       "      <td>-86.77030181884766</td>\n",
       "      <td>34.86479949951172</td>\n",
       "    </tr>\n",
       "    <tr>\n",
       "      <th>5</th>\n",
       "      <td>small_airport</td>\n",
       "      <td>Fulton Airport</td>\n",
       "      <td>1100.0</td>\n",
       "      <td>NA</td>\n",
       "      <td>Alex</td>\n",
       "      <td>US</td>\n",
       "      <td>OK</td>\n",
       "      <td>-97.8180194</td>\n",
       "      <td>34.9428028</td>\n",
       "    </tr>\n",
       "  </tbody>\n",
       "</table>\n",
       "</div>"
      ],
      "text/plain": [
       "            type                  name  elevation_ft continent  municipality  \\\n",
       "0       heliport     Total Rf Heliport          11.0        NA      Bensalem   \n",
       "1  small_airport  Aero B Ranch Airport        3435.0        NA         Leoti   \n",
       "2  small_airport          Lowell Field         450.0        NA  Anchor Point   \n",
       "3  small_airport          Epps Airpark         820.0        NA       Harvest   \n",
       "5  small_airport        Fulton Airport        1100.0        NA          Alex   \n",
       "\n",
       "  ISO_Country ISO_state           Longitude            Latitude  \n",
       "0          US        PA  -74.93360137939453      40.07080078125  \n",
       "1          US        KS         -101.473911           38.704022  \n",
       "2          US        AK      -151.695999146         59.94919968  \n",
       "3          US        AL  -86.77030181884766   34.86479949951172  \n",
       "5          US        OK         -97.8180194          34.9428028  "
      ]
     },
     "execution_count": 114,
     "metadata": {},
     "output_type": "execute_result"
    }
   ],
   "source": [
    "df.head()"
   ]
  },
  {
   "cell_type": "code",
   "execution_count": 121,
   "id": "5905be9a-15a0-4555-a107-9d274ee399df",
   "metadata": {},
   "outputs": [
    {
     "data": {
      "image/png": "[encoded data removed]",
      "text/plain": [
       "<Figure size 720x360 with 1 Axes>"
      ]
     },
     "metadata": {
      "needs_background": "light"
     },
     "output_type": "display_data"
    }
   ],
   "source": [
    "plt.figure(figsize=(10,5))\n",
    "plt.hist(df['type'], width = 0.725, bins = 10)\n",
    "plt.title('Type vs elevation')\n",
    "plt.xlabel('Type')\n",
    "plt.ylabel('elevation (ft)')\n",
    "plt.show()"
   ]
  },
  {
   "cell_type": "code",
   "execution_count": 127,
   "id": "e51ea5c1-076e-48c5-998c-acb8362f6a5d",
   "metadata": {},
   "outputs": [
    {
     "data": {
      "image/png": "[encoded data removed]",
      "text/plain": [
       "<Figure size 720x720 with 1 Axes>"
      ]
     },
     "metadata": {
      "needs_background": "light"
     },
     "output_type": "display_data"
    }
   ],
   "source": [
    "plt.figure(figsize=(10,10))\n",
    "sns.boxplot(x = 'type', y = 'elevation_ft', data=df)\n",
    "plt.xlabel('Type of airports')\n",
    "plt.ylabel('Elevation in ft')\n",
    "plt.show()"
   ]
  },
  {
   "cell_type": "code",
   "execution_count": 128,
   "id": "cf8bcee5-0ee0-4190-88c2-5b8e788841b2",
   "metadata": {},
   "outputs": [],
   "source": [
    "def ecdf(data):\n",
    "    x = np.sort(data)\n",
    "    y = np.arange(1,len(data)+1)/len(data)\n",
    "    return x,y"
   ]
  },
  {
   "cell_type": "code",
   "execution_count": 141,
   "id": "e58652b4-5801-4e22-9f2b-9eb5868639fc",
   "metadata": {},
   "outputs": [
    {
     "data": {
      "image/png": "[encoded data removed]",
      "text/plain": [
       "<Figure size 432x288 with 1 Axes>"
      ]
     },
     "metadata": {
      "needs_background": "light"
     },
     "output_type": "display_data"
    }
   ],
   "source": [
    "hx,hy = ecdf(df['elevation_ft'][df.type == 'heliport'])\n",
    "smx,smy = ecdf(df['elevation_ft'][df.type == 'small_airport'])\n",
    "plt.plot(hx,hy,marker='.',linestyle='none')\n",
    "plt.plot(smx,smy, marker=',', linestyle = 'none')\n",
    "plt.title('ECDF plot of Elevation (ft) in heliport')\n",
    "plt.xlabel('Elevation in feat')\n",
    "plt.ylabel('% of heliport')\n",
    "plt.legend('type')\n",
    "plt.show()"
   ]
  },
  {
   "cell_type": "code",
   "execution_count": 211,
   "id": "be4e12d1-3472-4305-a4c9-35a0323533da",
   "metadata": {},
   "outputs": [
    {
     "data": {
      "text/plain": [
       "<bound method Series.sort_index of 12    12707\n",
       "11    12680\n",
       "13    11817\n",
       "10    11116\n",
       "14     9759\n",
       "9      8711\n",
       "15     7587\n",
       "8      5962\n",
       "16     5279\n",
       "7      3641\n",
       "17     3429\n",
       "18     2028\n",
       "6      1851\n",
       "19     1186\n",
       "5       777\n",
       "20      560\n",
       "4       311\n",
       "21      267\n",
       "22      143\n",
       "3        77\n",
       "23       61\n",
       "2        20\n",
       "24       19\n",
       "1         5\n",
       "25        3\n",
       "26        3\n",
       "27        1\n",
       "dtype: int64>"
      ]
     },
     "execution_count": 211,
     "metadata": {},
     "output_type": "execute_result"
    }
   ],
   "source": [
    "s = pd.Series(np.random.binomial(60,0.2,size=100000))\n",
    "s.value_counts().sort_index"
   ]
  },
  {
   "cell_type": "code",
   "execution_count": 255,
   "id": "7756c821-68fc-422b-a0bb-27ca7ce4c720",
   "metadata": {},
   "outputs": [
    {
     "data": {
      "text/plain": [
       "0        1\n",
       "1        1\n",
       "2        1\n",
       "3        0\n",
       "4        1\n",
       "        ..\n",
       "99995    2\n",
       "99996    1\n",
       "99997    2\n",
       "99998    1\n",
       "99999    0\n",
       "Length: 100000, dtype: int64"
      ]
     },
     "execution_count": 255,
     "metadata": {},
     "output_type": "execute_result"
    }
   ],
   "source": [
    "from scipy.stats import poisson\n",
    "import numpy as np\n",
    "import pandas as pd\n",
    "import matplotlib.pyplot as plt\n",
    "\n",
    "x_rvs = pd.Series(poisson.rvs(1.2, size = 100000, random_state =2))\n",
    "x_rvs"
   ]
  },
  {
   "cell_type": "code",
   "execution_count": 216,
   "id": "013b6657-38db-41f8-a4d5-b2e697753268",
   "metadata": {},
   "outputs": [
    {
     "data": {
      "text/plain": [
       "{0: 30473, 1: 36084, 2: 21486, 3: 8565, 4: 2596, 5: 647, 6: 128, 7: 20, 8: 1}"
      ]
     },
     "execution_count": 216,
     "metadata": {},
     "output_type": "execute_result"
    }
   ],
   "source": [
    "data = x_rvs.value_counts().sort_index().to_dict()\n",
    "data"
   ]
  },
  {
   "cell_type": "code",
   "execution_count": 218,
   "id": "6c0ff9db-da0b-480c-a16c-84489efb3644",
   "metadata": {},
   "outputs": [
    {
     "data": {
      "text/plain": [
       "range(0, 9)"
      ]
     },
     "execution_count": 218,
     "metadata": {},
     "output_type": "execute_result"
    }
   ],
   "source": [
    "range(len(data))"
   ]
  },
  {
   "cell_type": "code",
   "execution_count": 219,
   "id": "784c82a5-e1c6-453b-8de1-1b4960b30210",
   "metadata": {},
   "outputs": [
    {
     "data": {
      "text/plain": [
       "dict_values([30473, 36084, 21486, 8565, 2596, 647, 128, 20, 1])"
      ]
     },
     "execution_count": 219,
     "metadata": {},
     "output_type": "execute_result"
    }
   ],
   "source": [
    "data.values()"
   ]
  },
  {
   "cell_type": "code",
   "execution_count": 224,
   "id": "2cb07bfd-4565-487f-b71d-8cc636124868",
   "metadata": {},
   "outputs": [
    {
     "data": {
      "image/png": "[encoded data removed]",
      "text/plain": [
       "<Figure size 1152x432 with 1 Axes>"
      ]
     },
     "metadata": {
      "needs_background": "light"
     },
     "output_type": "display_data"
    }
   ],
   "source": [
    "fig, ax = plt.subplots(figsize=(16,6))\n",
    "ax.bar(range(len(data)), list(data.values()), align='center')\n",
    "plt.xticks(range(len(data)), data.keys())\n",
    "plt.show()"
   ]
  },
  {
   "cell_type": "code",
   "execution_count": 260,
   "id": "b7042845-2666-4c93-bfbb-99305e39bda1",
   "metadata": {},
   "outputs": [],
   "source": [
    "# Look at the poisson equation!\n",
    "def poisson_pmf(k, lam):\n",
    "    return ((lam**k - np.exp(-lam))/np.math.factorial(k))"
   ]
  },
  {
   "cell_type": "code",
   "execution_count": 291,
   "id": "20d7b889-64ed-48bd-9daf-84455b00831f",
   "metadata": {},
   "outputs": [
    {
     "data": {
      "text/plain": [
       "0.001255"
      ]
     },
     "execution_count": 291,
     "metadata": {},
     "output_type": "execute_result"
    }
   ],
   "source": [
    "251/200000"
   ]
  },
  {
   "cell_type": "code",
   "execution_count": 292,
   "id": "bf95af3f-1f2c-4fdf-8ef8-3905a32fddfd",
   "metadata": {},
   "outputs": [
    {
     "data": {
      "text/plain": [
       "0.0012542128168393507"
      ]
     },
     "execution_count": 292,
     "metadata": {},
     "output_type": "execute_result"
    }
   ],
   "source": [
    "poisson_pmf(0,0.001255)"
   ]
  },
  {
   "cell_type": "code",
   "execution_count": 228,
   "id": "2ab89a08-9d1e-4492-80d7-8da918447465",
   "metadata": {},
   "outputs": [],
   "source": [
    "n=[1,2,3]\n",
    "b=['dad','mom','sister']"
   ]
  },
  {
   "cell_type": "code",
   "execution_count": 243,
   "id": "d158a85c-b68a-4d07-a647-02b44ca2d4d9",
   "metadata": {},
   "outputs": [],
   "source": [
    "an = dict(zip(n,b))"
   ]
  },
  {
   "cell_type": "code",
   "execution_count": 256,
   "id": "8f71c65f-c86b-4956-b9a9-a35995c3a0ea",
   "metadata": {},
   "outputs": [
    {
     "name": "stdout",
     "output_type": "stream",
     "text": [
      "Poisson:      10.0416 3.1269265165654274\n"
     ]
    }
   ],
   "source": [
    "samples_poisson = np.random.poisson(10, size=10000)\n",
    "\n",
    "# Print the mean and standard deviation\n",
    "print('Poisson:     ', np.mean(samples_poisson),\n",
    "                       np.std(samples_poisson))"
   ]
  },
  {
   "cell_type": "code",
   "execution_count": 258,
   "id": "590bbae5-f9f3-46bb-bf5a-5e845029acf5",
   "metadata": {},
   "outputs": [
    {
     "data": {
      "text/plain": [
       "1"
      ]
     },
     "execution_count": 258,
     "metadata": {},
     "output_type": "execute_result"
    }
   ],
   "source": [
    "samples_poisson.min()"
   ]
  },
  {
   "cell_type": "code",
   "execution_count": 248,
   "id": "d21f49ee-e94b-4ecf-a6d4-4d7fa328b48e",
   "metadata": {},
   "outputs": [
    {
     "data": {
      "text/plain": [
       "{1: 'dad', 2: 'mom', 3: 'sister'}"
      ]
     },
     "execution_count": 248,
     "metadata": {},
     "output_type": "execute_result"
    }
   ],
   "source": [
    "n = [20, 100, 1000]\n",
    "p = [0.5, 0.1, 0.01]"
   ]
  },
  {
   "cell_type": "code",
   "execution_count": 277,
   "id": "4e712730-7826-420f-9c1b-45ccc8d7c238",
   "metadata": {},
   "outputs": [],
   "source": [
    "n = [20, 100, 1000]\n",
    "p = [0.5, 0.1, 0.01]\n",
    "\n",
    "# Draw 10,000 samples for each n,p pair: samples_binomial\n",
    "for i in range(3):\n",
    "    samples_binomial = np.random.binomial(n[i], p[i], size=10000)\n"
   ]
  },
  {
   "cell_type": "code",
   "execution_count": 280,
   "id": "646b6401-68c3-463a-89b1-a58640f1a2d3",
   "metadata": {},
   "outputs": [
    {
     "data": {
      "text/plain": [
       "10.0108"
      ]
     },
     "execution_count": 280,
     "metadata": {},
     "output_type": "execute_result"
    }
   ],
   "source": [
    "samples_binomial.mean()"
   ]
  },
  {
   "cell_type": "code",
   "execution_count": 297,
   "id": "e34312c0-2cb6-49f1-afa1-351aa991beb1",
   "metadata": {},
   "outputs": [
    {
     "data": {
      "text/plain": [
       "0.0013"
      ]
     },
     "execution_count": 297,
     "metadata": {},
     "output_type": "execute_result"
    }
   ],
   "source": [
    "nnn= np.random.poisson(0.001255, size=200000)\n",
    "nnn.mean()"
   ]
  },
  {
   "cell_type": "code",
   "execution_count": 299,
   "id": "a5d6b6ba-3ddd-4fe7-a30a-43c4d31cd652",
   "metadata": {},
   "outputs": [
    {
     "data": {
      "text/plain": [
       "0.12581"
      ]
     },
     "execution_count": 299,
     "metadata": {},
     "output_type": "execute_result"
    }
   ],
   "source": [
    "nn = np.random.binomial(100, 0.001255, size = 200000)\n",
    "nn.mean()"
   ]
  },
  {
   "cell_type": "code",
   "execution_count": 306,
   "id": "852a9a4f-d16d-4041-bae5-aa9ade932304",
   "metadata": {},
   "outputs": [],
   "source": [
    "nohitter = np.random.poisson(215/155, 10000)"
   ]
  },
  {
   "cell_type": "code",
   "execution_count": 308,
   "id": "9b041972-60c8-4a1e-91eb-4a217fa09133",
   "metadata": {},
   "outputs": [
    {
     "data": {
      "text/plain": [
       "0.0003"
      ]
     },
     "execution_count": 308,
     "metadata": {},
     "output_type": "execute_result"
    }
   ],
   "source": [
    "n_large = np.sum(nohitter>=7)\n",
    "n_large/10000"
   ]
  },
  {
   "cell_type": "code",
   "execution_count": 321,
   "id": "4937c361-4bfa-4b89-b2c9-7230edfcc327",
   "metadata": {},
   "outputs": [
    {
     "data": {
      "text/plain": [
       "array([55.12644391])"
      ]
     },
     "execution_count": 321,
     "metadata": {},
     "output_type": "execute_result"
    }
   ],
   "source": [
    "t2 = np.random.exponential(765, size=1)\n",
    "t2"
   ]
  },
  {
   "cell_type": "code",
   "execution_count": 315,
   "id": "280181d1-77a6-4303-aa1a-4cc5b6848b57",
   "metadata": {},
   "outputs": [],
   "source": [
    "def successive_poisson(tau1, tau2, size=1):\n",
    "    # Draw samples out of first exponential distribution: t1\n",
    "    t1 = np.random.exponential(tau1, size=size)\n",
    "\n",
    "    # Draw samples out of second exponential distribution: t2\n",
    "    t2 = np.random.exponential(tau2, size=size)\n",
    "\n",
    "    return t1 + t2\n"
   ]
  },
  {
   "cell_type": "code",
   "execution_count": 322,
   "id": "c7e6d4f1-260c-44a2-b952-d315b12e8168",
   "metadata": {},
   "outputs": [
    {
     "data": {
      "image/png": "[encoded data removed]",
      "text/plain": [
       "<Figure size 432x288 with 1 Axes>"
      ]
     },
     "metadata": {
      "needs_background": "light"
     },
     "output_type": "display_data"
    }
   ],
   "source": [
    "waiting_times = successive_poisson(764, 715, size = 1000000)\n",
    "plt.hist(waiting_times, bins=100, histtype='step',density=True)\n",
    "plt.show()"
   ]
  }
 ],
 "metadata": {
  "kernelspec": {
   "display_name": "Python 3",
   "language": "python",
   "name": "python3"
  },
  "language_info": {
   "codemirror_mode": {
    "name": "ipython",
    "version": 3
   },
   "file_extension": ".py",
   "mimetype": "text/x-python",
   "name": "python",
   "nbconvert_exporter": "python",
   "pygments_lexer": "ipython3",
   "version": "3.8.8"
  }
 },
 "nbformat": 4,
 "nbformat_minor": 5
}
