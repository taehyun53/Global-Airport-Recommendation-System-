{
 "cells": [
  {
   "cell_type": "code",
   "execution_count": 243,
   "id": "697e9999-03f2-4478-88e5-0feea78f32ed",
   "metadata": {},
   "outputs": [
    {
     "data": {
      "text/html": [
       "<div>\n",
       "<style scoped>\n",
       "    .dataframe tbody tr th:only-of-type {\n",
       "        vertical-align: middle;\n",
       "    }\n",
       "\n",
       "    .dataframe tbody tr th {\n",
       "        vertical-align: top;\n",
       "    }\n",
       "\n",
       "    .dataframe thead th {\n",
       "        text-align: right;\n",
       "    }\n",
       "</style>\n",
       "<table border=\"1\" class=\"dataframe\">\n",
       "  <thead>\n",
       "    <tr style=\"text-align: right;\">\n",
       "      <th></th>\n",
       "      <th>ident</th>\n",
       "      <th>type</th>\n",
       "      <th>name</th>\n",
       "      <th>elevation_ft</th>\n",
       "      <th>continent</th>\n",
       "      <th>iso_country</th>\n",
       "      <th>iso_region</th>\n",
       "      <th>municipality</th>\n",
       "      <th>gps_code</th>\n",
       "      <th>iata_code</th>\n",
       "      <th>local_code</th>\n",
       "      <th>coordinates</th>\n",
       "    </tr>\n",
       "  </thead>\n",
       "  <tbody>\n",
       "    <tr>\n",
       "      <th>0</th>\n",
       "      <td>00A</td>\n",
       "      <td>heliport</td>\n",
       "      <td>Total Rf Heliport</td>\n",
       "      <td>11.0</td>\n",
       "      <td>NaN</td>\n",
       "      <td>US</td>\n",
       "      <td>US-PA</td>\n",
       "      <td>Bensalem</td>\n",
       "      <td>00A</td>\n",
       "      <td>NaN</td>\n",
       "      <td>00A</td>\n",
       "      <td>-74.93360137939453, 40.07080078125</td>\n",
       "    </tr>\n",
       "    <tr>\n",
       "      <th>1</th>\n",
       "      <td>00AA</td>\n",
       "      <td>small_airport</td>\n",
       "      <td>Aero B Ranch Airport</td>\n",
       "      <td>3435.0</td>\n",
       "      <td>NaN</td>\n",
       "      <td>US</td>\n",
       "      <td>US-KS</td>\n",
       "      <td>Leoti</td>\n",
       "      <td>00AA</td>\n",
       "      <td>NaN</td>\n",
       "      <td>00AA</td>\n",
       "      <td>-101.473911, 38.704022</td>\n",
       "    </tr>\n",
       "    <tr>\n",
       "      <th>2</th>\n",
       "      <td>00AK</td>\n",
       "      <td>small_airport</td>\n",
       "      <td>Lowell Field</td>\n",
       "      <td>450.0</td>\n",
       "      <td>NaN</td>\n",
       "      <td>US</td>\n",
       "      <td>US-AK</td>\n",
       "      <td>Anchor Point</td>\n",
       "      <td>00AK</td>\n",
       "      <td>NaN</td>\n",
       "      <td>00AK</td>\n",
       "      <td>-151.695999146, 59.94919968</td>\n",
       "    </tr>\n",
       "    <tr>\n",
       "      <th>3</th>\n",
       "      <td>00AL</td>\n",
       "      <td>small_airport</td>\n",
       "      <td>Epps Airpark</td>\n",
       "      <td>820.0</td>\n",
       "      <td>NaN</td>\n",
       "      <td>US</td>\n",
       "      <td>US-AL</td>\n",
       "      <td>Harvest</td>\n",
       "      <td>00AL</td>\n",
       "      <td>NaN</td>\n",
       "      <td>00AL</td>\n",
       "      <td>-86.77030181884766, 34.86479949951172</td>\n",
       "    </tr>\n",
       "    <tr>\n",
       "      <th>4</th>\n",
       "      <td>00AR</td>\n",
       "      <td>closed</td>\n",
       "      <td>Newport Hospital &amp; Clinic Heliport</td>\n",
       "      <td>237.0</td>\n",
       "      <td>NaN</td>\n",
       "      <td>US</td>\n",
       "      <td>US-AR</td>\n",
       "      <td>Newport</td>\n",
       "      <td>NaN</td>\n",
       "      <td>NaN</td>\n",
       "      <td>NaN</td>\n",
       "      <td>-91.254898, 35.6087</td>\n",
       "    </tr>\n",
       "  </tbody>\n",
       "</table>\n",
       "</div>"
      ],
      "text/plain": [
       "  ident           type                                name  elevation_ft  \\\n",
       "0   00A       heliport                   Total Rf Heliport          11.0   \n",
       "1  00AA  small_airport                Aero B Ranch Airport        3435.0   \n",
       "2  00AK  small_airport                        Lowell Field         450.0   \n",
       "3  00AL  small_airport                        Epps Airpark         820.0   \n",
       "4  00AR         closed  Newport Hospital & Clinic Heliport         237.0   \n",
       "\n",
       "  continent iso_country iso_region  municipality gps_code iata_code  \\\n",
       "0       NaN          US      US-PA      Bensalem      00A       NaN   \n",
       "1       NaN          US      US-KS         Leoti     00AA       NaN   \n",
       "2       NaN          US      US-AK  Anchor Point     00AK       NaN   \n",
       "3       NaN          US      US-AL       Harvest     00AL       NaN   \n",
       "4       NaN          US      US-AR       Newport      NaN       NaN   \n",
       "\n",
       "  local_code                            coordinates  \n",
       "0        00A     -74.93360137939453, 40.07080078125  \n",
       "1       00AA                 -101.473911, 38.704022  \n",
       "2       00AK            -151.695999146, 59.94919968  \n",
       "3       00AL  -86.77030181884766, 34.86479949951172  \n",
       "4        NaN                    -91.254898, 35.6087  "
      ]
     },
     "execution_count": 243,
     "metadata": {},
     "output_type": "execute_result"
    }
   ],
   "source": [
    "import pandas as pd\n",
    "import numpy as np\n",
    "import matplotlib.pyplot as plt\n",
    "import seaborn as sns\n",
    "\n",
    "df = pd.read_csv('/users/taehyun/Dropbox/Springboard/Projects/airport-codes/datas/airport-codes.csv')\n",
    "df.head()"
   ]
  },
  {
   "cell_type": "code",
   "execution_count": 244,
   "id": "db756e3f-8a71-4a77-8b7b-a5dad2d690e7",
   "metadata": {},
   "outputs": [
    {
     "name": "stdout",
     "output_type": "stream",
     "text": [
      "<class 'pandas.core.frame.DataFrame'>\n",
      "RangeIndex: 57421 entries, 0 to 57420\n",
      "Data columns (total 12 columns):\n",
      " #   Column        Non-Null Count  Dtype  \n",
      "---  ------        --------------  -----  \n",
      " 0   ident         57421 non-null  object \n",
      " 1   type          57421 non-null  object \n",
      " 2   name          57421 non-null  object \n",
      " 3   elevation_ft  49608 non-null  float64\n",
      " 4   continent     28978 non-null  object \n",
      " 5   iso_country   57175 non-null  object \n",
      " 6   iso_region    57421 non-null  object \n",
      " 7   municipality  51527 non-null  object \n",
      " 8   gps_code      41561 non-null  object \n",
      " 9   iata_code     9225 non-null   object \n",
      " 10  local_code    30030 non-null  object \n",
      " 11  coordinates   57421 non-null  object \n",
      "dtypes: float64(1), object(11)\n",
      "memory usage: 5.3+ MB\n"
     ]
    }
   ],
   "source": [
    "df.info()"
   ]
  },
  {
   "cell_type": "code",
   "execution_count": 245,
   "id": "07fd0083-5ff1-480c-9535-1d67dacd2f3e",
   "metadata": {},
   "outputs": [
    {
     "data": {
      "text/plain": [
       "small_airport     34808\n",
       "heliport          12028\n",
       "medium_airport     4537\n",
       "closed             4378\n",
       "seaplane_base      1030\n",
       "large_airport       616\n",
       "balloonport          24\n",
       "Name: type, dtype: int64"
      ]
     },
     "execution_count": 245,
     "metadata": {},
     "output_type": "execute_result"
    }
   ],
   "source": [
    "df['type'].value_counts()"
   ]
  },
  {
   "cell_type": "markdown",
   "id": "ef6712a9-ee6d-4b37-985a-a397f998d7df",
   "metadata": {},
   "source": [
    "Since there's not much data it would be better to over sample it later in the preprocess stage"
   ]
  },
  {
   "cell_type": "code",
   "execution_count": 246,
   "id": "5942afd4-be11-4555-b88c-eda0dbf38ab9",
   "metadata": {},
   "outputs": [
    {
     "data": {
      "text/plain": [
       "ident               0\n",
       "type                0\n",
       "name                0\n",
       "elevation_ft     7813\n",
       "continent       28443\n",
       "iso_country       246\n",
       "iso_region          0\n",
       "municipality     5894\n",
       "gps_code        15860\n",
       "iata_code       48196\n",
       "local_code      27391\n",
       "coordinates         0\n",
       "dtype: int64"
      ]
     },
     "execution_count": 246,
     "metadata": {},
     "output_type": "execute_result"
    }
   ],
   "source": [
    "df.isnull().sum()"
   ]
  },
  {
   "cell_type": "code",
   "execution_count": 247,
   "id": "3186ba8f-2f48-48ff-a632-ecc32e9fd899",
   "metadata": {},
   "outputs": [],
   "source": [
    "df[['ISO_Country','ISO_state']] = df['iso_region'].str.split('-',n=1, expand=True)"
   ]
  },
  {
   "cell_type": "markdown",
   "id": "e0e39b53-674a-44cc-98b8-bf7651901264",
   "metadata": {},
   "source": [
    "Since we made a new column for iso_region, we can dop these columns"
   ]
  },
  {
   "cell_type": "code",
   "execution_count": 248,
   "id": "d9d4c16c-30eb-4ec3-815a-1d1943a5bf9c",
   "metadata": {},
   "outputs": [],
   "source": [
    "df.drop(['iso_country','iso_region'], axis= 1, inplace=True)"
   ]
  },
  {
   "cell_type": "code",
   "execution_count": 249,
   "id": "692acabd-dd6d-491d-bee7-5f5a3ea4440a",
   "metadata": {},
   "outputs": [
    {
     "data": {
      "text/html": [
       "<div>\n",
       "<style scoped>\n",
       "    .dataframe tbody tr th:only-of-type {\n",
       "        vertical-align: middle;\n",
       "    }\n",
       "\n",
       "    .dataframe tbody tr th {\n",
       "        vertical-align: top;\n",
       "    }\n",
       "\n",
       "    .dataframe thead th {\n",
       "        text-align: right;\n",
       "    }\n",
       "</style>\n",
       "<table border=\"1\" class=\"dataframe\">\n",
       "  <thead>\n",
       "    <tr style=\"text-align: right;\">\n",
       "      <th></th>\n",
       "      <th>ident</th>\n",
       "      <th>type</th>\n",
       "      <th>name</th>\n",
       "      <th>elevation_ft</th>\n",
       "      <th>continent</th>\n",
       "      <th>municipality</th>\n",
       "      <th>gps_code</th>\n",
       "      <th>iata_code</th>\n",
       "      <th>local_code</th>\n",
       "      <th>coordinates</th>\n",
       "      <th>ISO_Country</th>\n",
       "      <th>ISO_state</th>\n",
       "    </tr>\n",
       "  </thead>\n",
       "  <tbody>\n",
       "    <tr>\n",
       "      <th>0</th>\n",
       "      <td>00A</td>\n",
       "      <td>heliport</td>\n",
       "      <td>Total Rf Heliport</td>\n",
       "      <td>11.0</td>\n",
       "      <td>NaN</td>\n",
       "      <td>Bensalem</td>\n",
       "      <td>00A</td>\n",
       "      <td>NaN</td>\n",
       "      <td>00A</td>\n",
       "      <td>-74.93360137939453, 40.07080078125</td>\n",
       "      <td>US</td>\n",
       "      <td>PA</td>\n",
       "    </tr>\n",
       "    <tr>\n",
       "      <th>1</th>\n",
       "      <td>00AA</td>\n",
       "      <td>small_airport</td>\n",
       "      <td>Aero B Ranch Airport</td>\n",
       "      <td>3435.0</td>\n",
       "      <td>NaN</td>\n",
       "      <td>Leoti</td>\n",
       "      <td>00AA</td>\n",
       "      <td>NaN</td>\n",
       "      <td>00AA</td>\n",
       "      <td>-101.473911, 38.704022</td>\n",
       "      <td>US</td>\n",
       "      <td>KS</td>\n",
       "    </tr>\n",
       "    <tr>\n",
       "      <th>2</th>\n",
       "      <td>00AK</td>\n",
       "      <td>small_airport</td>\n",
       "      <td>Lowell Field</td>\n",
       "      <td>450.0</td>\n",
       "      <td>NaN</td>\n",
       "      <td>Anchor Point</td>\n",
       "      <td>00AK</td>\n",
       "      <td>NaN</td>\n",
       "      <td>00AK</td>\n",
       "      <td>-151.695999146, 59.94919968</td>\n",
       "      <td>US</td>\n",
       "      <td>AK</td>\n",
       "    </tr>\n",
       "    <tr>\n",
       "      <th>3</th>\n",
       "      <td>00AL</td>\n",
       "      <td>small_airport</td>\n",
       "      <td>Epps Airpark</td>\n",
       "      <td>820.0</td>\n",
       "      <td>NaN</td>\n",
       "      <td>Harvest</td>\n",
       "      <td>00AL</td>\n",
       "      <td>NaN</td>\n",
       "      <td>00AL</td>\n",
       "      <td>-86.77030181884766, 34.86479949951172</td>\n",
       "      <td>US</td>\n",
       "      <td>AL</td>\n",
       "    </tr>\n",
       "    <tr>\n",
       "      <th>4</th>\n",
       "      <td>00AR</td>\n",
       "      <td>closed</td>\n",
       "      <td>Newport Hospital &amp; Clinic Heliport</td>\n",
       "      <td>237.0</td>\n",
       "      <td>NaN</td>\n",
       "      <td>Newport</td>\n",
       "      <td>NaN</td>\n",
       "      <td>NaN</td>\n",
       "      <td>NaN</td>\n",
       "      <td>-91.254898, 35.6087</td>\n",
       "      <td>US</td>\n",
       "      <td>AR</td>\n",
       "    </tr>\n",
       "  </tbody>\n",
       "</table>\n",
       "</div>"
      ],
      "text/plain": [
       "  ident           type                                name  elevation_ft  \\\n",
       "0   00A       heliport                   Total Rf Heliport          11.0   \n",
       "1  00AA  small_airport                Aero B Ranch Airport        3435.0   \n",
       "2  00AK  small_airport                        Lowell Field         450.0   \n",
       "3  00AL  small_airport                        Epps Airpark         820.0   \n",
       "4  00AR         closed  Newport Hospital & Clinic Heliport         237.0   \n",
       "\n",
       "  continent  municipality gps_code iata_code local_code  \\\n",
       "0       NaN      Bensalem      00A       NaN        00A   \n",
       "1       NaN         Leoti     00AA       NaN       00AA   \n",
       "2       NaN  Anchor Point     00AK       NaN       00AK   \n",
       "3       NaN       Harvest     00AL       NaN       00AL   \n",
       "4       NaN       Newport      NaN       NaN        NaN   \n",
       "\n",
       "                             coordinates ISO_Country ISO_state  \n",
       "0     -74.93360137939453, 40.07080078125          US        PA  \n",
       "1                 -101.473911, 38.704022          US        KS  \n",
       "2            -151.695999146, 59.94919968          US        AK  \n",
       "3  -86.77030181884766, 34.86479949951172          US        AL  \n",
       "4                    -91.254898, 35.6087          US        AR  "
      ]
     },
     "execution_count": 249,
     "metadata": {},
     "output_type": "execute_result"
    }
   ],
   "source": [
    "df.head()"
   ]
  },
  {
   "cell_type": "markdown",
   "id": "65399e66-0444-49e4-8442-af6361f03b36",
   "metadata": {},
   "source": [
    "we would have to do the same for coordination"
   ]
  },
  {
   "cell_type": "code",
   "execution_count": 250,
   "id": "e52821c3-6914-4fee-bbcb-0df3dc28f0b9",
   "metadata": {},
   "outputs": [],
   "source": [
    "def split_clean_coordinate(long,lang,co):\n",
    "    df[[long,lang]] = df[co].str.split(',',n=1,expand=True)\n",
    "    df.drop([co],axis=1,inplace=True)\n",
    "    df[long] = df[long].astype(float)\n",
    "    df[lang] = df[lang].astype(float)"
   ]
  },
  {
   "cell_type": "code",
   "execution_count": 251,
   "id": "1f56d201-6d4a-48b7-aa12-44f2978c2f3d",
   "metadata": {},
   "outputs": [],
   "source": [
    "split_clean_coordinate('Longitude','Latitude','coordinates')"
   ]
  },
  {
   "cell_type": "markdown",
   "id": "47185f45-6c3a-4856-b598-e1716f29b909",
   "metadata": {},
   "source": [
    "Now that I changes Longitude and Latitude we can do further analysis by using correlation in the EDA section"
   ]
  },
  {
   "cell_type": "code",
   "execution_count": 252,
   "id": "dc1f1dfb-2dea-4d58-941b-0768b20904ea",
   "metadata": {},
   "outputs": [
    {
     "data": {
      "text/plain": [
       "ident               0\n",
       "type                0\n",
       "name                0\n",
       "elevation_ft     7813\n",
       "continent       28443\n",
       "municipality     5894\n",
       "gps_code        15860\n",
       "iata_code       48196\n",
       "local_code      27391\n",
       "ISO_Country         0\n",
       "ISO_state           0\n",
       "Longitude           0\n",
       "Latitude            0\n",
       "dtype: int64"
      ]
     },
     "execution_count": 252,
     "metadata": {},
     "output_type": "execute_result"
    }
   ],
   "source": [
    "df.isnull().sum()"
   ]
  },
  {
   "cell_type": "code",
   "execution_count": 253,
   "id": "aeb3abf6-ba1a-4ab4-a4b9-a7363c8c5092",
   "metadata": {},
   "outputs": [],
   "source": [
    "df.rename(columns = {'ISO_Country': 'Country' ,'ISO_state':'State'}, inplace =True)"
   ]
  },
  {
   "cell_type": "markdown",
   "id": "a4886133-ca56-4957-86f4-492e7f88f539",
   "metadata": {},
   "source": [
    "Since we already have coordinates and the state names, we dont need iata code which is the location identification code."
   ]
  },
  {
   "cell_type": "code",
   "execution_count": 254,
   "id": "974d3772-a80b-41ba-a92b-acef0b1f761b",
   "metadata": {},
   "outputs": [],
   "source": [
    "df.drop(['iata_code'], axis = 1, inplace=True)"
   ]
  },
  {
   "cell_type": "code",
   "execution_count": 255,
   "id": "14a6374f-60bd-4126-bff8-45c93a02a737",
   "metadata": {},
   "outputs": [
    {
     "data": {
      "text/html": [
       "<div>\n",
       "<style scoped>\n",
       "    .dataframe tbody tr th:only-of-type {\n",
       "        vertical-align: middle;\n",
       "    }\n",
       "\n",
       "    .dataframe tbody tr th {\n",
       "        vertical-align: top;\n",
       "    }\n",
       "\n",
       "    .dataframe thead th {\n",
       "        text-align: right;\n",
       "    }\n",
       "</style>\n",
       "<table border=\"1\" class=\"dataframe\">\n",
       "  <thead>\n",
       "    <tr style=\"text-align: right;\">\n",
       "      <th></th>\n",
       "      <th>ident</th>\n",
       "      <th>type</th>\n",
       "      <th>name</th>\n",
       "      <th>elevation_ft</th>\n",
       "      <th>continent</th>\n",
       "      <th>municipality</th>\n",
       "      <th>gps_code</th>\n",
       "      <th>local_code</th>\n",
       "      <th>Country</th>\n",
       "      <th>State</th>\n",
       "      <th>Longitude</th>\n",
       "      <th>Latitude</th>\n",
       "    </tr>\n",
       "  </thead>\n",
       "  <tbody>\n",
       "    <tr>\n",
       "      <th>0</th>\n",
       "      <td>00A</td>\n",
       "      <td>heliport</td>\n",
       "      <td>Total Rf Heliport</td>\n",
       "      <td>11.0</td>\n",
       "      <td>NaN</td>\n",
       "      <td>Bensalem</td>\n",
       "      <td>00A</td>\n",
       "      <td>00A</td>\n",
       "      <td>US</td>\n",
       "      <td>PA</td>\n",
       "      <td>-74.933601</td>\n",
       "      <td>40.070801</td>\n",
       "    </tr>\n",
       "    <tr>\n",
       "      <th>1</th>\n",
       "      <td>00AA</td>\n",
       "      <td>small_airport</td>\n",
       "      <td>Aero B Ranch Airport</td>\n",
       "      <td>3435.0</td>\n",
       "      <td>NaN</td>\n",
       "      <td>Leoti</td>\n",
       "      <td>00AA</td>\n",
       "      <td>00AA</td>\n",
       "      <td>US</td>\n",
       "      <td>KS</td>\n",
       "      <td>-101.473911</td>\n",
       "      <td>38.704022</td>\n",
       "    </tr>\n",
       "    <tr>\n",
       "      <th>2</th>\n",
       "      <td>00AK</td>\n",
       "      <td>small_airport</td>\n",
       "      <td>Lowell Field</td>\n",
       "      <td>450.0</td>\n",
       "      <td>NaN</td>\n",
       "      <td>Anchor Point</td>\n",
       "      <td>00AK</td>\n",
       "      <td>00AK</td>\n",
       "      <td>US</td>\n",
       "      <td>AK</td>\n",
       "      <td>-151.695999</td>\n",
       "      <td>59.949200</td>\n",
       "    </tr>\n",
       "    <tr>\n",
       "      <th>3</th>\n",
       "      <td>00AL</td>\n",
       "      <td>small_airport</td>\n",
       "      <td>Epps Airpark</td>\n",
       "      <td>820.0</td>\n",
       "      <td>NaN</td>\n",
       "      <td>Harvest</td>\n",
       "      <td>00AL</td>\n",
       "      <td>00AL</td>\n",
       "      <td>US</td>\n",
       "      <td>AL</td>\n",
       "      <td>-86.770302</td>\n",
       "      <td>34.864799</td>\n",
       "    </tr>\n",
       "    <tr>\n",
       "      <th>4</th>\n",
       "      <td>00AR</td>\n",
       "      <td>closed</td>\n",
       "      <td>Newport Hospital &amp; Clinic Heliport</td>\n",
       "      <td>237.0</td>\n",
       "      <td>NaN</td>\n",
       "      <td>Newport</td>\n",
       "      <td>NaN</td>\n",
       "      <td>NaN</td>\n",
       "      <td>US</td>\n",
       "      <td>AR</td>\n",
       "      <td>-91.254898</td>\n",
       "      <td>35.608700</td>\n",
       "    </tr>\n",
       "  </tbody>\n",
       "</table>\n",
       "</div>"
      ],
      "text/plain": [
       "  ident           type                                name  elevation_ft  \\\n",
       "0   00A       heliport                   Total Rf Heliport          11.0   \n",
       "1  00AA  small_airport                Aero B Ranch Airport        3435.0   \n",
       "2  00AK  small_airport                        Lowell Field         450.0   \n",
       "3  00AL  small_airport                        Epps Airpark         820.0   \n",
       "4  00AR         closed  Newport Hospital & Clinic Heliport         237.0   \n",
       "\n",
       "  continent  municipality gps_code local_code Country State   Longitude  \\\n",
       "0       NaN      Bensalem      00A        00A      US    PA  -74.933601   \n",
       "1       NaN         Leoti     00AA       00AA      US    KS -101.473911   \n",
       "2       NaN  Anchor Point     00AK       00AK      US    AK -151.695999   \n",
       "3       NaN       Harvest     00AL       00AL      US    AL  -86.770302   \n",
       "4       NaN       Newport      NaN        NaN      US    AR  -91.254898   \n",
       "\n",
       "    Latitude  \n",
       "0  40.070801  \n",
       "1  38.704022  \n",
       "2  59.949200  \n",
       "3  34.864799  \n",
       "4  35.608700  "
      ]
     },
     "execution_count": 255,
     "metadata": {},
     "output_type": "execute_result"
    }
   ],
   "source": [
    "df.head()"
   ]
  },
  {
   "cell_type": "code",
   "execution_count": 256,
   "id": "aae4ea41-8c47-4189-8154-596de9f5b8f0",
   "metadata": {},
   "outputs": [
    {
     "data": {
      "text/plain": [
       "LOLS    1\n",
       "LZJS    1\n",
       "FAST    1\n",
       "TA23    1\n",
       "EHBK    1\n",
       "       ..\n",
       "KFSU    1\n",
       "SWON    1\n",
       "EPZP    1\n",
       "KDVN    1\n",
       "MI43    1\n",
       "Name: ident, Length: 57421, dtype: int64"
      ]
     },
     "execution_count": 256,
     "metadata": {},
     "output_type": "execute_result"
    }
   ],
   "source": [
    "df['ident'].value_counts()"
   ]
  },
  {
   "cell_type": "markdown",
   "id": "63cff30b-0ffe-4b3a-be2b-0702d8872b39",
   "metadata": {},
   "source": [
    "we can see that ident is a primary key column so we can drop that as well. "
   ]
  },
  {
   "cell_type": "code",
   "execution_count": 257,
   "id": "19bdd0d8-2f41-4d09-98d3-40e14dc9761f",
   "metadata": {},
   "outputs": [],
   "source": [
    "df.drop(['ident'], axis = 1, inplace=True)"
   ]
  },
  {
   "cell_type": "code",
   "execution_count": 258,
   "id": "b57602d1-d1b7-440b-9c87-04b9b1b189ff",
   "metadata": {},
   "outputs": [
    {
     "data": {
      "text/html": [
       "<div>\n",
       "<style scoped>\n",
       "    .dataframe tbody tr th:only-of-type {\n",
       "        vertical-align: middle;\n",
       "    }\n",
       "\n",
       "    .dataframe tbody tr th {\n",
       "        vertical-align: top;\n",
       "    }\n",
       "\n",
       "    .dataframe thead th {\n",
       "        text-align: right;\n",
       "    }\n",
       "</style>\n",
       "<table border=\"1\" class=\"dataframe\">\n",
       "  <thead>\n",
       "    <tr style=\"text-align: right;\">\n",
       "      <th></th>\n",
       "      <th>type</th>\n",
       "      <th>name</th>\n",
       "      <th>elevation_ft</th>\n",
       "      <th>continent</th>\n",
       "      <th>municipality</th>\n",
       "      <th>gps_code</th>\n",
       "      <th>local_code</th>\n",
       "      <th>Country</th>\n",
       "      <th>State</th>\n",
       "      <th>Longitude</th>\n",
       "      <th>Latitude</th>\n",
       "    </tr>\n",
       "  </thead>\n",
       "  <tbody>\n",
       "    <tr>\n",
       "      <th>0</th>\n",
       "      <td>heliport</td>\n",
       "      <td>Total Rf Heliport</td>\n",
       "      <td>11.0</td>\n",
       "      <td>NaN</td>\n",
       "      <td>Bensalem</td>\n",
       "      <td>00A</td>\n",
       "      <td>00A</td>\n",
       "      <td>US</td>\n",
       "      <td>PA</td>\n",
       "      <td>-74.933601</td>\n",
       "      <td>40.070801</td>\n",
       "    </tr>\n",
       "    <tr>\n",
       "      <th>1</th>\n",
       "      <td>small_airport</td>\n",
       "      <td>Aero B Ranch Airport</td>\n",
       "      <td>3435.0</td>\n",
       "      <td>NaN</td>\n",
       "      <td>Leoti</td>\n",
       "      <td>00AA</td>\n",
       "      <td>00AA</td>\n",
       "      <td>US</td>\n",
       "      <td>KS</td>\n",
       "      <td>-101.473911</td>\n",
       "      <td>38.704022</td>\n",
       "    </tr>\n",
       "    <tr>\n",
       "      <th>2</th>\n",
       "      <td>small_airport</td>\n",
       "      <td>Lowell Field</td>\n",
       "      <td>450.0</td>\n",
       "      <td>NaN</td>\n",
       "      <td>Anchor Point</td>\n",
       "      <td>00AK</td>\n",
       "      <td>00AK</td>\n",
       "      <td>US</td>\n",
       "      <td>AK</td>\n",
       "      <td>-151.695999</td>\n",
       "      <td>59.949200</td>\n",
       "    </tr>\n",
       "    <tr>\n",
       "      <th>3</th>\n",
       "      <td>small_airport</td>\n",
       "      <td>Epps Airpark</td>\n",
       "      <td>820.0</td>\n",
       "      <td>NaN</td>\n",
       "      <td>Harvest</td>\n",
       "      <td>00AL</td>\n",
       "      <td>00AL</td>\n",
       "      <td>US</td>\n",
       "      <td>AL</td>\n",
       "      <td>-86.770302</td>\n",
       "      <td>34.864799</td>\n",
       "    </tr>\n",
       "    <tr>\n",
       "      <th>4</th>\n",
       "      <td>closed</td>\n",
       "      <td>Newport Hospital &amp; Clinic Heliport</td>\n",
       "      <td>237.0</td>\n",
       "      <td>NaN</td>\n",
       "      <td>Newport</td>\n",
       "      <td>NaN</td>\n",
       "      <td>NaN</td>\n",
       "      <td>US</td>\n",
       "      <td>AR</td>\n",
       "      <td>-91.254898</td>\n",
       "      <td>35.608700</td>\n",
       "    </tr>\n",
       "  </tbody>\n",
       "</table>\n",
       "</div>"
      ],
      "text/plain": [
       "            type                                name  elevation_ft continent  \\\n",
       "0       heliport                   Total Rf Heliport          11.0       NaN   \n",
       "1  small_airport                Aero B Ranch Airport        3435.0       NaN   \n",
       "2  small_airport                        Lowell Field         450.0       NaN   \n",
       "3  small_airport                        Epps Airpark         820.0       NaN   \n",
       "4         closed  Newport Hospital & Clinic Heliport         237.0       NaN   \n",
       "\n",
       "   municipality gps_code local_code Country State   Longitude   Latitude  \n",
       "0      Bensalem      00A        00A      US    PA  -74.933601  40.070801  \n",
       "1         Leoti     00AA       00AA      US    KS -101.473911  38.704022  \n",
       "2  Anchor Point     00AK       00AK      US    AK -151.695999  59.949200  \n",
       "3       Harvest     00AL       00AL      US    AL  -86.770302  34.864799  \n",
       "4       Newport      NaN        NaN      US    AR  -91.254898  35.608700  "
      ]
     },
     "execution_count": 258,
     "metadata": {},
     "output_type": "execute_result"
    }
   ],
   "source": [
    "df.head()"
   ]
  },
  {
   "cell_type": "markdown",
   "id": "1b08c021-e9d7-48e9-b836-48dd8e5aeb8c",
   "metadata": {},
   "source": [
    "lets try to fill up NA values"
   ]
  },
  {
   "cell_type": "markdown",
   "id": "ddfa4284-f71e-4beb-9827-f194349ae4bf",
   "metadata": {},
   "source": [
    "But first, I want to visualize how their elevation feets are like."
   ]
  },
  {
   "cell_type": "code",
   "execution_count": 259,
   "id": "4959f115-88b6-4059-bae4-6b0366d7e69e",
   "metadata": {},
   "outputs": [
    {
     "data": {
      "text/plain": [
       "<AxesSubplot:xlabel='type', ylabel='elevation_ft'>"
      ]
     },
     "execution_count": 259,
     "metadata": {},
     "output_type": "execute_result"
    },
    {
     "data": {
      "image/png": "[encoded data removed]",
      "text/plain": [
       "<Figure size 720x720 with 1 Axes>"
      ]
     },
     "metadata": {
      "needs_background": "light"
     },
     "output_type": "display_data"
    }
   ],
   "source": [
    "plt.figure(figsize=(10,10))\n",
    "sns.boxplot(x = 'type', y = 'elevation_ft', data =df, hue = 'type')"
   ]
  },
  {
   "cell_type": "code",
   "execution_count": 260,
   "id": "2fd584c3-e485-408c-8a70-6fda9f9f91ae",
   "metadata": {},
   "outputs": [
    {
     "data": {
      "text/plain": [
       "array(['heliport', 'small_airport', 'closed', 'seaplane_base',\n",
       "       'balloonport', 'medium_airport', 'large_airport'], dtype=object)"
      ]
     },
     "execution_count": 260,
     "metadata": {},
     "output_type": "execute_result"
    }
   ],
   "source": [
    "df['type'].unique()"
   ]
  },
  {
   "cell_type": "markdown",
   "id": "b8e43aa2-5bf9-4c6f-be75-5c6c2451583e",
   "metadata": {},
   "source": [
    "Let's drop the value that has closed. Closed airports aren't useful for our future analysis."
   ]
  },
  {
   "cell_type": "code",
   "execution_count": 261,
   "id": "065a2c9f-f90b-46eb-9221-f3cfbef9535b",
   "metadata": {},
   "outputs": [],
   "source": [
    "df.drop(df[df['type'] == 'closed'].index, inplace = True)"
   ]
  },
  {
   "cell_type": "code",
   "execution_count": 262,
   "id": "c4f20fc5-63d0-41e3-9bce-fd1cf03a6cb6",
   "metadata": {},
   "outputs": [],
   "source": [
    "data_input = ['heliport', 'small_airport', 'seaplane_base', 'balloonport', 'medium_airport', 'large_airport']"
   ]
  },
  {
   "cell_type": "code",
   "execution_count": 263,
   "id": "2e468b41-d258-4517-b1a1-2b65c601c128",
   "metadata": {},
   "outputs": [],
   "source": [
    "def plot_mean_type(data, airport_types):\n",
    "    mean_list = []\n",
    "    for airport_type in airport_types:\n",
    "        type_mean = np.mean(data[data['type'] == airport_type]['elevation_ft'])\n",
    "        mean_list.append(type_mean)\n",
    "    mean_df = pd.DataFrame({'mean_type_airport': mean_list}, index=data_input)\n",
    "    return mean_df"
   ]
  },
  {
   "cell_type": "code",
   "execution_count": 264,
   "id": "9426b8f8-9d3b-426e-b72f-04838d91323f",
   "metadata": {},
   "outputs": [
    {
     "data": {
      "text/html": [
       "<div>\n",
       "<style scoped>\n",
       "    .dataframe tbody tr th:only-of-type {\n",
       "        vertical-align: middle;\n",
       "    }\n",
       "\n",
       "    .dataframe tbody tr th {\n",
       "        vertical-align: top;\n",
       "    }\n",
       "\n",
       "    .dataframe thead th {\n",
       "        text-align: right;\n",
       "    }\n",
       "</style>\n",
       "<table border=\"1\" class=\"dataframe\">\n",
       "  <thead>\n",
       "    <tr style=\"text-align: right;\">\n",
       "      <th></th>\n",
       "      <th>mean_type_airport</th>\n",
       "    </tr>\n",
       "  </thead>\n",
       "  <tbody>\n",
       "    <tr>\n",
       "      <th>heliport</th>\n",
       "      <td>1199.377100</td>\n",
       "    </tr>\n",
       "    <tr>\n",
       "      <th>small_airport</th>\n",
       "      <td>1349.811397</td>\n",
       "    </tr>\n",
       "    <tr>\n",
       "      <th>seaplane_base</th>\n",
       "      <td>649.716329</td>\n",
       "    </tr>\n",
       "    <tr>\n",
       "      <th>balloonport</th>\n",
       "      <td>1089.000000</td>\n",
       "    </tr>\n",
       "    <tr>\n",
       "      <th>medium_airport</th>\n",
       "      <td>1059.199724</td>\n",
       "    </tr>\n",
       "    <tr>\n",
       "      <th>large_airport</th>\n",
       "      <td>798.062295</td>\n",
       "    </tr>\n",
       "  </tbody>\n",
       "</table>\n",
       "</div>"
      ],
      "text/plain": [
       "                mean_type_airport\n",
       "heliport              1199.377100\n",
       "small_airport         1349.811397\n",
       "seaplane_base          649.716329\n",
       "balloonport           1089.000000\n",
       "medium_airport        1059.199724\n",
       "large_airport          798.062295"
      ]
     },
     "execution_count": 264,
     "metadata": {},
     "output_type": "execute_result"
    }
   ],
   "source": [
    "mean_df_f = plot_mean_type(df, data_input)\n",
    "mean_df_f"
   ]
  },
  {
   "cell_type": "code",
   "execution_count": 265,
   "id": "94977078-a303-4486-bcd9-220850b2f70e",
   "metadata": {},
   "outputs": [
    {
     "data": {
      "text/plain": [
       "heliport          1199.377100\n",
       "small_airport     1349.811397\n",
       "seaplane_base      649.716329\n",
       "balloonport       1089.000000\n",
       "medium_airport    1059.199724\n",
       "large_airport      798.062295\n",
       "Name: mean_type_airport, dtype: float64"
      ]
     },
     "execution_count": 265,
     "metadata": {},
     "output_type": "execute_result"
    }
   ],
   "source": [
    "mean_df_f.mean_type_airport"
   ]
  },
  {
   "cell_type": "code",
   "execution_count": 266,
   "id": "bba4a914-0d6e-4b27-a745-aed11499decb",
   "metadata": {},
   "outputs": [
    {
     "data": {
      "text/plain": [
       "<AxesSubplot:ylabel='mean_type_airport'>"
      ]
     },
     "execution_count": 266,
     "metadata": {},
     "output_type": "execute_result"
    },
    {
     "data": {
      "image/png": "[encoded data removed]",
      "text/plain": [
       "<Figure size 720x720 with 1 Axes>"
      ]
     },
     "metadata": {
      "needs_background": "light"
     },
     "output_type": "display_data"
    }
   ],
   "source": [
    "plt.figure(figsize=(10,10))\n",
    "sns.swarmplot(x = mean_df_f.index, y = mean_df_f.mean_type_airport, data= mean_df_f, color ='b')"
   ]
  },
  {
   "cell_type": "markdown",
   "id": "cb340827-b915-472a-809f-55f7b2f18344",
   "metadata": {},
   "source": [
    "We can see the small airport has the most highest mean value for elevation in feet. "
   ]
  },
  {
   "cell_type": "markdown",
   "id": "e3fa8a2d-cacd-44a9-8e67-4348e59f6098",
   "metadata": {},
   "source": [
    "The large airport and seaplane base has the smallest mean value. In further analysis, we will figure out the correlation and the deep feature analysis."
   ]
  },
  {
   "cell_type": "code",
   "execution_count": 267,
   "id": "86bfa37b-f405-4296-9a61-5659943fc1c8",
   "metadata": {},
   "outputs": [
    {
     "data": {
      "text/html": [
       "<div>\n",
       "<style scoped>\n",
       "    .dataframe tbody tr th:only-of-type {\n",
       "        vertical-align: middle;\n",
       "    }\n",
       "\n",
       "    .dataframe tbody tr th {\n",
       "        vertical-align: top;\n",
       "    }\n",
       "\n",
       "    .dataframe thead th {\n",
       "        text-align: right;\n",
       "    }\n",
       "</style>\n",
       "<table border=\"1\" class=\"dataframe\">\n",
       "  <thead>\n",
       "    <tr style=\"text-align: right;\">\n",
       "      <th></th>\n",
       "      <th>index</th>\n",
       "      <th>mean_type_airport</th>\n",
       "    </tr>\n",
       "  </thead>\n",
       "  <tbody>\n",
       "    <tr>\n",
       "      <th>0</th>\n",
       "      <td>heliport</td>\n",
       "      <td>1199.377100</td>\n",
       "    </tr>\n",
       "    <tr>\n",
       "      <th>1</th>\n",
       "      <td>small_airport</td>\n",
       "      <td>1349.811397</td>\n",
       "    </tr>\n",
       "    <tr>\n",
       "      <th>2</th>\n",
       "      <td>seaplane_base</td>\n",
       "      <td>649.716329</td>\n",
       "    </tr>\n",
       "    <tr>\n",
       "      <th>3</th>\n",
       "      <td>balloonport</td>\n",
       "      <td>1089.000000</td>\n",
       "    </tr>\n",
       "    <tr>\n",
       "      <th>4</th>\n",
       "      <td>medium_airport</td>\n",
       "      <td>1059.199724</td>\n",
       "    </tr>\n",
       "    <tr>\n",
       "      <th>5</th>\n",
       "      <td>large_airport</td>\n",
       "      <td>798.062295</td>\n",
       "    </tr>\n",
       "  </tbody>\n",
       "</table>\n",
       "</div>"
      ],
      "text/plain": [
       "            index  mean_type_airport\n",
       "0        heliport        1199.377100\n",
       "1   small_airport        1349.811397\n",
       "2   seaplane_base         649.716329\n",
       "3     balloonport        1089.000000\n",
       "4  medium_airport        1059.199724\n",
       "5   large_airport         798.062295"
      ]
     },
     "execution_count": 267,
     "metadata": {},
     "output_type": "execute_result"
    }
   ],
   "source": [
    "mean_df_f = plot_mean_type(df, data_input)\n",
    "mean_df_f = mean_df_f.reset_index()\n",
    "mean_df_f"
   ]
  },
  {
   "cell_type": "code",
   "execution_count": 268,
   "id": "3f811eb9-811a-4bd5-b274-a544234ccb2f",
   "metadata": {},
   "outputs": [
    {
     "data": {
      "text/html": [
       "<div>\n",
       "<style scoped>\n",
       "    .dataframe tbody tr th:only-of-type {\n",
       "        vertical-align: middle;\n",
       "    }\n",
       "\n",
       "    .dataframe tbody tr th {\n",
       "        vertical-align: top;\n",
       "    }\n",
       "\n",
       "    .dataframe thead th {\n",
       "        text-align: right;\n",
       "    }\n",
       "</style>\n",
       "<table border=\"1\" class=\"dataframe\">\n",
       "  <thead>\n",
       "    <tr style=\"text-align: right;\">\n",
       "      <th></th>\n",
       "      <th>airport</th>\n",
       "      <th>mean_</th>\n",
       "    </tr>\n",
       "  </thead>\n",
       "  <tbody>\n",
       "    <tr>\n",
       "      <th>0</th>\n",
       "      <td>heliport</td>\n",
       "      <td>1199.377100</td>\n",
       "    </tr>\n",
       "    <tr>\n",
       "      <th>1</th>\n",
       "      <td>small_airport</td>\n",
       "      <td>1349.811397</td>\n",
       "    </tr>\n",
       "    <tr>\n",
       "      <th>2</th>\n",
       "      <td>seaplane_base</td>\n",
       "      <td>649.716329</td>\n",
       "    </tr>\n",
       "    <tr>\n",
       "      <th>3</th>\n",
       "      <td>balloonport</td>\n",
       "      <td>1089.000000</td>\n",
       "    </tr>\n",
       "    <tr>\n",
       "      <th>4</th>\n",
       "      <td>medium_airport</td>\n",
       "      <td>1059.199724</td>\n",
       "    </tr>\n",
       "    <tr>\n",
       "      <th>5</th>\n",
       "      <td>large_airport</td>\n",
       "      <td>798.062295</td>\n",
       "    </tr>\n",
       "  </tbody>\n",
       "</table>\n",
       "</div>"
      ],
      "text/plain": [
       "          airport        mean_\n",
       "0        heliport  1199.377100\n",
       "1   small_airport  1349.811397\n",
       "2   seaplane_base   649.716329\n",
       "3     balloonport  1089.000000\n",
       "4  medium_airport  1059.199724\n",
       "5   large_airport   798.062295"
      ]
     },
     "execution_count": 268,
     "metadata": {},
     "output_type": "execute_result"
    }
   ],
   "source": [
    "mean_df_f.columns = ['airport','mean_']\n",
    "mean_df_f"
   ]
  },
  {
   "cell_type": "code",
   "execution_count": 269,
   "id": "fd0a093a-addf-4733-addb-7c2edfcfa3d4",
   "metadata": {},
   "outputs": [],
   "source": [
    "df['elevation_ft'] = df['elevation_ft'].fillna(111)\n",
    "\n",
    "def filling_na(type_airport, val):\n",
    "    b = df['type']==type_airport\n",
    "    df.loc[b,'elevation_ft'] = df.loc[b,'elevation_ft'].replace(111,val)"
   ]
  },
  {
   "cell_type": "code",
   "execution_count": 270,
   "id": "0500d731-cb70-406c-8aa3-29a1ba340eed",
   "metadata": {},
   "outputs": [],
   "source": [
    "def fill_all_type(data):\n",
    "    for i in range(len(data)):\n",
    "        filling_na(data.airport[i], data.mean_[i])"
   ]
  },
  {
   "cell_type": "code",
   "execution_count": 271,
   "id": "7ca6d520-adaa-4b5b-8305-d72c86143316",
   "metadata": {},
   "outputs": [],
   "source": [
    "fill_all_type(mean_df_f)"
   ]
  },
  {
   "cell_type": "markdown",
   "id": "b4509acf-fd65-4b66-8881-775cfe9b7d8d",
   "metadata": {},
   "source": [
    "We fill up all the NA values with 111 first. Then we replace 111 with with the mean values for each type of airports."
   ]
  },
  {
   "cell_type": "markdown",
   "id": "8104be64-5a6d-4c5d-aed8-8fa2e58a7892",
   "metadata": {},
   "source": [
    "We can see that the elevation feet has no more null values. Let's continue to explore more for others"
   ]
  },
  {
   "cell_type": "code",
   "execution_count": 272,
   "id": "ad877c59-07d3-4133-8267-7f407798f7d6",
   "metadata": {},
   "outputs": [
    {
     "data": {
      "text/plain": [
       "<AxesSubplot:xlabel='type', ylabel='elevation_ft'>"
      ]
     },
     "execution_count": 272,
     "metadata": {},
     "output_type": "execute_result"
    },
    {
     "data": {
      "image/png": "[encoded data removed]",
      "text/plain": [
       "<Figure size 720x360 with 1 Axes>"
      ]
     },
     "metadata": {
      "needs_background": "light"
     },
     "output_type": "display_data"
    }
   ],
   "source": [
    "plt.figure(figsize=(10,5))\n",
    "sns.barplot(x = 'type', y = 'elevation_ft', data = df)"
   ]
  },
  {
   "cell_type": "markdown",
   "id": "da191ff9-56fa-4519-a01a-c1cb12ea6d3d",
   "metadata": {},
   "source": [
    "We see that small_airport has the highest elevation feet and balloonport has a huge range of confidence interval. Small_airport might have a bigger range than other airports because of it's outliers. Therefore, it's better to visualize with other types of graphs instead of a boxplot. "
   ]
  },
  {
   "cell_type": "markdown",
   "id": "3d6379d6-9367-4937-9eab-6cbe53f872fa",
   "metadata": {},
   "source": [
    "But first, let's focus on filling up Na values first."
   ]
  },
  {
   "cell_type": "code",
   "execution_count": 273,
   "id": "14f92b6c-096a-4564-9b60-09a69d90414a",
   "metadata": {},
   "outputs": [
    {
     "data": {
      "text/plain": [
       "SA    8212\n",
       "EU    7404\n",
       "AS    5363\n",
       "AF    3283\n",
       "OC    3008\n",
       "AN      26\n",
       "Name: continent, dtype: int64"
      ]
     },
     "execution_count": 273,
     "metadata": {},
     "output_type": "execute_result"
    }
   ],
   "source": [
    "df['continent'].value_counts()"
   ]
  },
  {
   "cell_type": "code",
   "execution_count": 274,
   "id": "9ee5f4da-382a-419f-aba2-692ea4c9f737",
   "metadata": {},
   "outputs": [
    {
     "name": "stdout",
     "output_type": "stream",
     "text": [
      "40103\n",
      "28133\n"
     ]
    }
   ],
   "source": [
    "print(len(df['gps_code'].unique()))\n",
    "print(len(df['local_code'].unique()))"
   ]
  },
  {
   "cell_type": "markdown",
   "id": "7ea48f50-daf2-4d7d-b0a8-7d75f3e8701a",
   "metadata": {},
   "source": [
    "gps_cood and loca_code aren't really useful. We can drop these columns."
   ]
  },
  {
   "cell_type": "markdown",
   "id": "d04dcb83-1085-49a8-a2ee-239466cadd8e",
   "metadata": {},
   "source": [
    "If I label encode thse in the future, there owuld be too many columns"
   ]
  },
  {
   "cell_type": "code",
   "execution_count": 275,
   "id": "93a1eaa6-7aef-4ec3-9f02-e88d77216711",
   "metadata": {},
   "outputs": [],
   "source": [
    "df.drop(['gps_code','local_code'], axis= 1, inplace =True)"
   ]
  },
  {
   "cell_type": "code",
   "execution_count": 276,
   "id": "05ae1754-f0a1-4e7d-8bb4-ca412c243898",
   "metadata": {},
   "outputs": [
    {
     "data": {
      "text/html": [
       "<div>\n",
       "<style scoped>\n",
       "    .dataframe tbody tr th:only-of-type {\n",
       "        vertical-align: middle;\n",
       "    }\n",
       "\n",
       "    .dataframe tbody tr th {\n",
       "        vertical-align: top;\n",
       "    }\n",
       "\n",
       "    .dataframe thead th {\n",
       "        text-align: right;\n",
       "    }\n",
       "</style>\n",
       "<table border=\"1\" class=\"dataframe\">\n",
       "  <thead>\n",
       "    <tr style=\"text-align: right;\">\n",
       "      <th></th>\n",
       "      <th>type</th>\n",
       "      <th>name</th>\n",
       "      <th>elevation_ft</th>\n",
       "      <th>continent</th>\n",
       "      <th>municipality</th>\n",
       "      <th>Country</th>\n",
       "      <th>State</th>\n",
       "      <th>Longitude</th>\n",
       "      <th>Latitude</th>\n",
       "    </tr>\n",
       "  </thead>\n",
       "  <tbody>\n",
       "    <tr>\n",
       "      <th>0</th>\n",
       "      <td>heliport</td>\n",
       "      <td>Total Rf Heliport</td>\n",
       "      <td>11.0</td>\n",
       "      <td>NaN</td>\n",
       "      <td>Bensalem</td>\n",
       "      <td>US</td>\n",
       "      <td>PA</td>\n",
       "      <td>-74.933601</td>\n",
       "      <td>40.070801</td>\n",
       "    </tr>\n",
       "    <tr>\n",
       "      <th>1</th>\n",
       "      <td>small_airport</td>\n",
       "      <td>Aero B Ranch Airport</td>\n",
       "      <td>3435.0</td>\n",
       "      <td>NaN</td>\n",
       "      <td>Leoti</td>\n",
       "      <td>US</td>\n",
       "      <td>KS</td>\n",
       "      <td>-101.473911</td>\n",
       "      <td>38.704022</td>\n",
       "    </tr>\n",
       "    <tr>\n",
       "      <th>2</th>\n",
       "      <td>small_airport</td>\n",
       "      <td>Lowell Field</td>\n",
       "      <td>450.0</td>\n",
       "      <td>NaN</td>\n",
       "      <td>Anchor Point</td>\n",
       "      <td>US</td>\n",
       "      <td>AK</td>\n",
       "      <td>-151.695999</td>\n",
       "      <td>59.949200</td>\n",
       "    </tr>\n",
       "    <tr>\n",
       "      <th>3</th>\n",
       "      <td>small_airport</td>\n",
       "      <td>Epps Airpark</td>\n",
       "      <td>820.0</td>\n",
       "      <td>NaN</td>\n",
       "      <td>Harvest</td>\n",
       "      <td>US</td>\n",
       "      <td>AL</td>\n",
       "      <td>-86.770302</td>\n",
       "      <td>34.864799</td>\n",
       "    </tr>\n",
       "    <tr>\n",
       "      <th>5</th>\n",
       "      <td>small_airport</td>\n",
       "      <td>Fulton Airport</td>\n",
       "      <td>1100.0</td>\n",
       "      <td>NaN</td>\n",
       "      <td>Alex</td>\n",
       "      <td>US</td>\n",
       "      <td>OK</td>\n",
       "      <td>-97.818019</td>\n",
       "      <td>34.942803</td>\n",
       "    </tr>\n",
       "  </tbody>\n",
       "</table>\n",
       "</div>"
      ],
      "text/plain": [
       "            type                  name  elevation_ft continent  municipality  \\\n",
       "0       heliport     Total Rf Heliport          11.0       NaN      Bensalem   \n",
       "1  small_airport  Aero B Ranch Airport        3435.0       NaN         Leoti   \n",
       "2  small_airport          Lowell Field         450.0       NaN  Anchor Point   \n",
       "3  small_airport          Epps Airpark         820.0       NaN       Harvest   \n",
       "5  small_airport        Fulton Airport        1100.0       NaN          Alex   \n",
       "\n",
       "  Country State   Longitude   Latitude  \n",
       "0      US    PA  -74.933601  40.070801  \n",
       "1      US    KS -101.473911  38.704022  \n",
       "2      US    AK -151.695999  59.949200  \n",
       "3      US    AL  -86.770302  34.864799  \n",
       "5      US    OK  -97.818019  34.942803  "
      ]
     },
     "execution_count": 276,
     "metadata": {},
     "output_type": "execute_result"
    }
   ],
   "source": [
    "df.head()"
   ]
  },
  {
   "cell_type": "markdown",
   "id": "b5449005-b036-4820-a05d-6db21bf52e2b",
   "metadata": {},
   "source": [
    "So all the US has missing values with NaN."
   ]
  },
  {
   "cell_type": "code",
   "execution_count": 277,
   "id": "6cd41759-8e1c-46f9-82ac-d595d2e9b979",
   "metadata": {},
   "outputs": [],
   "source": [
    "df['continent'].fillna('A',inplace=True)"
   ]
  },
  {
   "cell_type": "code",
   "execution_count": 278,
   "id": "647a4364-7acb-4764-9084-e62dcf63c1b5",
   "metadata": {},
   "outputs": [],
   "source": [
    "def fill_continent(country, continent):\n",
    "    country_data = df['Country'] == country\n",
    "    df.loc[country_data,'continent'] = df.loc[country_data,'continent'].replace('A', continent)"
   ]
  },
  {
   "cell_type": "markdown",
   "id": "a4807de0-0a9f-45a9-a6e5-e110ef7d5e61",
   "metadata": {},
   "source": [
    "I filled up NAs with A (temporarily)"
   ]
  },
  {
   "cell_type": "markdown",
   "id": "b7d2a8ad-a454-4fb4-8ad7-032fb9fc0581",
   "metadata": {},
   "source": [
    "And filled up all the country matching their appropriate continent. "
   ]
  },
  {
   "cell_type": "code",
   "execution_count": 279,
   "id": "d48f2afc-3059-477c-ac72-4f9259be94b8",
   "metadata": {},
   "outputs": [],
   "source": [
    "fill_continent('US', 'NA')\n",
    "fill_continent('CA', 'NA')\n",
    "fill_continent('MX', 'NA')\n",
    "fill_continent('CU', 'NA')\n",
    "fill_continent('CR', 'NA')\n",
    "fill_continent('GL', 'NA')\n",
    "fill_continent('HN', 'CA')"
   ]
  },
  {
   "cell_type": "code",
   "execution_count": 280,
   "id": "e1822f9d-af49-4060-8c5c-f90dc5e741f2",
   "metadata": {},
   "outputs": [
    {
     "data": {
      "text/plain": [
       "NA    25148\n",
       "SA     8212\n",
       "EU     7404\n",
       "AS     5363\n",
       "AF     3283\n",
       "OC     3008\n",
       "A       446\n",
       "CA      153\n",
       "AN       26\n",
       "Name: continent, dtype: int64"
      ]
     },
     "execution_count": 280,
     "metadata": {},
     "output_type": "execute_result"
    }
   ],
   "source": [
    "df['continent'].value_counts()"
   ]
  },
  {
   "cell_type": "markdown",
   "id": "cf643580-64ab-4507-94db-9a94dd66270e",
   "metadata": {},
   "source": [
    "We changed all the A to NA - North America."
   ]
  },
  {
   "cell_type": "markdown",
   "id": "2f8db324-6ea7-4113-8049-fbd965cd4839",
   "metadata": {},
   "source": [
    "And other countries and continents as well"
   ]
  },
  {
   "cell_type": "markdown",
   "id": "7584fc8f-6c39-4e53-9ff2-5889ec236db3",
   "metadata": {},
   "source": [
    "While I'm filling up the data I found that there's a country labeled as PA which I would have to drop this since it is a data error."
   ]
  },
  {
   "cell_type": "markdown",
   "id": "1dc91f5a-6d66-4d2e-b9c3-36577bad1f6e",
   "metadata": {},
   "source": [
    "There are other countries that can be labeled into certain continents but since there's not even 100 data for each of the countries, I will drop all of them."
   ]
  },
  {
   "cell_type": "code",
   "execution_count": 281,
   "id": "54f3c0f5-0c09-4f74-bb1b-cff69b5d43a4",
   "metadata": {},
   "outputs": [
    {
     "data": {
      "text/plain": [
       "PA    69\n",
       "BS    61\n",
       "PR    56\n",
       "GT    52\n",
       "DO    34\n",
       "NI    32\n",
       "SV    25\n",
       "BZ    24\n",
       "JM    19\n",
       "VI     9\n",
       "HT     8\n",
       "TC     8\n",
       "GP     6\n",
       "VC     5\n",
       "VG     4\n",
       "KY     3\n",
       "BQ     3\n",
       "TT     3\n",
       "AG     3\n",
       "LC     2\n",
       "BB     2\n",
       "GD     2\n",
       "DM     2\n",
       "PM     2\n",
       "KN     2\n",
       "MF     2\n",
       "MS     1\n",
       "MQ     1\n",
       "BM     1\n",
       "AW     1\n",
       "BL     1\n",
       "AI     1\n",
       "SX     1\n",
       "CW     1\n",
       "Name: Country, dtype: int64"
      ]
     },
     "execution_count": 281,
     "metadata": {},
     "output_type": "execute_result"
    }
   ],
   "source": [
    "df[df['continent'] == 'A']['Country'].value_counts()"
   ]
  },
  {
   "cell_type": "code",
   "execution_count": 282,
   "id": "caa00835-b6c3-4c78-babf-e5b3f9a06117",
   "metadata": {},
   "outputs": [
    {
     "data": {
      "text/html": [
       "<div>\n",
       "<style scoped>\n",
       "    .dataframe tbody tr th:only-of-type {\n",
       "        vertical-align: middle;\n",
       "    }\n",
       "\n",
       "    .dataframe tbody tr th {\n",
       "        vertical-align: top;\n",
       "    }\n",
       "\n",
       "    .dataframe thead th {\n",
       "        text-align: right;\n",
       "    }\n",
       "</style>\n",
       "<table border=\"1\" class=\"dataframe\">\n",
       "  <thead>\n",
       "    <tr style=\"text-align: right;\">\n",
       "      <th></th>\n",
       "      <th>type</th>\n",
       "      <th>name</th>\n",
       "      <th>elevation_ft</th>\n",
       "      <th>continent</th>\n",
       "      <th>municipality</th>\n",
       "      <th>Country</th>\n",
       "      <th>State</th>\n",
       "      <th>Longitude</th>\n",
       "      <th>Latitude</th>\n",
       "    </tr>\n",
       "  </thead>\n",
       "  <tbody>\n",
       "    <tr>\n",
       "      <th>0</th>\n",
       "      <td>heliport</td>\n",
       "      <td>Total Rf Heliport</td>\n",
       "      <td>11.0</td>\n",
       "      <td>NA</td>\n",
       "      <td>Bensalem</td>\n",
       "      <td>US</td>\n",
       "      <td>PA</td>\n",
       "      <td>-74.933601</td>\n",
       "      <td>40.070801</td>\n",
       "    </tr>\n",
       "    <tr>\n",
       "      <th>1</th>\n",
       "      <td>small_airport</td>\n",
       "      <td>Aero B Ranch Airport</td>\n",
       "      <td>3435.0</td>\n",
       "      <td>NA</td>\n",
       "      <td>Leoti</td>\n",
       "      <td>US</td>\n",
       "      <td>KS</td>\n",
       "      <td>-101.473911</td>\n",
       "      <td>38.704022</td>\n",
       "    </tr>\n",
       "    <tr>\n",
       "      <th>2</th>\n",
       "      <td>small_airport</td>\n",
       "      <td>Lowell Field</td>\n",
       "      <td>450.0</td>\n",
       "      <td>NA</td>\n",
       "      <td>Anchor Point</td>\n",
       "      <td>US</td>\n",
       "      <td>AK</td>\n",
       "      <td>-151.695999</td>\n",
       "      <td>59.949200</td>\n",
       "    </tr>\n",
       "    <tr>\n",
       "      <th>3</th>\n",
       "      <td>small_airport</td>\n",
       "      <td>Epps Airpark</td>\n",
       "      <td>820.0</td>\n",
       "      <td>NA</td>\n",
       "      <td>Harvest</td>\n",
       "      <td>US</td>\n",
       "      <td>AL</td>\n",
       "      <td>-86.770302</td>\n",
       "      <td>34.864799</td>\n",
       "    </tr>\n",
       "    <tr>\n",
       "      <th>5</th>\n",
       "      <td>small_airport</td>\n",
       "      <td>Fulton Airport</td>\n",
       "      <td>1100.0</td>\n",
       "      <td>NA</td>\n",
       "      <td>Alex</td>\n",
       "      <td>US</td>\n",
       "      <td>OK</td>\n",
       "      <td>-97.818019</td>\n",
       "      <td>34.942803</td>\n",
       "    </tr>\n",
       "  </tbody>\n",
       "</table>\n",
       "</div>"
      ],
      "text/plain": [
       "            type                  name  elevation_ft continent  municipality  \\\n",
       "0       heliport     Total Rf Heliport          11.0        NA      Bensalem   \n",
       "1  small_airport  Aero B Ranch Airport        3435.0        NA         Leoti   \n",
       "2  small_airport          Lowell Field         450.0        NA  Anchor Point   \n",
       "3  small_airport          Epps Airpark         820.0        NA       Harvest   \n",
       "5  small_airport        Fulton Airport        1100.0        NA          Alex   \n",
       "\n",
       "  Country State   Longitude   Latitude  \n",
       "0      US    PA  -74.933601  40.070801  \n",
       "1      US    KS -101.473911  38.704022  \n",
       "2      US    AK -151.695999  59.949200  \n",
       "3      US    AL  -86.770302  34.864799  \n",
       "5      US    OK  -97.818019  34.942803  "
      ]
     },
     "execution_count": 282,
     "metadata": {},
     "output_type": "execute_result"
    }
   ],
   "source": [
    "df_2 = df[df.continent != 'A']\n",
    "df_2.head()"
   ]
  },
  {
   "cell_type": "code",
   "execution_count": 283,
   "id": "5447d782-b2f0-4b1c-b053-b0bf01a91bcc",
   "metadata": {},
   "outputs": [],
   "source": [
    "#Also, for the State column, there are some Statesthat has '-' and other special characters.\n",
    "#We have to get rid of this\n",
    "\n",
    "import re\n",
    "df['State'] = df['State'].apply(lambda x: re.sub('-', '', x))"
   ]
  },
  {
   "cell_type": "code",
   "execution_count": 284,
   "id": "116fdfd5-8273-4422-bf51-cd6396e40d1e",
   "metadata": {},
   "outputs": [
    {
     "data": {
      "text/plain": [
       "<AxesSubplot:>"
      ]
     },
     "execution_count": 284,
     "metadata": {},
     "output_type": "execute_result"
    },
    {
     "data": {
      "image/png": "[encoded data removed]",
      "text/plain": [
       "<Figure size 432x288 with 1 Axes>"
      ]
     },
     "metadata": {
      "needs_background": "light"
     },
     "output_type": "display_data"
    }
   ],
   "source": [
    "sns.barplot(x = df.continent.value_counts().index, y = df.continent.value_counts().values, data=df)"
   ]
  },
  {
   "cell_type": "markdown",
   "id": "721d8f9e-be9b-42ec-aac3-7942d8b913c2",
   "metadata": {},
   "source": [
    "We have so much values for NA's. I guess most of the airports are densed in North America."
   ]
  },
  {
   "cell_type": "code",
   "execution_count": 285,
   "id": "d3bc6f23-6c55-40e5-8c55-df046e247033",
   "metadata": {},
   "outputs": [
    {
     "data": {
      "text/html": [
       "<div>\n",
       "<style scoped>\n",
       "    .dataframe tbody tr th:only-of-type {\n",
       "        vertical-align: middle;\n",
       "    }\n",
       "\n",
       "    .dataframe tbody tr th {\n",
       "        vertical-align: top;\n",
       "    }\n",
       "\n",
       "    .dataframe thead th {\n",
       "        text-align: right;\n",
       "    }\n",
       "</style>\n",
       "<table border=\"1\" class=\"dataframe\">\n",
       "  <thead>\n",
       "    <tr style=\"text-align: right;\">\n",
       "      <th></th>\n",
       "      <th>type</th>\n",
       "      <th>name</th>\n",
       "      <th>elevation_ft</th>\n",
       "      <th>continent</th>\n",
       "      <th>municipality</th>\n",
       "      <th>Country</th>\n",
       "      <th>State</th>\n",
       "      <th>Longitude</th>\n",
       "      <th>Latitude</th>\n",
       "    </tr>\n",
       "  </thead>\n",
       "  <tbody>\n",
       "    <tr>\n",
       "      <th>0</th>\n",
       "      <td>heliport</td>\n",
       "      <td>Total Rf Heliport</td>\n",
       "      <td>11.0</td>\n",
       "      <td>NA</td>\n",
       "      <td>Bensalem</td>\n",
       "      <td>US</td>\n",
       "      <td>PA</td>\n",
       "      <td>-74.933601</td>\n",
       "      <td>40.070801</td>\n",
       "    </tr>\n",
       "    <tr>\n",
       "      <th>1</th>\n",
       "      <td>small_airport</td>\n",
       "      <td>Aero B Ranch Airport</td>\n",
       "      <td>3435.0</td>\n",
       "      <td>NA</td>\n",
       "      <td>Leoti</td>\n",
       "      <td>US</td>\n",
       "      <td>KS</td>\n",
       "      <td>-101.473911</td>\n",
       "      <td>38.704022</td>\n",
       "    </tr>\n",
       "    <tr>\n",
       "      <th>2</th>\n",
       "      <td>small_airport</td>\n",
       "      <td>Lowell Field</td>\n",
       "      <td>450.0</td>\n",
       "      <td>NA</td>\n",
       "      <td>Anchor Point</td>\n",
       "      <td>US</td>\n",
       "      <td>AK</td>\n",
       "      <td>-151.695999</td>\n",
       "      <td>59.949200</td>\n",
       "    </tr>\n",
       "    <tr>\n",
       "      <th>3</th>\n",
       "      <td>small_airport</td>\n",
       "      <td>Epps Airpark</td>\n",
       "      <td>820.0</td>\n",
       "      <td>NA</td>\n",
       "      <td>Harvest</td>\n",
       "      <td>US</td>\n",
       "      <td>AL</td>\n",
       "      <td>-86.770302</td>\n",
       "      <td>34.864799</td>\n",
       "    </tr>\n",
       "    <tr>\n",
       "      <th>5</th>\n",
       "      <td>small_airport</td>\n",
       "      <td>Fulton Airport</td>\n",
       "      <td>1100.0</td>\n",
       "      <td>NA</td>\n",
       "      <td>Alex</td>\n",
       "      <td>US</td>\n",
       "      <td>OK</td>\n",
       "      <td>-97.818019</td>\n",
       "      <td>34.942803</td>\n",
       "    </tr>\n",
       "  </tbody>\n",
       "</table>\n",
       "</div>"
      ],
      "text/plain": [
       "            type                  name  elevation_ft continent  municipality  \\\n",
       "0       heliport     Total Rf Heliport          11.0        NA      Bensalem   \n",
       "1  small_airport  Aero B Ranch Airport        3435.0        NA         Leoti   \n",
       "2  small_airport          Lowell Field         450.0        NA  Anchor Point   \n",
       "3  small_airport          Epps Airpark         820.0        NA       Harvest   \n",
       "5  small_airport        Fulton Airport        1100.0        NA          Alex   \n",
       "\n",
       "  Country State   Longitude   Latitude  \n",
       "0      US    PA  -74.933601  40.070801  \n",
       "1      US    KS -101.473911  38.704022  \n",
       "2      US    AK -151.695999  59.949200  \n",
       "3      US    AL  -86.770302  34.864799  \n",
       "5      US    OK  -97.818019  34.942803  "
      ]
     },
     "execution_count": 285,
     "metadata": {},
     "output_type": "execute_result"
    }
   ],
   "source": [
    "df.head()"
   ]
  },
  {
   "cell_type": "code",
   "execution_count": 286,
   "id": "49eb6e64-2f87-447f-92e3-2f57ee532623",
   "metadata": {},
   "outputs": [
    {
     "data": {
      "text/plain": [
       "<AxesSubplot:xlabel='type', ylabel='elevation_ft'>"
      ]
     },
     "execution_count": 286,
     "metadata": {},
     "output_type": "execute_result"
    },
    {
     "data": {
      "image/png": "[encoded data removed]",
      "text/plain": [
       "<Figure size 720x360 with 1 Axes>"
      ]
     },
     "metadata": {
      "needs_background": "light"
     },
     "output_type": "display_data"
    }
   ],
   "source": [
    "plt.figure(figsize=(10,5))\n",
    "sns.lineplot(x= 'type' , y = 'elevation_ft', data= df)"
   ]
  },
  {
   "cell_type": "markdown",
   "id": "544d37c6-1004-4f75-b9a5-a6e150d042bb",
   "metadata": {},
   "source": [
    "line plot shows the relationship between elevation_ft for each type of airports. But oddly, it has a different result when I plot it with the catplot underneath."
   ]
  },
  {
   "cell_type": "code",
   "execution_count": 287,
   "id": "69a0f0ec-cf7c-44d9-8712-56441e3cddea",
   "metadata": {},
   "outputs": [
    {
     "data": {
      "text/plain": [
       "<seaborn.axisgrid.FacetGrid at 0x7ff0cf7e24c0>"
      ]
     },
     "execution_count": 287,
     "metadata": {},
     "output_type": "execute_result"
    },
    {
     "data": {
      "text/plain": [
       "<Figure size 1080x288 with 0 Axes>"
      ]
     },
     "metadata": {},
     "output_type": "display_data"
    },
    {
     "data": {
      "image/png": "[encoded data removed]",
      "text/plain": [
       "<Figure size 360x360 with 1 Axes>"
      ]
     },
     "metadata": {
      "needs_background": "light"
     },
     "output_type": "display_data"
    }
   ],
   "source": [
    "plt.figure(figsize=(15,4))\n",
    "sns.catplot(data=df, x=\"elevation_ft\", y=\"type\", kind=\"box\")"
   ]
  },
  {
   "cell_type": "markdown",
   "id": "6d00e2c0-ec42-44d0-addd-96e9210d0c5b",
   "metadata": {},
   "source": [
    "I can see outliers in this horizontal boxplot. Let's see more."
   ]
  },
  {
   "cell_type": "code",
   "execution_count": 288,
   "id": "f89d7ae3-8683-4552-90cc-b6029905002a",
   "metadata": {},
   "outputs": [
    {
     "data": {
      "text/html": [
       "<div>\n",
       "<style scoped>\n",
       "    .dataframe tbody tr th:only-of-type {\n",
       "        vertical-align: middle;\n",
       "    }\n",
       "\n",
       "    .dataframe tbody tr th {\n",
       "        vertical-align: top;\n",
       "    }\n",
       "\n",
       "    .dataframe thead th {\n",
       "        text-align: right;\n",
       "    }\n",
       "</style>\n",
       "<table border=\"1\" class=\"dataframe\">\n",
       "  <thead>\n",
       "    <tr style=\"text-align: right;\">\n",
       "      <th></th>\n",
       "      <th>type</th>\n",
       "      <th>name</th>\n",
       "      <th>elevation_ft</th>\n",
       "      <th>continent</th>\n",
       "      <th>municipality</th>\n",
       "      <th>Country</th>\n",
       "      <th>State</th>\n",
       "      <th>Longitude</th>\n",
       "      <th>Latitude</th>\n",
       "    </tr>\n",
       "  </thead>\n",
       "  <tbody>\n",
       "    <tr>\n",
       "      <th>55049</th>\n",
       "      <td>medium_airport</td>\n",
       "      <td>Modi</td>\n",
       "      <td>29977.0</td>\n",
       "      <td>NA</td>\n",
       "      <td>California</td>\n",
       "      <td>US</td>\n",
       "      <td>CA</td>\n",
       "      <td>179.999894</td>\n",
       "      <td>89.999845</td>\n",
       "    </tr>\n",
       "  </tbody>\n",
       "</table>\n",
       "</div>"
      ],
      "text/plain": [
       "                 type  name  elevation_ft continent municipality Country  \\\n",
       "55049  medium_airport  Modi       29977.0        NA   California      US   \n",
       "\n",
       "      State   Longitude   Latitude  \n",
       "55049    CA  179.999894  89.999845  "
      ]
     },
     "execution_count": 288,
     "metadata": {},
     "output_type": "execute_result"
    }
   ],
   "source": [
    "df[df['elevation_ft'] > 25000]"
   ]
  },
  {
   "cell_type": "markdown",
   "id": "b9754da7-bf4f-4a14-a1fd-7837bd176abe",
   "metadata": {},
   "source": [
    "The elevation_ft 29977.0 is an outlier because according to google, \n",
    "The Leadville Airport is North America's highest public use airport at an altitude of 9,934 feet."
   ]
  },
  {
   "cell_type": "markdown",
   "id": "45881f69-f9f6-4319-b0a0-6bfb0683351d",
   "metadata": {},
   "source": [
    "Hence, we don't drop this row."
   ]
  },
  {
   "cell_type": "markdown",
   "id": "bfb158e8-83ed-45c5-aa30-7b358983561e",
   "metadata": {},
   "source": [
    "I can not find anything about the elevation feet for modi airport. So I will drop this."
   ]
  },
  {
   "cell_type": "code",
   "execution_count": 289,
   "id": "72fcc2e7-f80b-4803-a84c-c56d3a808c58",
   "metadata": {},
   "outputs": [],
   "source": [
    "df.drop([55049], axis=0, inplace=True)"
   ]
  },
  {
   "cell_type": "code",
   "execution_count": 290,
   "id": "ea36cc6f-91fb-4519-94eb-39f175bde8fc",
   "metadata": {},
   "outputs": [
    {
     "data": {
      "text/html": [
       "<div>\n",
       "<style scoped>\n",
       "    .dataframe tbody tr th:only-of-type {\n",
       "        vertical-align: middle;\n",
       "    }\n",
       "\n",
       "    .dataframe tbody tr th {\n",
       "        vertical-align: top;\n",
       "    }\n",
       "\n",
       "    .dataframe thead th {\n",
       "        text-align: right;\n",
       "    }\n",
       "</style>\n",
       "<table border=\"1\" class=\"dataframe\">\n",
       "  <thead>\n",
       "    <tr style=\"text-align: right;\">\n",
       "      <th></th>\n",
       "      <th>type</th>\n",
       "      <th>name</th>\n",
       "      <th>elevation_ft</th>\n",
       "      <th>continent</th>\n",
       "      <th>municipality</th>\n",
       "      <th>Country</th>\n",
       "      <th>State</th>\n",
       "      <th>Longitude</th>\n",
       "      <th>Latitude</th>\n",
       "    </tr>\n",
       "  </thead>\n",
       "  <tbody>\n",
       "    <tr>\n",
       "      <th>25164</th>\n",
       "      <td>heliport</td>\n",
       "      <td>Siachen Glacier AFS Airport</td>\n",
       "      <td>22000.0</td>\n",
       "      <td>AS</td>\n",
       "      <td>NaN</td>\n",
       "      <td>IN</td>\n",
       "      <td>JK</td>\n",
       "      <td>77.0</td>\n",
       "      <td>35.5</td>\n",
       "    </tr>\n",
       "  </tbody>\n",
       "</table>\n",
       "</div>"
      ],
      "text/plain": [
       "           type                         name  elevation_ft continent  \\\n",
       "25164  heliport  Siachen Glacier AFS Airport       22000.0        AS   \n",
       "\n",
       "      municipality Country State  Longitude  Latitude  \n",
       "25164          NaN      IN    JK       77.0      35.5  "
      ]
     },
     "execution_count": 290,
     "metadata": {},
     "output_type": "execute_result"
    }
   ],
   "source": [
    "df[df['elevation_ft'] > 20000]"
   ]
  },
  {
   "cell_type": "markdown",
   "id": "4571aa83-fd0d-40ba-828a-f1b215f091f6",
   "metadata": {},
   "source": [
    "This isn't an outlier. It's a fact"
   ]
  },
  {
   "cell_type": "code",
   "execution_count": 291,
   "id": "886320b0-2f4c-4d9f-a4f7-6037dff5db49",
   "metadata": {},
   "outputs": [
    {
     "data": {
      "text/html": [
       "<div>\n",
       "<style scoped>\n",
       "    .dataframe tbody tr th:only-of-type {\n",
       "        vertical-align: middle;\n",
       "    }\n",
       "\n",
       "    .dataframe tbody tr th {\n",
       "        vertical-align: top;\n",
       "    }\n",
       "\n",
       "    .dataframe thead th {\n",
       "        text-align: right;\n",
       "    }\n",
       "</style>\n",
       "<table border=\"1\" class=\"dataframe\">\n",
       "  <thead>\n",
       "    <tr style=\"text-align: right;\">\n",
       "      <th></th>\n",
       "      <th>type</th>\n",
       "      <th>name</th>\n",
       "      <th>elevation_ft</th>\n",
       "      <th>continent</th>\n",
       "      <th>municipality</th>\n",
       "      <th>Country</th>\n",
       "      <th>State</th>\n",
       "      <th>Longitude</th>\n",
       "      <th>Latitude</th>\n",
       "    </tr>\n",
       "  </thead>\n",
       "  <tbody>\n",
       "    <tr>\n",
       "      <th>0</th>\n",
       "      <td>heliport</td>\n",
       "      <td>Total Rf Heliport</td>\n",
       "      <td>11.0</td>\n",
       "      <td>NA</td>\n",
       "      <td>Bensalem</td>\n",
       "      <td>US</td>\n",
       "      <td>PA</td>\n",
       "      <td>-74.933601</td>\n",
       "      <td>40.070801</td>\n",
       "    </tr>\n",
       "    <tr>\n",
       "      <th>1</th>\n",
       "      <td>small_airport</td>\n",
       "      <td>Aero B Ranch Airport</td>\n",
       "      <td>3435.0</td>\n",
       "      <td>NA</td>\n",
       "      <td>Leoti</td>\n",
       "      <td>US</td>\n",
       "      <td>KS</td>\n",
       "      <td>-101.473911</td>\n",
       "      <td>38.704022</td>\n",
       "    </tr>\n",
       "    <tr>\n",
       "      <th>2</th>\n",
       "      <td>small_airport</td>\n",
       "      <td>Lowell Field</td>\n",
       "      <td>450.0</td>\n",
       "      <td>NA</td>\n",
       "      <td>Anchor Point</td>\n",
       "      <td>US</td>\n",
       "      <td>AK</td>\n",
       "      <td>-151.695999</td>\n",
       "      <td>59.949200</td>\n",
       "    </tr>\n",
       "    <tr>\n",
       "      <th>3</th>\n",
       "      <td>small_airport</td>\n",
       "      <td>Epps Airpark</td>\n",
       "      <td>820.0</td>\n",
       "      <td>NA</td>\n",
       "      <td>Harvest</td>\n",
       "      <td>US</td>\n",
       "      <td>AL</td>\n",
       "      <td>-86.770302</td>\n",
       "      <td>34.864799</td>\n",
       "    </tr>\n",
       "    <tr>\n",
       "      <th>5</th>\n",
       "      <td>small_airport</td>\n",
       "      <td>Fulton Airport</td>\n",
       "      <td>1100.0</td>\n",
       "      <td>NA</td>\n",
       "      <td>Alex</td>\n",
       "      <td>US</td>\n",
       "      <td>OK</td>\n",
       "      <td>-97.818019</td>\n",
       "      <td>34.942803</td>\n",
       "    </tr>\n",
       "  </tbody>\n",
       "</table>\n",
       "</div>"
      ],
      "text/plain": [
       "            type                  name  elevation_ft continent  municipality  \\\n",
       "0       heliport     Total Rf Heliport          11.0        NA      Bensalem   \n",
       "1  small_airport  Aero B Ranch Airport        3435.0        NA         Leoti   \n",
       "2  small_airport          Lowell Field         450.0        NA  Anchor Point   \n",
       "3  small_airport          Epps Airpark         820.0        NA       Harvest   \n",
       "5  small_airport        Fulton Airport        1100.0        NA          Alex   \n",
       "\n",
       "  Country State   Longitude   Latitude  \n",
       "0      US    PA  -74.933601  40.070801  \n",
       "1      US    KS -101.473911  38.704022  \n",
       "2      US    AK -151.695999  59.949200  \n",
       "3      US    AL  -86.770302  34.864799  \n",
       "5      US    OK  -97.818019  34.942803  "
      ]
     },
     "execution_count": 291,
     "metadata": {},
     "output_type": "execute_result"
    }
   ],
   "source": [
    "df.head()"
   ]
  },
  {
   "cell_type": "code",
   "execution_count": 292,
   "id": "70f4749f-5eb4-4886-9d58-4e9d05af9231",
   "metadata": {},
   "outputs": [],
   "source": [
    "def describe(data, col):\n",
    "    max_v = data[col].max()\n",
    "    min_v = data[col].min()\n",
    "    median_v = data[col].median()\n",
    "    mean_v = data[col].mean()\n",
    "    return \"Max: {}\".format(max_v), \"Min: {}\".format(min_v), \"Median: {}\".format(median_v), \"Mean: {}\".format(mean_v)\n",
    "    "
   ]
  },
  {
   "cell_type": "code",
   "execution_count": 293,
   "id": "4021e349-98be-4867-8073-554571efa4a9",
   "metadata": {},
   "outputs": [
    {
     "data": {
      "text/plain": [
       "('Max: 22000.0', 'Min: -1266.0', 'Median: 879.0', 'Mean: 1270.574942247642')"
      ]
     },
     "execution_count": 293,
     "metadata": {},
     "output_type": "execute_result"
    }
   ],
   "source": [
    "describe(df,'elevation_ft')"
   ]
  },
  {
   "cell_type": "code",
   "execution_count": 294,
   "id": "a16e88e8-f3d4-4a40-88c4-9dc98043cd21",
   "metadata": {},
   "outputs": [],
   "source": [
    "below_avg = []\n",
    "above_avg = []\n",
    "for val in df['elevation_ft']:\n",
    "    if val > 1231:\n",
    "        above_avg.append(val)\n",
    "    else:\n",
    "        below_avg.append(val)"
   ]
  },
  {
   "cell_type": "code",
   "execution_count": 295,
   "id": "60d0cb9f-334d-41d1-bf21-47c9449d371a",
   "metadata": {},
   "outputs": [
    {
     "name": "stdout",
     "output_type": "stream",
     "text": [
      "34376\n"
     ]
    },
    {
     "data": {
      "text/plain": [
       "18666"
      ]
     },
     "execution_count": 295,
     "metadata": {},
     "output_type": "execute_result"
    }
   ],
   "source": [
    "print(len(below_avg))\n",
    "len(above_avg)"
   ]
  },
  {
   "cell_type": "markdown",
   "id": "2e6edb34-454a-4430-92f7-5d17a49846e9",
   "metadata": {},
   "source": [
    "Seems like people build airports in lower elevated place than higher. Why is this?"
   ]
  },
  {
   "cell_type": "code",
   "execution_count": 296,
   "id": "d8af142b-51cb-413c-9140-faea01313a30",
   "metadata": {},
   "outputs": [
    {
     "data": {
      "text/plain": [
       "0        40.070801\n",
       "1        38.704022\n",
       "2        59.949200\n",
       "3        34.864799\n",
       "5        34.942803\n",
       "           ...    \n",
       "57416    40.542524\n",
       "57417    41.784401\n",
       "57418    51.894444\n",
       "57419   -11.584278\n",
       "57420    30.784722\n",
       "Name: Latitude, Length: 53042, dtype: float64"
      ]
     },
     "execution_count": 296,
     "metadata": {},
     "output_type": "execute_result"
    }
   ],
   "source": [
    "df['Longitude'].astype(str).astype(float)\n",
    "df['Latitude'].astype(str).astype(float)"
   ]
  },
  {
   "cell_type": "code",
   "execution_count": 297,
   "id": "f4e7cb3f-4219-4af2-b72b-4de48ce3f9f9",
   "metadata": {},
   "outputs": [
    {
     "data": {
      "text/plain": [
       "type               0\n",
       "name               0\n",
       "elevation_ft       0\n",
       "continent          0\n",
       "municipality    5237\n",
       "Country            0\n",
       "State              0\n",
       "Longitude          0\n",
       "Latitude           0\n",
       "dtype: int64"
      ]
     },
     "execution_count": 297,
     "metadata": {},
     "output_type": "execute_result"
    }
   ],
   "source": [
    "df.isnull().sum()"
   ]
  },
  {
   "cell_type": "markdown",
   "id": "41aa57a6-2ec8-43f9-9467-6c7e5b701372",
   "metadata": {},
   "source": [
    "Not an outlier"
   ]
  },
  {
   "cell_type": "code",
   "execution_count": 298,
   "id": "c3eaae0f-c5b7-4ccd-bb0c-4e15ee810267",
   "metadata": {},
   "outputs": [
    {
     "data": {
      "text/html": [
       "<div>\n",
       "<style scoped>\n",
       "    .dataframe tbody tr th:only-of-type {\n",
       "        vertical-align: middle;\n",
       "    }\n",
       "\n",
       "    .dataframe tbody tr th {\n",
       "        vertical-align: top;\n",
       "    }\n",
       "\n",
       "    .dataframe thead th {\n",
       "        text-align: right;\n",
       "    }\n",
       "</style>\n",
       "<table border=\"1\" class=\"dataframe\">\n",
       "  <thead>\n",
       "    <tr style=\"text-align: right;\">\n",
       "      <th></th>\n",
       "      <th>type</th>\n",
       "      <th>name</th>\n",
       "      <th>elevation_ft</th>\n",
       "      <th>continent</th>\n",
       "      <th>municipality</th>\n",
       "      <th>Country</th>\n",
       "      <th>State</th>\n",
       "      <th>Longitude</th>\n",
       "      <th>Latitude</th>\n",
       "    </tr>\n",
       "  </thead>\n",
       "  <tbody>\n",
       "    <tr>\n",
       "      <th>1550</th>\n",
       "      <td>heliport</td>\n",
       "      <td>Watertown / Brownlee Heliport</td>\n",
       "      <td>1720.000000</td>\n",
       "      <td>NA</td>\n",
       "      <td>NaN</td>\n",
       "      <td>US</td>\n",
       "      <td>SD</td>\n",
       "      <td>-97.108090</td>\n",
       "      <td>44.883265</td>\n",
       "    </tr>\n",
       "    <tr>\n",
       "      <th>2459</th>\n",
       "      <td>heliport</td>\n",
       "      <td>Nordman / Phillabaum Heliport</td>\n",
       "      <td>2440.000000</td>\n",
       "      <td>NA</td>\n",
       "      <td>NaN</td>\n",
       "      <td>US</td>\n",
       "      <td>ID</td>\n",
       "      <td>-116.871175</td>\n",
       "      <td>48.631483</td>\n",
       "    </tr>\n",
       "    <tr>\n",
       "      <th>4417</th>\n",
       "      <td>seaplane_base</td>\n",
       "      <td>Peru / Destiny Cove SPB</td>\n",
       "      <td>580.000000</td>\n",
       "      <td>NA</td>\n",
       "      <td>NaN</td>\n",
       "      <td>US</td>\n",
       "      <td>ME</td>\n",
       "      <td>-70.396957</td>\n",
       "      <td>44.460597</td>\n",
       "    </tr>\n",
       "    <tr>\n",
       "      <th>7690</th>\n",
       "      <td>small_airport</td>\n",
       "      <td>Zadow Airstrip</td>\n",
       "      <td>1349.811397</td>\n",
       "      <td>NA</td>\n",
       "      <td>NaN</td>\n",
       "      <td>US</td>\n",
       "      <td>TX</td>\n",
       "      <td>-95.954354</td>\n",
       "      <td>29.991739</td>\n",
       "    </tr>\n",
       "    <tr>\n",
       "      <th>7926</th>\n",
       "      <td>small_airport</td>\n",
       "      <td>Gun Barrel City Airpark</td>\n",
       "      <td>385.000000</td>\n",
       "      <td>NA</td>\n",
       "      <td>NaN</td>\n",
       "      <td>US</td>\n",
       "      <td>TX</td>\n",
       "      <td>-96.145665</td>\n",
       "      <td>32.355150</td>\n",
       "    </tr>\n",
       "    <tr>\n",
       "      <th>...</th>\n",
       "      <td>...</td>\n",
       "      <td>...</td>\n",
       "      <td>...</td>\n",
       "      <td>...</td>\n",
       "      <td>...</td>\n",
       "      <td>...</td>\n",
       "      <td>...</td>\n",
       "      <td>...</td>\n",
       "      <td>...</td>\n",
       "    </tr>\n",
       "    <tr>\n",
       "      <th>57358</th>\n",
       "      <td>small_airport</td>\n",
       "      <td>Sengwa Research Area Airstrip</td>\n",
       "      <td>1349.811397</td>\n",
       "      <td>AF</td>\n",
       "      <td>NaN</td>\n",
       "      <td>ZW</td>\n",
       "      <td>MN</td>\n",
       "      <td>28.215618</td>\n",
       "      <td>-18.165196</td>\n",
       "    </tr>\n",
       "    <tr>\n",
       "      <th>57359</th>\n",
       "      <td>small_airport</td>\n",
       "      <td>Gokwe North Airport</td>\n",
       "      <td>1349.811397</td>\n",
       "      <td>AF</td>\n",
       "      <td>NaN</td>\n",
       "      <td>ZW</td>\n",
       "      <td>MI</td>\n",
       "      <td>28.330871</td>\n",
       "      <td>-17.537114</td>\n",
       "    </tr>\n",
       "    <tr>\n",
       "      <th>57362</th>\n",
       "      <td>small_airport</td>\n",
       "      <td>Chipinge Farm Airstrip</td>\n",
       "      <td>1349.811397</td>\n",
       "      <td>AF</td>\n",
       "      <td>NaN</td>\n",
       "      <td>ZW</td>\n",
       "      <td>MV</td>\n",
       "      <td>32.203607</td>\n",
       "      <td>-20.460575</td>\n",
       "    </tr>\n",
       "    <tr>\n",
       "      <th>57363</th>\n",
       "      <td>small_airport</td>\n",
       "      <td>Turwi River Airstrip</td>\n",
       "      <td>1349.811397</td>\n",
       "      <td>AF</td>\n",
       "      <td>NaN</td>\n",
       "      <td>ZW</td>\n",
       "      <td>MV</td>\n",
       "      <td>32.109040</td>\n",
       "      <td>-20.395009</td>\n",
       "    </tr>\n",
       "    <tr>\n",
       "      <th>57366</th>\n",
       "      <td>small_airport</td>\n",
       "      <td>Sipepa Airstrip</td>\n",
       "      <td>3270.000000</td>\n",
       "      <td>AF</td>\n",
       "      <td>NaN</td>\n",
       "      <td>ZW</td>\n",
       "      <td>UA</td>\n",
       "      <td>27.648321</td>\n",
       "      <td>-19.280942</td>\n",
       "    </tr>\n",
       "  </tbody>\n",
       "</table>\n",
       "<p>5237 rows × 9 columns</p>\n",
       "</div>"
      ],
      "text/plain": [
       "                type                           name  elevation_ft continent  \\\n",
       "1550        heliport  Watertown / Brownlee Heliport   1720.000000        NA   \n",
       "2459        heliport  Nordman / Phillabaum Heliport   2440.000000        NA   \n",
       "4417   seaplane_base        Peru / Destiny Cove SPB    580.000000        NA   \n",
       "7690   small_airport                 Zadow Airstrip   1349.811397        NA   \n",
       "7926   small_airport        Gun Barrel City Airpark    385.000000        NA   \n",
       "...              ...                            ...           ...       ...   \n",
       "57358  small_airport  Sengwa Research Area Airstrip   1349.811397        AF   \n",
       "57359  small_airport            Gokwe North Airport   1349.811397        AF   \n",
       "57362  small_airport         Chipinge Farm Airstrip   1349.811397        AF   \n",
       "57363  small_airport           Turwi River Airstrip   1349.811397        AF   \n",
       "57366  small_airport                Sipepa Airstrip   3270.000000        AF   \n",
       "\n",
       "      municipality Country State   Longitude   Latitude  \n",
       "1550           NaN      US    SD  -97.108090  44.883265  \n",
       "2459           NaN      US    ID -116.871175  48.631483  \n",
       "4417           NaN      US    ME  -70.396957  44.460597  \n",
       "7690           NaN      US    TX  -95.954354  29.991739  \n",
       "7926           NaN      US    TX  -96.145665  32.355150  \n",
       "...            ...     ...   ...         ...        ...  \n",
       "57358          NaN      ZW    MN   28.215618 -18.165196  \n",
       "57359          NaN      ZW    MI   28.330871 -17.537114  \n",
       "57362          NaN      ZW    MV   32.203607 -20.460575  \n",
       "57363          NaN      ZW    MV   32.109040 -20.395009  \n",
       "57366          NaN      ZW    UA   27.648321 -19.280942  \n",
       "\n",
       "[5237 rows x 9 columns]"
      ]
     },
     "execution_count": 298,
     "metadata": {},
     "output_type": "execute_result"
    }
   ],
   "source": [
    "df[df['municipality'].isnull()]"
   ]
  },
  {
   "cell_type": "code",
   "execution_count": 299,
   "id": "907712fb-41c9-4b4e-9194-337856210d9c",
   "metadata": {},
   "outputs": [],
   "source": [
    "ar_1 = df['municipality'].value_counts().values"
   ]
  },
  {
   "cell_type": "code",
   "execution_count": 300,
   "id": "ff73cb29-41d3-443a-b536-e828356a7dac",
   "metadata": {},
   "outputs": [
    {
     "data": {
      "text/plain": [
       "19741"
      ]
     },
     "execution_count": 300,
     "metadata": {},
     "output_type": "execute_result"
    }
   ],
   "source": [
    "z=0\n",
    "for i in ar_1:\n",
    "    if i == 1:\n",
    "        z+= 1\n",
    "z       "
   ]
  },
  {
   "cell_type": "markdown",
   "id": "859b5021-d2c6-43b5-9c10-1394a72071b7",
   "metadata": {},
   "source": [
    "19741 unique values are identified."
   ]
  },
  {
   "cell_type": "code",
   "execution_count": 301,
   "id": "159b96cf-5e9d-4f48-b496-a974b5ea8e66",
   "metadata": {},
   "outputs": [],
   "source": [
    "df.drop(['name','municipality'], axis=1, inplace = True)"
   ]
  },
  {
   "cell_type": "markdown",
   "id": "2b260449-9200-4d8a-a6c0-e4a461955803",
   "metadata": {},
   "source": [
    "There are too many unqiue values for municipality column."
   ]
  },
  {
   "cell_type": "code",
   "execution_count": 302,
   "id": "8b3219cf-21f1-4d3f-a391-89070b48ca58",
   "metadata": {},
   "outputs": [
    {
     "data": {
      "text/html": [
       "<div>\n",
       "<style scoped>\n",
       "    .dataframe tbody tr th:only-of-type {\n",
       "        vertical-align: middle;\n",
       "    }\n",
       "\n",
       "    .dataframe tbody tr th {\n",
       "        vertical-align: top;\n",
       "    }\n",
       "\n",
       "    .dataframe thead th {\n",
       "        text-align: right;\n",
       "    }\n",
       "</style>\n",
       "<table border=\"1\" class=\"dataframe\">\n",
       "  <thead>\n",
       "    <tr style=\"text-align: right;\">\n",
       "      <th></th>\n",
       "      <th>type</th>\n",
       "      <th>elevation_ft</th>\n",
       "      <th>continent</th>\n",
       "      <th>Country</th>\n",
       "      <th>State</th>\n",
       "      <th>Longitude</th>\n",
       "      <th>Latitude</th>\n",
       "    </tr>\n",
       "  </thead>\n",
       "  <tbody>\n",
       "    <tr>\n",
       "      <th>0</th>\n",
       "      <td>heliport</td>\n",
       "      <td>11.0</td>\n",
       "      <td>NA</td>\n",
       "      <td>US</td>\n",
       "      <td>PA</td>\n",
       "      <td>-74.933601</td>\n",
       "      <td>40.070801</td>\n",
       "    </tr>\n",
       "    <tr>\n",
       "      <th>1</th>\n",
       "      <td>small_airport</td>\n",
       "      <td>3435.0</td>\n",
       "      <td>NA</td>\n",
       "      <td>US</td>\n",
       "      <td>KS</td>\n",
       "      <td>-101.473911</td>\n",
       "      <td>38.704022</td>\n",
       "    </tr>\n",
       "    <tr>\n",
       "      <th>2</th>\n",
       "      <td>small_airport</td>\n",
       "      <td>450.0</td>\n",
       "      <td>NA</td>\n",
       "      <td>US</td>\n",
       "      <td>AK</td>\n",
       "      <td>-151.695999</td>\n",
       "      <td>59.949200</td>\n",
       "    </tr>\n",
       "    <tr>\n",
       "      <th>3</th>\n",
       "      <td>small_airport</td>\n",
       "      <td>820.0</td>\n",
       "      <td>NA</td>\n",
       "      <td>US</td>\n",
       "      <td>AL</td>\n",
       "      <td>-86.770302</td>\n",
       "      <td>34.864799</td>\n",
       "    </tr>\n",
       "    <tr>\n",
       "      <th>5</th>\n",
       "      <td>small_airport</td>\n",
       "      <td>1100.0</td>\n",
       "      <td>NA</td>\n",
       "      <td>US</td>\n",
       "      <td>OK</td>\n",
       "      <td>-97.818019</td>\n",
       "      <td>34.942803</td>\n",
       "    </tr>\n",
       "  </tbody>\n",
       "</table>\n",
       "</div>"
      ],
      "text/plain": [
       "            type  elevation_ft continent Country State   Longitude   Latitude\n",
       "0       heliport          11.0        NA      US    PA  -74.933601  40.070801\n",
       "1  small_airport        3435.0        NA      US    KS -101.473911  38.704022\n",
       "2  small_airport         450.0        NA      US    AK -151.695999  59.949200\n",
       "3  small_airport         820.0        NA      US    AL  -86.770302  34.864799\n",
       "5  small_airport        1100.0        NA      US    OK  -97.818019  34.942803"
      ]
     },
     "execution_count": 302,
     "metadata": {},
     "output_type": "execute_result"
    }
   ],
   "source": [
    "df.head()"
   ]
  },
  {
   "cell_type": "code",
   "execution_count": 303,
   "id": "b63b3a77-3fd2-4877-a82f-d29a8049a8d5",
   "metadata": {},
   "outputs": [
    {
     "data": {
      "text/html": [
       "<div>\n",
       "<style scoped>\n",
       "    .dataframe tbody tr th:only-of-type {\n",
       "        vertical-align: middle;\n",
       "    }\n",
       "\n",
       "    .dataframe tbody tr th {\n",
       "        vertical-align: top;\n",
       "    }\n",
       "\n",
       "    .dataframe thead th {\n",
       "        text-align: right;\n",
       "    }\n",
       "</style>\n",
       "<table border=\"1\" class=\"dataframe\">\n",
       "  <thead>\n",
       "    <tr style=\"text-align: right;\">\n",
       "      <th></th>\n",
       "      <th>count</th>\n",
       "      <th>mean</th>\n",
       "      <th>std</th>\n",
       "      <th>min</th>\n",
       "      <th>25%</th>\n",
       "      <th>50%</th>\n",
       "      <th>75%</th>\n",
       "      <th>max</th>\n",
       "    </tr>\n",
       "    <tr>\n",
       "      <th>type</th>\n",
       "      <th></th>\n",
       "      <th></th>\n",
       "      <th></th>\n",
       "      <th></th>\n",
       "      <th></th>\n",
       "      <th></th>\n",
       "      <th></th>\n",
       "      <th></th>\n",
       "    </tr>\n",
       "  </thead>\n",
       "  <tbody>\n",
       "    <tr>\n",
       "      <th>balloonport</th>\n",
       "      <td>24.0</td>\n",
       "      <td>1089.000000</td>\n",
       "      <td>1377.878205</td>\n",
       "      <td>37.0</td>\n",
       "      <td>322.50</td>\n",
       "      <td>940.000000</td>\n",
       "      <td>1089.0000</td>\n",
       "      <td>5624.0</td>\n",
       "    </tr>\n",
       "    <tr>\n",
       "      <th>heliport</th>\n",
       "      <td>12028.0</td>\n",
       "      <td>1199.739048</td>\n",
       "      <td>1574.350775</td>\n",
       "      <td>-117.0</td>\n",
       "      <td>200.00</td>\n",
       "      <td>808.000000</td>\n",
       "      <td>1199.3771</td>\n",
       "      <td>22000.0</td>\n",
       "    </tr>\n",
       "    <tr>\n",
       "      <th>large_airport</th>\n",
       "      <td>616.0</td>\n",
       "      <td>799.177656</td>\n",
       "      <td>1369.507381</td>\n",
       "      <td>-11.0</td>\n",
       "      <td>59.00</td>\n",
       "      <td>283.000000</td>\n",
       "      <td>816.5000</td>\n",
       "      <td>10860.0</td>\n",
       "    </tr>\n",
       "    <tr>\n",
       "      <th>medium_airport</th>\n",
       "      <td>4536.0</td>\n",
       "      <td>1053.869741</td>\n",
       "      <td>1639.493031</td>\n",
       "      <td>-1266.0</td>\n",
       "      <td>85.00</td>\n",
       "      <td>428.500000</td>\n",
       "      <td>1175.0000</td>\n",
       "      <td>14472.0</td>\n",
       "    </tr>\n",
       "    <tr>\n",
       "      <th>seaplane_base</th>\n",
       "      <td>1030.0</td>\n",
       "      <td>649.716329</td>\n",
       "      <td>602.566845</td>\n",
       "      <td>-1.0</td>\n",
       "      <td>134.75</td>\n",
       "      <td>649.716329</td>\n",
       "      <td>890.0000</td>\n",
       "      <td>6534.0</td>\n",
       "    </tr>\n",
       "    <tr>\n",
       "      <th>small_airport</th>\n",
       "      <td>34808.0</td>\n",
       "      <td>1350.131706</td>\n",
       "      <td>1501.021729</td>\n",
       "      <td>-210.0</td>\n",
       "      <td>367.00</td>\n",
       "      <td>978.000000</td>\n",
       "      <td>1478.0000</td>\n",
       "      <td>16200.0</td>\n",
       "    </tr>\n",
       "  </tbody>\n",
       "</table>\n",
       "</div>"
      ],
      "text/plain": [
       "                  count         mean          std     min     25%         50%  \\\n",
       "type                                                                            \n",
       "balloonport        24.0  1089.000000  1377.878205    37.0  322.50  940.000000   \n",
       "heliport        12028.0  1199.739048  1574.350775  -117.0  200.00  808.000000   \n",
       "large_airport     616.0   799.177656  1369.507381   -11.0   59.00  283.000000   \n",
       "medium_airport   4536.0  1053.869741  1639.493031 -1266.0   85.00  428.500000   \n",
       "seaplane_base    1030.0   649.716329   602.566845    -1.0  134.75  649.716329   \n",
       "small_airport   34808.0  1350.131706  1501.021729  -210.0  367.00  978.000000   \n",
       "\n",
       "                      75%      max  \n",
       "type                                \n",
       "balloonport     1089.0000   5624.0  \n",
       "heliport        1199.3771  22000.0  \n",
       "large_airport    816.5000  10860.0  \n",
       "medium_airport  1175.0000  14472.0  \n",
       "seaplane_base    890.0000   6534.0  \n",
       "small_airport   1478.0000  16200.0  "
      ]
     },
     "execution_count": 303,
     "metadata": {},
     "output_type": "execute_result"
    }
   ],
   "source": [
    "df.groupby('type')['elevation_ft'].describe()"
   ]
  },
  {
   "cell_type": "markdown",
   "id": "c9790ea9-113f-4a18-b5b9-99a282f6b98e",
   "metadata": {},
   "source": [
    "seaplane_base and large_airport has lower elevation level"
   ]
  },
  {
   "cell_type": "code",
   "execution_count": 304,
   "id": "c6663ca5-df9d-40c0-b88f-2f1e2245c534",
   "metadata": {},
   "outputs": [
    {
     "data": {
      "text/html": [
       "<div>\n",
       "<style scoped>\n",
       "    .dataframe tbody tr th:only-of-type {\n",
       "        vertical-align: middle;\n",
       "    }\n",
       "\n",
       "    .dataframe tbody tr th {\n",
       "        vertical-align: top;\n",
       "    }\n",
       "\n",
       "    .dataframe thead th {\n",
       "        text-align: right;\n",
       "    }\n",
       "</style>\n",
       "<table border=\"1\" class=\"dataframe\">\n",
       "  <thead>\n",
       "    <tr style=\"text-align: right;\">\n",
       "      <th></th>\n",
       "      <th>type</th>\n",
       "      <th>elevation_ft</th>\n",
       "      <th>continent</th>\n",
       "      <th>Country</th>\n",
       "      <th>State</th>\n",
       "      <th>Longitude</th>\n",
       "      <th>Latitude</th>\n",
       "    </tr>\n",
       "  </thead>\n",
       "  <tbody>\n",
       "    <tr>\n",
       "      <th>0</th>\n",
       "      <td>heliport</td>\n",
       "      <td>11.0</td>\n",
       "      <td>NA</td>\n",
       "      <td>US</td>\n",
       "      <td>PA</td>\n",
       "      <td>-74.933601</td>\n",
       "      <td>40.070801</td>\n",
       "    </tr>\n",
       "    <tr>\n",
       "      <th>1</th>\n",
       "      <td>small_airport</td>\n",
       "      <td>3435.0</td>\n",
       "      <td>NA</td>\n",
       "      <td>US</td>\n",
       "      <td>KS</td>\n",
       "      <td>-101.473911</td>\n",
       "      <td>38.704022</td>\n",
       "    </tr>\n",
       "    <tr>\n",
       "      <th>2</th>\n",
       "      <td>small_airport</td>\n",
       "      <td>450.0</td>\n",
       "      <td>NA</td>\n",
       "      <td>US</td>\n",
       "      <td>AK</td>\n",
       "      <td>-151.695999</td>\n",
       "      <td>59.949200</td>\n",
       "    </tr>\n",
       "    <tr>\n",
       "      <th>3</th>\n",
       "      <td>small_airport</td>\n",
       "      <td>820.0</td>\n",
       "      <td>NA</td>\n",
       "      <td>US</td>\n",
       "      <td>AL</td>\n",
       "      <td>-86.770302</td>\n",
       "      <td>34.864799</td>\n",
       "    </tr>\n",
       "    <tr>\n",
       "      <th>5</th>\n",
       "      <td>small_airport</td>\n",
       "      <td>1100.0</td>\n",
       "      <td>NA</td>\n",
       "      <td>US</td>\n",
       "      <td>OK</td>\n",
       "      <td>-97.818019</td>\n",
       "      <td>34.942803</td>\n",
       "    </tr>\n",
       "  </tbody>\n",
       "</table>\n",
       "</div>"
      ],
      "text/plain": [
       "            type  elevation_ft continent Country State   Longitude   Latitude\n",
       "0       heliport          11.0        NA      US    PA  -74.933601  40.070801\n",
       "1  small_airport        3435.0        NA      US    KS -101.473911  38.704022\n",
       "2  small_airport         450.0        NA      US    AK -151.695999  59.949200\n",
       "3  small_airport         820.0        NA      US    AL  -86.770302  34.864799\n",
       "5  small_airport        1100.0        NA      US    OK  -97.818019  34.942803"
      ]
     },
     "execution_count": 304,
     "metadata": {},
     "output_type": "execute_result"
    }
   ],
   "source": [
    "df.head()"
   ]
  },
  {
   "cell_type": "markdown",
   "id": "ddabe7f3-a4a4-4e51-80f2-7b03e7a3b325",
   "metadata": {},
   "source": [
    "It seems like we got a clean data now. Let's check the outliers for elevation_ft one more time and see if we can go on to the next step"
   ]
  },
  {
   "cell_type": "code",
   "execution_count": 305,
   "id": "e51ea5c1-076e-48c5-998c-acb8362f6a5d",
   "metadata": {},
   "outputs": [
    {
     "data": {
      "image/png": "[encoded data removed]",
      "text/plain": [
       "<Figure size 720x720 with 1 Axes>"
      ]
     },
     "metadata": {
      "needs_background": "light"
     },
     "output_type": "display_data"
    }
   ],
   "source": [
    "plt.figure(figsize=(10,10))\n",
    "sns.boxplot(x = 'type', y = 'elevation_ft', data=df)\n",
    "plt.xlabel('Type of airports')\n",
    "plt.ylabel('Elevation in ft')\n",
    "plt.show()"
   ]
  },
  {
   "cell_type": "markdown",
   "id": "d80a258b-95e8-41bc-bf6c-25885f38a9bc",
   "metadata": {},
   "source": [
    "There are still few outliers but I identified them as true values. Not fraud"
   ]
  },
  {
   "cell_type": "markdown",
   "id": "6535726c-66cd-41ef-bf66-f24c5366f0ac",
   "metadata": {},
   "source": [
    "Now lets go back to the state column. We can identify numeric values for the state column and I will remove these columns. "
   ]
  },
  {
   "cell_type": "code",
   "execution_count": 306,
   "id": "b8f42a76-6ad3-4af3-864a-e25dc811223b",
   "metadata": {},
   "outputs": [
    {
     "data": {
      "text/plain": [
       "Int64Index([10426, 10427, 10431, 10456, 10459, 10476, 10516, 10738, 10740,\n",
       "            11561,\n",
       "            ...\n",
       "            57409, 57410, 57411, 57412, 57413, 57414, 57415, 57416, 57417,\n",
       "            57420],\n",
       "           dtype='int64', length=6167)"
      ]
     },
     "execution_count": 306,
     "metadata": {},
     "output_type": "execute_result"
    }
   ],
   "source": [
    "index_digit = df[df['State'].apply(lambda x: x.isdigit())].index\n",
    "index_digit"
   ]
  },
  {
   "cell_type": "code",
   "execution_count": 307,
   "id": "90aa621d-b848-4b41-a7e2-d9ca62cb81cb",
   "metadata": {},
   "outputs": [],
   "source": [
    "df.drop(index_digit, inplace = True)"
   ]
  },
  {
   "cell_type": "code",
   "execution_count": 308,
   "id": "8116f141-0298-4810-a1b2-a29cd4ecadbd",
   "metadata": {},
   "outputs": [
    {
     "data": {
      "text/plain": [
       "array(['heliport', 'small_airport', 'seaplane_base', 'balloonport',\n",
       "       'medium_airport', 'large_airport'], dtype=object)"
      ]
     },
     "execution_count": 308,
     "metadata": {},
     "output_type": "execute_result"
    }
   ],
   "source": [
    "df['type'].unique()"
   ]
  },
  {
   "cell_type": "markdown",
   "id": "a6b7a783-6ab5-4fa5-9a80-a86d3a11b2a9",
   "metadata": {},
   "source": [
    "The data is clean enough with good object types to go to the next step which is EDA. "
   ]
  },
  {
   "cell_type": "markdown",
   "id": "0c6eca64-1f75-4514-8d6e-b6517b68ba14",
   "metadata": {},
   "source": [
    "# EDA"
   ]
  },
  {
   "cell_type": "code",
   "execution_count": 309,
   "id": "cf8bcee5-0ee0-4190-88c2-5b8e788841b2",
   "metadata": {},
   "outputs": [],
   "source": [
    "def ecdf(data):\n",
    "    x = np.sort(data)\n",
    "    y = np.arange(1,len(data)+1)/len(data)\n",
    "    return x,y"
   ]
  },
  {
   "cell_type": "code",
   "execution_count": 310,
   "id": "e58652b4-5801-4e22-9f2b-9eb5868639fc",
   "metadata": {},
   "outputs": [],
   "source": [
    "def ecdf_plot_elevation_ft(data):\n",
    "    plt.figure(figsize=(10,10))\n",
    "    for i in range(len(mean_df_f)):\n",
    "        hx,hy = ecdf(df['elevation_ft'][df.type == data.airport[i]])\n",
    "        plt.plot(hx,hy,marker='.',linestyle='none')\n",
    "    plt.title('ECDF plot of Elevation (ft) in heliport')\n",
    "    plt.xlabel('Elevation in feat')\n",
    "    plt.ylabel('% of heliport')\n",
    "    plt.legend(data.airport)\n",
    "    plt.margins(x=0.1)\n",
    "    plt.show()"
   ]
  },
  {
   "cell_type": "code",
   "execution_count": 311,
   "id": "9b5a2df2-0726-40cc-8761-0bababb5501e",
   "metadata": {},
   "outputs": [
    {
     "data": {
      "image/png": "[encoded data removed]",
      "text/plain": [
       "<Figure size 720x720 with 1 Axes>"
      ]
     },
     "metadata": {
      "needs_background": "light"
     },
     "output_type": "display_data"
    }
   ],
   "source": [
    "ecdf_plot_elevation_ft(mean_df_f)"
   ]
  },
  {
   "cell_type": "markdown",
   "id": "42e8d6cb-6018-45b8-95f5-77cf01867ddd",
   "metadata": {},
   "source": [
    "So 85% of the airport has all the data points within the elevation feet 5000. "
   ]
  },
  {
   "cell_type": "code",
   "execution_count": 312,
   "id": "c19024c7-2918-4bcc-838f-062970013748",
   "metadata": {},
   "outputs": [
    {
     "data": {
      "image/png": "[encoded data removed]",
      "text/plain": [
       "<Figure size 720x720 with 1 Axes>"
      ]
     },
     "metadata": {
      "needs_background": "light"
     },
     "output_type": "display_data"
    }
   ],
   "source": [
    "import seaborn as sns\n",
    "import matplotlib.pyplot as plt\n",
    "plt.figure(figsize=(10,10))\n",
    "sns.boxplot(x='type', y ='elevation_ft', data = df, hue ='type', width = 0.9, linewidth = 0.5)\n",
    "plt.title('platform vs rating')\n",
    "plt.show()"
   ]
  },
  {
   "cell_type": "markdown",
   "id": "a9ef86b8-b560-41c5-be8b-47c93702945b",
   "metadata": {},
   "source": [
    "How come smaller airport are built in higher elevation feet? Are heliport, seaplane_base, and balloon port considered as small or large airports?"
   ]
  },
  {
   "cell_type": "markdown",
   "id": "54708a88-e646-4717-9922-28119c009eb8",
   "metadata": {},
   "source": [
    "First, I want to see what kind of airports are mostly seen in each continents. We can have multiple assumptions about this. Probably because of the weather? Or is it just because it's hard to build big airports in a higher elevation height?"
   ]
  },
  {
   "cell_type": "markdown",
   "id": "2219db6e-81af-4d7b-b609-8e0ad1066465",
   "metadata": {},
   "source": [
    "Both of these assumptions makes sense bet let's dig deeper to know better"
   ]
  },
  {
   "cell_type": "code",
   "execution_count": 313,
   "id": "0e06b6a3-0cc7-4937-8faf-f917ebbaf194",
   "metadata": {},
   "outputs": [
    {
     "data": {
      "text/html": [
       "<div>\n",
       "<style scoped>\n",
       "    .dataframe tbody tr th:only-of-type {\n",
       "        vertical-align: middle;\n",
       "    }\n",
       "\n",
       "    .dataframe tbody tr th {\n",
       "        vertical-align: top;\n",
       "    }\n",
       "\n",
       "    .dataframe thead th {\n",
       "        text-align: right;\n",
       "    }\n",
       "</style>\n",
       "<table border=\"1\" class=\"dataframe\">\n",
       "  <thead>\n",
       "    <tr style=\"text-align: right;\">\n",
       "      <th></th>\n",
       "      <th>type</th>\n",
       "      <th>elevation_ft</th>\n",
       "      <th>continent</th>\n",
       "      <th>Country</th>\n",
       "      <th>State</th>\n",
       "      <th>Longitude</th>\n",
       "      <th>Latitude</th>\n",
       "    </tr>\n",
       "  </thead>\n",
       "  <tbody>\n",
       "    <tr>\n",
       "      <th>0</th>\n",
       "      <td>heliport</td>\n",
       "      <td>11.0</td>\n",
       "      <td>NA</td>\n",
       "      <td>US</td>\n",
       "      <td>PA</td>\n",
       "      <td>-74.933601</td>\n",
       "      <td>40.070801</td>\n",
       "    </tr>\n",
       "    <tr>\n",
       "      <th>1</th>\n",
       "      <td>small_airport</td>\n",
       "      <td>3435.0</td>\n",
       "      <td>NA</td>\n",
       "      <td>US</td>\n",
       "      <td>KS</td>\n",
       "      <td>-101.473911</td>\n",
       "      <td>38.704022</td>\n",
       "    </tr>\n",
       "    <tr>\n",
       "      <th>2</th>\n",
       "      <td>small_airport</td>\n",
       "      <td>450.0</td>\n",
       "      <td>NA</td>\n",
       "      <td>US</td>\n",
       "      <td>AK</td>\n",
       "      <td>-151.695999</td>\n",
       "      <td>59.949200</td>\n",
       "    </tr>\n",
       "    <tr>\n",
       "      <th>3</th>\n",
       "      <td>small_airport</td>\n",
       "      <td>820.0</td>\n",
       "      <td>NA</td>\n",
       "      <td>US</td>\n",
       "      <td>AL</td>\n",
       "      <td>-86.770302</td>\n",
       "      <td>34.864799</td>\n",
       "    </tr>\n",
       "    <tr>\n",
       "      <th>5</th>\n",
       "      <td>small_airport</td>\n",
       "      <td>1100.0</td>\n",
       "      <td>NA</td>\n",
       "      <td>US</td>\n",
       "      <td>OK</td>\n",
       "      <td>-97.818019</td>\n",
       "      <td>34.942803</td>\n",
       "    </tr>\n",
       "  </tbody>\n",
       "</table>\n",
       "</div>"
      ],
      "text/plain": [
       "            type  elevation_ft continent Country State   Longitude   Latitude\n",
       "0       heliport          11.0        NA      US    PA  -74.933601  40.070801\n",
       "1  small_airport        3435.0        NA      US    KS -101.473911  38.704022\n",
       "2  small_airport         450.0        NA      US    AK -151.695999  59.949200\n",
       "3  small_airport         820.0        NA      US    AL  -86.770302  34.864799\n",
       "5  small_airport        1100.0        NA      US    OK  -97.818019  34.942803"
      ]
     },
     "execution_count": 313,
     "metadata": {},
     "output_type": "execute_result"
    }
   ],
   "source": [
    "df.head()"
   ]
  },
  {
   "cell_type": "code",
   "execution_count": 314,
   "id": "b75f9e7f-6e69-458b-82d5-ee15beb411a7",
   "metadata": {},
   "outputs": [
    {
     "data": {
      "text/plain": [
       "type            continent\n",
       "small_airport   NA           15651\n",
       "heliport        NA            7110\n",
       "small_airport   SA            6100\n",
       "                EU            3923\n",
       "                OC            2362\n",
       "                AF            1893\n",
       "heliport        SA            1622\n",
       "small_airport   AS            1459\n",
       "medium_airport  NA            1093\n",
       "seaplane_base   NA             956\n",
       "heliport        EU             848\n",
       "medium_airport  EU             686\n",
       "                AS             544\n",
       "                SA             397\n",
       "                AF             319\n",
       "                OC             307\n",
       "heliport        OC             302\n",
       "                AS             281\n",
       "large_airport   NA             190\n",
       "small_airport   A              187\n",
       "                CA             140\n",
       "large_airport   EU             111\n",
       "medium_airport  A               88\n",
       "large_airport   AS              67\n",
       "heliport        A               40\n",
       "large_airport   AF              34\n",
       "seaplane_base   EU              23\n",
       "large_airport   SA              22\n",
       "small_airport   AN              22\n",
       "balloonport     NA              17\n",
       "large_airport   OC              13\n",
       "seaplane_base   OC              11\n",
       "large_airport   A                8\n",
       "medium_airport  CA               8\n",
       "seaplane_base   A                8\n",
       "heliport        AF               8\n",
       "seaplane_base   AS               7\n",
       "balloonport     EU               6\n",
       "heliport        CA               5\n",
       "medium_airport  AN               4\n",
       "seaplane_base   SA               1\n",
       "balloonport     SA               1\n",
       "seaplane_base   AF               1\n",
       "Name: continent, dtype: int64"
      ]
     },
     "execution_count": 314,
     "metadata": {},
     "output_type": "execute_result"
    }
   ],
   "source": [
    "df.groupby(by = ['type','continent'])['continent'].count().sort_values(ascending = False)"
   ]
  },
  {
   "cell_type": "code",
   "execution_count": 315,
   "id": "6b496aa2-1e9c-41e7-b85f-ac64d444bc10",
   "metadata": {},
   "outputs": [
    {
     "data": {
      "text/plain": [
       "type            Country\n",
       "small_airport   US         13559\n",
       "heliport        US          6315\n",
       "small_airport   BR          3489\n",
       "                AU          1559\n",
       "heliport        BR          1243\n",
       "small_airport   CA          1005\n",
       "                MX           964\n",
       "                GB           802\n",
       "                DE           750\n",
       "medium_airport  US           687\n",
       "Name: Country, dtype: int64"
      ]
     },
     "execution_count": 315,
     "metadata": {},
     "output_type": "execute_result"
    }
   ],
   "source": [
    "df.groupby(by = ['type','Country'])['Country'].count().sort_values(ascending = False).head(10)"
   ]
  },
  {
   "cell_type": "code",
   "execution_count": 316,
   "id": "a11e3b11-4562-4acf-b601-ec13821daf40",
   "metadata": {},
   "outputs": [
    {
     "data": {
      "text/plain": [
       "array(['heliport', 'small_airport', 'seaplane_base', 'balloonport',\n",
       "       'medium_airport', 'large_airport'], dtype=object)"
      ]
     },
     "execution_count": 316,
     "metadata": {},
     "output_type": "execute_result"
    }
   ],
   "source": [
    "df.type.unique()"
   ]
  },
  {
   "cell_type": "code",
   "execution_count": 317,
   "id": "bb8a861d-80eb-41d7-b5d5-491e4ba72092",
   "metadata": {},
   "outputs": [],
   "source": [
    "#Do this for all the airport types and find the mean. and then perform the anova test.\n",
    "def sample(airport):\n",
    "    airport_sample = [np.random.choice(df[df['type']== airport]['elevation_ft'], 30).mean() for i in range(1000)]\n",
    "    return airport_sample"
   ]
  },
  {
   "cell_type": "code",
   "execution_count": 318,
   "id": "9cea3677-8129-46e3-b6ec-fa0f2a5e8d8a",
   "metadata": {},
   "outputs": [],
   "source": [
    "sample_airport_df = pd.DataFrame({'heliport':sample('heliport'),'small_airport': sample('small_airport'),\n",
    "                                 'seaplane_base':sample('seaplane_base'), 'balloonport':sample('balloonport'), \n",
    "                                  'medium_airport':sample('medium_airport'), 'large_airport':sample('large_airport')\n",
    "})"
   ]
  },
  {
   "cell_type": "code",
   "execution_count": 319,
   "id": "7505a28e-7ade-4b4c-9768-a4983024bced",
   "metadata": {},
   "outputs": [
    {
     "data": {
      "text/html": [
       "<div>\n",
       "<style scoped>\n",
       "    .dataframe tbody tr th:only-of-type {\n",
       "        vertical-align: middle;\n",
       "    }\n",
       "\n",
       "    .dataframe tbody tr th {\n",
       "        vertical-align: top;\n",
       "    }\n",
       "\n",
       "    .dataframe thead th {\n",
       "        text-align: right;\n",
       "    }\n",
       "</style>\n",
       "<table border=\"1\" class=\"dataframe\">\n",
       "  <thead>\n",
       "    <tr style=\"text-align: right;\">\n",
       "      <th></th>\n",
       "      <th>heliport</th>\n",
       "      <th>small_airport</th>\n",
       "      <th>seaplane_base</th>\n",
       "      <th>balloonport</th>\n",
       "      <th>medium_airport</th>\n",
       "      <th>large_airport</th>\n",
       "    </tr>\n",
       "  </thead>\n",
       "  <tbody>\n",
       "    <tr>\n",
       "      <th>0</th>\n",
       "      <td>1358.758473</td>\n",
       "      <td>1150.493713</td>\n",
       "      <td>676.267143</td>\n",
       "      <td>1204.233333</td>\n",
       "      <td>788.806657</td>\n",
       "      <td>1099.333333</td>\n",
       "    </tr>\n",
       "    <tr>\n",
       "      <th>1</th>\n",
       "      <td>1094.912570</td>\n",
       "      <td>1589.960380</td>\n",
       "      <td>575.576599</td>\n",
       "      <td>950.566667</td>\n",
       "      <td>1147.439991</td>\n",
       "      <td>722.833333</td>\n",
       "    </tr>\n",
       "    <tr>\n",
       "      <th>2</th>\n",
       "      <td>1292.071043</td>\n",
       "      <td>1910.589326</td>\n",
       "      <td>663.128844</td>\n",
       "      <td>1375.100000</td>\n",
       "      <td>1054.166667</td>\n",
       "      <td>1315.566667</td>\n",
       "    </tr>\n",
       "    <tr>\n",
       "      <th>3</th>\n",
       "      <td>1632.333333</td>\n",
       "      <td>1066.927047</td>\n",
       "      <td>580.995511</td>\n",
       "      <td>899.500000</td>\n",
       "      <td>1364.200000</td>\n",
       "      <td>1110.666667</td>\n",
       "    </tr>\n",
       "    <tr>\n",
       "      <th>4</th>\n",
       "      <td>940.779237</td>\n",
       "      <td>1420.028946</td>\n",
       "      <td>563.409932</td>\n",
       "      <td>1152.933333</td>\n",
       "      <td>1074.806657</td>\n",
       "      <td>499.266667</td>\n",
       "    </tr>\n",
       "    <tr>\n",
       "      <th>...</th>\n",
       "      <td>...</td>\n",
       "      <td>...</td>\n",
       "      <td>...</td>\n",
       "      <td>...</td>\n",
       "      <td>...</td>\n",
       "      <td>...</td>\n",
       "    </tr>\n",
       "    <tr>\n",
       "      <th>995</th>\n",
       "      <td>1236.345903</td>\n",
       "      <td>1115.220760</td>\n",
       "      <td>574.909932</td>\n",
       "      <td>1398.166667</td>\n",
       "      <td>1230.000000</td>\n",
       "      <td>656.200000</td>\n",
       "    </tr>\n",
       "    <tr>\n",
       "      <th>996</th>\n",
       "      <td>1204.304377</td>\n",
       "      <td>1400.668566</td>\n",
       "      <td>645.886055</td>\n",
       "      <td>1121.800000</td>\n",
       "      <td>664.200000</td>\n",
       "      <td>699.335410</td>\n",
       "    </tr>\n",
       "    <tr>\n",
       "      <th>997</th>\n",
       "      <td>1269.925140</td>\n",
       "      <td>1437.327047</td>\n",
       "      <td>563.219388</td>\n",
       "      <td>958.300000</td>\n",
       "      <td>1312.733333</td>\n",
       "      <td>633.633333</td>\n",
       "    </tr>\n",
       "    <tr>\n",
       "      <th>998</th>\n",
       "      <td>2173.758473</td>\n",
       "      <td>1302.835233</td>\n",
       "      <td>680.757688</td>\n",
       "      <td>1151.900000</td>\n",
       "      <td>758.700000</td>\n",
       "      <td>482.833333</td>\n",
       "    </tr>\n",
       "    <tr>\n",
       "      <th>999</th>\n",
       "      <td>1474.125140</td>\n",
       "      <td>1878.560380</td>\n",
       "      <td>523.619388</td>\n",
       "      <td>1195.466667</td>\n",
       "      <td>1200.366667</td>\n",
       "      <td>685.733333</td>\n",
       "    </tr>\n",
       "  </tbody>\n",
       "</table>\n",
       "<p>1000 rows × 6 columns</p>\n",
       "</div>"
      ],
      "text/plain": [
       "        heliport  small_airport  seaplane_base  balloonport  medium_airport  \\\n",
       "0    1358.758473    1150.493713     676.267143  1204.233333      788.806657   \n",
       "1    1094.912570    1589.960380     575.576599   950.566667     1147.439991   \n",
       "2    1292.071043    1910.589326     663.128844  1375.100000     1054.166667   \n",
       "3    1632.333333    1066.927047     580.995511   899.500000     1364.200000   \n",
       "4     940.779237    1420.028946     563.409932  1152.933333     1074.806657   \n",
       "..           ...            ...            ...          ...             ...   \n",
       "995  1236.345903    1115.220760     574.909932  1398.166667     1230.000000   \n",
       "996  1204.304377    1400.668566     645.886055  1121.800000      664.200000   \n",
       "997  1269.925140    1437.327047     563.219388   958.300000     1312.733333   \n",
       "998  2173.758473    1302.835233     680.757688  1151.900000      758.700000   \n",
       "999  1474.125140    1878.560380     523.619388  1195.466667     1200.366667   \n",
       "\n",
       "     large_airport  \n",
       "0      1099.333333  \n",
       "1       722.833333  \n",
       "2      1315.566667  \n",
       "3      1110.666667  \n",
       "4       499.266667  \n",
       "..             ...  \n",
       "995     656.200000  \n",
       "996     699.335410  \n",
       "997     633.633333  \n",
       "998     482.833333  \n",
       "999     685.733333  \n",
       "\n",
       "[1000 rows x 6 columns]"
      ]
     },
     "execution_count": 319,
     "metadata": {},
     "output_type": "execute_result"
    }
   ],
   "source": [
    "sample_airport_df"
   ]
  },
  {
   "cell_type": "markdown",
   "id": "c5ff52f5-0494-4430-94d4-57f1207af38d",
   "metadata": {},
   "source": [
    "melt the data to make plots"
   ]
  },
  {
   "cell_type": "code",
   "execution_count": 320,
   "id": "ded5a125-0b0e-4b07-a55b-ba3897094d36",
   "metadata": {},
   "outputs": [
    {
     "data": {
      "text/html": [
       "<div>\n",
       "<style scoped>\n",
       "    .dataframe tbody tr th:only-of-type {\n",
       "        vertical-align: middle;\n",
       "    }\n",
       "\n",
       "    .dataframe tbody tr th {\n",
       "        vertical-align: top;\n",
       "    }\n",
       "\n",
       "    .dataframe thead th {\n",
       "        text-align: right;\n",
       "    }\n",
       "</style>\n",
       "<table border=\"1\" class=\"dataframe\">\n",
       "  <thead>\n",
       "    <tr style=\"text-align: right;\">\n",
       "      <th></th>\n",
       "      <th>type</th>\n",
       "      <th>elevation_ft</th>\n",
       "    </tr>\n",
       "  </thead>\n",
       "  <tbody>\n",
       "    <tr>\n",
       "      <th>0</th>\n",
       "      <td>heliport</td>\n",
       "      <td>1358.758473</td>\n",
       "    </tr>\n",
       "    <tr>\n",
       "      <th>1</th>\n",
       "      <td>heliport</td>\n",
       "      <td>1094.912570</td>\n",
       "    </tr>\n",
       "    <tr>\n",
       "      <th>2</th>\n",
       "      <td>heliport</td>\n",
       "      <td>1292.071043</td>\n",
       "    </tr>\n",
       "    <tr>\n",
       "      <th>3</th>\n",
       "      <td>heliport</td>\n",
       "      <td>1632.333333</td>\n",
       "    </tr>\n",
       "    <tr>\n",
       "      <th>4</th>\n",
       "      <td>heliport</td>\n",
       "      <td>940.779237</td>\n",
       "    </tr>\n",
       "    <tr>\n",
       "      <th>...</th>\n",
       "      <td>...</td>\n",
       "      <td>...</td>\n",
       "    </tr>\n",
       "    <tr>\n",
       "      <th>5995</th>\n",
       "      <td>large_airport</td>\n",
       "      <td>656.200000</td>\n",
       "    </tr>\n",
       "    <tr>\n",
       "      <th>5996</th>\n",
       "      <td>large_airport</td>\n",
       "      <td>699.335410</td>\n",
       "    </tr>\n",
       "    <tr>\n",
       "      <th>5997</th>\n",
       "      <td>large_airport</td>\n",
       "      <td>633.633333</td>\n",
       "    </tr>\n",
       "    <tr>\n",
       "      <th>5998</th>\n",
       "      <td>large_airport</td>\n",
       "      <td>482.833333</td>\n",
       "    </tr>\n",
       "    <tr>\n",
       "      <th>5999</th>\n",
       "      <td>large_airport</td>\n",
       "      <td>685.733333</td>\n",
       "    </tr>\n",
       "  </tbody>\n",
       "</table>\n",
       "<p>6000 rows × 2 columns</p>\n",
       "</div>"
      ],
      "text/plain": [
       "               type  elevation_ft\n",
       "0          heliport   1358.758473\n",
       "1          heliport   1094.912570\n",
       "2          heliport   1292.071043\n",
       "3          heliport   1632.333333\n",
       "4          heliport    940.779237\n",
       "...             ...           ...\n",
       "5995  large_airport    656.200000\n",
       "5996  large_airport    699.335410\n",
       "5997  large_airport    633.633333\n",
       "5998  large_airport    482.833333\n",
       "5999  large_airport    685.733333\n",
       "\n",
       "[6000 rows x 2 columns]"
      ]
     },
     "execution_count": 320,
     "metadata": {},
     "output_type": "execute_result"
    }
   ],
   "source": [
    "df_melt = pd.melt(sample_airport_df, var_name='type', value_name='elevation_ft')\n",
    "df_melt"
   ]
  },
  {
   "cell_type": "code",
   "execution_count": 321,
   "id": "7901521e-b2e3-4ad6-85d1-b7cdb5555ac0",
   "metadata": {},
   "outputs": [
    {
     "data": {
      "text/plain": [
       "<seaborn.axisgrid.FacetGrid at 0x7ff0d0e0a700>"
      ]
     },
     "execution_count": 321,
     "metadata": {},
     "output_type": "execute_result"
    },
    {
     "data": {
      "text/plain": [
       "<Figure size 720x720 with 0 Axes>"
      ]
     },
     "metadata": {},
     "output_type": "display_data"
    },
    {
     "data": {
      "image/png": "[encoded data removed]",
      "text/plain": [
       "<Figure size 360x360 with 1 Axes>"
      ]
     },
     "metadata": {
      "needs_background": "light"
     },
     "output_type": "display_data"
    }
   ],
   "source": [
    "plt.figure(figsize=(10,10))\n",
    "sns.catplot(x = 'type', y= 'elevation_ft', data = df, hue = 'type', kind = 'box')"
   ]
  },
  {
   "cell_type": "markdown",
   "id": "6434fdae-5fd1-4861-9a08-9ce40ec07d8f",
   "metadata": {},
   "source": [
    "I see that balloonport has too less data and since I sampled the data, balloon port has high elevation feet."
   ]
  },
  {
   "cell_type": "markdown",
   "id": "e60c9294-c7c1-4e21-81c7-013a7545dd5c",
   "metadata": {},
   "source": [
    "Now we will perform a one way ANOVA to prove the mean values have statistical difference between all groups"
   ]
  },
  {
   "cell_type": "code",
   "execution_count": 322,
   "id": "ccf71316-0764-4c84-9da2-3f2e387a3736",
   "metadata": {},
   "outputs": [],
   "source": [
    "import scipy.stats as stats"
   ]
  },
  {
   "cell_type": "code",
   "execution_count": 323,
   "id": "b5f2eb92-1137-41ea-ae4c-f16dbb2ec6d9",
   "metadata": {},
   "outputs": [],
   "source": [
    "fvalue, pvalue = stats.f_oneway(sample_airport_df['heliport'],sample_airport_df['small_airport'],\n",
    "                               sample_airport_df['seaplane_base'],sample_airport_df['balloonport'],\n",
    "                               sample_airport_df['medium_airport'],sample_airport_df['large_airport'])\n",
    "\n",
    "\n"
   ]
  },
  {
   "cell_type": "code",
   "execution_count": 324,
   "id": "6b2651fb-d1c4-409f-8ee9-691371ed288f",
   "metadata": {},
   "outputs": [
    {
     "data": {
      "text/plain": [
       "(1046.0672299424332, 0.0)"
      ]
     },
     "execution_count": 324,
     "metadata": {},
     "output_type": "execute_result"
    }
   ],
   "source": [
    "fvalue, pvalue"
   ]
  },
  {
   "cell_type": "markdown",
   "id": "a66aab3f-e1e0-4aeb-a485-80daeb903d3d",
   "metadata": {},
   "source": [
    "But I want to see how each groups are statistically different from each other."
   ]
  },
  {
   "cell_type": "markdown",
   "id": "3a283a12-ac88-4477-a354-e2fcdf1b6488",
   "metadata": {},
   "source": [
    "Equal sample size : Tukey's HSD\n",
    "Unequal sample size: Yukey's Kramer method"
   ]
  },
  {
   "cell_type": "code",
   "execution_count": 325,
   "id": "82a7fa1c-a0d7-4be9-90ff-9f46c089d835",
   "metadata": {},
   "outputs": [
    {
     "name": "stdout",
     "output_type": "stream",
     "text": [
      "          Multiple Comparison of Means - Tukey HSD, FWER=0.05           \n",
      "========================================================================\n",
      "    group1         group2      meandiff p-adj   lower     upper   reject\n",
      "------------------------------------------------------------------------\n",
      "   balloonport       heliport   136.132 0.001  104.4975  167.7665   True\n",
      "   balloonport  large_airport -239.1721 0.001 -270.8067 -207.5376   True\n",
      "   balloonport medium_airport  -87.6264 0.001 -119.2609  -55.9919   True\n",
      "   balloonport  seaplane_base -429.2259 0.001 -460.8605 -397.5914   True\n",
      "   balloonport  small_airport  272.9228 0.001  241.2883  304.5574   True\n",
      "      heliport  large_airport -375.3042 0.001 -406.9387 -343.6696   True\n",
      "      heliport medium_airport -223.7584 0.001 -255.3929 -192.1239   True\n",
      "      heliport  seaplane_base -565.3579 0.001 -596.9925 -533.7234   True\n",
      "      heliport  small_airport  136.7908 0.001  105.1563  168.4253   True\n",
      " large_airport medium_airport  151.5458 0.001  119.9112  183.1803   True\n",
      " large_airport  seaplane_base -190.0538 0.001 -221.6883 -158.4193   True\n",
      " large_airport  small_airport   512.095 0.001  480.4605  543.7295   True\n",
      "medium_airport  seaplane_base -341.5995 0.001 -373.2341  -309.965   True\n",
      "medium_airport  small_airport  360.5492 0.001  328.9147  392.1838   True\n",
      " seaplane_base  small_airport  702.1488 0.001  670.5142  733.7833   True\n",
      "------------------------------------------------------------------------\n"
     ]
    }
   ],
   "source": [
    "from scipy.stats import f_oneway\n",
    "from statsmodels.stats.multicomp import pairwise_tukeyhsd\n",
    "\n",
    "tukey = pairwise_tukeyhsd(endog=df_melt['elevation_ft'],\n",
    "                          groups=df_melt['type'],\n",
    "                          alpha=0.05)\n",
    "\n",
    "#display results\n",
    "print(tukey)"
   ]
  },
  {
   "cell_type": "markdown",
   "id": "fe611f7d-a60b-4f0d-8526-b0f20defd63a",
   "metadata": {},
   "source": [
    "Thus, we would conclude that there is a statistically significant difference between \n",
    "the means of all groups.\n",
    "\n"
   ]
  },
  {
   "cell_type": "code",
   "execution_count": 326,
   "id": "7a41055d-0689-41ee-bd0f-6cddc2ef62a6",
   "metadata": {},
   "outputs": [
    {
     "data": {
      "text/html": [
       "<div>\n",
       "<style scoped>\n",
       "    .dataframe tbody tr th:only-of-type {\n",
       "        vertical-align: middle;\n",
       "    }\n",
       "\n",
       "    .dataframe tbody tr th {\n",
       "        vertical-align: top;\n",
       "    }\n",
       "\n",
       "    .dataframe thead th {\n",
       "        text-align: right;\n",
       "    }\n",
       "</style>\n",
       "<table border=\"1\" class=\"dataframe\">\n",
       "  <thead>\n",
       "    <tr style=\"text-align: right;\">\n",
       "      <th></th>\n",
       "      <th>type</th>\n",
       "      <th>elevation_ft</th>\n",
       "      <th>continent</th>\n",
       "      <th>Country</th>\n",
       "      <th>State</th>\n",
       "      <th>Longitude</th>\n",
       "      <th>Latitude</th>\n",
       "    </tr>\n",
       "  </thead>\n",
       "  <tbody>\n",
       "    <tr>\n",
       "      <th>0</th>\n",
       "      <td>heliport</td>\n",
       "      <td>11.0</td>\n",
       "      <td>NA</td>\n",
       "      <td>US</td>\n",
       "      <td>PA</td>\n",
       "      <td>-74.933601</td>\n",
       "      <td>40.070801</td>\n",
       "    </tr>\n",
       "    <tr>\n",
       "      <th>1</th>\n",
       "      <td>small_airport</td>\n",
       "      <td>3435.0</td>\n",
       "      <td>NA</td>\n",
       "      <td>US</td>\n",
       "      <td>KS</td>\n",
       "      <td>-101.473911</td>\n",
       "      <td>38.704022</td>\n",
       "    </tr>\n",
       "    <tr>\n",
       "      <th>2</th>\n",
       "      <td>small_airport</td>\n",
       "      <td>450.0</td>\n",
       "      <td>NA</td>\n",
       "      <td>US</td>\n",
       "      <td>AK</td>\n",
       "      <td>-151.695999</td>\n",
       "      <td>59.949200</td>\n",
       "    </tr>\n",
       "    <tr>\n",
       "      <th>3</th>\n",
       "      <td>small_airport</td>\n",
       "      <td>820.0</td>\n",
       "      <td>NA</td>\n",
       "      <td>US</td>\n",
       "      <td>AL</td>\n",
       "      <td>-86.770302</td>\n",
       "      <td>34.864799</td>\n",
       "    </tr>\n",
       "    <tr>\n",
       "      <th>5</th>\n",
       "      <td>small_airport</td>\n",
       "      <td>1100.0</td>\n",
       "      <td>NA</td>\n",
       "      <td>US</td>\n",
       "      <td>OK</td>\n",
       "      <td>-97.818019</td>\n",
       "      <td>34.942803</td>\n",
       "    </tr>\n",
       "  </tbody>\n",
       "</table>\n",
       "</div>"
      ],
      "text/plain": [
       "            type  elevation_ft continent Country State   Longitude   Latitude\n",
       "0       heliport          11.0        NA      US    PA  -74.933601  40.070801\n",
       "1  small_airport        3435.0        NA      US    KS -101.473911  38.704022\n",
       "2  small_airport         450.0        NA      US    AK -151.695999  59.949200\n",
       "3  small_airport         820.0        NA      US    AL  -86.770302  34.864799\n",
       "5  small_airport        1100.0        NA      US    OK  -97.818019  34.942803"
      ]
     },
     "execution_count": 326,
     "metadata": {},
     "output_type": "execute_result"
    }
   ],
   "source": [
    "df.head()"
   ]
  },
  {
   "cell_type": "code",
   "execution_count": 327,
   "id": "0f5aeb0c-56cc-49dc-8acd-e987bd8a905c",
   "metadata": {},
   "outputs": [
    {
     "name": "stdout",
     "output_type": "stream",
     "text": [
      "<class 'pandas.core.frame.DataFrame'>\n",
      "Int64Index: 46875 entries, 0 to 57419\n",
      "Data columns (total 7 columns):\n",
      " #   Column        Non-Null Count  Dtype  \n",
      "---  ------        --------------  -----  \n",
      " 0   type          46875 non-null  object \n",
      " 1   elevation_ft  46875 non-null  float64\n",
      " 2   continent     46875 non-null  object \n",
      " 3   Country       46875 non-null  object \n",
      " 4   State         46875 non-null  object \n",
      " 5   Longitude     46875 non-null  float64\n",
      " 6   Latitude      46875 non-null  float64\n",
      "dtypes: float64(3), object(4)\n",
      "memory usage: 3.9+ MB\n"
     ]
    }
   ],
   "source": [
    "df.info()"
   ]
  },
  {
   "cell_type": "code",
   "execution_count": 328,
   "id": "0a9cd6f6-f30a-4035-be33-245cf898844b",
   "metadata": {},
   "outputs": [],
   "source": [
    "def correlation_numeric(type1, type2):\n",
    "    col1, col2 = type1, type2\n",
    "    corr = df[type1].corr(df[type2])\n",
    "    print(\"Correlation between \", col1, \" and \", col2, \"is: \", round(corr, 2))"
   ]
  },
  {
   "cell_type": "code",
   "execution_count": 329,
   "id": "a9079a21-7694-4845-b37e-58c625b2ba77",
   "metadata": {},
   "outputs": [
    {
     "name": "stdout",
     "output_type": "stream",
     "text": [
      "Correlation between  elevation_ft  and  Latitude is:  -0.09\n"
     ]
    }
   ],
   "source": [
    "correlation_numeric('elevation_ft', 'Latitude')"
   ]
  },
  {
   "cell_type": "code",
   "execution_count": 330,
   "id": "59094589-25ba-44bd-aa87-67b866304c17",
   "metadata": {},
   "outputs": [
    {
     "name": "stdout",
     "output_type": "stream",
     "text": [
      "Correlation between  elevation_ft  and  Longitude is:  -0.03\n"
     ]
    }
   ],
   "source": [
    "correlation_numeric('elevation_ft', 'Longitude')"
   ]
  },
  {
   "cell_type": "code",
   "execution_count": 331,
   "id": "1fac2bce-47f2-4e29-a55c-566405fd2cce",
   "metadata": {},
   "outputs": [
    {
     "name": "stdout",
     "output_type": "stream",
     "text": [
      "Correlation between  Longitude  and  Latitude is:  -0.39\n"
     ]
    }
   ],
   "source": [
    "correlation_numeric('Longitude', 'Latitude')"
   ]
  }
 ],
 "metadata": {
  "kernelspec": {
   "display_name": "Python 3",
   "language": "python",
   "name": "python3"
  },
  "language_info": {
   "codemirror_mode": {
    "name": "ipython",
    "version": 3
   },
   "file_extension": ".py",
   "mimetype": "text/x-python",
   "name": "python",
   "nbconvert_exporter": "python",
   "pygments_lexer": "ipython3",
   "version": "3.8.8"
  }
 },
 "nbformat": 4,
 "nbformat_minor": 5
}
