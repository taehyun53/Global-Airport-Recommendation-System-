{
 "cells": [
  {
   "cell_type": "code",
   "execution_count": 120,
   "id": "697e9999-03f2-4478-88e5-0feea78f32ed",
   "metadata": {},
   "outputs": [
    {
     "data": {
      "text/html": [
       "<div>\n",
       "<style scoped>\n",
       "    .dataframe tbody tr th:only-of-type {\n",
       "        vertical-align: middle;\n",
       "    }\n",
       "\n",
       "    .dataframe tbody tr th {\n",
       "        vertical-align: top;\n",
       "    }\n",
       "\n",
       "    .dataframe thead th {\n",
       "        text-align: right;\n",
       "    }\n",
       "</style>\n",
       "<table border=\"1\" class=\"dataframe\">\n",
       "  <thead>\n",
       "    <tr style=\"text-align: right;\">\n",
       "      <th></th>\n",
       "      <th>ident</th>\n",
       "      <th>type</th>\n",
       "      <th>name</th>\n",
       "      <th>elevation_ft</th>\n",
       "      <th>continent</th>\n",
       "      <th>iso_country</th>\n",
       "      <th>iso_region</th>\n",
       "      <th>municipality</th>\n",
       "      <th>gps_code</th>\n",
       "      <th>iata_code</th>\n",
       "      <th>local_code</th>\n",
       "      <th>coordinates</th>\n",
       "    </tr>\n",
       "  </thead>\n",
       "  <tbody>\n",
       "    <tr>\n",
       "      <th>0</th>\n",
       "      <td>00A</td>\n",
       "      <td>heliport</td>\n",
       "      <td>Total Rf Heliport</td>\n",
       "      <td>11.0</td>\n",
       "      <td>NaN</td>\n",
       "      <td>US</td>\n",
       "      <td>US-PA</td>\n",
       "      <td>Bensalem</td>\n",
       "      <td>00A</td>\n",
       "      <td>NaN</td>\n",
       "      <td>00A</td>\n",
       "      <td>-74.93360137939453, 40.07080078125</td>\n",
       "    </tr>\n",
       "    <tr>\n",
       "      <th>1</th>\n",
       "      <td>00AA</td>\n",
       "      <td>small_airport</td>\n",
       "      <td>Aero B Ranch Airport</td>\n",
       "      <td>3435.0</td>\n",
       "      <td>NaN</td>\n",
       "      <td>US</td>\n",
       "      <td>US-KS</td>\n",
       "      <td>Leoti</td>\n",
       "      <td>00AA</td>\n",
       "      <td>NaN</td>\n",
       "      <td>00AA</td>\n",
       "      <td>-101.473911, 38.704022</td>\n",
       "    </tr>\n",
       "    <tr>\n",
       "      <th>2</th>\n",
       "      <td>00AK</td>\n",
       "      <td>small_airport</td>\n",
       "      <td>Lowell Field</td>\n",
       "      <td>450.0</td>\n",
       "      <td>NaN</td>\n",
       "      <td>US</td>\n",
       "      <td>US-AK</td>\n",
       "      <td>Anchor Point</td>\n",
       "      <td>00AK</td>\n",
       "      <td>NaN</td>\n",
       "      <td>00AK</td>\n",
       "      <td>-151.695999146, 59.94919968</td>\n",
       "    </tr>\n",
       "    <tr>\n",
       "      <th>3</th>\n",
       "      <td>00AL</td>\n",
       "      <td>small_airport</td>\n",
       "      <td>Epps Airpark</td>\n",
       "      <td>820.0</td>\n",
       "      <td>NaN</td>\n",
       "      <td>US</td>\n",
       "      <td>US-AL</td>\n",
       "      <td>Harvest</td>\n",
       "      <td>00AL</td>\n",
       "      <td>NaN</td>\n",
       "      <td>00AL</td>\n",
       "      <td>-86.77030181884766, 34.86479949951172</td>\n",
       "    </tr>\n",
       "    <tr>\n",
       "      <th>4</th>\n",
       "      <td>00AR</td>\n",
       "      <td>closed</td>\n",
       "      <td>Newport Hospital &amp; Clinic Heliport</td>\n",
       "      <td>237.0</td>\n",
       "      <td>NaN</td>\n",
       "      <td>US</td>\n",
       "      <td>US-AR</td>\n",
       "      <td>Newport</td>\n",
       "      <td>NaN</td>\n",
       "      <td>NaN</td>\n",
       "      <td>NaN</td>\n",
       "      <td>-91.254898, 35.6087</td>\n",
       "    </tr>\n",
       "  </tbody>\n",
       "</table>\n",
       "</div>"
      ],
      "text/plain": [
       "  ident           type                                name  elevation_ft  \\\n",
       "0   00A       heliport                   Total Rf Heliport          11.0   \n",
       "1  00AA  small_airport                Aero B Ranch Airport        3435.0   \n",
       "2  00AK  small_airport                        Lowell Field         450.0   \n",
       "3  00AL  small_airport                        Epps Airpark         820.0   \n",
       "4  00AR         closed  Newport Hospital & Clinic Heliport         237.0   \n",
       "\n",
       "  continent iso_country iso_region  municipality gps_code iata_code  \\\n",
       "0       NaN          US      US-PA      Bensalem      00A       NaN   \n",
       "1       NaN          US      US-KS         Leoti     00AA       NaN   \n",
       "2       NaN          US      US-AK  Anchor Point     00AK       NaN   \n",
       "3       NaN          US      US-AL       Harvest     00AL       NaN   \n",
       "4       NaN          US      US-AR       Newport      NaN       NaN   \n",
       "\n",
       "  local_code                            coordinates  \n",
       "0        00A     -74.93360137939453, 40.07080078125  \n",
       "1       00AA                 -101.473911, 38.704022  \n",
       "2       00AK            -151.695999146, 59.94919968  \n",
       "3       00AL  -86.77030181884766, 34.86479949951172  \n",
       "4        NaN                    -91.254898, 35.6087  "
      ]
     },
     "execution_count": 120,
     "metadata": {},
     "output_type": "execute_result"
    }
   ],
   "source": [
    "import pandas as pd\n",
    "import numpy as np\n",
    "import matplotlib.pyplot as plt\n",
    "import seaborn as sns\n",
    "\n",
    "\n",
    "df = pd.read_csv('/users/taehyun/Dropbox/Springboard/Projects/airport-codes/data/airport-codes.csv')\n",
    "df.head()"
   ]
  },
  {
   "cell_type": "code",
   "execution_count": 121,
   "id": "db756e3f-8a71-4a77-8b7b-a5dad2d690e7",
   "metadata": {},
   "outputs": [
    {
     "name": "stdout",
     "output_type": "stream",
     "text": [
      "<class 'pandas.core.frame.DataFrame'>\n",
      "RangeIndex: 57421 entries, 0 to 57420\n",
      "Data columns (total 12 columns):\n",
      " #   Column        Non-Null Count  Dtype  \n",
      "---  ------        --------------  -----  \n",
      " 0   ident         57421 non-null  object \n",
      " 1   type          57421 non-null  object \n",
      " 2   name          57421 non-null  object \n",
      " 3   elevation_ft  49608 non-null  float64\n",
      " 4   continent     28978 non-null  object \n",
      " 5   iso_country   57175 non-null  object \n",
      " 6   iso_region    57421 non-null  object \n",
      " 7   municipality  51527 non-null  object \n",
      " 8   gps_code      41561 non-null  object \n",
      " 9   iata_code     9225 non-null   object \n",
      " 10  local_code    30030 non-null  object \n",
      " 11  coordinates   57421 non-null  object \n",
      "dtypes: float64(1), object(11)\n",
      "memory usage: 5.3+ MB\n"
     ]
    }
   ],
   "source": [
    "df.info()"
   ]
  },
  {
   "cell_type": "code",
   "execution_count": 122,
   "id": "07fd0083-5ff1-480c-9535-1d67dacd2f3e",
   "metadata": {},
   "outputs": [
    {
     "data": {
      "text/plain": [
       "small_airport     34808\n",
       "heliport          12028\n",
       "medium_airport     4537\n",
       "closed             4378\n",
       "seaplane_base      1030\n",
       "large_airport       616\n",
       "balloonport          24\n",
       "Name: type, dtype: int64"
      ]
     },
     "execution_count": 122,
     "metadata": {},
     "output_type": "execute_result"
    }
   ],
   "source": [
    "df['type'].value_counts()"
   ]
  },
  {
   "cell_type": "code",
   "execution_count": 123,
   "id": "b8f8a3f9-f8ed-4624-8b3e-fb9f91aaee3d",
   "metadata": {},
   "outputs": [
    {
     "data": {
      "text/plain": [
       "10.0       423\n",
       "20.0       327\n",
       "30.0       223\n",
       "50.0       214\n",
       "16.0       193\n",
       "          ... \n",
       "5710.0       1\n",
       "3793.0       1\n",
       "3788.0       1\n",
       "3134.0       1\n",
       "12816.0      1\n",
       "Name: elevation_ft, Length: 5538, dtype: int64"
      ]
     },
     "execution_count": 123,
     "metadata": {},
     "output_type": "execute_result"
    }
   ],
   "source": [
    "df['elevation_ft'].value_counts()"
   ]
  },
  {
   "cell_type": "markdown",
   "id": "ef6712a9-ee6d-4b37-985a-a397f998d7df",
   "metadata": {},
   "source": [
    "Since there's not much data it would be better to over sample it later in the preprocess stage"
   ]
  },
  {
   "cell_type": "code",
   "execution_count": 124,
   "id": "5942afd4-be11-4555-b88c-eda0dbf38ab9",
   "metadata": {},
   "outputs": [
    {
     "data": {
      "text/plain": [
       "ident               0\n",
       "type                0\n",
       "name                0\n",
       "elevation_ft     7813\n",
       "continent       28443\n",
       "iso_country       246\n",
       "iso_region          0\n",
       "municipality     5894\n",
       "gps_code        15860\n",
       "iata_code       48196\n",
       "local_code      27391\n",
       "coordinates         0\n",
       "dtype: int64"
      ]
     },
     "execution_count": 124,
     "metadata": {},
     "output_type": "execute_result"
    }
   ],
   "source": [
    "df.isnull().sum()"
   ]
  },
  {
   "cell_type": "markdown",
   "id": "bac722ed-42b4-4da5-bed1-aecb9fb4baa5",
   "metadata": {},
   "source": [
    "# Data Wrangling"
   ]
  },
  {
   "cell_type": "code",
   "execution_count": 125,
   "id": "3186ba8f-2f48-48ff-a632-ecc32e9fd899",
   "metadata": {},
   "outputs": [],
   "source": [
    "df[['ISO_Country','ISO_state']] = df['iso_region'].str.split('-',n=1, expand=True)"
   ]
  },
  {
   "cell_type": "markdown",
   "id": "e0e39b53-674a-44cc-98b8-bf7651901264",
   "metadata": {},
   "source": [
    "Since we made a new column for iso_region, we can dop these columns"
   ]
  },
  {
   "cell_type": "code",
   "execution_count": 126,
   "id": "d9d4c16c-30eb-4ec3-815a-1d1943a5bf9c",
   "metadata": {},
   "outputs": [],
   "source": [
    "df.drop(['iso_country','iso_region'], axis= 1, inplace=True)"
   ]
  },
  {
   "cell_type": "code",
   "execution_count": 127,
   "id": "692acabd-dd6d-491d-bee7-5f5a3ea4440a",
   "metadata": {},
   "outputs": [
    {
     "data": {
      "text/html": [
       "<div>\n",
       "<style scoped>\n",
       "    .dataframe tbody tr th:only-of-type {\n",
       "        vertical-align: middle;\n",
       "    }\n",
       "\n",
       "    .dataframe tbody tr th {\n",
       "        vertical-align: top;\n",
       "    }\n",
       "\n",
       "    .dataframe thead th {\n",
       "        text-align: right;\n",
       "    }\n",
       "</style>\n",
       "<table border=\"1\" class=\"dataframe\">\n",
       "  <thead>\n",
       "    <tr style=\"text-align: right;\">\n",
       "      <th></th>\n",
       "      <th>ident</th>\n",
       "      <th>type</th>\n",
       "      <th>name</th>\n",
       "      <th>elevation_ft</th>\n",
       "      <th>continent</th>\n",
       "      <th>municipality</th>\n",
       "      <th>gps_code</th>\n",
       "      <th>iata_code</th>\n",
       "      <th>local_code</th>\n",
       "      <th>coordinates</th>\n",
       "      <th>ISO_Country</th>\n",
       "      <th>ISO_state</th>\n",
       "    </tr>\n",
       "  </thead>\n",
       "  <tbody>\n",
       "    <tr>\n",
       "      <th>0</th>\n",
       "      <td>00A</td>\n",
       "      <td>heliport</td>\n",
       "      <td>Total Rf Heliport</td>\n",
       "      <td>11.0</td>\n",
       "      <td>NaN</td>\n",
       "      <td>Bensalem</td>\n",
       "      <td>00A</td>\n",
       "      <td>NaN</td>\n",
       "      <td>00A</td>\n",
       "      <td>-74.93360137939453, 40.07080078125</td>\n",
       "      <td>US</td>\n",
       "      <td>PA</td>\n",
       "    </tr>\n",
       "    <tr>\n",
       "      <th>1</th>\n",
       "      <td>00AA</td>\n",
       "      <td>small_airport</td>\n",
       "      <td>Aero B Ranch Airport</td>\n",
       "      <td>3435.0</td>\n",
       "      <td>NaN</td>\n",
       "      <td>Leoti</td>\n",
       "      <td>00AA</td>\n",
       "      <td>NaN</td>\n",
       "      <td>00AA</td>\n",
       "      <td>-101.473911, 38.704022</td>\n",
       "      <td>US</td>\n",
       "      <td>KS</td>\n",
       "    </tr>\n",
       "    <tr>\n",
       "      <th>2</th>\n",
       "      <td>00AK</td>\n",
       "      <td>small_airport</td>\n",
       "      <td>Lowell Field</td>\n",
       "      <td>450.0</td>\n",
       "      <td>NaN</td>\n",
       "      <td>Anchor Point</td>\n",
       "      <td>00AK</td>\n",
       "      <td>NaN</td>\n",
       "      <td>00AK</td>\n",
       "      <td>-151.695999146, 59.94919968</td>\n",
       "      <td>US</td>\n",
       "      <td>AK</td>\n",
       "    </tr>\n",
       "    <tr>\n",
       "      <th>3</th>\n",
       "      <td>00AL</td>\n",
       "      <td>small_airport</td>\n",
       "      <td>Epps Airpark</td>\n",
       "      <td>820.0</td>\n",
       "      <td>NaN</td>\n",
       "      <td>Harvest</td>\n",
       "      <td>00AL</td>\n",
       "      <td>NaN</td>\n",
       "      <td>00AL</td>\n",
       "      <td>-86.77030181884766, 34.86479949951172</td>\n",
       "      <td>US</td>\n",
       "      <td>AL</td>\n",
       "    </tr>\n",
       "    <tr>\n",
       "      <th>4</th>\n",
       "      <td>00AR</td>\n",
       "      <td>closed</td>\n",
       "      <td>Newport Hospital &amp; Clinic Heliport</td>\n",
       "      <td>237.0</td>\n",
       "      <td>NaN</td>\n",
       "      <td>Newport</td>\n",
       "      <td>NaN</td>\n",
       "      <td>NaN</td>\n",
       "      <td>NaN</td>\n",
       "      <td>-91.254898, 35.6087</td>\n",
       "      <td>US</td>\n",
       "      <td>AR</td>\n",
       "    </tr>\n",
       "  </tbody>\n",
       "</table>\n",
       "</div>"
      ],
      "text/plain": [
       "  ident           type                                name  elevation_ft  \\\n",
       "0   00A       heliport                   Total Rf Heliport          11.0   \n",
       "1  00AA  small_airport                Aero B Ranch Airport        3435.0   \n",
       "2  00AK  small_airport                        Lowell Field         450.0   \n",
       "3  00AL  small_airport                        Epps Airpark         820.0   \n",
       "4  00AR         closed  Newport Hospital & Clinic Heliport         237.0   \n",
       "\n",
       "  continent  municipality gps_code iata_code local_code  \\\n",
       "0       NaN      Bensalem      00A       NaN        00A   \n",
       "1       NaN         Leoti     00AA       NaN       00AA   \n",
       "2       NaN  Anchor Point     00AK       NaN       00AK   \n",
       "3       NaN       Harvest     00AL       NaN       00AL   \n",
       "4       NaN       Newport      NaN       NaN        NaN   \n",
       "\n",
       "                             coordinates ISO_Country ISO_state  \n",
       "0     -74.93360137939453, 40.07080078125          US        PA  \n",
       "1                 -101.473911, 38.704022          US        KS  \n",
       "2            -151.695999146, 59.94919968          US        AK  \n",
       "3  -86.77030181884766, 34.86479949951172          US        AL  \n",
       "4                    -91.254898, 35.6087          US        AR  "
      ]
     },
     "execution_count": 127,
     "metadata": {},
     "output_type": "execute_result"
    }
   ],
   "source": [
    "df.head()"
   ]
  },
  {
   "cell_type": "markdown",
   "id": "65399e66-0444-49e4-8442-af6361f03b36",
   "metadata": {},
   "source": [
    "we would have to do the same for coordination"
   ]
  },
  {
   "cell_type": "code",
   "execution_count": 128,
   "id": "e52821c3-6914-4fee-bbcb-0df3dc28f0b9",
   "metadata": {},
   "outputs": [],
   "source": [
    "def split_clean_coordinate(long,lang,co):\n",
    "    df[[long,lang]] = df[co].str.split(',',n=1,expand=True)\n",
    "    df.drop([co],axis=1,inplace=True)\n",
    "    df[long] = df[long].astype(float)\n",
    "    df[lang] = df[lang].astype(float)"
   ]
  },
  {
   "cell_type": "code",
   "execution_count": 129,
   "id": "1f56d201-6d4a-48b7-aa12-44f2978c2f3d",
   "metadata": {},
   "outputs": [],
   "source": [
    "split_clean_coordinate('Longitude','Latitude','coordinates')"
   ]
  },
  {
   "cell_type": "markdown",
   "id": "47185f45-6c3a-4856-b598-e1716f29b909",
   "metadata": {},
   "source": [
    "Now that I changes Longitude and Latitude we can do further analysis by using correlation in the EDA section"
   ]
  },
  {
   "cell_type": "code",
   "execution_count": 130,
   "id": "dc1f1dfb-2dea-4d58-941b-0768b20904ea",
   "metadata": {},
   "outputs": [
    {
     "data": {
      "text/plain": [
       "ident               0\n",
       "type                0\n",
       "name                0\n",
       "elevation_ft     7813\n",
       "continent       28443\n",
       "municipality     5894\n",
       "gps_code        15860\n",
       "iata_code       48196\n",
       "local_code      27391\n",
       "ISO_Country         0\n",
       "ISO_state           0\n",
       "Longitude           0\n",
       "Latitude            0\n",
       "dtype: int64"
      ]
     },
     "execution_count": 130,
     "metadata": {},
     "output_type": "execute_result"
    }
   ],
   "source": [
    "df.isnull().sum()"
   ]
  },
  {
   "cell_type": "code",
   "execution_count": 131,
   "id": "1d044503-0b3d-4944-8666-e5221286e52d",
   "metadata": {},
   "outputs": [
    {
     "data": {
      "text/plain": [
       "0"
      ]
     },
     "execution_count": 131,
     "metadata": {},
     "output_type": "execute_result"
    }
   ],
   "source": [
    "duplicateRowsDF = df[df.duplicated()]\n",
    "len(duplicateRowsDF)"
   ]
  },
  {
   "cell_type": "code",
   "execution_count": 132,
   "id": "aeb3abf6-ba1a-4ab4-a4b9-a7363c8c5092",
   "metadata": {},
   "outputs": [],
   "source": [
    "df.rename(columns = {'ISO_Country': 'Country' ,'ISO_state':'State'}, inplace =True)"
   ]
  },
  {
   "cell_type": "markdown",
   "id": "a4886133-ca56-4957-86f4-492e7f88f539",
   "metadata": {},
   "source": [
    "Since we already have coordinates and the state names, we dont need iata code which is the location identification code."
   ]
  },
  {
   "cell_type": "code",
   "execution_count": 133,
   "id": "974d3772-a80b-41ba-a92b-acef0b1f761b",
   "metadata": {},
   "outputs": [],
   "source": [
    "df.drop(['iata_code'], axis = 1, inplace=True)"
   ]
  },
  {
   "cell_type": "code",
   "execution_count": 134,
   "id": "14a6374f-60bd-4126-bff8-45c93a02a737",
   "metadata": {},
   "outputs": [
    {
     "data": {
      "text/html": [
       "<div>\n",
       "<style scoped>\n",
       "    .dataframe tbody tr th:only-of-type {\n",
       "        vertical-align: middle;\n",
       "    }\n",
       "\n",
       "    .dataframe tbody tr th {\n",
       "        vertical-align: top;\n",
       "    }\n",
       "\n",
       "    .dataframe thead th {\n",
       "        text-align: right;\n",
       "    }\n",
       "</style>\n",
       "<table border=\"1\" class=\"dataframe\">\n",
       "  <thead>\n",
       "    <tr style=\"text-align: right;\">\n",
       "      <th></th>\n",
       "      <th>ident</th>\n",
       "      <th>type</th>\n",
       "      <th>name</th>\n",
       "      <th>elevation_ft</th>\n",
       "      <th>continent</th>\n",
       "      <th>municipality</th>\n",
       "      <th>gps_code</th>\n",
       "      <th>local_code</th>\n",
       "      <th>Country</th>\n",
       "      <th>State</th>\n",
       "      <th>Longitude</th>\n",
       "      <th>Latitude</th>\n",
       "    </tr>\n",
       "  </thead>\n",
       "  <tbody>\n",
       "    <tr>\n",
       "      <th>0</th>\n",
       "      <td>00A</td>\n",
       "      <td>heliport</td>\n",
       "      <td>Total Rf Heliport</td>\n",
       "      <td>11.0</td>\n",
       "      <td>NaN</td>\n",
       "      <td>Bensalem</td>\n",
       "      <td>00A</td>\n",
       "      <td>00A</td>\n",
       "      <td>US</td>\n",
       "      <td>PA</td>\n",
       "      <td>-74.933601</td>\n",
       "      <td>40.070801</td>\n",
       "    </tr>\n",
       "    <tr>\n",
       "      <th>1</th>\n",
       "      <td>00AA</td>\n",
       "      <td>small_airport</td>\n",
       "      <td>Aero B Ranch Airport</td>\n",
       "      <td>3435.0</td>\n",
       "      <td>NaN</td>\n",
       "      <td>Leoti</td>\n",
       "      <td>00AA</td>\n",
       "      <td>00AA</td>\n",
       "      <td>US</td>\n",
       "      <td>KS</td>\n",
       "      <td>-101.473911</td>\n",
       "      <td>38.704022</td>\n",
       "    </tr>\n",
       "    <tr>\n",
       "      <th>2</th>\n",
       "      <td>00AK</td>\n",
       "      <td>small_airport</td>\n",
       "      <td>Lowell Field</td>\n",
       "      <td>450.0</td>\n",
       "      <td>NaN</td>\n",
       "      <td>Anchor Point</td>\n",
       "      <td>00AK</td>\n",
       "      <td>00AK</td>\n",
       "      <td>US</td>\n",
       "      <td>AK</td>\n",
       "      <td>-151.695999</td>\n",
       "      <td>59.949200</td>\n",
       "    </tr>\n",
       "    <tr>\n",
       "      <th>3</th>\n",
       "      <td>00AL</td>\n",
       "      <td>small_airport</td>\n",
       "      <td>Epps Airpark</td>\n",
       "      <td>820.0</td>\n",
       "      <td>NaN</td>\n",
       "      <td>Harvest</td>\n",
       "      <td>00AL</td>\n",
       "      <td>00AL</td>\n",
       "      <td>US</td>\n",
       "      <td>AL</td>\n",
       "      <td>-86.770302</td>\n",
       "      <td>34.864799</td>\n",
       "    </tr>\n",
       "    <tr>\n",
       "      <th>4</th>\n",
       "      <td>00AR</td>\n",
       "      <td>closed</td>\n",
       "      <td>Newport Hospital &amp; Clinic Heliport</td>\n",
       "      <td>237.0</td>\n",
       "      <td>NaN</td>\n",
       "      <td>Newport</td>\n",
       "      <td>NaN</td>\n",
       "      <td>NaN</td>\n",
       "      <td>US</td>\n",
       "      <td>AR</td>\n",
       "      <td>-91.254898</td>\n",
       "      <td>35.608700</td>\n",
       "    </tr>\n",
       "  </tbody>\n",
       "</table>\n",
       "</div>"
      ],
      "text/plain": [
       "  ident           type                                name  elevation_ft  \\\n",
       "0   00A       heliport                   Total Rf Heliport          11.0   \n",
       "1  00AA  small_airport                Aero B Ranch Airport        3435.0   \n",
       "2  00AK  small_airport                        Lowell Field         450.0   \n",
       "3  00AL  small_airport                        Epps Airpark         820.0   \n",
       "4  00AR         closed  Newport Hospital & Clinic Heliport         237.0   \n",
       "\n",
       "  continent  municipality gps_code local_code Country State   Longitude  \\\n",
       "0       NaN      Bensalem      00A        00A      US    PA  -74.933601   \n",
       "1       NaN         Leoti     00AA       00AA      US    KS -101.473911   \n",
       "2       NaN  Anchor Point     00AK       00AK      US    AK -151.695999   \n",
       "3       NaN       Harvest     00AL       00AL      US    AL  -86.770302   \n",
       "4       NaN       Newport      NaN        NaN      US    AR  -91.254898   \n",
       "\n",
       "    Latitude  \n",
       "0  40.070801  \n",
       "1  38.704022  \n",
       "2  59.949200  \n",
       "3  34.864799  \n",
       "4  35.608700  "
      ]
     },
     "execution_count": 134,
     "metadata": {},
     "output_type": "execute_result"
    }
   ],
   "source": [
    "df.head()"
   ]
  },
  {
   "cell_type": "code",
   "execution_count": 135,
   "id": "aae4ea41-8c47-4189-8154-596de9f5b8f0",
   "metadata": {},
   "outputs": [
    {
     "data": {
      "text/plain": [
       "00A        1\n",
       "NO-0013    1\n",
       "NTMP       1\n",
       "NTMU       1\n",
       "NTTB       1\n",
       "          ..\n",
       "EFRV       1\n",
       "EFRY       1\n",
       "EFSA       1\n",
       "EFSE       1\n",
       "ZZZZ       1\n",
       "Name: ident, Length: 57421, dtype: int64"
      ]
     },
     "execution_count": 135,
     "metadata": {},
     "output_type": "execute_result"
    }
   ],
   "source": [
    "df['ident'].value_counts()"
   ]
  },
  {
   "cell_type": "markdown",
   "id": "63cff30b-0ffe-4b3a-be2b-0702d8872b39",
   "metadata": {},
   "source": [
    "we can see that ident is a primary key column so we can drop that as well. "
   ]
  },
  {
   "cell_type": "code",
   "execution_count": 136,
   "id": "19bdd0d8-2f41-4d09-98d3-40e14dc9761f",
   "metadata": {},
   "outputs": [],
   "source": [
    "df.drop(['ident'], axis = 1, inplace=True)"
   ]
  },
  {
   "cell_type": "markdown",
   "id": "1b08c021-e9d7-48e9-b836-48dd8e5aeb8c",
   "metadata": {},
   "source": [
    "lets try to fill up NA values"
   ]
  },
  {
   "cell_type": "markdown",
   "id": "3a30c5f4-5b97-48b1-8ac7-50e97cf92755",
   "metadata": {},
   "source": [
    "Let's analyze why datas are missing. \n",
    "There are three types of missing data. \n",
    "1. Missing completely at random(MCAR)\n",
    "2. Missing at Random(MAR)\n",
    "3. Missing Not at Random(MNAR)"
   ]
  },
  {
   "cell_type": "code",
   "execution_count": 137,
   "id": "903046e0-4312-4594-9517-7cec3940a2f3",
   "metadata": {},
   "outputs": [
    {
     "data": {
      "image/png": "[encoded data removed]",
      "text/plain": [
       "<Figure size 1800x720 with 2 Axes>"
      ]
     },
     "metadata": {
      "needs_background": "light"
     },
     "output_type": "display_data"
    }
   ],
   "source": [
    "import missingno as msno\n",
    "msno.matrix(df)\n",
    "plt.savefig('/users/taehyun/Dropbox/Springboard/Projects/airport-codes/images/MSNO_matrix.jpeg',bbox_inches='tight') "
   ]
  },
  {
   "cell_type": "code",
   "execution_count": 138,
   "id": "5c6edfc1-a538-4067-b236-7eac1e97954b",
   "metadata": {},
   "outputs": [
    {
     "data": {
      "text/plain": [
       "<AxesSubplot:>"
      ]
     },
     "execution_count": 138,
     "metadata": {},
     "output_type": "execute_result"
    },
    {
     "data": {
      "image/png": "[encoded data removed]",
      "text/plain": [
       "<Figure size 1800x720 with 3 Axes>"
      ]
     },
     "metadata": {
      "needs_background": "light"
     },
     "output_type": "display_data"
    }
   ],
   "source": [
    "msno.bar(df)"
   ]
  },
  {
   "cell_type": "markdown",
   "id": "46dc2d7b-87a1-4ea0-af64-81ced22bfec6",
   "metadata": {},
   "source": [
    "It seems like the missing values for elevation_ft, continent, municipality, gps_code, local_code, definitely aren't missing with certain patterns. They are missing in random. Let's look at more about the elevation_ft column. "
   ]
  },
  {
   "cell_type": "markdown",
   "id": "c0c31967-1411-4822-bfef-b3789fe11564",
   "metadata": {},
   "source": [
    "elevation_ft is not missing by normal"
   ]
  },
  {
   "cell_type": "markdown",
   "id": "be02062a-97cc-4915-9fe8-8333bb1345d6",
   "metadata": {},
   "source": [
    "Now I want to visualize how their elevation feets are like."
   ]
  },
  {
   "cell_type": "code",
   "execution_count": 139,
   "id": "4959f115-88b6-4059-bae4-6b0366d7e69e",
   "metadata": {},
   "outputs": [
    {
     "data": {
      "image/png": "[encoded data removed]",
      "text/plain": [
       "<Figure size 720x720 with 1 Axes>"
      ]
     },
     "metadata": {
      "needs_background": "light"
     },
     "output_type": "display_data"
    },
    {
     "data": {
      "text/plain": [
       "<Figure size 432x288 with 0 Axes>"
      ]
     },
     "metadata": {},
     "output_type": "display_data"
    }
   ],
   "source": [
    "plt.figure(figsize=(10,10))\n",
    "sns.boxplot(x = 'type', y = 'elevation_ft', data =df, hue = 'type')\n",
    "plt.xlabel('airports')\n",
    "plt.ylabel('elevation(ft)')\n",
    "plt.title('Box plot of elevation in feet for different airports')\n",
    "plt.show()\n",
    "plt.savefig('/users/taehyun/Dropbox/Springboard/Projects/airport-codes/images/boxplot.jpeg',bbox_inches='tight') "
   ]
  },
  {
   "cell_type": "code",
   "execution_count": 140,
   "id": "2fd584c3-e485-408c-8a70-6fda9f9f91ae",
   "metadata": {},
   "outputs": [
    {
     "data": {
      "text/plain": [
       "array(['heliport', 'small_airport', 'closed', 'seaplane_base',\n",
       "       'balloonport', 'medium_airport', 'large_airport'], dtype=object)"
      ]
     },
     "execution_count": 140,
     "metadata": {},
     "output_type": "execute_result"
    }
   ],
   "source": [
    "df['type'].unique()"
   ]
  },
  {
   "cell_type": "markdown",
   "id": "b8e43aa2-5bf9-4c6f-be75-5c6c2451583e",
   "metadata": {},
   "source": [
    "Let's drop the value that has closed. Closed airports aren't useful for our future analysis."
   ]
  },
  {
   "cell_type": "code",
   "execution_count": 141,
   "id": "065a2c9f-f90b-46eb-9221-f3cfbef9535b",
   "metadata": {},
   "outputs": [],
   "source": [
    "df.drop(df[df['type'] == 'closed'].index, inplace = True)"
   ]
  },
  {
   "cell_type": "code",
   "execution_count": 142,
   "id": "c4f20fc5-63d0-41e3-9bce-fd1cf03a6cb6",
   "metadata": {},
   "outputs": [],
   "source": [
    "data_input = ['heliport', 'small_airport', 'seaplane_base', 'medium_airport', 'large_airport']"
   ]
  },
  {
   "cell_type": "code",
   "execution_count": 143,
   "id": "2e468b41-d258-4517-b1a1-2b65c601c128",
   "metadata": {},
   "outputs": [],
   "source": [
    "def plot_mean_type(data, airport_types):\n",
    "    mean_list = []\n",
    "    for airport_type in airport_types:\n",
    "        type_mean = np.mean(data[data['type'] == airport_type]['elevation_ft'])\n",
    "        mean_list.append(type_mean)\n",
    "    mean_df = pd.DataFrame({'mean_type_airport': mean_list}, index=data_input)\n",
    "    return mean_df"
   ]
  },
  {
   "cell_type": "code",
   "execution_count": 144,
   "id": "9426b8f8-9d3b-426e-b72f-04838d91323f",
   "metadata": {},
   "outputs": [
    {
     "data": {
      "text/html": [
       "<div>\n",
       "<style scoped>\n",
       "    .dataframe tbody tr th:only-of-type {\n",
       "        vertical-align: middle;\n",
       "    }\n",
       "\n",
       "    .dataframe tbody tr th {\n",
       "        vertical-align: top;\n",
       "    }\n",
       "\n",
       "    .dataframe thead th {\n",
       "        text-align: right;\n",
       "    }\n",
       "</style>\n",
       "<table border=\"1\" class=\"dataframe\">\n",
       "  <thead>\n",
       "    <tr style=\"text-align: right;\">\n",
       "      <th></th>\n",
       "      <th>mean_type_airport</th>\n",
       "    </tr>\n",
       "  </thead>\n",
       "  <tbody>\n",
       "    <tr>\n",
       "      <th>heliport</th>\n",
       "      <td>1199.377100</td>\n",
       "    </tr>\n",
       "    <tr>\n",
       "      <th>small_airport</th>\n",
       "      <td>1349.811397</td>\n",
       "    </tr>\n",
       "    <tr>\n",
       "      <th>seaplane_base</th>\n",
       "      <td>649.716329</td>\n",
       "    </tr>\n",
       "    <tr>\n",
       "      <th>medium_airport</th>\n",
       "      <td>1059.199724</td>\n",
       "    </tr>\n",
       "    <tr>\n",
       "      <th>large_airport</th>\n",
       "      <td>798.062295</td>\n",
       "    </tr>\n",
       "  </tbody>\n",
       "</table>\n",
       "</div>"
      ],
      "text/plain": [
       "                mean_type_airport\n",
       "heliport              1199.377100\n",
       "small_airport         1349.811397\n",
       "seaplane_base          649.716329\n",
       "medium_airport        1059.199724\n",
       "large_airport          798.062295"
      ]
     },
     "execution_count": 144,
     "metadata": {},
     "output_type": "execute_result"
    }
   ],
   "source": [
    "mean_df_f = plot_mean_type(df, data_input)\n",
    "mean_df_f"
   ]
  },
  {
   "cell_type": "code",
   "execution_count": 145,
   "id": "bba4a914-0d6e-4b27-a745-aed11499decb",
   "metadata": {},
   "outputs": [
    {
     "data": {
      "image/png": "[encoded data removed]",
      "text/plain": [
       "<Figure size 720x360 with 1 Axes>"
      ]
     },
     "metadata": {
      "needs_background": "light"
     },
     "output_type": "display_data"
    },
    {
     "data": {
      "text/plain": [
       "<Figure size 432x288 with 0 Axes>"
      ]
     },
     "metadata": {},
     "output_type": "display_data"
    }
   ],
   "source": [
    "plt.figure(figsize=(10,5))\n",
    "sns.barplot(x = mean_df_f.index, y = mean_df_f.mean_type_airport, data= mean_df_f, color ='b')\n",
    "plt.title('mean elevation in feet for each type of airports')\n",
    "plt.xlabel('type of airports')\n",
    "plt.show()\n",
    "plt.savefig('/users/taehyun/Dropbox/Springboard/Projects/airport-codes/images/mean_elevation_ft_airports') "
   ]
  },
  {
   "cell_type": "markdown",
   "id": "cb340827-b915-472a-809f-55f7b2f18344",
   "metadata": {},
   "source": [
    "We can see the small airport has the most highest mean value for elevation in feet. "
   ]
  },
  {
   "cell_type": "markdown",
   "id": "e3fa8a2d-cacd-44a9-8e67-4348e59f6098",
   "metadata": {},
   "source": [
    "The large airport and seaplane base has the smallest mean value. In further analysis, we will figure out the correlation and the deep feature analysis."
   ]
  },
  {
   "cell_type": "markdown",
   "id": "b5512dd0-8491-4b73-9025-530abbb3527e",
   "metadata": {},
   "source": [
    "We can also identify that there are not many medium_airport, seaplane_base, large_airport, and balloonport. We can add the airports by it's similar elevation feet. We can concatenate baloonport - medium airport and seaplane-base and large airport"
   ]
  },
  {
   "cell_type": "code",
   "execution_count": 146,
   "id": "e57b3dda-691f-4a14-a6ea-525449cc2069",
   "metadata": {},
   "outputs": [
    {
     "data": {
      "text/plain": [
       "<AxesSubplot:xlabel='type'>"
      ]
     },
     "execution_count": 146,
     "metadata": {},
     "output_type": "execute_result"
    },
    {
     "data": {
      "text/plain": [
       "<Figure size 720x720 with 0 Axes>"
      ]
     },
     "metadata": {},
     "output_type": "display_data"
    },
    {
     "data": {
      "image/png": "[encoded data removed]",
      "text/plain": [
       "<Figure size 432x288 with 1 Axes>"
      ]
     },
     "metadata": {
      "needs_background": "light"
     },
     "output_type": "display_data"
    }
   ],
   "source": [
    "plt.figure(figsize=(10,10))\n",
    "pd.DataFrame({'max':df.groupby(['type'])['elevation_ft'].max(), \n",
    "             'min':df.groupby(['type'])['elevation_ft'].min(),\n",
    "            'median':df.groupby(['type'])['elevation_ft'].median(),\n",
    "             'mean':df.groupby(['type'])['elevation_ft'].mean()}).plot()"
   ]
  },
  {
   "cell_type": "code",
   "execution_count": 153,
   "id": "9a79f830-68fc-43ab-8199-842f96bb43b6",
   "metadata": {},
   "outputs": [
    {
     "data": {
      "image/png": "[encoded data removed]",
      "text/plain": [
       "<Figure size 432x288 with 1 Axes>"
      ]
     },
     "metadata": {
      "needs_background": "light"
     },
     "output_type": "display_data"
    }
   ],
   "source": [
    "df.type.value_counts().plot(kind='barh')\n",
    "plt.savefig('/users/taehyun/Dropbox/Springboard/Projects/airport-codes/images/count_type_airports.jpeg')"
   ]
  },
  {
   "cell_type": "code",
   "execution_count": 67,
   "id": "24f49a3f-e725-4ddd-87f6-1a533b3391dd",
   "metadata": {},
   "outputs": [],
   "source": [
    "df.loc[(df['type'] == 'large_airport'), 'type'] = 'seaplane_base'"
   ]
  },
  {
   "cell_type": "code",
   "execution_count": 68,
   "id": "668031ff-fddc-4fe6-8196-76f10cd7aaa6",
   "metadata": {},
   "outputs": [],
   "source": [
    "df.loc[(df['type'] == 'balloonport'), 'type'] = 'medium_airport'"
   ]
  },
  {
   "cell_type": "code",
   "execution_count": 69,
   "id": "66ffb5fd-20ff-4c51-b55f-3a0432bda189",
   "metadata": {},
   "outputs": [
    {
     "data": {
      "text/plain": [
       "small_airport     34808\n",
       "heliport          12028\n",
       "medium_airport     4561\n",
       "seaplane_base      1646\n",
       "Name: type, dtype: int64"
      ]
     },
     "execution_count": 69,
     "metadata": {},
     "output_type": "execute_result"
    }
   ],
   "source": [
    "df['type'].value_counts()"
   ]
  },
  {
   "cell_type": "code",
   "execution_count": 70,
   "id": "86bfa37b-f405-4296-9a61-5659943fc1c8",
   "metadata": {},
   "outputs": [
    {
     "data": {
      "text/html": [
       "<div>\n",
       "<style scoped>\n",
       "    .dataframe tbody tr th:only-of-type {\n",
       "        vertical-align: middle;\n",
       "    }\n",
       "\n",
       "    .dataframe tbody tr th {\n",
       "        vertical-align: top;\n",
       "    }\n",
       "\n",
       "    .dataframe thead th {\n",
       "        text-align: right;\n",
       "    }\n",
       "</style>\n",
       "<table border=\"1\" class=\"dataframe\">\n",
       "  <thead>\n",
       "    <tr style=\"text-align: right;\">\n",
       "      <th></th>\n",
       "      <th>index</th>\n",
       "      <th>mean_type_airport</th>\n",
       "    </tr>\n",
       "  </thead>\n",
       "  <tbody>\n",
       "    <tr>\n",
       "      <th>0</th>\n",
       "      <td>heliport</td>\n",
       "      <td>1199.377100</td>\n",
       "    </tr>\n",
       "    <tr>\n",
       "      <th>1</th>\n",
       "      <td>small_airport</td>\n",
       "      <td>1349.811397</td>\n",
       "    </tr>\n",
       "    <tr>\n",
       "      <th>2</th>\n",
       "      <td>seaplane_base</td>\n",
       "      <td>712.167012</td>\n",
       "    </tr>\n",
       "    <tr>\n",
       "      <th>3</th>\n",
       "      <td>medium_airport</td>\n",
       "      <td>1059.329587</td>\n",
       "    </tr>\n",
       "    <tr>\n",
       "      <th>4</th>\n",
       "      <td>large_airport</td>\n",
       "      <td>NaN</td>\n",
       "    </tr>\n",
       "  </tbody>\n",
       "</table>\n",
       "</div>"
      ],
      "text/plain": [
       "            index  mean_type_airport\n",
       "0        heliport        1199.377100\n",
       "1   small_airport        1349.811397\n",
       "2   seaplane_base         712.167012\n",
       "3  medium_airport        1059.329587\n",
       "4   large_airport                NaN"
      ]
     },
     "execution_count": 70,
     "metadata": {},
     "output_type": "execute_result"
    }
   ],
   "source": [
    "mean_df_f = plot_mean_type(df, data_input)\n",
    "mean_df_f = mean_df_f.reset_index()\n",
    "mean_df_f"
   ]
  },
  {
   "cell_type": "code",
   "execution_count": 71,
   "id": "3f811eb9-811a-4bd5-b274-a544234ccb2f",
   "metadata": {},
   "outputs": [
    {
     "data": {
      "text/html": [
       "<div>\n",
       "<style scoped>\n",
       "    .dataframe tbody tr th:only-of-type {\n",
       "        vertical-align: middle;\n",
       "    }\n",
       "\n",
       "    .dataframe tbody tr th {\n",
       "        vertical-align: top;\n",
       "    }\n",
       "\n",
       "    .dataframe thead th {\n",
       "        text-align: right;\n",
       "    }\n",
       "</style>\n",
       "<table border=\"1\" class=\"dataframe\">\n",
       "  <thead>\n",
       "    <tr style=\"text-align: right;\">\n",
       "      <th></th>\n",
       "      <th>airport</th>\n",
       "      <th>mean_</th>\n",
       "    </tr>\n",
       "  </thead>\n",
       "  <tbody>\n",
       "    <tr>\n",
       "      <th>0</th>\n",
       "      <td>heliport</td>\n",
       "      <td>1199.377100</td>\n",
       "    </tr>\n",
       "    <tr>\n",
       "      <th>1</th>\n",
       "      <td>small_airport</td>\n",
       "      <td>1349.811397</td>\n",
       "    </tr>\n",
       "    <tr>\n",
       "      <th>2</th>\n",
       "      <td>seaplane_base</td>\n",
       "      <td>712.167012</td>\n",
       "    </tr>\n",
       "    <tr>\n",
       "      <th>3</th>\n",
       "      <td>medium_airport</td>\n",
       "      <td>1059.329587</td>\n",
       "    </tr>\n",
       "    <tr>\n",
       "      <th>4</th>\n",
       "      <td>large_airport</td>\n",
       "      <td>NaN</td>\n",
       "    </tr>\n",
       "  </tbody>\n",
       "</table>\n",
       "</div>"
      ],
      "text/plain": [
       "          airport        mean_\n",
       "0        heliport  1199.377100\n",
       "1   small_airport  1349.811397\n",
       "2   seaplane_base   712.167012\n",
       "3  medium_airport  1059.329587\n",
       "4   large_airport          NaN"
      ]
     },
     "execution_count": 71,
     "metadata": {},
     "output_type": "execute_result"
    }
   ],
   "source": [
    "mean_df_f.columns = ['airport','mean_']\n",
    "mean_df_f"
   ]
  },
  {
   "cell_type": "code",
   "execution_count": 72,
   "id": "fd0a093a-addf-4733-addb-7c2edfcfa3d4",
   "metadata": {},
   "outputs": [],
   "source": [
    "df['elevation_ft'] = df['elevation_ft'].fillna(111)\n",
    "\n",
    "def filling_na(type_airport, val):\n",
    "    b = df['type']==type_airport\n",
    "    df.loc[b,'elevation_ft'] = df.loc[b,'elevation_ft'].replace(111,val)"
   ]
  },
  {
   "cell_type": "code",
   "execution_count": 73,
   "id": "0500d731-cb70-406c-8aa3-29a1ba340eed",
   "metadata": {},
   "outputs": [],
   "source": [
    "def fill_all_type(data):\n",
    "    for i in range(len(data)):\n",
    "        filling_na(data.airport[i], data.mean_[i])"
   ]
  },
  {
   "cell_type": "code",
   "execution_count": 74,
   "id": "7ca6d520-adaa-4b5b-8305-d72c86143316",
   "metadata": {},
   "outputs": [],
   "source": [
    "fill_all_type(mean_df_f)"
   ]
  },
  {
   "cell_type": "markdown",
   "id": "b4509acf-fd65-4b66-8881-775cfe9b7d8d",
   "metadata": {},
   "source": [
    "We fill up all the NA values with 111 first. Then we replace 111 with with the mean values for each type of airports."
   ]
  },
  {
   "cell_type": "markdown",
   "id": "8104be64-5a6d-4c5d-aed8-8fa2e58a7892",
   "metadata": {},
   "source": [
    "We can see that the elevation feet has no more null values. Let's continue to explore more for others"
   ]
  },
  {
   "cell_type": "code",
   "execution_count": 75,
   "id": "ad877c59-07d3-4133-8267-7f407798f7d6",
   "metadata": {},
   "outputs": [
    {
     "data": {
      "text/plain": [
       "<AxesSubplot:xlabel='type', ylabel='elevation_ft'>"
      ]
     },
     "execution_count": 75,
     "metadata": {},
     "output_type": "execute_result"
    },
    {
     "data": {
      "image/png": "[encoded data removed]",
      "text/plain": [
       "<Figure size 720x360 with 1 Axes>"
      ]
     },
     "metadata": {
      "needs_background": "light"
     },
     "output_type": "display_data"
    }
   ],
   "source": [
    "plt.figure(figsize=(10,5))\n",
    "sns.barplot(x = 'type', y = 'elevation_ft', data = df)"
   ]
  },
  {
   "cell_type": "markdown",
   "id": "da191ff9-56fa-4519-a01a-c1cb12ea6d3d",
   "metadata": {},
   "source": [
    "We see that small_airport has the highest elevation feet and balloonport has a huge range of confidence interval. Small_airport might have a bigger range than other airports because of it's outliers. Therefore, it's better to visualize with other types of graphs instead of a boxplot. "
   ]
  },
  {
   "cell_type": "markdown",
   "id": "3d6379d6-9367-4937-9eab-6cbe53f872fa",
   "metadata": {},
   "source": [
    "But first, let's focus on filling up Na values first."
   ]
  },
  {
   "cell_type": "code",
   "execution_count": 76,
   "id": "14f92b6c-096a-4564-9b60-09a69d90414a",
   "metadata": {},
   "outputs": [
    {
     "data": {
      "text/plain": [
       "SA    8212\n",
       "EU    7404\n",
       "AS    5363\n",
       "AF    3283\n",
       "OC    3008\n",
       "AN      26\n",
       "Name: continent, dtype: int64"
      ]
     },
     "execution_count": 76,
     "metadata": {},
     "output_type": "execute_result"
    }
   ],
   "source": [
    "df['continent'].value_counts()"
   ]
  },
  {
   "cell_type": "markdown",
   "id": "7ea48f50-daf2-4d7d-b0a8-7d75f3e8701a",
   "metadata": {},
   "source": [
    "gps_cood and loca_code aren't really useful. We can drop these columns."
   ]
  },
  {
   "cell_type": "markdown",
   "id": "d04dcb83-1085-49a8-a2ee-239466cadd8e",
   "metadata": {},
   "source": [
    "If I label encode thse in the future, there owuld be too many columns"
   ]
  },
  {
   "cell_type": "code",
   "execution_count": 77,
   "id": "93a1eaa6-7aef-4ec3-9f02-e88d77216711",
   "metadata": {},
   "outputs": [],
   "source": [
    "df.drop(['gps_code','local_code'], axis= 1, inplace =True)"
   ]
  },
  {
   "cell_type": "code",
   "execution_count": 78,
   "id": "05ae1754-f0a1-4e7d-8bb4-ca412c243898",
   "metadata": {},
   "outputs": [
    {
     "data": {
      "text/html": [
       "<div>\n",
       "<style scoped>\n",
       "    .dataframe tbody tr th:only-of-type {\n",
       "        vertical-align: middle;\n",
       "    }\n",
       "\n",
       "    .dataframe tbody tr th {\n",
       "        vertical-align: top;\n",
       "    }\n",
       "\n",
       "    .dataframe thead th {\n",
       "        text-align: right;\n",
       "    }\n",
       "</style>\n",
       "<table border=\"1\" class=\"dataframe\">\n",
       "  <thead>\n",
       "    <tr style=\"text-align: right;\">\n",
       "      <th></th>\n",
       "      <th>type</th>\n",
       "      <th>name</th>\n",
       "      <th>elevation_ft</th>\n",
       "      <th>continent</th>\n",
       "      <th>municipality</th>\n",
       "      <th>Country</th>\n",
       "      <th>State</th>\n",
       "      <th>Longitude</th>\n",
       "      <th>Latitude</th>\n",
       "    </tr>\n",
       "  </thead>\n",
       "  <tbody>\n",
       "    <tr>\n",
       "      <th>0</th>\n",
       "      <td>heliport</td>\n",
       "      <td>Total Rf Heliport</td>\n",
       "      <td>11.0</td>\n",
       "      <td>NaN</td>\n",
       "      <td>Bensalem</td>\n",
       "      <td>US</td>\n",
       "      <td>PA</td>\n",
       "      <td>-74.933601</td>\n",
       "      <td>40.070801</td>\n",
       "    </tr>\n",
       "    <tr>\n",
       "      <th>1</th>\n",
       "      <td>small_airport</td>\n",
       "      <td>Aero B Ranch Airport</td>\n",
       "      <td>3435.0</td>\n",
       "      <td>NaN</td>\n",
       "      <td>Leoti</td>\n",
       "      <td>US</td>\n",
       "      <td>KS</td>\n",
       "      <td>-101.473911</td>\n",
       "      <td>38.704022</td>\n",
       "    </tr>\n",
       "    <tr>\n",
       "      <th>2</th>\n",
       "      <td>small_airport</td>\n",
       "      <td>Lowell Field</td>\n",
       "      <td>450.0</td>\n",
       "      <td>NaN</td>\n",
       "      <td>Anchor Point</td>\n",
       "      <td>US</td>\n",
       "      <td>AK</td>\n",
       "      <td>-151.695999</td>\n",
       "      <td>59.949200</td>\n",
       "    </tr>\n",
       "    <tr>\n",
       "      <th>3</th>\n",
       "      <td>small_airport</td>\n",
       "      <td>Epps Airpark</td>\n",
       "      <td>820.0</td>\n",
       "      <td>NaN</td>\n",
       "      <td>Harvest</td>\n",
       "      <td>US</td>\n",
       "      <td>AL</td>\n",
       "      <td>-86.770302</td>\n",
       "      <td>34.864799</td>\n",
       "    </tr>\n",
       "    <tr>\n",
       "      <th>5</th>\n",
       "      <td>small_airport</td>\n",
       "      <td>Fulton Airport</td>\n",
       "      <td>1100.0</td>\n",
       "      <td>NaN</td>\n",
       "      <td>Alex</td>\n",
       "      <td>US</td>\n",
       "      <td>OK</td>\n",
       "      <td>-97.818019</td>\n",
       "      <td>34.942803</td>\n",
       "    </tr>\n",
       "  </tbody>\n",
       "</table>\n",
       "</div>"
      ],
      "text/plain": [
       "            type                  name  elevation_ft continent  municipality  \\\n",
       "0       heliport     Total Rf Heliport          11.0       NaN      Bensalem   \n",
       "1  small_airport  Aero B Ranch Airport        3435.0       NaN         Leoti   \n",
       "2  small_airport          Lowell Field         450.0       NaN  Anchor Point   \n",
       "3  small_airport          Epps Airpark         820.0       NaN       Harvest   \n",
       "5  small_airport        Fulton Airport        1100.0       NaN          Alex   \n",
       "\n",
       "  Country State   Longitude   Latitude  \n",
       "0      US    PA  -74.933601  40.070801  \n",
       "1      US    KS -101.473911  38.704022  \n",
       "2      US    AK -151.695999  59.949200  \n",
       "3      US    AL  -86.770302  34.864799  \n",
       "5      US    OK  -97.818019  34.942803  "
      ]
     },
     "execution_count": 78,
     "metadata": {},
     "output_type": "execute_result"
    }
   ],
   "source": [
    "df.head()"
   ]
  },
  {
   "cell_type": "markdown",
   "id": "b5449005-b036-4820-a05d-6db21bf52e2b",
   "metadata": {},
   "source": [
    "So all the US has missing values with NaN."
   ]
  },
  {
   "cell_type": "code",
   "execution_count": 79,
   "id": "6cd41759-8e1c-46f9-82ac-d595d2e9b979",
   "metadata": {},
   "outputs": [],
   "source": [
    "df['continent'].fillna('A',inplace=True)"
   ]
  },
  {
   "cell_type": "code",
   "execution_count": 80,
   "id": "647a4364-7acb-4764-9084-e62dcf63c1b5",
   "metadata": {},
   "outputs": [],
   "source": [
    "def fill_continent(country, continent):\n",
    "    country_data = df['Country'] == country\n",
    "    df.loc[country_data,'continent'] = df.loc[country_data,'continent'].replace('A', continent)"
   ]
  },
  {
   "cell_type": "markdown",
   "id": "a4807de0-0a9f-45a9-a6e5-e110ef7d5e61",
   "metadata": {},
   "source": [
    "I filled up NAs with A (temporarily)"
   ]
  },
  {
   "cell_type": "markdown",
   "id": "b7d2a8ad-a454-4fb4-8ad7-032fb9fc0581",
   "metadata": {},
   "source": [
    "And filled up all the country matching their appropriate continent. "
   ]
  },
  {
   "cell_type": "code",
   "execution_count": 81,
   "id": "d48f2afc-3059-477c-ac72-4f9259be94b8",
   "metadata": {},
   "outputs": [],
   "source": [
    "fill_continent('US', 'NA')\n",
    "fill_continent('CA', 'NA')\n",
    "fill_continent('MX', 'NA')\n",
    "fill_continent('CU', 'NA')\n",
    "fill_continent('CR', 'NA')\n",
    "fill_continent('GL', 'NA')\n",
    "fill_continent('HN', 'CA')"
   ]
  },
  {
   "cell_type": "code",
   "execution_count": 82,
   "id": "e1822f9d-af49-4060-8c5c-f90dc5e741f2",
   "metadata": {},
   "outputs": [
    {
     "data": {
      "text/plain": [
       "NA    25148\n",
       "SA     8212\n",
       "EU     7404\n",
       "AS     5363\n",
       "AF     3283\n",
       "OC     3008\n",
       "A       446\n",
       "CA      153\n",
       "AN       26\n",
       "Name: continent, dtype: int64"
      ]
     },
     "execution_count": 82,
     "metadata": {},
     "output_type": "execute_result"
    }
   ],
   "source": [
    "df['continent'].value_counts()"
   ]
  },
  {
   "cell_type": "markdown",
   "id": "cf643580-64ab-4507-94db-9a94dd66270e",
   "metadata": {},
   "source": [
    "We changed all the A to NA - North America."
   ]
  },
  {
   "cell_type": "markdown",
   "id": "2f8db324-6ea7-4113-8049-fbd965cd4839",
   "metadata": {},
   "source": [
    "And other countries and continents as well"
   ]
  },
  {
   "cell_type": "markdown",
   "id": "7584fc8f-6c39-4e53-9ff2-5889ec236db3",
   "metadata": {},
   "source": [
    "While I'm filling up the data I found that there's a country labeled as PA which I would have to drop this since it is a data error."
   ]
  },
  {
   "cell_type": "markdown",
   "id": "1dc91f5a-6d66-4d2e-b9c3-36577bad1f6e",
   "metadata": {},
   "source": [
    "There are other countries that can be labeled into certain continents but since there's not even 100 data for each of the countries, I will drop all of them."
   ]
  },
  {
   "cell_type": "code",
   "execution_count": 83,
   "id": "54f3c0f5-0c09-4f74-bb1b-cff69b5d43a4",
   "metadata": {},
   "outputs": [
    {
     "data": {
      "text/plain": [
       "PA    69\n",
       "BS    61\n",
       "PR    56\n",
       "GT    52\n",
       "DO    34\n",
       "NI    32\n",
       "SV    25\n",
       "BZ    24\n",
       "JM    19\n",
       "VI     9\n",
       "HT     8\n",
       "TC     8\n",
       "GP     6\n",
       "VC     5\n",
       "VG     4\n",
       "TT     3\n",
       "KY     3\n",
       "AG     3\n",
       "BQ     3\n",
       "KN     2\n",
       "LC     2\n",
       "DM     2\n",
       "GD     2\n",
       "BB     2\n",
       "MF     2\n",
       "PM     2\n",
       "BL     1\n",
       "AW     1\n",
       "MQ     1\n",
       "CW     1\n",
       "SX     1\n",
       "AI     1\n",
       "MS     1\n",
       "BM     1\n",
       "Name: Country, dtype: int64"
      ]
     },
     "execution_count": 83,
     "metadata": {},
     "output_type": "execute_result"
    }
   ],
   "source": [
    "df[df['continent'] == 'A']['Country'].value_counts()"
   ]
  },
  {
   "cell_type": "code",
   "execution_count": 84,
   "id": "caa00835-b6c3-4c78-babf-e5b3f9a06117",
   "metadata": {},
   "outputs": [
    {
     "data": {
      "text/html": [
       "<div>\n",
       "<style scoped>\n",
       "    .dataframe tbody tr th:only-of-type {\n",
       "        vertical-align: middle;\n",
       "    }\n",
       "\n",
       "    .dataframe tbody tr th {\n",
       "        vertical-align: top;\n",
       "    }\n",
       "\n",
       "    .dataframe thead th {\n",
       "        text-align: right;\n",
       "    }\n",
       "</style>\n",
       "<table border=\"1\" class=\"dataframe\">\n",
       "  <thead>\n",
       "    <tr style=\"text-align: right;\">\n",
       "      <th></th>\n",
       "      <th>type</th>\n",
       "      <th>name</th>\n",
       "      <th>elevation_ft</th>\n",
       "      <th>continent</th>\n",
       "      <th>municipality</th>\n",
       "      <th>Country</th>\n",
       "      <th>State</th>\n",
       "      <th>Longitude</th>\n",
       "      <th>Latitude</th>\n",
       "    </tr>\n",
       "  </thead>\n",
       "  <tbody>\n",
       "    <tr>\n",
       "      <th>0</th>\n",
       "      <td>heliport</td>\n",
       "      <td>Total Rf Heliport</td>\n",
       "      <td>11.0</td>\n",
       "      <td>NA</td>\n",
       "      <td>Bensalem</td>\n",
       "      <td>US</td>\n",
       "      <td>PA</td>\n",
       "      <td>-74.933601</td>\n",
       "      <td>40.070801</td>\n",
       "    </tr>\n",
       "    <tr>\n",
       "      <th>1</th>\n",
       "      <td>small_airport</td>\n",
       "      <td>Aero B Ranch Airport</td>\n",
       "      <td>3435.0</td>\n",
       "      <td>NA</td>\n",
       "      <td>Leoti</td>\n",
       "      <td>US</td>\n",
       "      <td>KS</td>\n",
       "      <td>-101.473911</td>\n",
       "      <td>38.704022</td>\n",
       "    </tr>\n",
       "    <tr>\n",
       "      <th>2</th>\n",
       "      <td>small_airport</td>\n",
       "      <td>Lowell Field</td>\n",
       "      <td>450.0</td>\n",
       "      <td>NA</td>\n",
       "      <td>Anchor Point</td>\n",
       "      <td>US</td>\n",
       "      <td>AK</td>\n",
       "      <td>-151.695999</td>\n",
       "      <td>59.949200</td>\n",
       "    </tr>\n",
       "    <tr>\n",
       "      <th>3</th>\n",
       "      <td>small_airport</td>\n",
       "      <td>Epps Airpark</td>\n",
       "      <td>820.0</td>\n",
       "      <td>NA</td>\n",
       "      <td>Harvest</td>\n",
       "      <td>US</td>\n",
       "      <td>AL</td>\n",
       "      <td>-86.770302</td>\n",
       "      <td>34.864799</td>\n",
       "    </tr>\n",
       "    <tr>\n",
       "      <th>5</th>\n",
       "      <td>small_airport</td>\n",
       "      <td>Fulton Airport</td>\n",
       "      <td>1100.0</td>\n",
       "      <td>NA</td>\n",
       "      <td>Alex</td>\n",
       "      <td>US</td>\n",
       "      <td>OK</td>\n",
       "      <td>-97.818019</td>\n",
       "      <td>34.942803</td>\n",
       "    </tr>\n",
       "  </tbody>\n",
       "</table>\n",
       "</div>"
      ],
      "text/plain": [
       "            type                  name  elevation_ft continent  municipality  \\\n",
       "0       heliport     Total Rf Heliport          11.0        NA      Bensalem   \n",
       "1  small_airport  Aero B Ranch Airport        3435.0        NA         Leoti   \n",
       "2  small_airport          Lowell Field         450.0        NA  Anchor Point   \n",
       "3  small_airport          Epps Airpark         820.0        NA       Harvest   \n",
       "5  small_airport        Fulton Airport        1100.0        NA          Alex   \n",
       "\n",
       "  Country State   Longitude   Latitude  \n",
       "0      US    PA  -74.933601  40.070801  \n",
       "1      US    KS -101.473911  38.704022  \n",
       "2      US    AK -151.695999  59.949200  \n",
       "3      US    AL  -86.770302  34.864799  \n",
       "5      US    OK  -97.818019  34.942803  "
      ]
     },
     "execution_count": 84,
     "metadata": {},
     "output_type": "execute_result"
    }
   ],
   "source": [
    "df_2 = df[df.continent != 'A']\n",
    "df_2.head()"
   ]
  },
  {
   "cell_type": "code",
   "execution_count": 85,
   "id": "5447d782-b2f0-4b1c-b053-b0bf01a91bcc",
   "metadata": {},
   "outputs": [],
   "source": [
    "#Also, for the State column, there are some Statesthat has '-' and other special characters.\n",
    "#We have to get rid of this\n",
    "\n",
    "import re\n",
    "df['State'] = df['State'].apply(lambda x: re.sub('-', '', x))"
   ]
  },
  {
   "cell_type": "code",
   "execution_count": 86,
   "id": "116fdfd5-8273-4422-bf51-cd6396e40d1e",
   "metadata": {},
   "outputs": [
    {
     "data": {
      "image/png": "[encoded data removed]",
      "text/plain": [
       "<Figure size 432x288 with 1 Axes>"
      ]
     },
     "metadata": {
      "needs_background": "light"
     },
     "output_type": "display_data"
    },
    {
     "data": {
      "text/plain": [
       "<Figure size 432x288 with 0 Axes>"
      ]
     },
     "metadata": {},
     "output_type": "display_data"
    }
   ],
   "source": [
    "sns.barplot(x = df.continent.value_counts().index, y = df.continent.value_counts().values, data=df)\n",
    "plt.title('number of airports in each continent')\n",
    "plt.xlabel('continents')\n",
    "plt.ylabel('elevation in feet')\n",
    "plt.show()\n",
    "plt.savefig('/users/taehyun/Dropbox/Springboard/Projects/airport-codes/images/number_airports_in_continent.jpeg',bbox_inches='tight') "
   ]
  },
  {
   "cell_type": "markdown",
   "id": "721d8f9e-be9b-42ec-aac3-7942d8b913c2",
   "metadata": {},
   "source": [
    "We have so much values for NA's. I guess most of the airports are densed in North America."
   ]
  },
  {
   "cell_type": "markdown",
   "id": "927accfd-3751-4d0a-929b-f85d860225c7",
   "metadata": {},
   "source": [
    "Let's see what kind of airport are common in North America."
   ]
  },
  {
   "cell_type": "code",
   "execution_count": 87,
   "id": "f5dca8c3-8252-4221-bb0e-3526a6bc7d79",
   "metadata": {},
   "outputs": [
    {
     "data": {
      "image/png": "[encoded data removed]",
      "text/plain": [
       "<Figure size 432x288 with 1 Axes>"
      ]
     },
     "metadata": {
      "needs_background": "light"
     },
     "output_type": "display_data"
    }
   ],
   "source": [
    "sns.barplot(x = df[df.continent == 'NA']['type'].value_counts().index, y = df[df.continent == 'NA']['type'].value_counts().values, data = df[df.continent == 'NA'])\n",
    "plt.ylabel('elevation_ft')\n",
    "plt.xlabel('airport types')\n",
    "plt.title('Type of airports in North America')\n",
    "plt.savefig('/users/taehyun/Dropbox/Springboard/Projects/airport-codes/images/Number_airports_in_NA.jpeg',bbox_inches='tight') "
   ]
  },
  {
   "cell_type": "markdown",
   "id": "544d37c6-1004-4f75-b9a5-a6e150d042bb",
   "metadata": {},
   "source": [
    "line plot shows the relationship between elevation_ft for each type of airports. But oddly, it has a different result when I plot it with the catplot underneath."
   ]
  },
  {
   "cell_type": "code",
   "execution_count": 88,
   "id": "69a0f0ec-cf7c-44d9-8712-56441e3cddea",
   "metadata": {},
   "outputs": [
    {
     "data": {
      "text/plain": [
       "<seaborn.axisgrid.FacetGrid at 0x7f798f1534c0>"
      ]
     },
     "execution_count": 88,
     "metadata": {},
     "output_type": "execute_result"
    },
    {
     "data": {
      "text/plain": [
       "<Figure size 1080x288 with 0 Axes>"
      ]
     },
     "metadata": {},
     "output_type": "display_data"
    },
    {
     "data": {
      "image/png": "[encoded data removed]",
      "text/plain": [
       "<Figure size 360x360 with 1 Axes>"
      ]
     },
     "metadata": {
      "needs_background": "light"
     },
     "output_type": "display_data"
    }
   ],
   "source": [
    "plt.figure(figsize=(15,4))\n",
    "sns.catplot(data=df, x=\"elevation_ft\", y=\"type\", kind=\"box\")"
   ]
  },
  {
   "cell_type": "markdown",
   "id": "6d00e2c0-ec42-44d0-addd-96e9210d0c5b",
   "metadata": {},
   "source": [
    "I can see outliers in this horizontal boxplot. Let's see more."
   ]
  },
  {
   "cell_type": "code",
   "execution_count": 89,
   "id": "f89d7ae3-8683-4552-90cc-b6029905002a",
   "metadata": {},
   "outputs": [
    {
     "data": {
      "text/html": [
       "<div>\n",
       "<style scoped>\n",
       "    .dataframe tbody tr th:only-of-type {\n",
       "        vertical-align: middle;\n",
       "    }\n",
       "\n",
       "    .dataframe tbody tr th {\n",
       "        vertical-align: top;\n",
       "    }\n",
       "\n",
       "    .dataframe thead th {\n",
       "        text-align: right;\n",
       "    }\n",
       "</style>\n",
       "<table border=\"1\" class=\"dataframe\">\n",
       "  <thead>\n",
       "    <tr style=\"text-align: right;\">\n",
       "      <th></th>\n",
       "      <th>type</th>\n",
       "      <th>name</th>\n",
       "      <th>elevation_ft</th>\n",
       "      <th>continent</th>\n",
       "      <th>municipality</th>\n",
       "      <th>Country</th>\n",
       "      <th>State</th>\n",
       "      <th>Longitude</th>\n",
       "      <th>Latitude</th>\n",
       "    </tr>\n",
       "  </thead>\n",
       "  <tbody>\n",
       "    <tr>\n",
       "      <th>55049</th>\n",
       "      <td>medium_airport</td>\n",
       "      <td>Modi</td>\n",
       "      <td>29977.0</td>\n",
       "      <td>NA</td>\n",
       "      <td>California</td>\n",
       "      <td>US</td>\n",
       "      <td>CA</td>\n",
       "      <td>179.999894</td>\n",
       "      <td>89.999845</td>\n",
       "    </tr>\n",
       "  </tbody>\n",
       "</table>\n",
       "</div>"
      ],
      "text/plain": [
       "                 type  name  elevation_ft continent municipality Country  \\\n",
       "55049  medium_airport  Modi       29977.0        NA   California      US   \n",
       "\n",
       "      State   Longitude   Latitude  \n",
       "55049    CA  179.999894  89.999845  "
      ]
     },
     "execution_count": 89,
     "metadata": {},
     "output_type": "execute_result"
    }
   ],
   "source": [
    "df[df['elevation_ft'] > 25000]"
   ]
  },
  {
   "cell_type": "markdown",
   "id": "b9754da7-bf4f-4a14-a1fd-7837bd176abe",
   "metadata": {},
   "source": [
    "The elevation_ft 29977.0 is an outlier because according to google, \n",
    "The Leadville Airport is North America's highest public use airport at an altitude of 9,934 feet."
   ]
  },
  {
   "cell_type": "markdown",
   "id": "45881f69-f9f6-4319-b0a0-6bfb0683351d",
   "metadata": {},
   "source": [
    "Hence, we don't drop this row."
   ]
  },
  {
   "cell_type": "markdown",
   "id": "bfb158e8-83ed-45c5-aa30-7b358983561e",
   "metadata": {},
   "source": [
    "I can not find anything about the elevation feet for modi airport. So I will drop this."
   ]
  },
  {
   "cell_type": "code",
   "execution_count": 90,
   "id": "72fcc2e7-f80b-4803-a84c-c56d3a808c58",
   "metadata": {},
   "outputs": [],
   "source": [
    "df.drop([55049], axis=0, inplace=True)"
   ]
  },
  {
   "cell_type": "code",
   "execution_count": 91,
   "id": "ea36cc6f-91fb-4519-94eb-39f175bde8fc",
   "metadata": {},
   "outputs": [
    {
     "data": {
      "text/html": [
       "<div>\n",
       "<style scoped>\n",
       "    .dataframe tbody tr th:only-of-type {\n",
       "        vertical-align: middle;\n",
       "    }\n",
       "\n",
       "    .dataframe tbody tr th {\n",
       "        vertical-align: top;\n",
       "    }\n",
       "\n",
       "    .dataframe thead th {\n",
       "        text-align: right;\n",
       "    }\n",
       "</style>\n",
       "<table border=\"1\" class=\"dataframe\">\n",
       "  <thead>\n",
       "    <tr style=\"text-align: right;\">\n",
       "      <th></th>\n",
       "      <th>type</th>\n",
       "      <th>name</th>\n",
       "      <th>elevation_ft</th>\n",
       "      <th>continent</th>\n",
       "      <th>municipality</th>\n",
       "      <th>Country</th>\n",
       "      <th>State</th>\n",
       "      <th>Longitude</th>\n",
       "      <th>Latitude</th>\n",
       "    </tr>\n",
       "  </thead>\n",
       "  <tbody>\n",
       "    <tr>\n",
       "      <th>25164</th>\n",
       "      <td>heliport</td>\n",
       "      <td>Siachen Glacier AFS Airport</td>\n",
       "      <td>22000.0</td>\n",
       "      <td>AS</td>\n",
       "      <td>NaN</td>\n",
       "      <td>IN</td>\n",
       "      <td>JK</td>\n",
       "      <td>77.0</td>\n",
       "      <td>35.5</td>\n",
       "    </tr>\n",
       "  </tbody>\n",
       "</table>\n",
       "</div>"
      ],
      "text/plain": [
       "           type                         name  elevation_ft continent  \\\n",
       "25164  heliport  Siachen Glacier AFS Airport       22000.0        AS   \n",
       "\n",
       "      municipality Country State  Longitude  Latitude  \n",
       "25164          NaN      IN    JK       77.0      35.5  "
      ]
     },
     "execution_count": 91,
     "metadata": {},
     "output_type": "execute_result"
    }
   ],
   "source": [
    "df[df['elevation_ft'] > 20000]"
   ]
  },
  {
   "cell_type": "markdown",
   "id": "4571aa83-fd0d-40ba-828a-f1b215f091f6",
   "metadata": {},
   "source": [
    "This isn't an outlier. It's a fact"
   ]
  },
  {
   "cell_type": "code",
   "execution_count": 92,
   "id": "886320b0-2f4c-4d9f-a4f7-6037dff5db49",
   "metadata": {},
   "outputs": [
    {
     "data": {
      "text/plain": [
       "count    12028.000000\n",
       "mean      1199.739048\n",
       "std       1574.350775\n",
       "min       -117.000000\n",
       "25%        200.000000\n",
       "50%        808.000000\n",
       "75%       1199.377100\n",
       "max      22000.000000\n",
       "Name: elevation_ft, dtype: float64"
      ]
     },
     "execution_count": 92,
     "metadata": {},
     "output_type": "execute_result"
    }
   ],
   "source": [
    "df[df.type == 'heliport'].describe().elevation_ft"
   ]
  },
  {
   "cell_type": "code",
   "execution_count": 93,
   "id": "05b6a04e-0bd5-4210-8534-842ad67cd395",
   "metadata": {},
   "outputs": [
    {
     "data": {
      "text/html": [
       "<div>\n",
       "<style scoped>\n",
       "    .dataframe tbody tr th:only-of-type {\n",
       "        vertical-align: middle;\n",
       "    }\n",
       "\n",
       "    .dataframe tbody tr th {\n",
       "        vertical-align: top;\n",
       "    }\n",
       "\n",
       "    .dataframe thead th {\n",
       "        text-align: right;\n",
       "    }\n",
       "</style>\n",
       "<table border=\"1\" class=\"dataframe\">\n",
       "  <thead>\n",
       "    <tr style=\"text-align: right;\">\n",
       "      <th></th>\n",
       "      <th>max</th>\n",
       "      <th>min</th>\n",
       "      <th>median</th>\n",
       "      <th>mean</th>\n",
       "    </tr>\n",
       "    <tr>\n",
       "      <th>type</th>\n",
       "      <th></th>\n",
       "      <th></th>\n",
       "      <th></th>\n",
       "      <th></th>\n",
       "    </tr>\n",
       "  </thead>\n",
       "  <tbody>\n",
       "    <tr>\n",
       "      <th>heliport</th>\n",
       "      <td>22000.0</td>\n",
       "      <td>-117.0</td>\n",
       "      <td>808.0</td>\n",
       "      <td>1199.739048</td>\n",
       "    </tr>\n",
       "    <tr>\n",
       "      <th>medium_airport</th>\n",
       "      <td>14472.0</td>\n",
       "      <td>-1266.0</td>\n",
       "      <td>433.0</td>\n",
       "      <td>1054.027828</td>\n",
       "    </tr>\n",
       "    <tr>\n",
       "      <th>seaplane_base</th>\n",
       "      <td>10860.0</td>\n",
       "      <td>-11.0</td>\n",
       "      <td>580.5</td>\n",
       "      <td>712.532241</td>\n",
       "    </tr>\n",
       "    <tr>\n",
       "      <th>small_airport</th>\n",
       "      <td>16200.0</td>\n",
       "      <td>-210.0</td>\n",
       "      <td>978.0</td>\n",
       "      <td>1350.131706</td>\n",
       "    </tr>\n",
       "  </tbody>\n",
       "</table>\n",
       "</div>"
      ],
      "text/plain": [
       "                    max     min  median         mean\n",
       "type                                                \n",
       "heliport        22000.0  -117.0   808.0  1199.739048\n",
       "medium_airport  14472.0 -1266.0   433.0  1054.027828\n",
       "seaplane_base   10860.0   -11.0   580.5   712.532241\n",
       "small_airport   16200.0  -210.0   978.0  1350.131706"
      ]
     },
     "execution_count": 93,
     "metadata": {},
     "output_type": "execute_result"
    }
   ],
   "source": [
    "pd.DataFrame({'max':df.groupby(['type'])['elevation_ft'].max(), \n",
    "             'min':df.groupby(['type'])['elevation_ft'].min(),\n",
    "            'median':df.groupby(['type'])['elevation_ft'].median(),\n",
    "             'mean':df.groupby(['type'])['elevation_ft'].mean()})"
   ]
  },
  {
   "cell_type": "code",
   "execution_count": 94,
   "id": "70f4749f-5eb4-4886-9d58-4e9d05af9231",
   "metadata": {},
   "outputs": [],
   "source": [
    "def describe(data, col):\n",
    "    max_v = data[col].max()\n",
    "    min_v = data[col].min()\n",
    "    median_v = data[col].median()\n",
    "    mean_v = data[col].mean()\n",
    "    return \"Max: {}\".format(max_v), \"Min: {}\".format(min_v), \"Median: {}\".format(median_v), \"Mean: {}\".format(mean_v)\n",
    "    "
   ]
  },
  {
   "cell_type": "code",
   "execution_count": 95,
   "id": "4021e349-98be-4867-8073-554571efa4a9",
   "metadata": {},
   "outputs": [
    {
     "data": {
      "text/plain": [
       "('Max: 22000.0', 'Min: -1266.0', 'Median: 879.0', 'Mean: 1270.7861817171681')"
      ]
     },
     "execution_count": 95,
     "metadata": {},
     "output_type": "execute_result"
    }
   ],
   "source": [
    "describe(df,'elevation_ft')"
   ]
  },
  {
   "cell_type": "code",
   "execution_count": 96,
   "id": "a16e88e8-f3d4-4a40-88c4-9dc98043cd21",
   "metadata": {},
   "outputs": [],
   "source": [
    "below_avg = []\n",
    "above_avg = []\n",
    "for val in df['elevation_ft']:\n",
    "    if val > 1231:\n",
    "        above_avg.append(val)\n",
    "    else:\n",
    "        below_avg.append(val)"
   ]
  },
  {
   "cell_type": "code",
   "execution_count": 97,
   "id": "60d0cb9f-334d-41d1-bf21-47c9449d371a",
   "metadata": {},
   "outputs": [
    {
     "name": "stdout",
     "output_type": "stream",
     "text": [
      "34376\n"
     ]
    },
    {
     "data": {
      "text/plain": [
       "18666"
      ]
     },
     "execution_count": 97,
     "metadata": {},
     "output_type": "execute_result"
    }
   ],
   "source": [
    "print(len(below_avg))\n",
    "len(above_avg)"
   ]
  },
  {
   "cell_type": "markdown",
   "id": "2e6edb34-454a-4430-92f7-5d17a49846e9",
   "metadata": {},
   "source": [
    "Seems like people build airports in lower elevated place than higher. Why is this?"
   ]
  },
  {
   "cell_type": "code",
   "execution_count": 98,
   "id": "d8af142b-51cb-413c-9140-faea01313a30",
   "metadata": {},
   "outputs": [
    {
     "data": {
      "text/plain": [
       "0        40.070801\n",
       "1        38.704022\n",
       "2        59.949200\n",
       "3        34.864799\n",
       "5        34.942803\n",
       "           ...    \n",
       "57416    40.542524\n",
       "57417    41.784401\n",
       "57418    51.894444\n",
       "57419   -11.584278\n",
       "57420    30.784722\n",
       "Name: Latitude, Length: 53042, dtype: float64"
      ]
     },
     "execution_count": 98,
     "metadata": {},
     "output_type": "execute_result"
    }
   ],
   "source": [
    "df['Longitude'].astype(str).astype(float)\n",
    "df['Latitude'].astype(str).astype(float)"
   ]
  },
  {
   "cell_type": "code",
   "execution_count": 99,
   "id": "f4e7cb3f-4219-4af2-b72b-4de48ce3f9f9",
   "metadata": {},
   "outputs": [
    {
     "data": {
      "text/plain": [
       "type               0\n",
       "name               0\n",
       "elevation_ft       0\n",
       "continent          0\n",
       "municipality    5237\n",
       "Country            0\n",
       "State              0\n",
       "Longitude          0\n",
       "Latitude           0\n",
       "dtype: int64"
      ]
     },
     "execution_count": 99,
     "metadata": {},
     "output_type": "execute_result"
    }
   ],
   "source": [
    "df.isnull().sum()"
   ]
  },
  {
   "cell_type": "markdown",
   "id": "41aa57a6-2ec8-43f9-9467-6c7e5b701372",
   "metadata": {},
   "source": [
    "Not an outlier"
   ]
  },
  {
   "cell_type": "code",
   "execution_count": 100,
   "id": "c3eaae0f-c5b7-4ccd-bb0c-4e15ee810267",
   "metadata": {},
   "outputs": [
    {
     "data": {
      "text/html": [
       "<div>\n",
       "<style scoped>\n",
       "    .dataframe tbody tr th:only-of-type {\n",
       "        vertical-align: middle;\n",
       "    }\n",
       "\n",
       "    .dataframe tbody tr th {\n",
       "        vertical-align: top;\n",
       "    }\n",
       "\n",
       "    .dataframe thead th {\n",
       "        text-align: right;\n",
       "    }\n",
       "</style>\n",
       "<table border=\"1\" class=\"dataframe\">\n",
       "  <thead>\n",
       "    <tr style=\"text-align: right;\">\n",
       "      <th></th>\n",
       "      <th>type</th>\n",
       "      <th>name</th>\n",
       "      <th>elevation_ft</th>\n",
       "      <th>continent</th>\n",
       "      <th>municipality</th>\n",
       "      <th>Country</th>\n",
       "      <th>State</th>\n",
       "      <th>Longitude</th>\n",
       "      <th>Latitude</th>\n",
       "    </tr>\n",
       "  </thead>\n",
       "  <tbody>\n",
       "    <tr>\n",
       "      <th>1550</th>\n",
       "      <td>heliport</td>\n",
       "      <td>Watertown / Brownlee Heliport</td>\n",
       "      <td>1720.000000</td>\n",
       "      <td>NA</td>\n",
       "      <td>NaN</td>\n",
       "      <td>US</td>\n",
       "      <td>SD</td>\n",
       "      <td>-97.108090</td>\n",
       "      <td>44.883265</td>\n",
       "    </tr>\n",
       "    <tr>\n",
       "      <th>2459</th>\n",
       "      <td>heliport</td>\n",
       "      <td>Nordman / Phillabaum Heliport</td>\n",
       "      <td>2440.000000</td>\n",
       "      <td>NA</td>\n",
       "      <td>NaN</td>\n",
       "      <td>US</td>\n",
       "      <td>ID</td>\n",
       "      <td>-116.871175</td>\n",
       "      <td>48.631483</td>\n",
       "    </tr>\n",
       "    <tr>\n",
       "      <th>4417</th>\n",
       "      <td>seaplane_base</td>\n",
       "      <td>Peru / Destiny Cove SPB</td>\n",
       "      <td>580.000000</td>\n",
       "      <td>NA</td>\n",
       "      <td>NaN</td>\n",
       "      <td>US</td>\n",
       "      <td>ME</td>\n",
       "      <td>-70.396957</td>\n",
       "      <td>44.460597</td>\n",
       "    </tr>\n",
       "    <tr>\n",
       "      <th>7690</th>\n",
       "      <td>small_airport</td>\n",
       "      <td>Zadow Airstrip</td>\n",
       "      <td>1349.811397</td>\n",
       "      <td>NA</td>\n",
       "      <td>NaN</td>\n",
       "      <td>US</td>\n",
       "      <td>TX</td>\n",
       "      <td>-95.954354</td>\n",
       "      <td>29.991739</td>\n",
       "    </tr>\n",
       "    <tr>\n",
       "      <th>7926</th>\n",
       "      <td>small_airport</td>\n",
       "      <td>Gun Barrel City Airpark</td>\n",
       "      <td>385.000000</td>\n",
       "      <td>NA</td>\n",
       "      <td>NaN</td>\n",
       "      <td>US</td>\n",
       "      <td>TX</td>\n",
       "      <td>-96.145665</td>\n",
       "      <td>32.355150</td>\n",
       "    </tr>\n",
       "    <tr>\n",
       "      <th>...</th>\n",
       "      <td>...</td>\n",
       "      <td>...</td>\n",
       "      <td>...</td>\n",
       "      <td>...</td>\n",
       "      <td>...</td>\n",
       "      <td>...</td>\n",
       "      <td>...</td>\n",
       "      <td>...</td>\n",
       "      <td>...</td>\n",
       "    </tr>\n",
       "    <tr>\n",
       "      <th>57358</th>\n",
       "      <td>small_airport</td>\n",
       "      <td>Sengwa Research Area Airstrip</td>\n",
       "      <td>1349.811397</td>\n",
       "      <td>AF</td>\n",
       "      <td>NaN</td>\n",
       "      <td>ZW</td>\n",
       "      <td>MN</td>\n",
       "      <td>28.215618</td>\n",
       "      <td>-18.165196</td>\n",
       "    </tr>\n",
       "    <tr>\n",
       "      <th>57359</th>\n",
       "      <td>small_airport</td>\n",
       "      <td>Gokwe North Airport</td>\n",
       "      <td>1349.811397</td>\n",
       "      <td>AF</td>\n",
       "      <td>NaN</td>\n",
       "      <td>ZW</td>\n",
       "      <td>MI</td>\n",
       "      <td>28.330871</td>\n",
       "      <td>-17.537114</td>\n",
       "    </tr>\n",
       "    <tr>\n",
       "      <th>57362</th>\n",
       "      <td>small_airport</td>\n",
       "      <td>Chipinge Farm Airstrip</td>\n",
       "      <td>1349.811397</td>\n",
       "      <td>AF</td>\n",
       "      <td>NaN</td>\n",
       "      <td>ZW</td>\n",
       "      <td>MV</td>\n",
       "      <td>32.203607</td>\n",
       "      <td>-20.460575</td>\n",
       "    </tr>\n",
       "    <tr>\n",
       "      <th>57363</th>\n",
       "      <td>small_airport</td>\n",
       "      <td>Turwi River Airstrip</td>\n",
       "      <td>1349.811397</td>\n",
       "      <td>AF</td>\n",
       "      <td>NaN</td>\n",
       "      <td>ZW</td>\n",
       "      <td>MV</td>\n",
       "      <td>32.109040</td>\n",
       "      <td>-20.395009</td>\n",
       "    </tr>\n",
       "    <tr>\n",
       "      <th>57366</th>\n",
       "      <td>small_airport</td>\n",
       "      <td>Sipepa Airstrip</td>\n",
       "      <td>3270.000000</td>\n",
       "      <td>AF</td>\n",
       "      <td>NaN</td>\n",
       "      <td>ZW</td>\n",
       "      <td>UA</td>\n",
       "      <td>27.648321</td>\n",
       "      <td>-19.280942</td>\n",
       "    </tr>\n",
       "  </tbody>\n",
       "</table>\n",
       "<p>5237 rows × 9 columns</p>\n",
       "</div>"
      ],
      "text/plain": [
       "                type                           name  elevation_ft continent  \\\n",
       "1550        heliport  Watertown / Brownlee Heliport   1720.000000        NA   \n",
       "2459        heliport  Nordman / Phillabaum Heliport   2440.000000        NA   \n",
       "4417   seaplane_base        Peru / Destiny Cove SPB    580.000000        NA   \n",
       "7690   small_airport                 Zadow Airstrip   1349.811397        NA   \n",
       "7926   small_airport        Gun Barrel City Airpark    385.000000        NA   \n",
       "...              ...                            ...           ...       ...   \n",
       "57358  small_airport  Sengwa Research Area Airstrip   1349.811397        AF   \n",
       "57359  small_airport            Gokwe North Airport   1349.811397        AF   \n",
       "57362  small_airport         Chipinge Farm Airstrip   1349.811397        AF   \n",
       "57363  small_airport           Turwi River Airstrip   1349.811397        AF   \n",
       "57366  small_airport                Sipepa Airstrip   3270.000000        AF   \n",
       "\n",
       "      municipality Country State   Longitude   Latitude  \n",
       "1550           NaN      US    SD  -97.108090  44.883265  \n",
       "2459           NaN      US    ID -116.871175  48.631483  \n",
       "4417           NaN      US    ME  -70.396957  44.460597  \n",
       "7690           NaN      US    TX  -95.954354  29.991739  \n",
       "7926           NaN      US    TX  -96.145665  32.355150  \n",
       "...            ...     ...   ...         ...        ...  \n",
       "57358          NaN      ZW    MN   28.215618 -18.165196  \n",
       "57359          NaN      ZW    MI   28.330871 -17.537114  \n",
       "57362          NaN      ZW    MV   32.203607 -20.460575  \n",
       "57363          NaN      ZW    MV   32.109040 -20.395009  \n",
       "57366          NaN      ZW    UA   27.648321 -19.280942  \n",
       "\n",
       "[5237 rows x 9 columns]"
      ]
     },
     "execution_count": 100,
     "metadata": {},
     "output_type": "execute_result"
    }
   ],
   "source": [
    "df[df['municipality'].isnull()]"
   ]
  },
  {
   "cell_type": "code",
   "execution_count": 101,
   "id": "907712fb-41c9-4b4e-9194-337856210d9c",
   "metadata": {},
   "outputs": [],
   "source": [
    "ar_1 = df['municipality'].value_counts().values"
   ]
  },
  {
   "cell_type": "code",
   "execution_count": 102,
   "id": "ff73cb29-41d3-443a-b536-e828356a7dac",
   "metadata": {},
   "outputs": [
    {
     "data": {
      "text/plain": [
       "19741"
      ]
     },
     "execution_count": 102,
     "metadata": {},
     "output_type": "execute_result"
    }
   ],
   "source": [
    "z=0\n",
    "for i in ar_1:\n",
    "    if i == 1:\n",
    "        z+= 1\n",
    "z       "
   ]
  },
  {
   "cell_type": "markdown",
   "id": "859b5021-d2c6-43b5-9c10-1394a72071b7",
   "metadata": {},
   "source": [
    "19741 unique values are identified."
   ]
  },
  {
   "cell_type": "code",
   "execution_count": 103,
   "id": "159b96cf-5e9d-4f48-b496-a974b5ea8e66",
   "metadata": {},
   "outputs": [],
   "source": [
    "df.drop(['name','municipality'], axis=1, inplace = True)"
   ]
  },
  {
   "cell_type": "markdown",
   "id": "2b260449-9200-4d8a-a6c0-e4a461955803",
   "metadata": {},
   "source": [
    "There are too many unqiue values for municipality column."
   ]
  },
  {
   "cell_type": "code",
   "execution_count": 104,
   "id": "8b3219cf-21f1-4d3f-a391-89070b48ca58",
   "metadata": {},
   "outputs": [
    {
     "data": {
      "text/html": [
       "<div>\n",
       "<style scoped>\n",
       "    .dataframe tbody tr th:only-of-type {\n",
       "        vertical-align: middle;\n",
       "    }\n",
       "\n",
       "    .dataframe tbody tr th {\n",
       "        vertical-align: top;\n",
       "    }\n",
       "\n",
       "    .dataframe thead th {\n",
       "        text-align: right;\n",
       "    }\n",
       "</style>\n",
       "<table border=\"1\" class=\"dataframe\">\n",
       "  <thead>\n",
       "    <tr style=\"text-align: right;\">\n",
       "      <th></th>\n",
       "      <th>type</th>\n",
       "      <th>elevation_ft</th>\n",
       "      <th>continent</th>\n",
       "      <th>Country</th>\n",
       "      <th>State</th>\n",
       "      <th>Longitude</th>\n",
       "      <th>Latitude</th>\n",
       "    </tr>\n",
       "  </thead>\n",
       "  <tbody>\n",
       "    <tr>\n",
       "      <th>0</th>\n",
       "      <td>heliport</td>\n",
       "      <td>11.0</td>\n",
       "      <td>NA</td>\n",
       "      <td>US</td>\n",
       "      <td>PA</td>\n",
       "      <td>-74.933601</td>\n",
       "      <td>40.070801</td>\n",
       "    </tr>\n",
       "    <tr>\n",
       "      <th>1</th>\n",
       "      <td>small_airport</td>\n",
       "      <td>3435.0</td>\n",
       "      <td>NA</td>\n",
       "      <td>US</td>\n",
       "      <td>KS</td>\n",
       "      <td>-101.473911</td>\n",
       "      <td>38.704022</td>\n",
       "    </tr>\n",
       "    <tr>\n",
       "      <th>2</th>\n",
       "      <td>small_airport</td>\n",
       "      <td>450.0</td>\n",
       "      <td>NA</td>\n",
       "      <td>US</td>\n",
       "      <td>AK</td>\n",
       "      <td>-151.695999</td>\n",
       "      <td>59.949200</td>\n",
       "    </tr>\n",
       "    <tr>\n",
       "      <th>3</th>\n",
       "      <td>small_airport</td>\n",
       "      <td>820.0</td>\n",
       "      <td>NA</td>\n",
       "      <td>US</td>\n",
       "      <td>AL</td>\n",
       "      <td>-86.770302</td>\n",
       "      <td>34.864799</td>\n",
       "    </tr>\n",
       "    <tr>\n",
       "      <th>5</th>\n",
       "      <td>small_airport</td>\n",
       "      <td>1100.0</td>\n",
       "      <td>NA</td>\n",
       "      <td>US</td>\n",
       "      <td>OK</td>\n",
       "      <td>-97.818019</td>\n",
       "      <td>34.942803</td>\n",
       "    </tr>\n",
       "  </tbody>\n",
       "</table>\n",
       "</div>"
      ],
      "text/plain": [
       "            type  elevation_ft continent Country State   Longitude   Latitude\n",
       "0       heliport          11.0        NA      US    PA  -74.933601  40.070801\n",
       "1  small_airport        3435.0        NA      US    KS -101.473911  38.704022\n",
       "2  small_airport         450.0        NA      US    AK -151.695999  59.949200\n",
       "3  small_airport         820.0        NA      US    AL  -86.770302  34.864799\n",
       "5  small_airport        1100.0        NA      US    OK  -97.818019  34.942803"
      ]
     },
     "execution_count": 104,
     "metadata": {},
     "output_type": "execute_result"
    }
   ],
   "source": [
    "df.head()"
   ]
  },
  {
   "cell_type": "code",
   "execution_count": 105,
   "id": "b63b3a77-3fd2-4877-a82f-d29a8049a8d5",
   "metadata": {
    "tags": []
   },
   "outputs": [
    {
     "data": {
      "text/html": [
       "<div>\n",
       "<style scoped>\n",
       "    .dataframe tbody tr th:only-of-type {\n",
       "        vertical-align: middle;\n",
       "    }\n",
       "\n",
       "    .dataframe tbody tr th {\n",
       "        vertical-align: top;\n",
       "    }\n",
       "\n",
       "    .dataframe thead th {\n",
       "        text-align: right;\n",
       "    }\n",
       "</style>\n",
       "<table border=\"1\" class=\"dataframe\">\n",
       "  <thead>\n",
       "    <tr style=\"text-align: right;\">\n",
       "      <th></th>\n",
       "      <th>count</th>\n",
       "      <th>mean</th>\n",
       "      <th>std</th>\n",
       "      <th>min</th>\n",
       "      <th>25%</th>\n",
       "      <th>50%</th>\n",
       "      <th>75%</th>\n",
       "      <th>max</th>\n",
       "    </tr>\n",
       "    <tr>\n",
       "      <th>type</th>\n",
       "      <th></th>\n",
       "      <th></th>\n",
       "      <th></th>\n",
       "      <th></th>\n",
       "      <th></th>\n",
       "      <th></th>\n",
       "      <th></th>\n",
       "      <th></th>\n",
       "    </tr>\n",
       "  </thead>\n",
       "  <tbody>\n",
       "    <tr>\n",
       "      <th>heliport</th>\n",
       "      <td>12028.0</td>\n",
       "      <td>1199.739048</td>\n",
       "      <td>1574.350775</td>\n",
       "      <td>-117.0</td>\n",
       "      <td>200.00</td>\n",
       "      <td>808.0</td>\n",
       "      <td>1199.3771</td>\n",
       "      <td>22000.0</td>\n",
       "    </tr>\n",
       "    <tr>\n",
       "      <th>medium_airport</th>\n",
       "      <td>4560.0</td>\n",
       "      <td>1054.027828</td>\n",
       "      <td>1638.099686</td>\n",
       "      <td>-1266.0</td>\n",
       "      <td>85.75</td>\n",
       "      <td>433.0</td>\n",
       "      <td>1171.0000</td>\n",
       "      <td>14472.0</td>\n",
       "    </tr>\n",
       "    <tr>\n",
       "      <th>seaplane_base</th>\n",
       "      <td>1646.0</td>\n",
       "      <td>712.532241</td>\n",
       "      <td>965.975517</td>\n",
       "      <td>-11.0</td>\n",
       "      <td>87.25</td>\n",
       "      <td>580.5</td>\n",
       "      <td>870.7500</td>\n",
       "      <td>10860.0</td>\n",
       "    </tr>\n",
       "    <tr>\n",
       "      <th>small_airport</th>\n",
       "      <td>34808.0</td>\n",
       "      <td>1350.131706</td>\n",
       "      <td>1501.021729</td>\n",
       "      <td>-210.0</td>\n",
       "      <td>367.00</td>\n",
       "      <td>978.0</td>\n",
       "      <td>1478.0000</td>\n",
       "      <td>16200.0</td>\n",
       "    </tr>\n",
       "  </tbody>\n",
       "</table>\n",
       "</div>"
      ],
      "text/plain": [
       "                  count         mean          std     min     25%    50%  \\\n",
       "type                                                                       \n",
       "heliport        12028.0  1199.739048  1574.350775  -117.0  200.00  808.0   \n",
       "medium_airport   4560.0  1054.027828  1638.099686 -1266.0   85.75  433.0   \n",
       "seaplane_base    1646.0   712.532241   965.975517   -11.0   87.25  580.5   \n",
       "small_airport   34808.0  1350.131706  1501.021729  -210.0  367.00  978.0   \n",
       "\n",
       "                      75%      max  \n",
       "type                                \n",
       "heliport        1199.3771  22000.0  \n",
       "medium_airport  1171.0000  14472.0  \n",
       "seaplane_base    870.7500  10860.0  \n",
       "small_airport   1478.0000  16200.0  "
      ]
     },
     "execution_count": 105,
     "metadata": {},
     "output_type": "execute_result"
    }
   ],
   "source": [
    "df.groupby('type')['elevation_ft'].describe()"
   ]
  },
  {
   "cell_type": "markdown",
   "id": "c9790ea9-113f-4a18-b5b9-99a282f6b98e",
   "metadata": {},
   "source": [
    "seaplane_base and large_airport has lower elevation level"
   ]
  },
  {
   "cell_type": "code",
   "execution_count": 106,
   "id": "c6663ca5-df9d-40c0-b88f-2f1e2245c534",
   "metadata": {},
   "outputs": [
    {
     "data": {
      "text/html": [
       "<div>\n",
       "<style scoped>\n",
       "    .dataframe tbody tr th:only-of-type {\n",
       "        vertical-align: middle;\n",
       "    }\n",
       "\n",
       "    .dataframe tbody tr th {\n",
       "        vertical-align: top;\n",
       "    }\n",
       "\n",
       "    .dataframe thead th {\n",
       "        text-align: right;\n",
       "    }\n",
       "</style>\n",
       "<table border=\"1\" class=\"dataframe\">\n",
       "  <thead>\n",
       "    <tr style=\"text-align: right;\">\n",
       "      <th></th>\n",
       "      <th>type</th>\n",
       "      <th>elevation_ft</th>\n",
       "      <th>continent</th>\n",
       "      <th>Country</th>\n",
       "      <th>State</th>\n",
       "      <th>Longitude</th>\n",
       "      <th>Latitude</th>\n",
       "    </tr>\n",
       "  </thead>\n",
       "  <tbody>\n",
       "    <tr>\n",
       "      <th>0</th>\n",
       "      <td>heliport</td>\n",
       "      <td>11.0</td>\n",
       "      <td>NA</td>\n",
       "      <td>US</td>\n",
       "      <td>PA</td>\n",
       "      <td>-74.933601</td>\n",
       "      <td>40.070801</td>\n",
       "    </tr>\n",
       "    <tr>\n",
       "      <th>1</th>\n",
       "      <td>small_airport</td>\n",
       "      <td>3435.0</td>\n",
       "      <td>NA</td>\n",
       "      <td>US</td>\n",
       "      <td>KS</td>\n",
       "      <td>-101.473911</td>\n",
       "      <td>38.704022</td>\n",
       "    </tr>\n",
       "    <tr>\n",
       "      <th>2</th>\n",
       "      <td>small_airport</td>\n",
       "      <td>450.0</td>\n",
       "      <td>NA</td>\n",
       "      <td>US</td>\n",
       "      <td>AK</td>\n",
       "      <td>-151.695999</td>\n",
       "      <td>59.949200</td>\n",
       "    </tr>\n",
       "    <tr>\n",
       "      <th>3</th>\n",
       "      <td>small_airport</td>\n",
       "      <td>820.0</td>\n",
       "      <td>NA</td>\n",
       "      <td>US</td>\n",
       "      <td>AL</td>\n",
       "      <td>-86.770302</td>\n",
       "      <td>34.864799</td>\n",
       "    </tr>\n",
       "    <tr>\n",
       "      <th>5</th>\n",
       "      <td>small_airport</td>\n",
       "      <td>1100.0</td>\n",
       "      <td>NA</td>\n",
       "      <td>US</td>\n",
       "      <td>OK</td>\n",
       "      <td>-97.818019</td>\n",
       "      <td>34.942803</td>\n",
       "    </tr>\n",
       "  </tbody>\n",
       "</table>\n",
       "</div>"
      ],
      "text/plain": [
       "            type  elevation_ft continent Country State   Longitude   Latitude\n",
       "0       heliport          11.0        NA      US    PA  -74.933601  40.070801\n",
       "1  small_airport        3435.0        NA      US    KS -101.473911  38.704022\n",
       "2  small_airport         450.0        NA      US    AK -151.695999  59.949200\n",
       "3  small_airport         820.0        NA      US    AL  -86.770302  34.864799\n",
       "5  small_airport        1100.0        NA      US    OK  -97.818019  34.942803"
      ]
     },
     "execution_count": 106,
     "metadata": {},
     "output_type": "execute_result"
    }
   ],
   "source": [
    "df.head()"
   ]
  },
  {
   "cell_type": "markdown",
   "id": "ddabe7f3-a4a4-4e51-80f2-7b03e7a3b325",
   "metadata": {},
   "source": [
    "It seems like we got a clean data now. Let's check the outliers for elevation_ft one more time and see if we can go on to the next step"
   ]
  },
  {
   "cell_type": "code",
   "execution_count": 107,
   "id": "e51ea5c1-076e-48c5-998c-acb8362f6a5d",
   "metadata": {},
   "outputs": [
    {
     "data": {
      "image/png": "[encoded data removed]",
      "text/plain": [
       "<Figure size 720x720 with 1 Axes>"
      ]
     },
     "metadata": {
      "needs_background": "light"
     },
     "output_type": "display_data"
    }
   ],
   "source": [
    "plt.figure(figsize=(10,10))\n",
    "sns.boxplot(x = 'type', y = 'elevation_ft', data=df)\n",
    "plt.xlabel('Type of airports')\n",
    "plt.ylabel('Elevation in ft')\n",
    "plt.show()"
   ]
  },
  {
   "cell_type": "markdown",
   "id": "d80a258b-95e8-41bc-bf6c-25885f38a9bc",
   "metadata": {},
   "source": [
    "There are still few outliers but I identified them as true values. Not fraud"
   ]
  },
  {
   "cell_type": "markdown",
   "id": "6535726c-66cd-41ef-bf66-f24c5366f0ac",
   "metadata": {},
   "source": [
    "Now lets go back to the state column. We can identify numeric values for the state column and I will remove these columns. "
   ]
  },
  {
   "cell_type": "code",
   "execution_count": 108,
   "id": "b8f42a76-6ad3-4af3-864a-e25dc811223b",
   "metadata": {},
   "outputs": [
    {
     "data": {
      "text/plain": [
       "Int64Index([10426, 10427, 10431, 10456, 10459, 10476, 10516, 10738, 10740,\n",
       "            11561,\n",
       "            ...\n",
       "            57409, 57410, 57411, 57412, 57413, 57414, 57415, 57416, 57417,\n",
       "            57420],\n",
       "           dtype='int64', length=6167)"
      ]
     },
     "execution_count": 108,
     "metadata": {},
     "output_type": "execute_result"
    }
   ],
   "source": [
    "index_digit = df[df['State'].apply(lambda x: x.isdigit())].index\n",
    "index_digit"
   ]
  },
  {
   "cell_type": "code",
   "execution_count": 109,
   "id": "90aa621d-b848-4b41-a7e2-d9ca62cb81cb",
   "metadata": {},
   "outputs": [],
   "source": [
    "df.drop(index_digit, inplace = True)"
   ]
  },
  {
   "cell_type": "code",
   "execution_count": 110,
   "id": "8116f141-0298-4810-a1b2-a29cd4ecadbd",
   "metadata": {},
   "outputs": [
    {
     "data": {
      "text/plain": [
       "array(['heliport', 'small_airport', 'seaplane_base', 'medium_airport'],\n",
       "      dtype=object)"
      ]
     },
     "execution_count": 110,
     "metadata": {},
     "output_type": "execute_result"
    }
   ],
   "source": [
    "df['type'].unique()"
   ]
  },
  {
   "cell_type": "markdown",
   "id": "8a3e8f5a-42a0-4866-833a-a28519078e85",
   "metadata": {},
   "source": [
    "The last thing is to balance out all the variables for the training set later"
   ]
  },
  {
   "cell_type": "code",
   "execution_count": 111,
   "id": "2e9839b3-15b5-4222-9ee9-efe834538814",
   "metadata": {},
   "outputs": [
    {
     "data": {
      "text/plain": [
       "array([21322,  4863,  2136,  1988,  1351,   983,   938,   889,   830,\n",
       "         829,   702,   591,   530,   476,   474,   468,   423,   317,\n",
       "         287,   274,   261,   242,   207,   198,   193,   175,   173,\n",
       "         153,   137,   128,   121,   120,   114,   112,   108,   106,\n",
       "         101,    96,    94,    85,    84,    81,    80,    75,    70,\n",
       "          65,    61,    60,    59,    58,    56,    55,    54,    52,\n",
       "          51,    48,    44,    42,    41,    39,    37,    36,    35,\n",
       "          34,    33,    32,    30,    29,    27,    26,    25,    24,\n",
       "          22,    21,    20,    17,    16,    13,    12,    11,    10,\n",
       "           9,     8,     7,     6,     5,     4,     3,     2,     1])"
      ]
     },
     "execution_count": 111,
     "metadata": {},
     "output_type": "execute_result"
    }
   ],
   "source": [
    "new_df_country = df.Country.value_counts().to_frame()\n",
    "new_df_country.Country.unique()"
   ]
  },
  {
   "cell_type": "markdown",
   "id": "dba3c663-18b1-4610-ba20-9ee722c9adba",
   "metadata": {},
   "source": [
    "Some of the countries have such less values so we can not use these valeus to train the classification models."
   ]
  },
  {
   "cell_type": "markdown",
   "id": "3edcd229-44ee-41cb-afc7-6f2e90b0cf2d",
   "metadata": {},
   "source": [
    "We have coordinates which are divided as longitude and latitude. We also confirmed that Longitude and Latitude are only slightly negtiavely correlated. So it would be better to drop the Country for lack of information. And we dont have to drop either the Longitutude or Latitude column because of multicollinearity. Dropping the Country columns would be fine to give enough information to the customer since we have the coordinates and the continent. So Let's go ahead and drop the country column. "
   ]
  },
  {
   "cell_type": "code",
   "execution_count": 112,
   "id": "94cd4c9a-95a3-43b5-822c-25b63f5869d1",
   "metadata": {},
   "outputs": [],
   "source": [
    "df.drop(['Country'], axis =1, inplace = True)"
   ]
  },
  {
   "cell_type": "code",
   "execution_count": 113,
   "id": "fad27a7a-6888-40cd-b4cd-ec37a111c1b3",
   "metadata": {},
   "outputs": [],
   "source": [
    "df.drop(['State'], axis = 1, inplace = True)"
   ]
  },
  {
   "cell_type": "markdown",
   "id": "a6b7a783-6ab5-4fa5-9a80-a86d3a11b2a9",
   "metadata": {},
   "source": [
    "The data is clean enough with good object types to go to the next step which is EDA. "
   ]
  },
  {
   "cell_type": "markdown",
   "id": "112feb2c-d17b-47e2-9c3c-5aef99f59937",
   "metadata": {},
   "source": [
    "Save the data frames into a csv file."
   ]
  },
  {
   "cell_type": "code",
   "execution_count": 114,
   "id": "9f7052ba-9568-4358-a5ea-f342e1fea1d2",
   "metadata": {},
   "outputs": [],
   "source": [
    "# df.to_csv('/users/taehyun/Dropbox/Springboard/Projects/airport-codes/images/df.csv')\n"
   ]
  },
  {
   "cell_type": "code",
   "execution_count": 115,
   "id": "d96f3ab5-46bf-4202-9d33-8ae953dd9281",
   "metadata": {},
   "outputs": [],
   "source": [
    "# mean_df_f.to_csv('/users/taehyun/Dropbox/Springboard/Projects/airport-codes/images/mean_df.csv')"
   ]
  },
  {
   "cell_type": "code",
   "execution_count": 116,
   "id": "1bddddd6-e65c-40c5-9e17-00de48ea3eff",
   "metadata": {},
   "outputs": [
    {
     "data": {
      "text/html": [
       "<div>\n",
       "<style scoped>\n",
       "    .dataframe tbody tr th:only-of-type {\n",
       "        vertical-align: middle;\n",
       "    }\n",
       "\n",
       "    .dataframe tbody tr th {\n",
       "        vertical-align: top;\n",
       "    }\n",
       "\n",
       "    .dataframe thead th {\n",
       "        text-align: right;\n",
       "    }\n",
       "</style>\n",
       "<table border=\"1\" class=\"dataframe\">\n",
       "  <thead>\n",
       "    <tr style=\"text-align: right;\">\n",
       "      <th></th>\n",
       "      <th>type</th>\n",
       "      <th>elevation_ft</th>\n",
       "      <th>continent</th>\n",
       "      <th>Longitude</th>\n",
       "      <th>Latitude</th>\n",
       "    </tr>\n",
       "  </thead>\n",
       "  <tbody>\n",
       "    <tr>\n",
       "      <th>0</th>\n",
       "      <td>heliport</td>\n",
       "      <td>11.0</td>\n",
       "      <td>NA</td>\n",
       "      <td>-74.933601</td>\n",
       "      <td>40.070801</td>\n",
       "    </tr>\n",
       "    <tr>\n",
       "      <th>1</th>\n",
       "      <td>small_airport</td>\n",
       "      <td>3435.0</td>\n",
       "      <td>NA</td>\n",
       "      <td>-101.473911</td>\n",
       "      <td>38.704022</td>\n",
       "    </tr>\n",
       "    <tr>\n",
       "      <th>2</th>\n",
       "      <td>small_airport</td>\n",
       "      <td>450.0</td>\n",
       "      <td>NA</td>\n",
       "      <td>-151.695999</td>\n",
       "      <td>59.949200</td>\n",
       "    </tr>\n",
       "    <tr>\n",
       "      <th>3</th>\n",
       "      <td>small_airport</td>\n",
       "      <td>820.0</td>\n",
       "      <td>NA</td>\n",
       "      <td>-86.770302</td>\n",
       "      <td>34.864799</td>\n",
       "    </tr>\n",
       "    <tr>\n",
       "      <th>5</th>\n",
       "      <td>small_airport</td>\n",
       "      <td>1100.0</td>\n",
       "      <td>NA</td>\n",
       "      <td>-97.818019</td>\n",
       "      <td>34.942803</td>\n",
       "    </tr>\n",
       "  </tbody>\n",
       "</table>\n",
       "</div>"
      ],
      "text/plain": [
       "            type  elevation_ft continent   Longitude   Latitude\n",
       "0       heliport          11.0        NA  -74.933601  40.070801\n",
       "1  small_airport        3435.0        NA -101.473911  38.704022\n",
       "2  small_airport         450.0        NA -151.695999  59.949200\n",
       "3  small_airport         820.0        NA  -86.770302  34.864799\n",
       "5  small_airport        1100.0        NA  -97.818019  34.942803"
      ]
     },
     "execution_count": 116,
     "metadata": {},
     "output_type": "execute_result"
    }
   ],
   "source": [
    "df.head()"
   ]
  }
 ],
 "metadata": {
  "kernelspec": {
   "display_name": "Python 3 (ipykernel)",
   "language": "python",
   "name": "python3"
  },
  "language_info": {
   "codemirror_mode": {
    "name": "ipython",
    "version": 3
   },
   "file_extension": ".py",
   "mimetype": "text/x-python",
   "name": "python",
   "nbconvert_exporter": "python",
   "pygments_lexer": "ipython3",
   "version": "3.9.12"
  }
 },
 "nbformat": 4,
 "nbformat_minor": 5
}
