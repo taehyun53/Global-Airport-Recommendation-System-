{
 "cells": [
  {
   "cell_type": "code",
   "execution_count": 1,
   "id": "02425596-68b0-4960-9daf-8eca94733a7a",
   "metadata": {},
   "outputs": [
    {
     "data": {
      "text/html": [
       "<div>\n",
       "<style scoped>\n",
       "    .dataframe tbody tr th:only-of-type {\n",
       "        vertical-align: middle;\n",
       "    }\n",
       "\n",
       "    .dataframe tbody tr th {\n",
       "        vertical-align: top;\n",
       "    }\n",
       "\n",
       "    .dataframe thead th {\n",
       "        text-align: right;\n",
       "    }\n",
       "</style>\n",
       "<table border=\"1\" class=\"dataframe\">\n",
       "  <thead>\n",
       "    <tr style=\"text-align: right;\">\n",
       "      <th></th>\n",
       "      <th>type</th>\n",
       "      <th>elevation_ft</th>\n",
       "      <th>continent</th>\n",
       "      <th>Longitude</th>\n",
       "      <th>Latitude</th>\n",
       "    </tr>\n",
       "  </thead>\n",
       "  <tbody>\n",
       "    <tr>\n",
       "      <th>0</th>\n",
       "      <td>heliport</td>\n",
       "      <td>11.0</td>\n",
       "      <td>NA</td>\n",
       "      <td>-74.933601</td>\n",
       "      <td>40.070801</td>\n",
       "    </tr>\n",
       "    <tr>\n",
       "      <th>1</th>\n",
       "      <td>small_airport</td>\n",
       "      <td>3435.0</td>\n",
       "      <td>NA</td>\n",
       "      <td>-101.473911</td>\n",
       "      <td>38.704022</td>\n",
       "    </tr>\n",
       "    <tr>\n",
       "      <th>2</th>\n",
       "      <td>small_airport</td>\n",
       "      <td>450.0</td>\n",
       "      <td>NA</td>\n",
       "      <td>-151.695999</td>\n",
       "      <td>59.949200</td>\n",
       "    </tr>\n",
       "    <tr>\n",
       "      <th>3</th>\n",
       "      <td>small_airport</td>\n",
       "      <td>820.0</td>\n",
       "      <td>NA</td>\n",
       "      <td>-86.770302</td>\n",
       "      <td>34.864799</td>\n",
       "    </tr>\n",
       "    <tr>\n",
       "      <th>4</th>\n",
       "      <td>small_airport</td>\n",
       "      <td>1100.0</td>\n",
       "      <td>NA</td>\n",
       "      <td>-97.818019</td>\n",
       "      <td>34.942803</td>\n",
       "    </tr>\n",
       "  </tbody>\n",
       "</table>\n",
       "</div>"
      ],
      "text/plain": [
       "            type  elevation_ft continent   Longitude   Latitude\n",
       "0       heliport          11.0        NA  -74.933601  40.070801\n",
       "1  small_airport        3435.0        NA -101.473911  38.704022\n",
       "2  small_airport         450.0        NA -151.695999  59.949200\n",
       "3  small_airport         820.0        NA  -86.770302  34.864799\n",
       "4  small_airport        1100.0        NA  -97.818019  34.942803"
      ]
     },
     "execution_count": 1,
     "metadata": {},
     "output_type": "execute_result"
    }
   ],
   "source": [
    "import pandas as pd\n",
    "import numpy as np\n",
    "import matplotlib.pyplot as plt\n",
    "import seaborn as sns\n",
    "import scipy.stats as stats\n",
    "from scipy.stats import f_oneway\n",
    "from statsmodels.stats.multicomp import pairwise_tukeyhsd\n",
    "\n",
    "df = pd.read_csv('/Users/taehyun/Dropbox/Springboard/Projects/airport-codes/data/df.csv').iloc[:,1:]\n",
    "df.continent.replace(np.nan,'NA',inplace=True)\n",
    "df.head()"
   ]
  },
  {
   "cell_type": "code",
   "execution_count": 2,
   "id": "8570c441-6473-4695-86b6-a252da95230c",
   "metadata": {},
   "outputs": [
    {
     "data": {
      "text/html": [
       "<div>\n",
       "<style scoped>\n",
       "    .dataframe tbody tr th:only-of-type {\n",
       "        vertical-align: middle;\n",
       "    }\n",
       "\n",
       "    .dataframe tbody tr th {\n",
       "        vertical-align: top;\n",
       "    }\n",
       "\n",
       "    .dataframe thead th {\n",
       "        text-align: right;\n",
       "    }\n",
       "</style>\n",
       "<table border=\"1\" class=\"dataframe\">\n",
       "  <thead>\n",
       "    <tr style=\"text-align: right;\">\n",
       "      <th></th>\n",
       "      <th>airport</th>\n",
       "      <th>mean_</th>\n",
       "    </tr>\n",
       "  </thead>\n",
       "  <tbody>\n",
       "    <tr>\n",
       "      <th>0</th>\n",
       "      <td>heliport</td>\n",
       "      <td>1199.377100</td>\n",
       "    </tr>\n",
       "    <tr>\n",
       "      <th>1</th>\n",
       "      <td>small_airport</td>\n",
       "      <td>1349.811397</td>\n",
       "    </tr>\n",
       "    <tr>\n",
       "      <th>2</th>\n",
       "      <td>seaplane_base</td>\n",
       "      <td>712.167012</td>\n",
       "    </tr>\n",
       "    <tr>\n",
       "      <th>3</th>\n",
       "      <td>medium_airport</td>\n",
       "      <td>1059.329587</td>\n",
       "    </tr>\n",
       "    <tr>\n",
       "      <th>4</th>\n",
       "      <td>large_airport</td>\n",
       "      <td>NaN</td>\n",
       "    </tr>\n",
       "  </tbody>\n",
       "</table>\n",
       "</div>"
      ],
      "text/plain": [
       "          airport        mean_\n",
       "0        heliport  1199.377100\n",
       "1   small_airport  1349.811397\n",
       "2   seaplane_base   712.167012\n",
       "3  medium_airport  1059.329587\n",
       "4   large_airport          NaN"
      ]
     },
     "execution_count": 2,
     "metadata": {},
     "output_type": "execute_result"
    }
   ],
   "source": [
    "mean_df_f = pd.read_csv('/Users/taehyun/Dropbox/Springboard/Projects/airport-codes/data/mean_df.csv').iloc[:,1:]\n",
    "mean_df_f.head()"
   ]
  },
  {
   "cell_type": "markdown",
   "id": "59006b59-b4a8-4860-8d26-34121f7d2774",
   "metadata": {},
   "source": [
    "Since mean could be influenced by outliers, it wouldn't be really an accurate way to measure the data. Let's also add median"
   ]
  },
  {
   "cell_type": "code",
   "execution_count": 3,
   "id": "28deb704-e51e-4b9a-aec8-2ee827429fe9",
   "metadata": {},
   "outputs": [
    {
     "data": {
      "image/png": "[encoded data removed]",
      "text/plain": [
       "<Figure size 504x504 with 1 Axes>"
      ]
     },
     "metadata": {},
     "output_type": "display_data"
    },
    {
     "data": {
      "text/plain": [
       "<Figure size 432x288 with 0 Axes>"
      ]
     },
     "metadata": {},
     "output_type": "display_data"
    }
   ],
   "source": [
    "# Visualize proportions for each airports\n",
    "plt.figure(figsize=(7,7))\n",
    "plt.pie((df.type.value_counts()/ df.shape[0]).values, labels=(df.type.value_counts()/ df.shape[0]).index, autopct='%.1f%%', startangle=260, counterclock=False)\n",
    "plt.title('airports and proportions')\n",
    "plt.show()\n",
    "plt.savefig('/users/taehyun/Dropbox/Springboard/Projects/airport-codes/images/number_airports_each_type.jpeg',bbox_inches='tight') "
   ]
  },
  {
   "cell_type": "code",
   "execution_count": 4,
   "id": "022068de-2e97-4ac2-933c-bb5f66fbcf80",
   "metadata": {},
   "outputs": [
    {
     "data": {
      "text/plain": [
       "Index(['small_airport', 'heliport', 'medium_airport', 'seaplane_base'], dtype='object')"
      ]
     },
     "execution_count": 4,
     "metadata": {},
     "output_type": "execute_result"
    }
   ],
   "source": [
    "(df.type.value_counts()/ df.shape[0]).index"
   ]
  },
  {
   "cell_type": "code",
   "execution_count": 5,
   "id": "5e9758d4-b040-492f-82c2-3625459153d1",
   "metadata": {},
   "outputs": [
    {
     "data": {
      "image/png": "[encoded data removed]",
      "text/plain": [
       "<Figure size 432x288 with 1 Axes>"
      ]
     },
     "metadata": {
      "needs_background": "light"
     },
     "output_type": "display_data"
    },
    {
     "data": {
      "text/plain": [
       "<Figure size 432x288 with 0 Axes>"
      ]
     },
     "metadata": {},
     "output_type": "display_data"
    }
   ],
   "source": [
    "# creating plot for median values for each median values.\n",
    "x = np.arange(4)\n",
    "types = df.groupby(['type'])['elevation_ft'].median().index\n",
    "values = df.groupby(['type'])['elevation_ft'].median().values\n",
    "colors = ['cadetblue', 'dodgerblue', 'aqua','powderblue']\n",
    "\n",
    "plt.bar(x, values, color=colors)\n",
    "plt.title('Median altitude for different types of airport')\n",
    "plt.ylabel('Elevation_ft')\n",
    "plt.xlabel('4 types of airports')\n",
    "plt.xticks(x, types)\n",
    "plt.show()\n",
    "plt.savefig('/users/taehyun/Dropbox/Springboard/Projects/airport-codes/images/median_altitude.jpeg',bbox_inches='tight') "
   ]
  },
  {
   "cell_type": "code",
   "execution_count": 6,
   "id": "9b12252c-4f6a-4a4e-81ee-f8e701dcfe90",
   "metadata": {},
   "outputs": [],
   "source": [
    "def ecdf(data):\n",
    "    x = np.sort(data)\n",
    "    y = np.arange(1,len(data)+1)/len(data)\n",
    "    return x,y"
   ]
  },
  {
   "cell_type": "code",
   "execution_count": 7,
   "id": "3fa180e6-dcb0-4e8d-a184-9e0713930ecf",
   "metadata": {},
   "outputs": [],
   "source": [
    "def ecdf_plot_elevation_ft(data):\n",
    "    plt.figure(figsize=(10,10))\n",
    "    for i in range(len(mean_df_f)):\n",
    "        hx,hy = ecdf(df['elevation_ft'][df.type == data.airport[i]])\n",
    "        plt.plot(hx,hy,marker='.',linestyle='none')\n",
    "    plt.title('ECDF plot of Elevation (ft) in heliport')\n",
    "    plt.xlabel('Elevation in feat')\n",
    "    plt.ylabel('% of heliport')\n",
    "    plt.legend(data.airport)\n",
    "    plt.margins(x=0.1)\n",
    "    plt.show()\n",
    "    \n",
    "def boxplot(data):\n",
    "    plt.figure(figsize=(10,10))\n",
    "    sns.boxplot(x='type', y ='elevation_ft', data = data, hue ='type', width = 0.9, linewidth = 0.5)\n",
    "    plt.title('type vs elevation_ft')\n",
    "    plt.show()\n",
    "    \n",
    "def catplot(data):\n",
    "    plt.figure(figsize=(10,10))\n",
    "    sns.catplot(x = 'type', y= 'elevation_ft', data = df, hue = 'type', kind = 'box')\n",
    "    \n",
    "    \n",
    "def onewayanova(data):\n",
    "    fvalue, pvalue = stats.f_oneway(data['heliport'],data['small_airport'],\n",
    "                                   data['seaplane_base'],\n",
    "                                   data['medium_airport'])\n",
    "    \n",
    "    return fvalue, pvalue\n",
    "\n",
    "\n",
    "def tukeyhsd(data):\n",
    "    tukey = pairwise_tukeyhsd(endog=data['elevation_ft'],\n",
    "                          groups=data['type'],\n",
    "                          alpha=0.05)\n",
    "    return tukey\n",
    "    \n",
    "def correlation_numeric(type1, type2):\n",
    "    col1, col2 = type1, type2\n",
    "    corr = df[type1].corr(df[type2])\n",
    "    print(\"Correlation between \", col1, \" and \", col2, \"is: \", round(corr, 2))\n",
    "    \n",
    "def visualizecorrelation(data):\n",
    "    df_corr = round(data[['elevation_ft','Longitude','Latitude']],2).corr()\n",
    "    corr_hm = sns.heatmap(df_corr, annot = True)\n",
    "    corr_hm.set(title = \"correlation map\")\n",
    "    plt.show()\n"
   ]
  },
  {
   "cell_type": "code",
   "execution_count": 8,
   "id": "7a728a87-3520-4aec-a15c-bd7d3e077bdb",
   "metadata": {},
   "outputs": [
    {
     "data": {
      "image/png": "[encoded data removed]",
      "text/plain": [
       "<Figure size 720x720 with 1 Axes>"
      ]
     },
     "metadata": {
      "needs_background": "light"
     },
     "output_type": "display_data"
    },
    {
     "data": {
      "text/plain": [
       "<Figure size 432x288 with 0 Axes>"
      ]
     },
     "metadata": {},
     "output_type": "display_data"
    }
   ],
   "source": [
    "ecdf_plot_elevation_ft(mean_df_f)\n",
    "plt.savefig('/users/taehyun/Dropbox/Springboard/Projects/airport-codes/images/ECDF.jpeg',bbox_inches='tight') "
   ]
  },
  {
   "cell_type": "code",
   "execution_count": 9,
   "id": "adec7cf0-41fc-435d-955d-3db02ee19a50",
   "metadata": {},
   "outputs": [
    {
     "data": {
      "image/png": "[encoded data removed]",
      "text/plain": [
       "<Figure size 720x720 with 1 Axes>"
      ]
     },
     "metadata": {
      "needs_background": "light"
     },
     "output_type": "display_data"
    }
   ],
   "source": [
    "boxplot(df)"
   ]
  },
  {
   "cell_type": "markdown",
   "id": "eb3e5e47-bc1e-4b4e-970e-fd1b37fed048",
   "metadata": {},
   "source": [
    "How come smaller airport are built in higher elevation feet? Are heliport, seaplane_base, and balloon port considered as small or large airports? \n",
    "But first, I want to see what kind of airports are mostly seen in each continents. We can have multiple assumptions about this. Probably because of the weather? Or is it just because it's hard to build big airports in a higher elevation height? Both of these assumptions makes sense bet let's dig deeper to know better\n",
    "\n"
   ]
  },
  {
   "cell_type": "code",
   "execution_count": 10,
   "id": "f0ca16df-117c-41c6-a521-6963019c5b32",
   "metadata": {},
   "outputs": [
    {
     "data": {
      "text/plain": [
       "<Figure size 720x720 with 0 Axes>"
      ]
     },
     "metadata": {},
     "output_type": "display_data"
    },
    {
     "data": {
      "image/png": "[encoded data removed]",
      "text/plain": [
       "<Figure size 360x360 with 1 Axes>"
      ]
     },
     "metadata": {
      "needs_background": "light"
     },
     "output_type": "display_data"
    }
   ],
   "source": [
    "catplot(df)"
   ]
  },
  {
   "cell_type": "markdown",
   "id": "c85f81fb-f64f-4917-a889-ae7d23886fe0",
   "metadata": {},
   "source": [
    "I see that balloonport has too less data and since I sampled the data, balloon port has high elevation feet.\n",
    "\n",
    "Now we will prepare to perform an one way ANOVA to prove the mean values have statistical difference between all groups"
   ]
  },
  {
   "cell_type": "code",
   "execution_count": 11,
   "id": "a94ee1f7-407c-438e-98d5-78919ae0c528",
   "metadata": {},
   "outputs": [
    {
     "data": {
      "text/plain": [
       "type            continent\n",
       "small_airport   NA           15651\n",
       "heliport        NA            7110\n",
       "small_airport   SA            6100\n",
       "                EU            3923\n",
       "                OC            2362\n",
       "                AF            1893\n",
       "heliport        SA            1622\n",
       "small_airport   AS            1459\n",
       "seaplane_base   NA            1146\n",
       "medium_airport  NA            1110\n",
       "heliport        EU             848\n",
       "medium_airport  EU             692\n",
       "                AS             544\n",
       "                SA             398\n",
       "                AF             319\n",
       "                OC             307\n",
       "heliport        OC             302\n",
       "                AS             281\n",
       "small_airport   A              187\n",
       "                CA             140\n",
       "seaplane_base   EU             134\n",
       "medium_airport  A               88\n",
       "seaplane_base   AS              74\n",
       "heliport        A               40\n",
       "seaplane_base   AF              35\n",
       "                OC              24\n",
       "                SA              23\n",
       "small_airport   AN              22\n",
       "seaplane_base   A               16\n",
       "heliport        AF               8\n",
       "medium_airport  CA               8\n",
       "heliport        CA               5\n",
       "medium_airport  AN               4\n",
       "Name: continent, dtype: int64"
      ]
     },
     "execution_count": 11,
     "metadata": {},
     "output_type": "execute_result"
    }
   ],
   "source": [
    "df.groupby(by = ['type','continent'])['continent'].count().sort_values(ascending = False)"
   ]
  },
  {
   "cell_type": "code",
   "execution_count": 12,
   "id": "74eb016e-3c02-4d65-86a4-ba09a62ac058",
   "metadata": {},
   "outputs": [
    {
     "data": {
      "text/html": [
       "<div>\n",
       "<style scoped>\n",
       "    .dataframe tbody tr th:only-of-type {\n",
       "        vertical-align: middle;\n",
       "    }\n",
       "\n",
       "    .dataframe tbody tr th {\n",
       "        vertical-align: top;\n",
       "    }\n",
       "\n",
       "    .dataframe thead th {\n",
       "        text-align: right;\n",
       "    }\n",
       "</style>\n",
       "<table border=\"1\" class=\"dataframe\">\n",
       "  <thead>\n",
       "    <tr style=\"text-align: right;\">\n",
       "      <th></th>\n",
       "      <th>heliport</th>\n",
       "      <th>small_airport</th>\n",
       "      <th>seaplane_base</th>\n",
       "      <th>medium_airport</th>\n",
       "    </tr>\n",
       "  </thead>\n",
       "  <tbody>\n",
       "    <tr>\n",
       "      <th>0</th>\n",
       "      <td>1125.604377</td>\n",
       "      <td>1373.074853</td>\n",
       "      <td>564.088935</td>\n",
       "      <td>1153.533333</td>\n",
       "    </tr>\n",
       "    <tr>\n",
       "      <th>1</th>\n",
       "      <td>939.529517</td>\n",
       "      <td>1258.268566</td>\n",
       "      <td>910.250035</td>\n",
       "      <td>882.966667</td>\n",
       "    </tr>\n",
       "    <tr>\n",
       "      <th>2</th>\n",
       "      <td>1138.325140</td>\n",
       "      <td>1495.547806</td>\n",
       "      <td>581.672234</td>\n",
       "      <td>765.488639</td>\n",
       "    </tr>\n",
       "    <tr>\n",
       "      <th>3</th>\n",
       "      <td>911.621323</td>\n",
       "      <td>1278.562279</td>\n",
       "      <td>716.366736</td>\n",
       "      <td>1365.144320</td>\n",
       "    </tr>\n",
       "    <tr>\n",
       "      <th>4</th>\n",
       "      <td>1680.200000</td>\n",
       "      <td>1716.941520</td>\n",
       "      <td>900.577801</td>\n",
       "      <td>1458.600000</td>\n",
       "    </tr>\n",
       "    <tr>\n",
       "      <th>...</th>\n",
       "      <td>...</td>\n",
       "      <td>...</td>\n",
       "      <td>...</td>\n",
       "      <td>...</td>\n",
       "    </tr>\n",
       "    <tr>\n",
       "      <th>995</th>\n",
       "      <td>1416.991807</td>\n",
       "      <td>930.087426</td>\n",
       "      <td>714.438969</td>\n",
       "      <td>778.344320</td>\n",
       "    </tr>\n",
       "    <tr>\n",
       "      <th>996</th>\n",
       "      <td>1158.645903</td>\n",
       "      <td>1195.674853</td>\n",
       "      <td>561.855602</td>\n",
       "      <td>916.966667</td>\n",
       "    </tr>\n",
       "    <tr>\n",
       "      <th>997</th>\n",
       "      <td>1125.591807</td>\n",
       "      <td>981.487426</td>\n",
       "      <td>724.150104</td>\n",
       "      <td>971.366667</td>\n",
       "    </tr>\n",
       "    <tr>\n",
       "      <th>998</th>\n",
       "      <td>1620.237710</td>\n",
       "      <td>1473.914473</td>\n",
       "      <td>861.300069</td>\n",
       "      <td>1108.100000</td>\n",
       "    </tr>\n",
       "    <tr>\n",
       "      <th>999</th>\n",
       "      <td>1829.550280</td>\n",
       "      <td>1263.147806</td>\n",
       "      <td>642.700069</td>\n",
       "      <td>855.721972</td>\n",
       "    </tr>\n",
       "  </tbody>\n",
       "</table>\n",
       "<p>1000 rows × 4 columns</p>\n",
       "</div>"
      ],
      "text/plain": [
       "        heliport  small_airport  seaplane_base  medium_airport\n",
       "0    1125.604377    1373.074853     564.088935     1153.533333\n",
       "1     939.529517    1258.268566     910.250035      882.966667\n",
       "2    1138.325140    1495.547806     581.672234      765.488639\n",
       "3     911.621323    1278.562279     716.366736     1365.144320\n",
       "4    1680.200000    1716.941520     900.577801     1458.600000\n",
       "..           ...            ...            ...             ...\n",
       "995  1416.991807     930.087426     714.438969      778.344320\n",
       "996  1158.645903    1195.674853     561.855602      916.966667\n",
       "997  1125.591807     981.487426     724.150104      971.366667\n",
       "998  1620.237710    1473.914473     861.300069     1108.100000\n",
       "999  1829.550280    1263.147806     642.700069      855.721972\n",
       "\n",
       "[1000 rows x 4 columns]"
      ]
     },
     "execution_count": 12,
     "metadata": {},
     "output_type": "execute_result"
    }
   ],
   "source": [
    "def sample(airport):\n",
    "    airport_sample = [np.random.choice(df[df['type']== airport]['elevation_ft'], 30).mean() for i in range(1000)]\n",
    "    return airport_sample\n",
    "\n",
    "sample_airport_df = pd.DataFrame({'heliport':sample('heliport'),'small_airport': sample('small_airport'),\n",
    "                                 'seaplane_base':sample('seaplane_base'), \n",
    "                                  'medium_airport':sample('medium_airport')\n",
    "})\n",
    "\n",
    "sample_airport_df"
   ]
  },
  {
   "cell_type": "markdown",
   "id": "a1c4fc07-0362-4f85-94d3-f243402e89fe",
   "metadata": {},
   "source": [
    "Bootstrap 1000 times and pick 30 samples each we need mean distribution to perform the anova test."
   ]
  },
  {
   "cell_type": "code",
   "execution_count": 13,
   "id": "23792aa2-98ff-47f3-812b-b65f68ef24f3",
   "metadata": {},
   "outputs": [
    {
     "data": {
      "text/html": [
       "<div>\n",
       "<style scoped>\n",
       "    .dataframe tbody tr th:only-of-type {\n",
       "        vertical-align: middle;\n",
       "    }\n",
       "\n",
       "    .dataframe tbody tr th {\n",
       "        vertical-align: top;\n",
       "    }\n",
       "\n",
       "    .dataframe thead th {\n",
       "        text-align: right;\n",
       "    }\n",
       "</style>\n",
       "<table border=\"1\" class=\"dataframe\">\n",
       "  <thead>\n",
       "    <tr style=\"text-align: right;\">\n",
       "      <th></th>\n",
       "      <th>type</th>\n",
       "      <th>elevation_ft</th>\n",
       "    </tr>\n",
       "  </thead>\n",
       "  <tbody>\n",
       "    <tr>\n",
       "      <th>0</th>\n",
       "      <td>heliport</td>\n",
       "      <td>1125.604377</td>\n",
       "    </tr>\n",
       "    <tr>\n",
       "      <th>1</th>\n",
       "      <td>heliport</td>\n",
       "      <td>939.529517</td>\n",
       "    </tr>\n",
       "    <tr>\n",
       "      <th>2</th>\n",
       "      <td>heliport</td>\n",
       "      <td>1138.325140</td>\n",
       "    </tr>\n",
       "    <tr>\n",
       "      <th>3</th>\n",
       "      <td>heliport</td>\n",
       "      <td>911.621323</td>\n",
       "    </tr>\n",
       "    <tr>\n",
       "      <th>4</th>\n",
       "      <td>heliport</td>\n",
       "      <td>1680.200000</td>\n",
       "    </tr>\n",
       "    <tr>\n",
       "      <th>...</th>\n",
       "      <td>...</td>\n",
       "      <td>...</td>\n",
       "    </tr>\n",
       "    <tr>\n",
       "      <th>3995</th>\n",
       "      <td>medium_airport</td>\n",
       "      <td>778.344320</td>\n",
       "    </tr>\n",
       "    <tr>\n",
       "      <th>3996</th>\n",
       "      <td>medium_airport</td>\n",
       "      <td>916.966667</td>\n",
       "    </tr>\n",
       "    <tr>\n",
       "      <th>3997</th>\n",
       "      <td>medium_airport</td>\n",
       "      <td>971.366667</td>\n",
       "    </tr>\n",
       "    <tr>\n",
       "      <th>3998</th>\n",
       "      <td>medium_airport</td>\n",
       "      <td>1108.100000</td>\n",
       "    </tr>\n",
       "    <tr>\n",
       "      <th>3999</th>\n",
       "      <td>medium_airport</td>\n",
       "      <td>855.721972</td>\n",
       "    </tr>\n",
       "  </tbody>\n",
       "</table>\n",
       "<p>4000 rows × 2 columns</p>\n",
       "</div>"
      ],
      "text/plain": [
       "                type  elevation_ft\n",
       "0           heliport   1125.604377\n",
       "1           heliport    939.529517\n",
       "2           heliport   1138.325140\n",
       "3           heliport    911.621323\n",
       "4           heliport   1680.200000\n",
       "...              ...           ...\n",
       "3995  medium_airport    778.344320\n",
       "3996  medium_airport    916.966667\n",
       "3997  medium_airport    971.366667\n",
       "3998  medium_airport   1108.100000\n",
       "3999  medium_airport    855.721972\n",
       "\n",
       "[4000 rows x 2 columns]"
      ]
     },
     "execution_count": 13,
     "metadata": {},
     "output_type": "execute_result"
    }
   ],
   "source": [
    "df_melt = pd.melt(sample_airport_df, var_name='type', value_name='elevation_ft')\n",
    "df_melt"
   ]
  },
  {
   "cell_type": "code",
   "execution_count": 14,
   "id": "fca76c86-01eb-4646-9804-b93f9fdd34f1",
   "metadata": {},
   "outputs": [
    {
     "data": {
      "text/plain": [
       "(1126.7622885953988, 0.0)"
      ]
     },
     "execution_count": 14,
     "metadata": {},
     "output_type": "execute_result"
    }
   ],
   "source": [
    "onewayanova(sample_airport_df)"
   ]
  },
  {
   "cell_type": "markdown",
   "id": "82755c73-3b92-4417-bde0-40dd9be05815",
   "metadata": {},
   "source": [
    "We see that the pvalue is less than 0.05 meaning we reject the null hypothesis.\n",
    "\n",
    "But I want to see one more time to make sure how each groups are statistically different from each other.\n",
    "\n",
    "This time, I will perform a different test: Tukeyhsd.\n",
    "\n",
    "Equal sample size : Tukey's HSD Unequal sample size: Yukey's Kramer method"
   ]
  },
  {
   "cell_type": "code",
   "execution_count": 15,
   "id": "55da9e4e-18fd-4f0b-8145-9e2209ac951c",
   "metadata": {},
   "outputs": [
    {
     "name": "stdout",
     "output_type": "stream",
     "text": [
      "          Multiple Comparison of Means - Tukey HSD, FWER=0.05           \n",
      "========================================================================\n",
      "    group1         group2      meandiff p-adj   lower     upper   reject\n",
      "------------------------------------------------------------------------\n",
      "      heliport medium_airport  -198.378  -0.0 -228.0458 -168.7103   True\n",
      "      heliport  seaplane_base -483.7179  -0.0 -513.3856 -454.0501   True\n",
      "      heliport  small_airport  150.2738  -0.0   120.606  179.9415   True\n",
      "medium_airport  seaplane_base -285.3398  -0.0 -315.0076 -255.6721   True\n",
      "medium_airport  small_airport  348.6518  -0.0   318.984  378.3195   True\n",
      " seaplane_base  small_airport  633.9916  -0.0  604.3239  663.6594   True\n",
      "------------------------------------------------------------------------\n"
     ]
    },
    {
     "data": {
      "text/plain": [
       "<Figure size 432x288 with 0 Axes>"
      ]
     },
     "metadata": {},
     "output_type": "display_data"
    }
   ],
   "source": [
    "print(tukeyhsd(df_melt))\n",
    "plt.savefig('/users/taehyun/Dropbox/Springboard/Projects/airport-codes/images/Tukeyhsd.jpeg',bbox_inches='tight') "
   ]
  },
  {
   "cell_type": "markdown",
   "id": "8d23f452-6edc-4274-9f23-e84d9c62017f",
   "metadata": {},
   "source": [
    "Great! Thus, we would conclude that there is a statistically significant difference between the means of all groups."
   ]
  },
  {
   "cell_type": "code",
   "execution_count": 16,
   "id": "4c1834d6-f4e2-4a4e-980c-c58bc9b27b3f",
   "metadata": {},
   "outputs": [
    {
     "name": "stdout",
     "output_type": "stream",
     "text": [
      "Correlation between  elevation_ft  and  Latitude is:  -0.09\n",
      "Correlation between  elevation_ft  and  Longitude is:  -0.03\n",
      "Correlation between  Longitude  and  Latitude is:  -0.39\n"
     ]
    },
    {
     "data": {
      "text/html": [
       "<div>\n",
       "<style scoped>\n",
       "    .dataframe tbody tr th:only-of-type {\n",
       "        vertical-align: middle;\n",
       "    }\n",
       "\n",
       "    .dataframe tbody tr th {\n",
       "        vertical-align: top;\n",
       "    }\n",
       "\n",
       "    .dataframe thead th {\n",
       "        text-align: right;\n",
       "    }\n",
       "</style>\n",
       "<table border=\"1\" class=\"dataframe\">\n",
       "  <thead>\n",
       "    <tr style=\"text-align: right;\">\n",
       "      <th></th>\n",
       "      <th>elevation_ft</th>\n",
       "      <th>Longitude</th>\n",
       "      <th>Latitude</th>\n",
       "    </tr>\n",
       "  </thead>\n",
       "  <tbody>\n",
       "    <tr>\n",
       "      <th>elevation_ft</th>\n",
       "      <td>1.000000</td>\n",
       "      <td>-0.026343</td>\n",
       "      <td>-0.085396</td>\n",
       "    </tr>\n",
       "    <tr>\n",
       "      <th>Longitude</th>\n",
       "      <td>-0.026343</td>\n",
       "      <td>1.000000</td>\n",
       "      <td>-0.389576</td>\n",
       "    </tr>\n",
       "    <tr>\n",
       "      <th>Latitude</th>\n",
       "      <td>-0.085396</td>\n",
       "      <td>-0.389576</td>\n",
       "      <td>1.000000</td>\n",
       "    </tr>\n",
       "  </tbody>\n",
       "</table>\n",
       "</div>"
      ],
      "text/plain": [
       "              elevation_ft  Longitude  Latitude\n",
       "elevation_ft      1.000000  -0.026343 -0.085396\n",
       "Longitude        -0.026343   1.000000 -0.389576\n",
       "Latitude         -0.085396  -0.389576  1.000000"
      ]
     },
     "execution_count": 16,
     "metadata": {},
     "output_type": "execute_result"
    }
   ],
   "source": [
    "correlation_numeric('elevation_ft', 'Latitude')\n",
    "correlation_numeric('elevation_ft', 'Longitude')\n",
    "correlation_numeric('Longitude', 'Latitude')\n",
    "df_corr = round(df[['elevation_ft','Longitude','Latitude']],2).corr()\n",
    "df_corr"
   ]
  },
  {
   "cell_type": "code",
   "execution_count": 17,
   "id": "3c664cb9-921d-4a37-a02d-cf7fb076d8e5",
   "metadata": {},
   "outputs": [
    {
     "data": {
      "image/png": "[encoded data removed]",
      "text/plain": [
       "<Figure size 432x288 with 2 Axes>"
      ]
     },
     "metadata": {
      "needs_background": "light"
     },
     "output_type": "display_data"
    },
    {
     "data": {
      "text/plain": [
       "<Figure size 432x288 with 0 Axes>"
      ]
     },
     "metadata": {},
     "output_type": "display_data"
    }
   ],
   "source": [
    "visualizecorrelation(df_corr)\n",
    "plt.savefig('/users/taehyun/Dropbox/Springboard/Projects/airport-codes/images/corr_chart.jpeg',bbox_inches='tight') "
   ]
  },
  {
   "cell_type": "markdown",
   "id": "7b1f318f-7062-4785-8c5a-ff3bca631fb0",
   "metadata": {},
   "source": [
    "Since Longitude and Latitude are highely negatively correlated, it's not good to include both of the column for training the model. It will just increase the complexitiy of the algorithm, thus increasing the risk of errors."
   ]
  },
  {
   "cell_type": "markdown",
   "id": "99f678ea-0566-4fd7-b2fa-3ac48d18fb6d",
   "metadata": {},
   "source": [
    "Therefore, we can drop one of the column Longitude or Latitude and save the data"
   ]
  },
  {
   "cell_type": "code",
   "execution_count": 18,
   "id": "c10291d7-93f0-4a3c-9ca6-e82787f4b65b",
   "metadata": {},
   "outputs": [],
   "source": [
    "df.drop(['Latitude'], axis = 1, inplace = True)"
   ]
  },
  {
   "cell_type": "code",
   "execution_count": 19,
   "id": "107dd461-8f40-4afd-a9d5-0563376a3b2d",
   "metadata": {},
   "outputs": [],
   "source": [
    "df.to_csv('df_modeling.csv')"
   ]
  }
 ],
 "metadata": {
  "kernelspec": {
   "display_name": "Python 3 (ipykernel)",
   "language": "python",
   "name": "python3"
  },
  "language_info": {
   "codemirror_mode": {
    "name": "ipython",
    "version": 3
   },
   "file_extension": ".py",
   "mimetype": "text/x-python",
   "name": "python",
   "nbconvert_exporter": "python",
   "pygments_lexer": "ipython3",
   "version": "3.9.12"
  }
 },
 "nbformat": 4,
 "nbformat_minor": 5
}
